{
 "cells": [
  {
   "cell_type": "code",
   "execution_count": 1,
   "id": "6485291b",
   "metadata": {
    "ExecuteTime": {
     "end_time": "2022-09-02T19:05:01.966117Z",
     "start_time": "2022-09-02T19:05:00.060238Z"
    }
   },
   "outputs": [],
   "source": [
    "import pandas as pd\n",
    "import numpy as np\n",
    "import random\n",
    "import string\n",
    "\n",
    "from sklearn.model_selection import train_test_split, cross_val_score, cross_val_predict, GridSearchCV, RepeatedStratifiedKFold\n",
    "from sklearn.model_selection import train_test_split, cross_val_score, cross_val_predict\n",
    "from sklearn.preprocessing import StandardScaler\n",
    "from sklearn.linear_model import SGDClassifier, LogisticRegression\n",
    "from sklearn.metrics import confusion_matrix, plot_confusion_matrix, roc_curve, auc, roc_auc_score, precision_score, recall_score, f1_score, precision_recall_curve\n",
    "from sklearn.ensemble import RandomForestClassifier, GradientBoostingClassifier\n",
    "from xgboost import XGBClassifier\n",
    "from lightgbm import LGBMClassifier\n",
    "from numpy import arange, argmax\n",
    "from sklearn.metrics import accuracy_score, confusion_matrix,roc_curve, roc_auc_score, precision_score, recall_score, precision_recall_curve\n",
    "\n",
    "\n",
    "import matplotlib.pyplot as plt\n",
    "%matplotlib inline\n",
    "\n",
    "\n",
    "pd.set_option(\"display.max_columns\", 200)\n",
    "pd.set_option(\"display.max_rows\", 1500)\n",
    "pd.set_option(\"display.max_colwidth\", None)"
   ]
  },
  {
   "cell_type": "markdown",
   "id": "ea095166",
   "metadata": {},
   "source": [
    "# Load data"
   ]
  },
  {
   "cell_type": "code",
   "execution_count": 2,
   "id": "77468240",
   "metadata": {
    "ExecuteTime": {
     "end_time": "2022-09-02T19:05:44.198298Z",
     "start_time": "2022-09-02T19:05:40.371677Z"
    }
   },
   "outputs": [],
   "source": [
    "df = pd.read_csv(\"all_files.csv\")\n",
    "df.drop(\"Unnamed: 0\", axis=1, inplace=True)"
   ]
  },
  {
   "cell_type": "code",
   "execution_count": 3,
   "id": "115fe34d",
   "metadata": {
    "ExecuteTime": {
     "end_time": "2022-09-02T19:05:50.053160Z",
     "start_time": "2022-09-02T19:05:48.814690Z"
    }
   },
   "outputs": [
    {
     "name": "stdout",
     "output_type": "stream",
     "text": [
      "<class 'pandas.core.frame.DataFrame'>\n",
      "RangeIndex: 1269126 entries, 0 to 1269125\n",
      "Data columns (total 30 columns):\n",
      " #   Column                Non-Null Count    Dtype  \n",
      "---  ------                --------------    -----  \n",
      " 0   reporting_date        1269126 non-null  object \n",
      " 1   customer_id           1269126 non-null  object \n",
      " 2   total_cust_exposure   1269126 non-null  int64  \n",
      " 3   overdraft             1269126 non-null  int64  \n",
      " 4   consumer_loan         1269126 non-null  int64  \n",
      " 5   credit_card           1269126 non-null  int64  \n",
      " 6   customer_rating       1269126 non-null  object \n",
      " 7   account_id            1269126 non-null  object \n",
      " 8   open_date             1269126 non-null  object \n",
      " 9   maturity_date         1269126 non-null  object \n",
      " 10  original_principal    1269126 non-null  int64  \n",
      " 11  current_principal     1269126 non-null  int64  \n",
      " 12  interest_rate         1269126 non-null  float64\n",
      " 13  prepayment_status     1269126 non-null  object \n",
      " 14  l_period              1269126 non-null  int64  \n",
      " 15  exp_monthly_payments  1258699 non-null  float64\n",
      " 16  age                   1088007 non-null  object \n",
      " 17  maritial_status       1088007 non-null  object \n",
      " 18  town_x                1043277 non-null  object \n",
      " 19  empl_type             1088007 non-null  object \n",
      " 20  profession            1088007 non-null  float64\n",
      " 21  tot_mnth_income       1088007 non-null  float64\n",
      " 22  gross_salary          1088007 non-null  float64\n",
      " 23  collateral_id         1269126 non-null  object \n",
      " 24  market_value          1269126 non-null  int64  \n",
      " 25  collateral_type       1269126 non-null  object \n",
      " 26  building_type         1251116 non-null  float64\n",
      " 27  mortgage_utilisation  1268376 non-null  float64\n",
      " 28  town_y                1268071 non-null  object \n",
      " 29  area                  1269045 non-null  float64\n",
      "dtypes: float64(8), int64(8), object(14)\n",
      "memory usage: 290.5+ MB\n"
     ]
    }
   ],
   "source": [
    "df.info()"
   ]
  },
  {
   "cell_type": "markdown",
   "id": "03bad7cd",
   "metadata": {},
   "source": [
    "## towns_transforming"
   ]
  },
  {
   "cell_type": "code",
   "execution_count": 4,
   "id": "5dd646bf",
   "metadata": {
    "ExecuteTime": {
     "end_time": "2022-09-02T19:06:38.516834Z",
     "start_time": "2022-09-02T19:06:38.500803Z"
    }
   },
   "outputs": [],
   "source": [
    "major_towns = [\"Plovdiv\", \"Varna\"]\n",
    "big_towns = [\"Burgas\", \"Ruse\", \"Stara Zagora\", \"Pleven\"]\n",
    "medium_towns = [\"Sliven\", \n",
    "                \"Dobrich\", \n",
    "                \"Shumen\", \n",
    "                \"Pernik\", \n",
    "                \"Haskovo\", \n",
    "                \"Yambol\", \n",
    "                \"Pazardzhik\", \n",
    "                \"Blagoevgrad\", \n",
    "                \"Veliko Tarnovo\", \n",
    "                \"Vratsa\", \n",
    "                \"Gabrovo\", \n",
    "                \"Asenovgrad\", \n",
    "                \"Vidin\", \n",
    "                \"Kazanlak\", \n",
    "                \"Kyustendil\", \n",
    "                \"Kardzhali\", \n",
    "                \"Montana\", \n",
    "                \"Dimitrovgrad\", \n",
    "                \"Targovishte\", \n",
    "                \"Lovech\", \n",
    "                \"Silistra\", \n",
    "                \"Razgrad\", \n",
    "                \"Dupnitsa\", \n",
    "                \"Gorna Oryahovitsa\", \n",
    "                \"Smolyan\", \n",
    "                \"Svishtov\"]\n",
    "\n",
    "\n",
    "\n",
    "def new_town_labels(row):\n",
    "    \n",
    "#     print(row)\n",
    "    if row == \"Sofia\":\n",
    "        return \"Capital\"\n",
    "    elif row in major_towns:\n",
    "        return \"Major Town\"\n",
    "    elif row in big_towns:\n",
    "        return \"Big Town\"\n",
    "    elif row in medium_towns:\n",
    "        return \"MediumS Town\"\n",
    "    else:\n",
    "        return np.nan"
   ]
  },
  {
   "cell_type": "code",
   "execution_count": 5,
   "id": "bb344068",
   "metadata": {
    "ExecuteTime": {
     "end_time": "2022-09-02T19:07:23.880271Z",
     "start_time": "2022-09-02T19:07:23.081689Z"
    }
   },
   "outputs": [],
   "source": [
    "df[\"town_x\"] = df[\"town_x\"].apply(new_town_labels)\n",
    "df[\"town_y\"] = df[\"town_y\"].apply(new_town_labels)"
   ]
  },
  {
   "cell_type": "markdown",
   "id": "524e3aa4",
   "metadata": {},
   "source": [
    "## deducted_principal "
   ]
  },
  {
   "cell_type": "code",
   "execution_count": 8,
   "id": "d8aa633b",
   "metadata": {
    "ExecuteTime": {
     "end_time": "2022-09-02T19:13:21.367168Z",
     "start_time": "2022-09-02T19:11:54.653996Z"
    }
   },
   "outputs": [],
   "source": [
    "for row in df.index:\n",
    "    if row == 0:\n",
    "        df.loc[row, \"deducted_principal\"] = df.loc[row, \"original_principal\"] - df.loc[row, \"current_principal\"]\n",
    "    else:\n",
    "        df.loc[row, \"deducted_principal\"] = df.loc[row-1, \"current_principal\"] - df.loc[row, \"current_principal\"]\n"
   ]
  },
  {
   "cell_type": "code",
   "execution_count": null,
   "id": "7bd4ceee",
   "metadata": {},
   "outputs": [],
   "source": []
  },
  {
   "cell_type": "markdown",
   "id": "3f39c2a5",
   "metadata": {},
   "source": [
    "## total_mth_income / deducted_principal"
   ]
  },
  {
   "cell_type": "code",
   "execution_count": 9,
   "id": "f38221d5",
   "metadata": {
    "ExecuteTime": {
     "end_time": "2022-09-02T19:14:15.408908Z",
     "start_time": "2022-09-02T19:14:15.391881Z"
    }
   },
   "outputs": [],
   "source": [
    "df[\"income_vs_payment_ratio\"] =  df[\"deducted_principal\"] / df[\"tot_mnth_income\"]"
   ]
  },
  {
   "cell_type": "markdown",
   "id": "2ce4508f",
   "metadata": {},
   "source": [
    "## debt_towards_bank"
   ]
  },
  {
   "cell_type": "code",
   "execution_count": 10,
   "id": "5d18bcec",
   "metadata": {
    "ExecuteTime": {
     "end_time": "2022-09-02T19:14:53.134992Z",
     "start_time": "2022-09-02T19:14:53.117439Z"
    }
   },
   "outputs": [],
   "source": [
    "df[\"debt_towards_bank\"] = df[\"total_cust_exposure\"] - df[\"current_principal\"]"
   ]
  },
  {
   "cell_type": "code",
   "execution_count": 13,
   "id": "09f5ac79",
   "metadata": {
    "ExecuteTime": {
     "end_time": "2022-09-02T19:17:08.949514Z",
     "start_time": "2022-09-02T19:17:08.936883Z"
    }
   },
   "outputs": [],
   "source": [
    "def debt_towards_bank_labels(row):\n",
    "    \n",
    "#     print(row)\n",
    "    if row <= 0:\n",
    "        return 0\n",
    "    else:\n",
    "        return 1"
   ]
  },
  {
   "cell_type": "code",
   "execution_count": 15,
   "id": "dc27579f",
   "metadata": {
    "ExecuteTime": {
     "end_time": "2022-09-02T19:17:39.070280Z",
     "start_time": "2022-09-02T19:17:38.757902Z"
    }
   },
   "outputs": [],
   "source": [
    "df[\"debt_towards_bank_bool\"] = df[\"debt_towards_bank\"].apply(debt_towards_bank_labels)"
   ]
  },
  {
   "cell_type": "code",
   "execution_count": null,
   "id": "8fd9debe",
   "metadata": {},
   "outputs": [],
   "source": []
  },
  {
   "cell_type": "markdown",
   "id": "90a74c15",
   "metadata": {},
   "source": [
    "## convert town to dummy/"
   ]
  },
  {
   "cell_type": "code",
   "execution_count": 21,
   "id": "7073e520",
   "metadata": {
    "ExecuteTime": {
     "end_time": "2022-09-02T19:19:58.176246Z",
     "start_time": "2022-09-02T19:19:57.794900Z"
    }
   },
   "outputs": [],
   "source": [
    "df = df.join(pd.get_dummies(df[\"town_x\"], prefix=\"town_x\"), how=\"left\")\n",
    "df = df.join(pd.get_dummies(df[\"town_y\"], prefix=\"town_y\"), how=\"left\")"
   ]
  },
  {
   "cell_type": "code",
   "execution_count": null,
   "id": "3ac90a22",
   "metadata": {},
   "outputs": [],
   "source": []
  },
  {
   "cell_type": "code",
   "execution_count": null,
   "id": "e87ffcdf",
   "metadata": {},
   "outputs": [],
   "source": []
  },
  {
   "cell_type": "markdown",
   "id": "04e0d1c5",
   "metadata": {},
   "source": [
    "## rating"
   ]
  },
  {
   "cell_type": "code",
   "execution_count": 23,
   "id": "7de187d8",
   "metadata": {
    "ExecuteTime": {
     "end_time": "2022-09-02T19:22:46.969786Z",
     "start_time": "2022-09-02T19:22:46.962238Z"
    }
   },
   "outputs": [],
   "source": [
    "def new_rating(row):\n",
    "    \n",
    "    val = row\n",
    "    if \"+\" in val:\n",
    "        res_val = float(val[0]+\".5\")\n",
    "    elif \"-\" in val:\n",
    "        res = float(val[0]+\".9\")\n",
    "        res_val = res - 1\n",
    "    else:\n",
    "        res_val = float(val)\n",
    "    \n",
    "    return res_val"
   ]
  },
  {
   "cell_type": "code",
   "execution_count": 26,
   "id": "e3953e69",
   "metadata": {
    "ExecuteTime": {
     "end_time": "2022-09-02T19:23:29.924968Z",
     "start_time": "2022-09-02T19:23:29.437419Z"
    }
   },
   "outputs": [],
   "source": [
    "df[\"customer_rating_adj\"] = df[\"customer_rating\"].apply(new_rating)"
   ]
  },
  {
   "cell_type": "code",
   "execution_count": 27,
   "id": "db16a99b",
   "metadata": {
    "ExecuteTime": {
     "end_time": "2022-09-02T19:23:30.442012Z",
     "start_time": "2022-09-02T19:23:30.426013Z"
    }
   },
   "outputs": [
    {
     "data": {
      "text/plain": [
       "0          4.0\n",
       "1          5.0\n",
       "2          4.0\n",
       "3          4.5\n",
       "4          4.5\n",
       "          ... \n",
       "1269121    5.5\n",
       "1269122    4.9\n",
       "1269123    5.5\n",
       "1269124    3.9\n",
       "1269125    3.9\n",
       "Name: customer_rating_adj, Length: 1269126, dtype: float64"
      ]
     },
     "execution_count": 27,
     "metadata": {},
     "output_type": "execute_result"
    }
   ],
   "source": [
    "df[\"customer_rating_adj\"]"
   ]
  },
  {
   "cell_type": "code",
   "execution_count": 30,
   "id": "27b6a55d",
   "metadata": {
    "ExecuteTime": {
     "end_time": "2022-09-02T19:27:07.805423Z",
     "start_time": "2022-09-02T19:27:07.795421Z"
    }
   },
   "outputs": [],
   "source": [
    "def new_rating_int(row):\n",
    "    \n",
    "    val = row\n",
    "    if \"+\" in val:\n",
    "        res_val = int(val[0])\n",
    "    elif \"-\" in val:\n",
    "        res_val = int(val[0])\n",
    "    else:\n",
    "        res_val = int(val)\n",
    "    \n",
    "    return res_val"
   ]
  },
  {
   "cell_type": "code",
   "execution_count": 31,
   "id": "7b326769",
   "metadata": {
    "ExecuteTime": {
     "end_time": "2022-09-02T19:27:20.042672Z",
     "start_time": "2022-09-02T19:27:19.593122Z"
    }
   },
   "outputs": [],
   "source": [
    "df[\"customer_rating_int\"] = df[\"customer_rating\"].apply(new_rating_int)"
   ]
  },
  {
   "cell_type": "code",
   "execution_count": null,
   "id": "11f926d3",
   "metadata": {},
   "outputs": [],
   "source": []
  },
  {
   "cell_type": "markdown",
   "id": "ff1f7e4a",
   "metadata": {},
   "source": [
    "## remove null rows"
   ]
  },
  {
   "cell_type": "code",
   "execution_count": 34,
   "id": "1b4fad71",
   "metadata": {
    "ExecuteTime": {
     "end_time": "2022-09-02T19:28:48.705336Z",
     "start_time": "2022-09-02T19:28:47.215802Z"
    }
   },
   "outputs": [],
   "source": [
    "df.dropna(axis=0, inplace=True)"
   ]
  },
  {
   "cell_type": "markdown",
   "id": "3b984284",
   "metadata": {},
   "source": [
    "## convert target"
   ]
  },
  {
   "cell_type": "code",
   "execution_count": 56,
   "id": "53d04f5d",
   "metadata": {
    "ExecuteTime": {
     "end_time": "2022-09-02T19:33:29.063671Z",
     "start_time": "2022-09-02T19:33:29.058671Z"
    }
   },
   "outputs": [],
   "source": [
    "def new_labels(row):\n",
    "    return 0 if row == \"no\" else 1"
   ]
  },
  {
   "cell_type": "code",
   "execution_count": 55,
   "id": "05e43bae",
   "metadata": {
    "ExecuteTime": {
     "end_time": "2022-09-02T19:33:20.052667Z",
     "start_time": "2022-09-02T19:33:19.997666Z"
    }
   },
   "outputs": [
    {
     "data": {
      "text/plain": [
       "no                                        884026\n",
       "own                                        97670\n",
       "refinanced other banks                     36092\n",
       "refinanced-UC                               8842\n",
       "refinanced-UC & own                         1530\n",
       "refinanced-UC & refinanced other banks        64\n",
       "refinanced other banks & own                  63\n",
       "Name: prepayment_status, dtype: int64"
      ]
     },
     "execution_count": 55,
     "metadata": {},
     "output_type": "execute_result"
    }
   ],
   "source": [
    "df[\"prepayment_status\"].value_counts()"
   ]
  },
  {
   "cell_type": "code",
   "execution_count": 57,
   "id": "2855e244",
   "metadata": {
    "ExecuteTime": {
     "end_time": "2022-09-02T19:33:31.737665Z",
     "start_time": "2022-09-02T19:33:31.481666Z"
    }
   },
   "outputs": [],
   "source": [
    "df[\"prepayment_status_unique\"] = df[\"prepayment_status\"].apply(new_labels)"
   ]
  },
  {
   "cell_type": "code",
   "execution_count": null,
   "id": "4c698282",
   "metadata": {},
   "outputs": [],
   "source": []
  },
  {
   "cell_type": "code",
   "execution_count": null,
   "id": "d17d06a6",
   "metadata": {},
   "outputs": [],
   "source": []
  },
  {
   "cell_type": "code",
   "execution_count": null,
   "id": "4e0f8367",
   "metadata": {},
   "outputs": [],
   "source": []
  },
  {
   "cell_type": "markdown",
   "id": "f0b0e16e",
   "metadata": {},
   "source": [
    "## to csv"
   ]
  },
  {
   "cell_type": "code",
   "execution_count": 62,
   "id": "9daf6787",
   "metadata": {
    "ExecuteTime": {
     "end_time": "2022-09-02T19:36:02.557067Z",
     "start_time": "2022-09-02T19:36:02.401924Z"
    }
   },
   "outputs": [],
   "source": [
    "df.drop([\"customer_rating\", \"prepayment_status\", \"customer_rating_adj\", \"town_x\", \"town_y\"], axis=1, inplace=True)"
   ]
  },
  {
   "cell_type": "code",
   "execution_count": 63,
   "id": "37ef99ef",
   "metadata": {
    "ExecuteTime": {
     "end_time": "2022-09-02T19:36:16.506655Z",
     "start_time": "2022-09-02T19:36:04.532386Z"
    }
   },
   "outputs": [],
   "source": [
    "df.to_csv(\"all_files_v3.csv\")"
   ]
  },
  {
   "cell_type": "code",
   "execution_count": 64,
   "id": "ea9592b7",
   "metadata": {
    "ExecuteTime": {
     "end_time": "2022-09-02T19:36:18.035344Z",
     "start_time": "2022-09-02T19:36:16.554674Z"
    }
   },
   "outputs": [],
   "source": [
    "sample_df = df.sample(frac=0.1)\n",
    "sample_df.to_csv(\"sample_all_v3.csv\")"
   ]
  },
  {
   "cell_type": "code",
   "execution_count": 65,
   "id": "0e9c7720",
   "metadata": {
    "ExecuteTime": {
     "end_time": "2022-09-02T19:36:18.081874Z",
     "start_time": "2022-09-02T19:36:18.067345Z"
    }
   },
   "outputs": [
    {
     "data": {
      "text/plain": [
       "0    88407\n",
       "1    14422\n",
       "Name: prepayment_status_unique, dtype: int64"
      ]
     },
     "execution_count": 65,
     "metadata": {},
     "output_type": "execute_result"
    }
   ],
   "source": [
    "sample_df[\"prepayment_status_unique\"].value_counts()"
   ]
  },
  {
   "cell_type": "code",
   "execution_count": null,
   "id": "8e542fa4",
   "metadata": {},
   "outputs": [],
   "source": []
  },
  {
   "cell_type": "code",
   "execution_count": 66,
   "id": "d5c7b70f",
   "metadata": {
    "ExecuteTime": {
     "end_time": "2022-09-02T19:36:18.255875Z",
     "start_time": "2022-09-02T19:36:18.114875Z"
    }
   },
   "outputs": [
    {
     "name": "stdout",
     "output_type": "stream",
     "text": [
      "<class 'pandas.core.frame.DataFrame'>\n",
      "Int64Index: 102829 entries, 439400 to 295318\n",
      "Data columns (total 44 columns):\n",
      " #   Column                    Non-Null Count   Dtype  \n",
      "---  ------                    --------------   -----  \n",
      " 0   reporting_date            102829 non-null  object \n",
      " 1   customer_id               102829 non-null  object \n",
      " 2   total_cust_exposure       102829 non-null  int64  \n",
      " 3   overdraft                 102829 non-null  int64  \n",
      " 4   consumer_loan             102829 non-null  int64  \n",
      " 5   credit_card               102829 non-null  int64  \n",
      " 6   account_id                102829 non-null  object \n",
      " 7   open_date                 102829 non-null  object \n",
      " 8   maturity_date             102829 non-null  object \n",
      " 9   original_principal        102829 non-null  int64  \n",
      " 10  current_principal         102829 non-null  int64  \n",
      " 11  interest_rate             102829 non-null  float64\n",
      " 12  l_period                  102829 non-null  int64  \n",
      " 13  exp_monthly_payments      102829 non-null  float64\n",
      " 14  age                       102829 non-null  object \n",
      " 15  maritial_status           102829 non-null  object \n",
      " 16  empl_type                 102829 non-null  object \n",
      " 17  profession                102829 non-null  float64\n",
      " 18  tot_mnth_income           102829 non-null  float64\n",
      " 19  gross_salary              102829 non-null  float64\n",
      " 20  collateral_id             102829 non-null  object \n",
      " 21  market_value              102829 non-null  int64  \n",
      " 22  collateral_type           102829 non-null  object \n",
      " 23  building_type             102829 non-null  float64\n",
      " 24  mortgage_utilisation      102829 non-null  float64\n",
      " 25  area                      102829 non-null  float64\n",
      " 26  deducted_principal        102829 non-null  float64\n",
      " 27  income_vs_payment_ratio   102829 non-null  float64\n",
      " 28  debt_towards_bank         102829 non-null  int64  \n",
      " 29  debt_towards_bank_bool    102829 non-null  int64  \n",
      " 30  dummy_Big Town            102829 non-null  uint8  \n",
      " 31  dummy_Capital             102829 non-null  uint8  \n",
      " 32  dummy_Major Town          102829 non-null  uint8  \n",
      " 33  dummy_MediumS Town        102829 non-null  uint8  \n",
      " 34  town_x_Big Town           102829 non-null  uint8  \n",
      " 35  town_x_Capital            102829 non-null  uint8  \n",
      " 36  town_x_Major Town         102829 non-null  uint8  \n",
      " 37  town_x_MediumS Town       102829 non-null  uint8  \n",
      " 38  town_y_Big Town           102829 non-null  uint8  \n",
      " 39  town_y_Capital            102829 non-null  uint8  \n",
      " 40  town_y_Major Town         102829 non-null  uint8  \n",
      " 41  town_y_MediumS Town       102829 non-null  uint8  \n",
      " 42  customer_rating_int       102829 non-null  int64  \n",
      " 43  prepayment_status_unique  102829 non-null  int64  \n",
      "dtypes: float64(10), int64(12), object(10), uint8(12)\n",
      "memory usage: 27.1+ MB\n"
     ]
    }
   ],
   "source": [
    "sample_df.info()"
   ]
  },
  {
   "cell_type": "code",
   "execution_count": null,
   "id": "f6f1bac9",
   "metadata": {},
   "outputs": [],
   "source": []
  }
 ],
 "metadata": {
  "kernelspec": {
   "display_name": "Python [conda env:.conda-ss2022]",
   "language": "python",
   "name": "conda-env-.conda-ss2022-py"
  },
  "language_info": {
   "codemirror_mode": {
    "name": "ipython",
    "version": 3
   },
   "file_extension": ".py",
   "mimetype": "text/x-python",
   "name": "python",
   "nbconvert_exporter": "python",
   "pygments_lexer": "ipython3",
   "version": "3.10.6"
  },
  "latex_envs": {
   "LaTeX_envs_menu_present": true,
   "autoclose": false,
   "autocomplete": true,
   "bibliofile": "biblio.bib",
   "cite_by": "apalike",
   "current_citInitial": 1,
   "eqLabelWithNumbers": true,
   "eqNumInitial": 1,
   "hotkeys": {
    "equation": "Ctrl-E",
    "itemize": "Ctrl-I"
   },
   "labels_anchors": false,
   "latex_user_defs": false,
   "report_style_numbering": false,
   "user_envs_cfg": false
  },
  "toc": {
   "base_numbering": 1,
   "nav_menu": {},
   "number_sections": true,
   "sideBar": true,
   "skip_h1_title": false,
   "title_cell": "Table of Contents",
   "title_sidebar": "Contents",
   "toc_cell": false,
   "toc_position": {},
   "toc_section_display": true,
   "toc_window_display": false
  },
  "varInspector": {
   "cols": {
    "lenName": 16,
    "lenType": 16,
    "lenVar": 40
   },
   "kernels_config": {
    "python": {
     "delete_cmd_postfix": "",
     "delete_cmd_prefix": "del ",
     "library": "var_list.py",
     "varRefreshCmd": "print(var_dic_list())"
    },
    "r": {
     "delete_cmd_postfix": ") ",
     "delete_cmd_prefix": "rm(",
     "library": "var_list.r",
     "varRefreshCmd": "cat(var_dic_list()) "
    }
   },
   "types_to_exclude": [
    "module",
    "function",
    "builtin_function_or_method",
    "instance",
    "_Feature"
   ],
   "window_display": false
  }
 },
 "nbformat": 4,
 "nbformat_minor": 5
}
