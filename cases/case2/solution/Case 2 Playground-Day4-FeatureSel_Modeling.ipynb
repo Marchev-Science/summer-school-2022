{
 "cells": [
  {
   "cell_type": "code",
   "execution_count": 383,
   "id": "a1718c8c",
   "metadata": {
    "ExecuteTime": {
     "end_time": "2022-08-31T18:22:30.372927Z",
     "start_time": "2022-08-31T18:22:30.363925Z"
    }
   },
   "outputs": [],
   "source": [
    "import pandas as pd\n",
    "import numpy as np\n",
    "import random\n",
    "import string\n",
    "\n",
    "from sklearn.model_selection import train_test_split, cross_val_score, cross_val_predict\n",
    "from sklearn.preprocessing import StandardScaler\n",
    "from sklearn.linear_model import SGDClassifier, LogisticRegression\n",
    "from sklearn.metrics import confusion_matrix, plot_confusion_matrix, roc_curve, auc, roc_auc_score, precision_score, recall_score, f1_score, precision_recall_curve\n",
    "from sklearn.ensemble import RandomForestClassifier, GradientBoostingClassifier\n",
    "from xgboost import XGBClassifier\n",
    "from lightgbm import LGBMClassifier\n",
    "from numpy import arange, argmax\n",
    "\n",
    "\n",
    "import matplotlib.pyplot as plt\n",
    "%matplotlib inline\n",
    "\n",
    "\n",
    "pd.set_option(\"display.max_columns\", 200)\n",
    "pd.set_option(\"display.max_rows\", 1500)\n",
    "pd.set_option(\"display.max_colwidth\", None)"
   ]
  },
  {
   "cell_type": "code",
   "execution_count": null,
   "id": "e3f5022f",
   "metadata": {},
   "outputs": [],
   "source": []
  },
  {
   "cell_type": "markdown",
   "id": "d8e9830a",
   "metadata": {},
   "source": [
    "## Load the data"
   ]
  },
  {
   "cell_type": "code",
   "execution_count": 264,
   "id": "a93e7987",
   "metadata": {
    "ExecuteTime": {
     "end_time": "2022-08-31T17:34:06.596444Z",
     "start_time": "2022-08-31T17:34:04.556464Z"
    }
   },
   "outputs": [],
   "source": [
    "balances_df = pd.read_csv(\"balances.csv\", sep=\";\")\n",
    "collateral_df = pd.read_csv(\"collateral.csv\", sep=\";\")\n",
    "customers_df = pd.read_csv(\"customers.csv\", sep=\";\")\n",
    "\n",
    "\n",
    "balances_prep = pd.read_csv(\"balances_prep_simple_v2.csv\")\n",
    "balances_prep.drop(\"Unnamed: 0\", axis=1, inplace=True)"
   ]
  },
  {
   "cell_type": "code",
   "execution_count": 265,
   "id": "5cf7809f",
   "metadata": {
    "ExecuteTime": {
     "end_time": "2022-08-31T17:34:06.612444Z",
     "start_time": "2022-08-31T17:34:06.598444Z"
    }
   },
   "outputs": [
    {
     "data": {
      "text/plain": [
       "['no']                        79\n",
       "['own']                       16\n",
       "['refinanced other banks']     3\n",
       "['refinanced-UC']              2\n",
       "Name: prepayment_status_unique, dtype: int64"
      ]
     },
     "execution_count": 265,
     "metadata": {},
     "output_type": "execute_result"
    }
   ],
   "source": [
    "balances_prep[\"prepayment_status_unique\"].head(100).value_counts()"
   ]
  },
  {
   "cell_type": "markdown",
   "id": "d5fbf30c",
   "metadata": {},
   "source": [
    "## Transform targets"
   ]
  },
  {
   "cell_type": "code",
   "execution_count": 266,
   "id": "2c790408",
   "metadata": {
    "ExecuteTime": {
     "end_time": "2022-08-31T17:34:06.627445Z",
     "start_time": "2022-08-31T17:34:06.614446Z"
    }
   },
   "outputs": [],
   "source": [
    "def new_labels(row):\n",
    "    return 0 if row[\"prepayment_status_unique\"] == \"['no']\" else 1"
   ]
  },
  {
   "cell_type": "code",
   "execution_count": 267,
   "id": "de6723bc",
   "metadata": {
    "ExecuteTime": {
     "end_time": "2022-08-31T17:34:06.642444Z",
     "start_time": "2022-08-31T17:34:06.629445Z"
    }
   },
   "outputs": [],
   "source": [
    "def new_rating(row, col_name):\n",
    "    \n",
    "    val = row\n",
    "    if \"+\" in val:\n",
    "        res_val = float(val[0]+\".5\")\n",
    "    elif \"-\" in val:\n",
    "        res = float(val[0]+\".9\")\n",
    "        res_val = res - 1\n",
    "    else:\n",
    "        res_val = float(val)\n",
    "    \n",
    "    return res_val"
   ]
  },
  {
   "cell_type": "code",
   "execution_count": 268,
   "id": "6e63d3f5",
   "metadata": {
    "ExecuteTime": {
     "end_time": "2022-08-31T17:34:06.718465Z",
     "start_time": "2022-08-31T17:34:06.644444Z"
    }
   },
   "outputs": [],
   "source": [
    "rating_cols = [\"customer_rating_min\", \"customer_rating_max\", \"customer_rating_modeX\"]\n",
    "for col in rating_cols:\n",
    "#     print(col)\n",
    "    balances_prep[col] = balances_prep[col].apply(lambda x: new_rating(x, col_name=col))"
   ]
  },
  {
   "cell_type": "code",
   "execution_count": null,
   "id": "ce285038",
   "metadata": {},
   "outputs": [],
   "source": []
  },
  {
   "cell_type": "code",
   "execution_count": 269,
   "id": "3ad90733",
   "metadata": {
    "ExecuteTime": {
     "end_time": "2022-08-31T17:34:07.048465Z",
     "start_time": "2022-08-31T17:34:06.719465Z"
    }
   },
   "outputs": [],
   "source": [
    "balances_prep[\"prepayment_status_unique\"] = balances_prep.apply(new_labels, axis=1)"
   ]
  },
  {
   "cell_type": "code",
   "execution_count": 270,
   "id": "b1bcee8a",
   "metadata": {
    "ExecuteTime": {
     "end_time": "2022-08-31T17:34:07.063664Z",
     "start_time": "2022-08-31T17:34:07.050465Z"
    }
   },
   "outputs": [
    {
     "data": {
      "text/plain": [
       "0    79\n",
       "1    21\n",
       "Name: prepayment_status_unique, dtype: int64"
      ]
     },
     "execution_count": 270,
     "metadata": {},
     "output_type": "execute_result"
    }
   ],
   "source": [
    "balances_prep[\"prepayment_status_unique\"].head(100).value_counts()"
   ]
  },
  {
   "cell_type": "code",
   "execution_count": 271,
   "id": "73bd70c7",
   "metadata": {
    "ExecuteTime": {
     "end_time": "2022-08-31T17:34:07.079664Z",
     "start_time": "2022-08-31T17:34:07.065665Z"
    }
   },
   "outputs": [
    {
     "data": {
      "text/plain": [
       "(39339, 65)"
      ]
     },
     "execution_count": 271,
     "metadata": {},
     "output_type": "execute_result"
    }
   ],
   "source": [
    "balances_prep.shape"
   ]
  },
  {
   "cell_type": "code",
   "execution_count": 272,
   "id": "a961159b",
   "metadata": {
    "ExecuteTime": {
     "end_time": "2022-08-31T17:34:07.126287Z",
     "start_time": "2022-08-31T17:34:07.080663Z"
    }
   },
   "outputs": [
    {
     "name": "stdout",
     "output_type": "stream",
     "text": [
      "<class 'pandas.core.frame.DataFrame'>\n",
      "RangeIndex: 39339 entries, 0 to 39338\n",
      "Data columns (total 65 columns):\n",
      " #   Column                                       Non-Null Count  Dtype  \n",
      "---  ------                                       --------------  -----  \n",
      " 0   customer_id_                                 39339 non-null  object \n",
      " 1   account_id_                                  39339 non-null  object \n",
      " 2   open_date_                                   39339 non-null  object \n",
      " 3   original_principal_min                       39339 non-null  int64  \n",
      " 4   original_principal_max                       39339 non-null  int64  \n",
      " 5   original_principal_std                       39339 non-null  float64\n",
      " 6   original_principal_max_minus_min             39339 non-null  int64  \n",
      " 7   reporting_date_count                         39339 non-null  int64  \n",
      " 8   total_cust_exposure_min                      39339 non-null  int64  \n",
      " 9   total_cust_exposure_max                      39339 non-null  int64  \n",
      " 10  overdraft_min                                39339 non-null  int64  \n",
      " 11  overdraft_max                                39339 non-null  int64  \n",
      " 12  overdraft_size                               39339 non-null  int64  \n",
      " 13  overdraft_count0                             39339 non-null  int64  \n",
      " 14  overdraft_count1                             39339 non-null  int64  \n",
      " 15  overdraft_count2plus                         39339 non-null  int64  \n",
      " 16  consumer_loan_min                            39339 non-null  int64  \n",
      " 17  consumer_loan_max                            39339 non-null  int64  \n",
      " 18  consumer_loan_size                           39339 non-null  int64  \n",
      " 19  consumer_loan_count0                         39339 non-null  int64  \n",
      " 20  consumer_loan_count1                         39339 non-null  int64  \n",
      " 21  consumer_loan_count2plus                     39339 non-null  int64  \n",
      " 22  credit_card_min                              39339 non-null  int64  \n",
      " 23  credit_card_max                              39339 non-null  int64  \n",
      " 24  credit_card_size                             39339 non-null  int64  \n",
      " 25  credit_card_count0                           39339 non-null  int64  \n",
      " 26  credit_card_count1                           39339 non-null  int64  \n",
      " 27  credit_card_count2plus                       39339 non-null  int64  \n",
      " 28  customer_rating_min                          39339 non-null  float64\n",
      " 29  customer_rating_max                          39339 non-null  float64\n",
      " 30  customer_rating_modeX                        39339 non-null  float64\n",
      " 31  maturity_date_min                            39339 non-null  object \n",
      " 32  maturity_date_max                            39339 non-null  object \n",
      " 33  maturity_date_max_minus_min                  39339 non-null  int64  \n",
      " 34  prepayment_status_unique                     39339 non-null  int64  \n",
      " 35  l_period_min                                 39339 non-null  int64  \n",
      " 36  l_period_max                                 39339 non-null  int64  \n",
      " 37  l_period_max_minus_min                       39339 non-null  int64  \n",
      " 38  interest_rate_min                            39339 non-null  float64\n",
      " 39  interest_rate_max                            39339 non-null  float64\n",
      " 40  interest_rate_max_minus_min                  39339 non-null  float64\n",
      " 41  interest_rate_modeX                          39339 non-null  float64\n",
      " 42  exp_monthly_payments_min                     39339 non-null  float64\n",
      " 43  exp_monthly_payments_max                     39339 non-null  float64\n",
      " 44  exp_monthly_payments_std                     39339 non-null  float64\n",
      " 45  exp_monthly_payments_max_minus_min           39339 non-null  float64\n",
      " 46  current_principal_min                        39339 non-null  int64  \n",
      " 47  current_principal_max                        39339 non-null  int64  \n",
      " 48  current_principal_max_minus_min              39339 non-null  int64  \n",
      " 49  interest_payment_min                         39339 non-null  float64\n",
      " 50  interest_payment_max                         39339 non-null  float64\n",
      " 51  interest_payment_max_minus_min               39339 non-null  float64\n",
      " 52  principal_payment_min                        39339 non-null  float64\n",
      " 53  principal_payment_max                        39339 non-null  float64\n",
      " 54  principal_payment_max_minus_min              39339 non-null  float64\n",
      " 55  deducted_principal_min                       39339 non-null  float64\n",
      " 56  deducted_principal_max                       39339 non-null  float64\n",
      " 57  deducted_principal_max_minus_min             39339 non-null  float64\n",
      " 58  deducted_vs_principal_payment_min            39339 non-null  float64\n",
      " 59  deducted_vs_principal_payment_max            39339 non-null  float64\n",
      " 60  deducted_vs_principal_payment_mean           39339 non-null  float64\n",
      " 61  deducted_vs_principal_payment_max_minus_min  39339 non-null  float64\n",
      " 62  principal_left_pctg_min                      39339 non-null  float64\n",
      " 63  principal_left_pctg_max                      39339 non-null  float64\n",
      " 64  principal_left_pctg_max_minus_min            39339 non-null  float64\n",
      "dtypes: float64(28), int64(32), object(5)\n",
      "memory usage: 19.5+ MB\n"
     ]
    }
   ],
   "source": [
    "balances_prep.info()"
   ]
  },
  {
   "cell_type": "code",
   "execution_count": null,
   "id": "1dc10fd7",
   "metadata": {},
   "outputs": [],
   "source": []
  },
  {
   "cell_type": "code",
   "execution_count": null,
   "id": "049a2165",
   "metadata": {},
   "outputs": [],
   "source": []
  },
  {
   "cell_type": "code",
   "execution_count": null,
   "id": "f1e56b4d",
   "metadata": {},
   "outputs": [],
   "source": []
  },
  {
   "cell_type": "markdown",
   "id": "7f037bd9",
   "metadata": {},
   "source": [
    "## Sample"
   ]
  },
  {
   "cell_type": "code",
   "execution_count": 273,
   "id": "70100d5a",
   "metadata": {
    "ExecuteTime": {
     "end_time": "2022-08-31T17:34:07.461812Z",
     "start_time": "2022-08-31T17:34:07.129287Z"
    }
   },
   "outputs": [],
   "source": [
    "sample = balances_prep.sample(frac=0.33, replace=True, random_state=1)\n",
    "sample.to_csv(\"balances_prep_simple_v2_sample.csv\")"
   ]
  },
  {
   "cell_type": "code",
   "execution_count": null,
   "id": "29a69b60",
   "metadata": {},
   "outputs": [],
   "source": []
  },
  {
   "cell_type": "code",
   "execution_count": null,
   "id": "2151c606",
   "metadata": {},
   "outputs": [],
   "source": []
  },
  {
   "cell_type": "code",
   "execution_count": null,
   "id": "f42788ec",
   "metadata": {},
   "outputs": [],
   "source": []
  },
  {
   "cell_type": "code",
   "execution_count": null,
   "id": "1c5b512c",
   "metadata": {},
   "outputs": [],
   "source": []
  },
  {
   "cell_type": "markdown",
   "id": "e8c591ec",
   "metadata": {},
   "source": [
    "## Data Splitting"
   ]
  },
  {
   "cell_type": "code",
   "execution_count": 274,
   "id": "deafa97b",
   "metadata": {
    "ExecuteTime": {
     "end_time": "2022-08-31T17:34:07.477810Z",
     "start_time": "2022-08-31T17:34:07.463809Z"
    }
   },
   "outputs": [],
   "source": [
    "X = balances_prep.loc[:, ~balances_prep.columns.isin(['prepayment_status_unique'])]\n",
    "Y = balances_prep[\"prepayment_status_unique\"]"
   ]
  },
  {
   "cell_type": "code",
   "execution_count": 275,
   "id": "ffc11ed2",
   "metadata": {
    "ExecuteTime": {
     "end_time": "2022-08-31T17:34:07.525810Z",
     "start_time": "2022-08-31T17:34:07.479809Z"
    }
   },
   "outputs": [],
   "source": [
    "X_train, X_test, y_train, y_test = train_test_split(X, Y, test_size=0.30, random_state=24)"
   ]
  },
  {
   "cell_type": "code",
   "execution_count": 276,
   "id": "78b19dd9",
   "metadata": {
    "ExecuteTime": {
     "end_time": "2022-08-31T17:34:07.541810Z",
     "start_time": "2022-08-31T17:34:07.527810Z"
    }
   },
   "outputs": [],
   "source": [
    "test_data = pd.concat([X_test, y_test], axis=1)\n",
    "test_data.sort_index(inplace=True)"
   ]
  },
  {
   "cell_type": "code",
   "execution_count": 277,
   "id": "94aff5f8",
   "metadata": {
    "ExecuteTime": {
     "end_time": "2022-08-31T17:34:07.573824Z",
     "start_time": "2022-08-31T17:34:07.542811Z"
    }
   },
   "outputs": [],
   "source": [
    "X_train.sort_index(inplace=True)\n",
    "y_train.sort_index(inplace=True)\n",
    "train_data = pd.concat([X_train, y_train], axis=1)"
   ]
  },
  {
   "cell_type": "code",
   "execution_count": 278,
   "id": "c8d7a7d4",
   "metadata": {
    "ExecuteTime": {
     "end_time": "2022-08-31T17:34:07.604834Z",
     "start_time": "2022-08-31T17:34:07.575834Z"
    }
   },
   "outputs": [
    {
     "data": {
      "text/html": [
       "<div>\n",
       "<style scoped>\n",
       "    .dataframe tbody tr th:only-of-type {\n",
       "        vertical-align: middle;\n",
       "    }\n",
       "\n",
       "    .dataframe tbody tr th {\n",
       "        vertical-align: top;\n",
       "    }\n",
       "\n",
       "    .dataframe thead th {\n",
       "        text-align: right;\n",
       "    }\n",
       "</style>\n",
       "<table border=\"1\" class=\"dataframe\">\n",
       "  <thead>\n",
       "    <tr style=\"text-align: right;\">\n",
       "      <th></th>\n",
       "      <th>customer_id_</th>\n",
       "      <th>account_id_</th>\n",
       "      <th>open_date_</th>\n",
       "      <th>original_principal_min</th>\n",
       "      <th>original_principal_max</th>\n",
       "      <th>original_principal_std</th>\n",
       "      <th>original_principal_max_minus_min</th>\n",
       "      <th>reporting_date_count</th>\n",
       "      <th>total_cust_exposure_min</th>\n",
       "      <th>total_cust_exposure_max</th>\n",
       "      <th>overdraft_min</th>\n",
       "      <th>overdraft_max</th>\n",
       "      <th>overdraft_size</th>\n",
       "      <th>overdraft_count0</th>\n",
       "      <th>overdraft_count1</th>\n",
       "      <th>overdraft_count2plus</th>\n",
       "      <th>consumer_loan_min</th>\n",
       "      <th>consumer_loan_max</th>\n",
       "      <th>consumer_loan_size</th>\n",
       "      <th>consumer_loan_count0</th>\n",
       "      <th>consumer_loan_count1</th>\n",
       "      <th>consumer_loan_count2plus</th>\n",
       "      <th>credit_card_min</th>\n",
       "      <th>credit_card_max</th>\n",
       "      <th>credit_card_size</th>\n",
       "      <th>credit_card_count0</th>\n",
       "      <th>credit_card_count1</th>\n",
       "      <th>credit_card_count2plus</th>\n",
       "      <th>customer_rating_min</th>\n",
       "      <th>customer_rating_max</th>\n",
       "      <th>customer_rating_modeX</th>\n",
       "      <th>maturity_date_min</th>\n",
       "      <th>maturity_date_max</th>\n",
       "      <th>maturity_date_max_minus_min</th>\n",
       "      <th>l_period_min</th>\n",
       "      <th>l_period_max</th>\n",
       "      <th>l_period_max_minus_min</th>\n",
       "      <th>interest_rate_min</th>\n",
       "      <th>interest_rate_max</th>\n",
       "      <th>interest_rate_max_minus_min</th>\n",
       "      <th>interest_rate_modeX</th>\n",
       "      <th>exp_monthly_payments_min</th>\n",
       "      <th>exp_monthly_payments_max</th>\n",
       "      <th>exp_monthly_payments_std</th>\n",
       "      <th>exp_monthly_payments_max_minus_min</th>\n",
       "      <th>current_principal_min</th>\n",
       "      <th>current_principal_max</th>\n",
       "      <th>current_principal_max_minus_min</th>\n",
       "      <th>interest_payment_min</th>\n",
       "      <th>interest_payment_max</th>\n",
       "      <th>interest_payment_max_minus_min</th>\n",
       "      <th>principal_payment_min</th>\n",
       "      <th>principal_payment_max</th>\n",
       "      <th>principal_payment_max_minus_min</th>\n",
       "      <th>deducted_principal_min</th>\n",
       "      <th>deducted_principal_max</th>\n",
       "      <th>deducted_principal_max_minus_min</th>\n",
       "      <th>deducted_vs_principal_payment_min</th>\n",
       "      <th>deducted_vs_principal_payment_max</th>\n",
       "      <th>deducted_vs_principal_payment_mean</th>\n",
       "      <th>deducted_vs_principal_payment_max_minus_min</th>\n",
       "      <th>principal_left_pctg_min</th>\n",
       "      <th>principal_left_pctg_max</th>\n",
       "      <th>principal_left_pctg_max_minus_min</th>\n",
       "      <th>prepayment_status_unique</th>\n",
       "    </tr>\n",
       "  </thead>\n",
       "  <tbody>\n",
       "    <tr>\n",
       "      <th>0</th>\n",
       "      <td>0x000100F424893C746F</td>\n",
       "      <td>0xF7CDAD654B6CE06334F9FE655212AAD1</td>\n",
       "      <td>2017-06-29</td>\n",
       "      <td>64800</td>\n",
       "      <td>64800</td>\n",
       "      <td>0.0</td>\n",
       "      <td>0</td>\n",
       "      <td>44</td>\n",
       "      <td>56155</td>\n",
       "      <td>63355</td>\n",
       "      <td>0</td>\n",
       "      <td>0</td>\n",
       "      <td>44</td>\n",
       "      <td>44</td>\n",
       "      <td>0</td>\n",
       "      <td>0</td>\n",
       "      <td>0</td>\n",
       "      <td>0</td>\n",
       "      <td>44</td>\n",
       "      <td>44</td>\n",
       "      <td>0</td>\n",
       "      <td>0</td>\n",
       "      <td>0</td>\n",
       "      <td>0</td>\n",
       "      <td>44</td>\n",
       "      <td>44</td>\n",
       "      <td>0</td>\n",
       "      <td>0</td>\n",
       "      <td>3.0</td>\n",
       "      <td>5.5</td>\n",
       "      <td>3.5</td>\n",
       "      <td>2042-06-29</td>\n",
       "      <td>2042-06-29</td>\n",
       "      <td>0</td>\n",
       "      <td>24</td>\n",
       "      <td>24</td>\n",
       "      <td>0</td>\n",
       "      <td>3.70</td>\n",
       "      <td>3.70</td>\n",
       "      <td>0.0</td>\n",
       "      <td>3.70</td>\n",
       "      <td>339.819283</td>\n",
       "      <td>339.819283</td>\n",
       "      <td>0.0</td>\n",
       "      <td>0.0</td>\n",
       "      <td>56155</td>\n",
       "      <td>62342</td>\n",
       "      <td>6187</td>\n",
       "      <td>173.144583</td>\n",
       "      <td>192.221167</td>\n",
       "      <td>19.076583</td>\n",
       "      <td>147.598116</td>\n",
       "      <td>166.674700</td>\n",
       "      <td>19.076583</td>\n",
       "      <td>0.0</td>\n",
       "      <td>2458.0</td>\n",
       "      <td>2458.0</td>\n",
       "      <td>-164.251200</td>\n",
       "      <td>2310.401884</td>\n",
       "      <td>39.390899</td>\n",
       "      <td>2474.653083</td>\n",
       "      <td>87.0</td>\n",
       "      <td>96.0</td>\n",
       "      <td>9.0</td>\n",
       "      <td>0</td>\n",
       "    </tr>\n",
       "    <tr>\n",
       "      <th>1</th>\n",
       "      <td>0x000224F02B4B39DDFE</td>\n",
       "      <td>0x5568E6E4AEB2DF832D6444950125EECB</td>\n",
       "      <td>2016-08-16</td>\n",
       "      <td>74880</td>\n",
       "      <td>74880</td>\n",
       "      <td>0.0</td>\n",
       "      <td>0</td>\n",
       "      <td>11</td>\n",
       "      <td>70449</td>\n",
       "      <td>72710</td>\n",
       "      <td>0</td>\n",
       "      <td>0</td>\n",
       "      <td>11</td>\n",
       "      <td>11</td>\n",
       "      <td>0</td>\n",
       "      <td>0</td>\n",
       "      <td>0</td>\n",
       "      <td>0</td>\n",
       "      <td>11</td>\n",
       "      <td>11</td>\n",
       "      <td>0</td>\n",
       "      <td>0</td>\n",
       "      <td>0</td>\n",
       "      <td>0</td>\n",
       "      <td>11</td>\n",
       "      <td>11</td>\n",
       "      <td>0</td>\n",
       "      <td>0</td>\n",
       "      <td>4.0</td>\n",
       "      <td>5.5</td>\n",
       "      <td>4.0</td>\n",
       "      <td>2042-08-16</td>\n",
       "      <td>2042-08-16</td>\n",
       "      <td>0</td>\n",
       "      <td>25</td>\n",
       "      <td>25</td>\n",
       "      <td>0</td>\n",
       "      <td>3.90</td>\n",
       "      <td>3.90</td>\n",
       "      <td>0.0</td>\n",
       "      <td>3.90</td>\n",
       "      <td>391.121433</td>\n",
       "      <td>391.121433</td>\n",
       "      <td>0.0</td>\n",
       "      <td>0.0</td>\n",
       "      <td>69729</td>\n",
       "      <td>71273</td>\n",
       "      <td>1544</td>\n",
       "      <td>226.619250</td>\n",
       "      <td>231.637250</td>\n",
       "      <td>5.018000</td>\n",
       "      <td>159.484183</td>\n",
       "      <td>164.502183</td>\n",
       "      <td>5.018000</td>\n",
       "      <td>147.0</td>\n",
       "      <td>3607.0</td>\n",
       "      <td>3460.0</td>\n",
       "      <td>-12.961933</td>\n",
       "      <td>3447.515817</td>\n",
       "      <td>306.287522</td>\n",
       "      <td>3460.477750</td>\n",
       "      <td>93.0</td>\n",
       "      <td>95.0</td>\n",
       "      <td>2.0</td>\n",
       "      <td>1</td>\n",
       "    </tr>\n",
       "    <tr>\n",
       "      <th>2</th>\n",
       "      <td>0x00025DA4C145ED8EBF</td>\n",
       "      <td>0x8C794E5D7336C4FE59B85E4400973723</td>\n",
       "      <td>2022-04-13</td>\n",
       "      <td>54000</td>\n",
       "      <td>54000</td>\n",
       "      <td>0.0</td>\n",
       "      <td>0</td>\n",
       "      <td>3</td>\n",
       "      <td>53248</td>\n",
       "      <td>54000</td>\n",
       "      <td>0</td>\n",
       "      <td>0</td>\n",
       "      <td>3</td>\n",
       "      <td>3</td>\n",
       "      <td>0</td>\n",
       "      <td>0</td>\n",
       "      <td>0</td>\n",
       "      <td>0</td>\n",
       "      <td>3</td>\n",
       "      <td>3</td>\n",
       "      <td>0</td>\n",
       "      <td>0</td>\n",
       "      <td>0</td>\n",
       "      <td>0</td>\n",
       "      <td>3</td>\n",
       "      <td>3</td>\n",
       "      <td>0</td>\n",
       "      <td>0</td>\n",
       "      <td>5.5</td>\n",
       "      <td>5.5</td>\n",
       "      <td>5.5</td>\n",
       "      <td>2033-04-13</td>\n",
       "      <td>2033-04-13</td>\n",
       "      <td>0</td>\n",
       "      <td>11</td>\n",
       "      <td>11</td>\n",
       "      <td>0</td>\n",
       "      <td>2.48</td>\n",
       "      <td>2.48</td>\n",
       "      <td>0.0</td>\n",
       "      <td>2.48</td>\n",
       "      <td>467.844781</td>\n",
       "      <td>467.844781</td>\n",
       "      <td>0.0</td>\n",
       "      <td>0.0</td>\n",
       "      <td>53248</td>\n",
       "      <td>54000</td>\n",
       "      <td>752</td>\n",
       "      <td>110.045867</td>\n",
       "      <td>111.600000</td>\n",
       "      <td>1.554133</td>\n",
       "      <td>356.244781</td>\n",
       "      <td>357.798915</td>\n",
       "      <td>1.554133</td>\n",
       "      <td>0.0</td>\n",
       "      <td>398.0</td>\n",
       "      <td>398.0</td>\n",
       "      <td>-356.244781</td>\n",
       "      <td>40.932685</td>\n",
       "      <td>-106.370337</td>\n",
       "      <td>397.177467</td>\n",
       "      <td>99.0</td>\n",
       "      <td>100.0</td>\n",
       "      <td>1.0</td>\n",
       "      <td>0</td>\n",
       "    </tr>\n",
       "    <tr>\n",
       "      <th>4</th>\n",
       "      <td>0x0004EAC7528D4869C1</td>\n",
       "      <td>0x1DE89AAB80B0FE12FBA0E35F21DDA118</td>\n",
       "      <td>2021-07-07</td>\n",
       "      <td>118320</td>\n",
       "      <td>118320</td>\n",
       "      <td>0.0</td>\n",
       "      <td>0</td>\n",
       "      <td>12</td>\n",
       "      <td>95275</td>\n",
       "      <td>116897</td>\n",
       "      <td>0</td>\n",
       "      <td>0</td>\n",
       "      <td>12</td>\n",
       "      <td>12</td>\n",
       "      <td>0</td>\n",
       "      <td>0</td>\n",
       "      <td>0</td>\n",
       "      <td>0</td>\n",
       "      <td>12</td>\n",
       "      <td>12</td>\n",
       "      <td>0</td>\n",
       "      <td>0</td>\n",
       "      <td>0</td>\n",
       "      <td>0</td>\n",
       "      <td>12</td>\n",
       "      <td>12</td>\n",
       "      <td>0</td>\n",
       "      <td>0</td>\n",
       "      <td>3.0</td>\n",
       "      <td>3.9</td>\n",
       "      <td>3.9</td>\n",
       "      <td>2051-07-07</td>\n",
       "      <td>2051-07-07</td>\n",
       "      <td>0</td>\n",
       "      <td>29</td>\n",
       "      <td>29</td>\n",
       "      <td>0</td>\n",
       "      <td>2.49</td>\n",
       "      <td>2.49</td>\n",
       "      <td>0.0</td>\n",
       "      <td>2.49</td>\n",
       "      <td>477.741699</td>\n",
       "      <td>477.741699</td>\n",
       "      <td>0.0</td>\n",
       "      <td>0.0</td>\n",
       "      <td>95275</td>\n",
       "      <td>116897</td>\n",
       "      <td>21622</td>\n",
       "      <td>197.695625</td>\n",
       "      <td>242.561275</td>\n",
       "      <td>44.865650</td>\n",
       "      <td>235.180424</td>\n",
       "      <td>280.046074</td>\n",
       "      <td>44.865650</td>\n",
       "      <td>-21622.0</td>\n",
       "      <td>22149.0</td>\n",
       "      <td>43771.0</td>\n",
       "      <td>-21857.180424</td>\n",
       "      <td>21870.813126</td>\n",
       "      <td>-65.958891</td>\n",
       "      <td>43727.993550</td>\n",
       "      <td>81.0</td>\n",
       "      <td>99.0</td>\n",
       "      <td>18.0</td>\n",
       "      <td>0</td>\n",
       "    </tr>\n",
       "    <tr>\n",
       "      <th>5</th>\n",
       "      <td>0x00056F83F4501DBED4</td>\n",
       "      <td>0xD0CF1AA5C97B822BC8AF3AB67852B9A0</td>\n",
       "      <td>2012-02-22</td>\n",
       "      <td>79907</td>\n",
       "      <td>79907</td>\n",
       "      <td>0.0</td>\n",
       "      <td>0</td>\n",
       "      <td>44</td>\n",
       "      <td>68706</td>\n",
       "      <td>74000</td>\n",
       "      <td>0</td>\n",
       "      <td>0</td>\n",
       "      <td>44</td>\n",
       "      <td>44</td>\n",
       "      <td>0</td>\n",
       "      <td>0</td>\n",
       "      <td>0</td>\n",
       "      <td>0</td>\n",
       "      <td>44</td>\n",
       "      <td>44</td>\n",
       "      <td>0</td>\n",
       "      <td>0</td>\n",
       "      <td>0</td>\n",
       "      <td>0</td>\n",
       "      <td>44</td>\n",
       "      <td>44</td>\n",
       "      <td>0</td>\n",
       "      <td>0</td>\n",
       "      <td>5.0</td>\n",
       "      <td>8.5</td>\n",
       "      <td>6.9</td>\n",
       "      <td>2047-02-22</td>\n",
       "      <td>2047-02-22</td>\n",
       "      <td>0</td>\n",
       "      <td>35</td>\n",
       "      <td>35</td>\n",
       "      <td>0</td>\n",
       "      <td>4.00</td>\n",
       "      <td>4.00</td>\n",
       "      <td>0.0</td>\n",
       "      <td>4.00</td>\n",
       "      <td>353.808012</td>\n",
       "      <td>353.808012</td>\n",
       "      <td>0.0</td>\n",
       "      <td>0.0</td>\n",
       "      <td>68706</td>\n",
       "      <td>74000</td>\n",
       "      <td>5294</td>\n",
       "      <td>229.020000</td>\n",
       "      <td>246.666667</td>\n",
       "      <td>17.646667</td>\n",
       "      <td>107.141346</td>\n",
       "      <td>124.788012</td>\n",
       "      <td>17.646667</td>\n",
       "      <td>0.0</td>\n",
       "      <td>5907.0</td>\n",
       "      <td>5907.0</td>\n",
       "      <td>-122.524679</td>\n",
       "      <td>5799.858654</td>\n",
       "      <td>138.666382</td>\n",
       "      <td>5922.383333</td>\n",
       "      <td>86.0</td>\n",
       "      <td>93.0</td>\n",
       "      <td>7.0</td>\n",
       "      <td>0</td>\n",
       "    </tr>\n",
       "  </tbody>\n",
       "</table>\n",
       "</div>"
      ],
      "text/plain": [
       "           customer_id_                         account_id_  open_date_  \\\n",
       "0  0x000100F424893C746F  0xF7CDAD654B6CE06334F9FE655212AAD1  2017-06-29   \n",
       "1  0x000224F02B4B39DDFE  0x5568E6E4AEB2DF832D6444950125EECB  2016-08-16   \n",
       "2  0x00025DA4C145ED8EBF  0x8C794E5D7336C4FE59B85E4400973723  2022-04-13   \n",
       "4  0x0004EAC7528D4869C1  0x1DE89AAB80B0FE12FBA0E35F21DDA118  2021-07-07   \n",
       "5  0x00056F83F4501DBED4  0xD0CF1AA5C97B822BC8AF3AB67852B9A0  2012-02-22   \n",
       "\n",
       "   original_principal_min  original_principal_max  original_principal_std  \\\n",
       "0                   64800                   64800                     0.0   \n",
       "1                   74880                   74880                     0.0   \n",
       "2                   54000                   54000                     0.0   \n",
       "4                  118320                  118320                     0.0   \n",
       "5                   79907                   79907                     0.0   \n",
       "\n",
       "   original_principal_max_minus_min  reporting_date_count  \\\n",
       "0                                 0                    44   \n",
       "1                                 0                    11   \n",
       "2                                 0                     3   \n",
       "4                                 0                    12   \n",
       "5                                 0                    44   \n",
       "\n",
       "   total_cust_exposure_min  total_cust_exposure_max  overdraft_min  \\\n",
       "0                    56155                    63355              0   \n",
       "1                    70449                    72710              0   \n",
       "2                    53248                    54000              0   \n",
       "4                    95275                   116897              0   \n",
       "5                    68706                    74000              0   \n",
       "\n",
       "   overdraft_max  overdraft_size  overdraft_count0  overdraft_count1  \\\n",
       "0              0              44                44                 0   \n",
       "1              0              11                11                 0   \n",
       "2              0               3                 3                 0   \n",
       "4              0              12                12                 0   \n",
       "5              0              44                44                 0   \n",
       "\n",
       "   overdraft_count2plus  consumer_loan_min  consumer_loan_max  \\\n",
       "0                     0                  0                  0   \n",
       "1                     0                  0                  0   \n",
       "2                     0                  0                  0   \n",
       "4                     0                  0                  0   \n",
       "5                     0                  0                  0   \n",
       "\n",
       "   consumer_loan_size  consumer_loan_count0  consumer_loan_count1  \\\n",
       "0                  44                    44                     0   \n",
       "1                  11                    11                     0   \n",
       "2                   3                     3                     0   \n",
       "4                  12                    12                     0   \n",
       "5                  44                    44                     0   \n",
       "\n",
       "   consumer_loan_count2plus  credit_card_min  credit_card_max  \\\n",
       "0                         0                0                0   \n",
       "1                         0                0                0   \n",
       "2                         0                0                0   \n",
       "4                         0                0                0   \n",
       "5                         0                0                0   \n",
       "\n",
       "   credit_card_size  credit_card_count0  credit_card_count1  \\\n",
       "0                44                  44                   0   \n",
       "1                11                  11                   0   \n",
       "2                 3                   3                   0   \n",
       "4                12                  12                   0   \n",
       "5                44                  44                   0   \n",
       "\n",
       "   credit_card_count2plus  customer_rating_min  customer_rating_max  \\\n",
       "0                       0                  3.0                  5.5   \n",
       "1                       0                  4.0                  5.5   \n",
       "2                       0                  5.5                  5.5   \n",
       "4                       0                  3.0                  3.9   \n",
       "5                       0                  5.0                  8.5   \n",
       "\n",
       "   customer_rating_modeX maturity_date_min maturity_date_max  \\\n",
       "0                    3.5        2042-06-29        2042-06-29   \n",
       "1                    4.0        2042-08-16        2042-08-16   \n",
       "2                    5.5        2033-04-13        2033-04-13   \n",
       "4                    3.9        2051-07-07        2051-07-07   \n",
       "5                    6.9        2047-02-22        2047-02-22   \n",
       "\n",
       "   maturity_date_max_minus_min  l_period_min  l_period_max  \\\n",
       "0                            0            24            24   \n",
       "1                            0            25            25   \n",
       "2                            0            11            11   \n",
       "4                            0            29            29   \n",
       "5                            0            35            35   \n",
       "\n",
       "   l_period_max_minus_min  interest_rate_min  interest_rate_max  \\\n",
       "0                       0               3.70               3.70   \n",
       "1                       0               3.90               3.90   \n",
       "2                       0               2.48               2.48   \n",
       "4                       0               2.49               2.49   \n",
       "5                       0               4.00               4.00   \n",
       "\n",
       "   interest_rate_max_minus_min  interest_rate_modeX  exp_monthly_payments_min  \\\n",
       "0                          0.0                 3.70                339.819283   \n",
       "1                          0.0                 3.90                391.121433   \n",
       "2                          0.0                 2.48                467.844781   \n",
       "4                          0.0                 2.49                477.741699   \n",
       "5                          0.0                 4.00                353.808012   \n",
       "\n",
       "   exp_monthly_payments_max  exp_monthly_payments_std  \\\n",
       "0                339.819283                       0.0   \n",
       "1                391.121433                       0.0   \n",
       "2                467.844781                       0.0   \n",
       "4                477.741699                       0.0   \n",
       "5                353.808012                       0.0   \n",
       "\n",
       "   exp_monthly_payments_max_minus_min  current_principal_min  \\\n",
       "0                                 0.0                  56155   \n",
       "1                                 0.0                  69729   \n",
       "2                                 0.0                  53248   \n",
       "4                                 0.0                  95275   \n",
       "5                                 0.0                  68706   \n",
       "\n",
       "   current_principal_max  current_principal_max_minus_min  \\\n",
       "0                  62342                             6187   \n",
       "1                  71273                             1544   \n",
       "2                  54000                              752   \n",
       "4                 116897                            21622   \n",
       "5                  74000                             5294   \n",
       "\n",
       "   interest_payment_min  interest_payment_max  interest_payment_max_minus_min  \\\n",
       "0            173.144583            192.221167                       19.076583   \n",
       "1            226.619250            231.637250                        5.018000   \n",
       "2            110.045867            111.600000                        1.554133   \n",
       "4            197.695625            242.561275                       44.865650   \n",
       "5            229.020000            246.666667                       17.646667   \n",
       "\n",
       "   principal_payment_min  principal_payment_max  \\\n",
       "0             147.598116             166.674700   \n",
       "1             159.484183             164.502183   \n",
       "2             356.244781             357.798915   \n",
       "4             235.180424             280.046074   \n",
       "5             107.141346             124.788012   \n",
       "\n",
       "   principal_payment_max_minus_min  deducted_principal_min  \\\n",
       "0                        19.076583                     0.0   \n",
       "1                         5.018000                   147.0   \n",
       "2                         1.554133                     0.0   \n",
       "4                        44.865650                -21622.0   \n",
       "5                        17.646667                     0.0   \n",
       "\n",
       "   deducted_principal_max  deducted_principal_max_minus_min  \\\n",
       "0                  2458.0                            2458.0   \n",
       "1                  3607.0                            3460.0   \n",
       "2                   398.0                             398.0   \n",
       "4                 22149.0                           43771.0   \n",
       "5                  5907.0                            5907.0   \n",
       "\n",
       "   deducted_vs_principal_payment_min  deducted_vs_principal_payment_max  \\\n",
       "0                        -164.251200                        2310.401884   \n",
       "1                         -12.961933                        3447.515817   \n",
       "2                        -356.244781                          40.932685   \n",
       "4                      -21857.180424                       21870.813126   \n",
       "5                        -122.524679                        5799.858654   \n",
       "\n",
       "   deducted_vs_principal_payment_mean  \\\n",
       "0                           39.390899   \n",
       "1                          306.287522   \n",
       "2                         -106.370337   \n",
       "4                          -65.958891   \n",
       "5                          138.666382   \n",
       "\n",
       "   deducted_vs_principal_payment_max_minus_min  principal_left_pctg_min  \\\n",
       "0                                  2474.653083                     87.0   \n",
       "1                                  3460.477750                     93.0   \n",
       "2                                   397.177467                     99.0   \n",
       "4                                 43727.993550                     81.0   \n",
       "5                                  5922.383333                     86.0   \n",
       "\n",
       "   principal_left_pctg_max  principal_left_pctg_max_minus_min  \\\n",
       "0                     96.0                                9.0   \n",
       "1                     95.0                                2.0   \n",
       "2                    100.0                                1.0   \n",
       "4                     99.0                               18.0   \n",
       "5                     93.0                                7.0   \n",
       "\n",
       "   prepayment_status_unique  \n",
       "0                         0  \n",
       "1                         1  \n",
       "2                         0  \n",
       "4                         0  \n",
       "5                         0  "
      ]
     },
     "execution_count": 278,
     "metadata": {},
     "output_type": "execute_result"
    }
   ],
   "source": [
    "train_data.head()"
   ]
  },
  {
   "cell_type": "code",
   "execution_count": 279,
   "id": "8c558d77",
   "metadata": {
    "ExecuteTime": {
     "end_time": "2022-08-31T17:34:07.619833Z",
     "start_time": "2022-08-31T17:34:07.605835Z"
    }
   },
   "outputs": [
    {
     "data": {
      "text/plain": [
       "(27537, 65)"
      ]
     },
     "execution_count": 279,
     "metadata": {},
     "output_type": "execute_result"
    }
   ],
   "source": [
    "train_data.shape"
   ]
  },
  {
   "cell_type": "code",
   "execution_count": 280,
   "id": "ebb57779",
   "metadata": {
    "ExecuteTime": {
     "end_time": "2022-08-31T17:34:07.649833Z",
     "start_time": "2022-08-31T17:34:07.621833Z"
    }
   },
   "outputs": [
    {
     "data": {
      "text/html": [
       "<div>\n",
       "<style scoped>\n",
       "    .dataframe tbody tr th:only-of-type {\n",
       "        vertical-align: middle;\n",
       "    }\n",
       "\n",
       "    .dataframe tbody tr th {\n",
       "        vertical-align: top;\n",
       "    }\n",
       "\n",
       "    .dataframe thead th {\n",
       "        text-align: right;\n",
       "    }\n",
       "</style>\n",
       "<table border=\"1\" class=\"dataframe\">\n",
       "  <thead>\n",
       "    <tr style=\"text-align: right;\">\n",
       "      <th></th>\n",
       "      <th>customer_id_</th>\n",
       "      <th>account_id_</th>\n",
       "      <th>open_date_</th>\n",
       "      <th>original_principal_min</th>\n",
       "      <th>original_principal_max</th>\n",
       "      <th>original_principal_std</th>\n",
       "      <th>original_principal_max_minus_min</th>\n",
       "      <th>reporting_date_count</th>\n",
       "      <th>total_cust_exposure_min</th>\n",
       "      <th>total_cust_exposure_max</th>\n",
       "      <th>overdraft_min</th>\n",
       "      <th>overdraft_max</th>\n",
       "      <th>overdraft_size</th>\n",
       "      <th>overdraft_count0</th>\n",
       "      <th>overdraft_count1</th>\n",
       "      <th>overdraft_count2plus</th>\n",
       "      <th>consumer_loan_min</th>\n",
       "      <th>consumer_loan_max</th>\n",
       "      <th>consumer_loan_size</th>\n",
       "      <th>consumer_loan_count0</th>\n",
       "      <th>consumer_loan_count1</th>\n",
       "      <th>consumer_loan_count2plus</th>\n",
       "      <th>credit_card_min</th>\n",
       "      <th>credit_card_max</th>\n",
       "      <th>credit_card_size</th>\n",
       "      <th>credit_card_count0</th>\n",
       "      <th>credit_card_count1</th>\n",
       "      <th>credit_card_count2plus</th>\n",
       "      <th>customer_rating_min</th>\n",
       "      <th>customer_rating_max</th>\n",
       "      <th>customer_rating_modeX</th>\n",
       "      <th>maturity_date_min</th>\n",
       "      <th>maturity_date_max</th>\n",
       "      <th>maturity_date_max_minus_min</th>\n",
       "      <th>l_period_min</th>\n",
       "      <th>l_period_max</th>\n",
       "      <th>l_period_max_minus_min</th>\n",
       "      <th>interest_rate_min</th>\n",
       "      <th>interest_rate_max</th>\n",
       "      <th>interest_rate_max_minus_min</th>\n",
       "      <th>interest_rate_modeX</th>\n",
       "      <th>exp_monthly_payments_min</th>\n",
       "      <th>exp_monthly_payments_max</th>\n",
       "      <th>exp_monthly_payments_std</th>\n",
       "      <th>exp_monthly_payments_max_minus_min</th>\n",
       "      <th>current_principal_min</th>\n",
       "      <th>current_principal_max</th>\n",
       "      <th>current_principal_max_minus_min</th>\n",
       "      <th>interest_payment_min</th>\n",
       "      <th>interest_payment_max</th>\n",
       "      <th>interest_payment_max_minus_min</th>\n",
       "      <th>principal_payment_min</th>\n",
       "      <th>principal_payment_max</th>\n",
       "      <th>principal_payment_max_minus_min</th>\n",
       "      <th>deducted_principal_min</th>\n",
       "      <th>deducted_principal_max</th>\n",
       "      <th>deducted_principal_max_minus_min</th>\n",
       "      <th>deducted_vs_principal_payment_min</th>\n",
       "      <th>deducted_vs_principal_payment_max</th>\n",
       "      <th>deducted_vs_principal_payment_mean</th>\n",
       "      <th>deducted_vs_principal_payment_max_minus_min</th>\n",
       "      <th>principal_left_pctg_min</th>\n",
       "      <th>principal_left_pctg_max</th>\n",
       "      <th>principal_left_pctg_max_minus_min</th>\n",
       "      <th>prepayment_status_unique</th>\n",
       "    </tr>\n",
       "  </thead>\n",
       "  <tbody>\n",
       "    <tr>\n",
       "      <th>3</th>\n",
       "      <td>0x0003C2466FAE7F0BEA</td>\n",
       "      <td>0xAAD9093643AACB7C73D1DAB125D551FE</td>\n",
       "      <td>2018-05-08</td>\n",
       "      <td>93600</td>\n",
       "      <td>93600</td>\n",
       "      <td>0.0</td>\n",
       "      <td>0</td>\n",
       "      <td>44</td>\n",
       "      <td>87324</td>\n",
       "      <td>92598</td>\n",
       "      <td>0</td>\n",
       "      <td>0</td>\n",
       "      <td>44</td>\n",
       "      <td>44</td>\n",
       "      <td>0</td>\n",
       "      <td>0</td>\n",
       "      <td>0</td>\n",
       "      <td>0</td>\n",
       "      <td>44</td>\n",
       "      <td>44</td>\n",
       "      <td>0</td>\n",
       "      <td>0</td>\n",
       "      <td>0</td>\n",
       "      <td>0</td>\n",
       "      <td>44</td>\n",
       "      <td>44</td>\n",
       "      <td>0</td>\n",
       "      <td>0</td>\n",
       "      <td>3.0</td>\n",
       "      <td>6.5</td>\n",
       "      <td>3.5</td>\n",
       "      <td>2053-05-08</td>\n",
       "      <td>2053-05-08</td>\n",
       "      <td>0</td>\n",
       "      <td>35</td>\n",
       "      <td>35</td>\n",
       "      <td>0</td>\n",
       "      <td>3.35</td>\n",
       "      <td>3.35</td>\n",
       "      <td>0.00</td>\n",
       "      <td>3.35</td>\n",
       "      <td>378.749527</td>\n",
       "      <td>378.749527</td>\n",
       "      <td>0.000000</td>\n",
       "      <td>0.000000</td>\n",
       "      <td>87324</td>\n",
       "      <td>92598</td>\n",
       "      <td>5274</td>\n",
       "      <td>243.779500</td>\n",
       "      <td>258.50275</td>\n",
       "      <td>14.723250</td>\n",
       "      <td>120.246777</td>\n",
       "      <td>134.970027</td>\n",
       "      <td>14.723250</td>\n",
       "      <td>0.0</td>\n",
       "      <td>1002.0</td>\n",
       "      <td>1002.0</td>\n",
       "      <td>-133.096819</td>\n",
       "      <td>881.753223</td>\n",
       "      <td>15.045854</td>\n",
       "      <td>1014.850042</td>\n",
       "      <td>93.0</td>\n",
       "      <td>99.0</td>\n",
       "      <td>6.0</td>\n",
       "      <td>0</td>\n",
       "    </tr>\n",
       "    <tr>\n",
       "      <th>10</th>\n",
       "      <td>0x00125FAF68C8D3F3D9</td>\n",
       "      <td>0x5C4EBF7B50A9E689B2BF6005B71C9A06</td>\n",
       "      <td>2020-05-21</td>\n",
       "      <td>248932</td>\n",
       "      <td>248932</td>\n",
       "      <td>0.0</td>\n",
       "      <td>0</td>\n",
       "      <td>26</td>\n",
       "      <td>238298</td>\n",
       "      <td>248932</td>\n",
       "      <td>0</td>\n",
       "      <td>0</td>\n",
       "      <td>26</td>\n",
       "      <td>26</td>\n",
       "      <td>0</td>\n",
       "      <td>0</td>\n",
       "      <td>0</td>\n",
       "      <td>0</td>\n",
       "      <td>26</td>\n",
       "      <td>26</td>\n",
       "      <td>0</td>\n",
       "      <td>0</td>\n",
       "      <td>0</td>\n",
       "      <td>0</td>\n",
       "      <td>26</td>\n",
       "      <td>26</td>\n",
       "      <td>0</td>\n",
       "      <td>0</td>\n",
       "      <td>4.0</td>\n",
       "      <td>6.5</td>\n",
       "      <td>5.5</td>\n",
       "      <td>2050-05-21</td>\n",
       "      <td>2050-05-21</td>\n",
       "      <td>0</td>\n",
       "      <td>29</td>\n",
       "      <td>29</td>\n",
       "      <td>0</td>\n",
       "      <td>2.70</td>\n",
       "      <td>2.70</td>\n",
       "      <td>0.00</td>\n",
       "      <td>2.70</td>\n",
       "      <td>1032.313211</td>\n",
       "      <td>1032.313211</td>\n",
       "      <td>0.000000</td>\n",
       "      <td>0.000000</td>\n",
       "      <td>237821</td>\n",
       "      <td>248932</td>\n",
       "      <td>11111</td>\n",
       "      <td>535.097250</td>\n",
       "      <td>560.09700</td>\n",
       "      <td>24.999750</td>\n",
       "      <td>472.216211</td>\n",
       "      <td>497.215961</td>\n",
       "      <td>24.999750</td>\n",
       "      <td>0.0</td>\n",
       "      <td>513.0</td>\n",
       "      <td>513.0</td>\n",
       "      <td>-491.876711</td>\n",
       "      <td>39.629539</td>\n",
       "      <td>-57.586019</td>\n",
       "      <td>531.506250</td>\n",
       "      <td>96.0</td>\n",
       "      <td>100.0</td>\n",
       "      <td>4.0</td>\n",
       "      <td>0</td>\n",
       "    </tr>\n",
       "    <tr>\n",
       "      <th>22</th>\n",
       "      <td>0x0024F3E9CD460D6066</td>\n",
       "      <td>0x713FC219C7B70CC55B9E569EF5EC9D20</td>\n",
       "      <td>2008-05-17</td>\n",
       "      <td>109989</td>\n",
       "      <td>109989</td>\n",
       "      <td>0.0</td>\n",
       "      <td>0</td>\n",
       "      <td>44</td>\n",
       "      <td>48108</td>\n",
       "      <td>71947</td>\n",
       "      <td>0</td>\n",
       "      <td>0</td>\n",
       "      <td>44</td>\n",
       "      <td>44</td>\n",
       "      <td>0</td>\n",
       "      <td>0</td>\n",
       "      <td>0</td>\n",
       "      <td>0</td>\n",
       "      <td>44</td>\n",
       "      <td>44</td>\n",
       "      <td>0</td>\n",
       "      <td>0</td>\n",
       "      <td>0</td>\n",
       "      <td>0</td>\n",
       "      <td>44</td>\n",
       "      <td>44</td>\n",
       "      <td>0</td>\n",
       "      <td>0</td>\n",
       "      <td>4.0</td>\n",
       "      <td>5.5</td>\n",
       "      <td>5.5</td>\n",
       "      <td>2028-05-20</td>\n",
       "      <td>2028-05-20</td>\n",
       "      <td>0</td>\n",
       "      <td>20</td>\n",
       "      <td>20</td>\n",
       "      <td>0</td>\n",
       "      <td>3.30</td>\n",
       "      <td>3.30</td>\n",
       "      <td>0.00</td>\n",
       "      <td>3.30</td>\n",
       "      <td>626.646187</td>\n",
       "      <td>626.646187</td>\n",
       "      <td>0.000000</td>\n",
       "      <td>0.000000</td>\n",
       "      <td>47037</td>\n",
       "      <td>70491</td>\n",
       "      <td>23454</td>\n",
       "      <td>129.351750</td>\n",
       "      <td>193.85025</td>\n",
       "      <td>64.498500</td>\n",
       "      <td>432.795937</td>\n",
       "      <td>497.294437</td>\n",
       "      <td>64.498500</td>\n",
       "      <td>0.0</td>\n",
       "      <td>39498.0</td>\n",
       "      <td>39498.0</td>\n",
       "      <td>-489.198437</td>\n",
       "      <td>39065.204063</td>\n",
       "      <td>965.735273</td>\n",
       "      <td>39554.402500</td>\n",
       "      <td>43.0</td>\n",
       "      <td>64.0</td>\n",
       "      <td>21.0</td>\n",
       "      <td>0</td>\n",
       "    </tr>\n",
       "    <tr>\n",
       "      <th>24</th>\n",
       "      <td>0x002937887088673AA9</td>\n",
       "      <td>0x82B04D6BB0BC0D6CCD4058616725AE14</td>\n",
       "      <td>2015-08-12</td>\n",
       "      <td>138360</td>\n",
       "      <td>138360</td>\n",
       "      <td>0.0</td>\n",
       "      <td>0</td>\n",
       "      <td>44</td>\n",
       "      <td>87739</td>\n",
       "      <td>119162</td>\n",
       "      <td>0</td>\n",
       "      <td>0</td>\n",
       "      <td>44</td>\n",
       "      <td>44</td>\n",
       "      <td>0</td>\n",
       "      <td>0</td>\n",
       "      <td>0</td>\n",
       "      <td>0</td>\n",
       "      <td>44</td>\n",
       "      <td>44</td>\n",
       "      <td>0</td>\n",
       "      <td>0</td>\n",
       "      <td>0</td>\n",
       "      <td>0</td>\n",
       "      <td>44</td>\n",
       "      <td>44</td>\n",
       "      <td>0</td>\n",
       "      <td>0</td>\n",
       "      <td>3.0</td>\n",
       "      <td>3.5</td>\n",
       "      <td>3.5</td>\n",
       "      <td>2032-07-01</td>\n",
       "      <td>2040-10-01</td>\n",
       "      <td>3014</td>\n",
       "      <td>16</td>\n",
       "      <td>25</td>\n",
       "      <td>9</td>\n",
       "      <td>0.62</td>\n",
       "      <td>0.75</td>\n",
       "      <td>0.13</td>\n",
       "      <td>0.69</td>\n",
       "      <td>505.931570</td>\n",
       "      <td>764.951944</td>\n",
       "      <td>64.692929</td>\n",
       "      <td>259.020375</td>\n",
       "      <td>87739</td>\n",
       "      <td>117362</td>\n",
       "      <td>29623</td>\n",
       "      <td>45.331817</td>\n",
       "      <td>73.35125</td>\n",
       "      <td>28.019433</td>\n",
       "      <td>432.580320</td>\n",
       "      <td>711.813030</td>\n",
       "      <td>279.232711</td>\n",
       "      <td>0.0</td>\n",
       "      <td>20998.0</td>\n",
       "      <td>20998.0</td>\n",
       "      <td>-709.939597</td>\n",
       "      <td>20565.419680</td>\n",
       "      <td>465.494953</td>\n",
       "      <td>21275.359277</td>\n",
       "      <td>63.0</td>\n",
       "      <td>85.0</td>\n",
       "      <td>22.0</td>\n",
       "      <td>0</td>\n",
       "    </tr>\n",
       "    <tr>\n",
       "      <th>26</th>\n",
       "      <td>0x002D07CF22A514F2AD</td>\n",
       "      <td>0x073F819070144722BA71D17D05B8D80B</td>\n",
       "      <td>2021-07-22</td>\n",
       "      <td>252000</td>\n",
       "      <td>252000</td>\n",
       "      <td>0.0</td>\n",
       "      <td>0</td>\n",
       "      <td>13</td>\n",
       "      <td>247786</td>\n",
       "      <td>252000</td>\n",
       "      <td>0</td>\n",
       "      <td>1</td>\n",
       "      <td>13</td>\n",
       "      <td>8</td>\n",
       "      <td>5</td>\n",
       "      <td>0</td>\n",
       "      <td>0</td>\n",
       "      <td>0</td>\n",
       "      <td>13</td>\n",
       "      <td>13</td>\n",
       "      <td>0</td>\n",
       "      <td>0</td>\n",
       "      <td>0</td>\n",
       "      <td>0</td>\n",
       "      <td>13</td>\n",
       "      <td>13</td>\n",
       "      <td>0</td>\n",
       "      <td>0</td>\n",
       "      <td>2.9</td>\n",
       "      <td>5.9</td>\n",
       "      <td>5.9</td>\n",
       "      <td>2056-07-22</td>\n",
       "      <td>2056-07-22</td>\n",
       "      <td>0</td>\n",
       "      <td>35</td>\n",
       "      <td>35</td>\n",
       "      <td>0</td>\n",
       "      <td>2.59</td>\n",
       "      <td>2.59</td>\n",
       "      <td>0.00</td>\n",
       "      <td>2.59</td>\n",
       "      <td>913.089935</td>\n",
       "      <td>913.089935</td>\n",
       "      <td>0.000000</td>\n",
       "      <td>0.000000</td>\n",
       "      <td>247786</td>\n",
       "      <td>252000</td>\n",
       "      <td>4214</td>\n",
       "      <td>534.804783</td>\n",
       "      <td>543.90000</td>\n",
       "      <td>9.095217</td>\n",
       "      <td>369.189935</td>\n",
       "      <td>378.285151</td>\n",
       "      <td>9.095217</td>\n",
       "      <td>0.0</td>\n",
       "      <td>501.0</td>\n",
       "      <td>501.0</td>\n",
       "      <td>-374.216693</td>\n",
       "      <td>130.728740</td>\n",
       "      <td>-49.707884</td>\n",
       "      <td>504.945433</td>\n",
       "      <td>98.0</td>\n",
       "      <td>100.0</td>\n",
       "      <td>2.0</td>\n",
       "      <td>0</td>\n",
       "    </tr>\n",
       "  </tbody>\n",
       "</table>\n",
       "</div>"
      ],
      "text/plain": [
       "            customer_id_                         account_id_  open_date_  \\\n",
       "3   0x0003C2466FAE7F0BEA  0xAAD9093643AACB7C73D1DAB125D551FE  2018-05-08   \n",
       "10  0x00125FAF68C8D3F3D9  0x5C4EBF7B50A9E689B2BF6005B71C9A06  2020-05-21   \n",
       "22  0x0024F3E9CD460D6066  0x713FC219C7B70CC55B9E569EF5EC9D20  2008-05-17   \n",
       "24  0x002937887088673AA9  0x82B04D6BB0BC0D6CCD4058616725AE14  2015-08-12   \n",
       "26  0x002D07CF22A514F2AD  0x073F819070144722BA71D17D05B8D80B  2021-07-22   \n",
       "\n",
       "    original_principal_min  original_principal_max  original_principal_std  \\\n",
       "3                    93600                   93600                     0.0   \n",
       "10                  248932                  248932                     0.0   \n",
       "22                  109989                  109989                     0.0   \n",
       "24                  138360                  138360                     0.0   \n",
       "26                  252000                  252000                     0.0   \n",
       "\n",
       "    original_principal_max_minus_min  reporting_date_count  \\\n",
       "3                                  0                    44   \n",
       "10                                 0                    26   \n",
       "22                                 0                    44   \n",
       "24                                 0                    44   \n",
       "26                                 0                    13   \n",
       "\n",
       "    total_cust_exposure_min  total_cust_exposure_max  overdraft_min  \\\n",
       "3                     87324                    92598              0   \n",
       "10                   238298                   248932              0   \n",
       "22                    48108                    71947              0   \n",
       "24                    87739                   119162              0   \n",
       "26                   247786                   252000              0   \n",
       "\n",
       "    overdraft_max  overdraft_size  overdraft_count0  overdraft_count1  \\\n",
       "3               0              44                44                 0   \n",
       "10              0              26                26                 0   \n",
       "22              0              44                44                 0   \n",
       "24              0              44                44                 0   \n",
       "26              1              13                 8                 5   \n",
       "\n",
       "    overdraft_count2plus  consumer_loan_min  consumer_loan_max  \\\n",
       "3                      0                  0                  0   \n",
       "10                     0                  0                  0   \n",
       "22                     0                  0                  0   \n",
       "24                     0                  0                  0   \n",
       "26                     0                  0                  0   \n",
       "\n",
       "    consumer_loan_size  consumer_loan_count0  consumer_loan_count1  \\\n",
       "3                   44                    44                     0   \n",
       "10                  26                    26                     0   \n",
       "22                  44                    44                     0   \n",
       "24                  44                    44                     0   \n",
       "26                  13                    13                     0   \n",
       "\n",
       "    consumer_loan_count2plus  credit_card_min  credit_card_max  \\\n",
       "3                          0                0                0   \n",
       "10                         0                0                0   \n",
       "22                         0                0                0   \n",
       "24                         0                0                0   \n",
       "26                         0                0                0   \n",
       "\n",
       "    credit_card_size  credit_card_count0  credit_card_count1  \\\n",
       "3                 44                  44                   0   \n",
       "10                26                  26                   0   \n",
       "22                44                  44                   0   \n",
       "24                44                  44                   0   \n",
       "26                13                  13                   0   \n",
       "\n",
       "    credit_card_count2plus  customer_rating_min  customer_rating_max  \\\n",
       "3                        0                  3.0                  6.5   \n",
       "10                       0                  4.0                  6.5   \n",
       "22                       0                  4.0                  5.5   \n",
       "24                       0                  3.0                  3.5   \n",
       "26                       0                  2.9                  5.9   \n",
       "\n",
       "    customer_rating_modeX maturity_date_min maturity_date_max  \\\n",
       "3                     3.5        2053-05-08        2053-05-08   \n",
       "10                    5.5        2050-05-21        2050-05-21   \n",
       "22                    5.5        2028-05-20        2028-05-20   \n",
       "24                    3.5        2032-07-01        2040-10-01   \n",
       "26                    5.9        2056-07-22        2056-07-22   \n",
       "\n",
       "    maturity_date_max_minus_min  l_period_min  l_period_max  \\\n",
       "3                             0            35            35   \n",
       "10                            0            29            29   \n",
       "22                            0            20            20   \n",
       "24                         3014            16            25   \n",
       "26                            0            35            35   \n",
       "\n",
       "    l_period_max_minus_min  interest_rate_min  interest_rate_max  \\\n",
       "3                        0               3.35               3.35   \n",
       "10                       0               2.70               2.70   \n",
       "22                       0               3.30               3.30   \n",
       "24                       9               0.62               0.75   \n",
       "26                       0               2.59               2.59   \n",
       "\n",
       "    interest_rate_max_minus_min  interest_rate_modeX  \\\n",
       "3                          0.00                 3.35   \n",
       "10                         0.00                 2.70   \n",
       "22                         0.00                 3.30   \n",
       "24                         0.13                 0.69   \n",
       "26                         0.00                 2.59   \n",
       "\n",
       "    exp_monthly_payments_min  exp_monthly_payments_max  \\\n",
       "3                 378.749527                378.749527   \n",
       "10               1032.313211               1032.313211   \n",
       "22                626.646187                626.646187   \n",
       "24                505.931570                764.951944   \n",
       "26                913.089935                913.089935   \n",
       "\n",
       "    exp_monthly_payments_std  exp_monthly_payments_max_minus_min  \\\n",
       "3                   0.000000                            0.000000   \n",
       "10                  0.000000                            0.000000   \n",
       "22                  0.000000                            0.000000   \n",
       "24                 64.692929                          259.020375   \n",
       "26                  0.000000                            0.000000   \n",
       "\n",
       "    current_principal_min  current_principal_max  \\\n",
       "3                   87324                  92598   \n",
       "10                 237821                 248932   \n",
       "22                  47037                  70491   \n",
       "24                  87739                 117362   \n",
       "26                 247786                 252000   \n",
       "\n",
       "    current_principal_max_minus_min  interest_payment_min  \\\n",
       "3                              5274            243.779500   \n",
       "10                            11111            535.097250   \n",
       "22                            23454            129.351750   \n",
       "24                            29623             45.331817   \n",
       "26                             4214            534.804783   \n",
       "\n",
       "    interest_payment_max  interest_payment_max_minus_min  \\\n",
       "3              258.50275                       14.723250   \n",
       "10             560.09700                       24.999750   \n",
       "22             193.85025                       64.498500   \n",
       "24              73.35125                       28.019433   \n",
       "26             543.90000                        9.095217   \n",
       "\n",
       "    principal_payment_min  principal_payment_max  \\\n",
       "3              120.246777             134.970027   \n",
       "10             472.216211             497.215961   \n",
       "22             432.795937             497.294437   \n",
       "24             432.580320             711.813030   \n",
       "26             369.189935             378.285151   \n",
       "\n",
       "    principal_payment_max_minus_min  deducted_principal_min  \\\n",
       "3                         14.723250                     0.0   \n",
       "10                        24.999750                     0.0   \n",
       "22                        64.498500                     0.0   \n",
       "24                       279.232711                     0.0   \n",
       "26                         9.095217                     0.0   \n",
       "\n",
       "    deducted_principal_max  deducted_principal_max_minus_min  \\\n",
       "3                   1002.0                            1002.0   \n",
       "10                   513.0                             513.0   \n",
       "22                 39498.0                           39498.0   \n",
       "24                 20998.0                           20998.0   \n",
       "26                   501.0                             501.0   \n",
       "\n",
       "    deducted_vs_principal_payment_min  deducted_vs_principal_payment_max  \\\n",
       "3                         -133.096819                         881.753223   \n",
       "10                        -491.876711                          39.629539   \n",
       "22                        -489.198437                       39065.204063   \n",
       "24                        -709.939597                       20565.419680   \n",
       "26                        -374.216693                         130.728740   \n",
       "\n",
       "    deducted_vs_principal_payment_mean  \\\n",
       "3                            15.045854   \n",
       "10                          -57.586019   \n",
       "22                          965.735273   \n",
       "24                          465.494953   \n",
       "26                          -49.707884   \n",
       "\n",
       "    deducted_vs_principal_payment_max_minus_min  principal_left_pctg_min  \\\n",
       "3                                   1014.850042                     93.0   \n",
       "10                                   531.506250                     96.0   \n",
       "22                                 39554.402500                     43.0   \n",
       "24                                 21275.359277                     63.0   \n",
       "26                                   504.945433                     98.0   \n",
       "\n",
       "    principal_left_pctg_max  principal_left_pctg_max_minus_min  \\\n",
       "3                      99.0                                6.0   \n",
       "10                    100.0                                4.0   \n",
       "22                     64.0                               21.0   \n",
       "24                     85.0                               22.0   \n",
       "26                    100.0                                2.0   \n",
       "\n",
       "    prepayment_status_unique  \n",
       "3                          0  \n",
       "10                         0  \n",
       "22                         0  \n",
       "24                         0  \n",
       "26                         0  "
      ]
     },
     "execution_count": 280,
     "metadata": {},
     "output_type": "execute_result"
    }
   ],
   "source": [
    "test_data.head()"
   ]
  },
  {
   "cell_type": "code",
   "execution_count": 281,
   "id": "3be78d4a",
   "metadata": {
    "ExecuteTime": {
     "end_time": "2022-08-31T17:34:07.664834Z",
     "start_time": "2022-08-31T17:34:07.650833Z"
    },
    "scrolled": true
   },
   "outputs": [
    {
     "data": {
      "text/plain": [
       "(11802, 65)"
      ]
     },
     "execution_count": 281,
     "metadata": {},
     "output_type": "execute_result"
    }
   ],
   "source": [
    "test_data.shape"
   ]
  },
  {
   "cell_type": "code",
   "execution_count": null,
   "id": "3c40fa94",
   "metadata": {},
   "outputs": [],
   "source": []
  },
  {
   "cell_type": "code",
   "execution_count": 282,
   "id": "912eb99d",
   "metadata": {
    "ExecuteTime": {
     "end_time": "2022-08-31T17:34:07.696833Z",
     "start_time": "2022-08-31T17:34:07.665835Z"
    }
   },
   "outputs": [
    {
     "name": "stdout",
     "output_type": "stream",
     "text": [
      "<class 'pandas.core.frame.DataFrame'>\n",
      "Int64Index: 27537 entries, 0 to 39338\n",
      "Data columns (total 64 columns):\n",
      " #   Column                                       Non-Null Count  Dtype  \n",
      "---  ------                                       --------------  -----  \n",
      " 0   customer_id_                                 27537 non-null  object \n",
      " 1   account_id_                                  27537 non-null  object \n",
      " 2   open_date_                                   27537 non-null  object \n",
      " 3   original_principal_min                       27537 non-null  int64  \n",
      " 4   original_principal_max                       27537 non-null  int64  \n",
      " 5   original_principal_std                       27537 non-null  float64\n",
      " 6   original_principal_max_minus_min             27537 non-null  int64  \n",
      " 7   reporting_date_count                         27537 non-null  int64  \n",
      " 8   total_cust_exposure_min                      27537 non-null  int64  \n",
      " 9   total_cust_exposure_max                      27537 non-null  int64  \n",
      " 10  overdraft_min                                27537 non-null  int64  \n",
      " 11  overdraft_max                                27537 non-null  int64  \n",
      " 12  overdraft_size                               27537 non-null  int64  \n",
      " 13  overdraft_count0                             27537 non-null  int64  \n",
      " 14  overdraft_count1                             27537 non-null  int64  \n",
      " 15  overdraft_count2plus                         27537 non-null  int64  \n",
      " 16  consumer_loan_min                            27537 non-null  int64  \n",
      " 17  consumer_loan_max                            27537 non-null  int64  \n",
      " 18  consumer_loan_size                           27537 non-null  int64  \n",
      " 19  consumer_loan_count0                         27537 non-null  int64  \n",
      " 20  consumer_loan_count1                         27537 non-null  int64  \n",
      " 21  consumer_loan_count2plus                     27537 non-null  int64  \n",
      " 22  credit_card_min                              27537 non-null  int64  \n",
      " 23  credit_card_max                              27537 non-null  int64  \n",
      " 24  credit_card_size                             27537 non-null  int64  \n",
      " 25  credit_card_count0                           27537 non-null  int64  \n",
      " 26  credit_card_count1                           27537 non-null  int64  \n",
      " 27  credit_card_count2plus                       27537 non-null  int64  \n",
      " 28  customer_rating_min                          27537 non-null  float64\n",
      " 29  customer_rating_max                          27537 non-null  float64\n",
      " 30  customer_rating_modeX                        27537 non-null  float64\n",
      " 31  maturity_date_min                            27537 non-null  object \n",
      " 32  maturity_date_max                            27537 non-null  object \n",
      " 33  maturity_date_max_minus_min                  27537 non-null  int64  \n",
      " 34  l_period_min                                 27537 non-null  int64  \n",
      " 35  l_period_max                                 27537 non-null  int64  \n",
      " 36  l_period_max_minus_min                       27537 non-null  int64  \n",
      " 37  interest_rate_min                            27537 non-null  float64\n",
      " 38  interest_rate_max                            27537 non-null  float64\n",
      " 39  interest_rate_max_minus_min                  27537 non-null  float64\n",
      " 40  interest_rate_modeX                          27537 non-null  float64\n",
      " 41  exp_monthly_payments_min                     27537 non-null  float64\n",
      " 42  exp_monthly_payments_max                     27537 non-null  float64\n",
      " 43  exp_monthly_payments_std                     27537 non-null  float64\n",
      " 44  exp_monthly_payments_max_minus_min           27537 non-null  float64\n",
      " 45  current_principal_min                        27537 non-null  int64  \n",
      " 46  current_principal_max                        27537 non-null  int64  \n",
      " 47  current_principal_max_minus_min              27537 non-null  int64  \n",
      " 48  interest_payment_min                         27537 non-null  float64\n",
      " 49  interest_payment_max                         27537 non-null  float64\n",
      " 50  interest_payment_max_minus_min               27537 non-null  float64\n",
      " 51  principal_payment_min                        27537 non-null  float64\n",
      " 52  principal_payment_max                        27537 non-null  float64\n",
      " 53  principal_payment_max_minus_min              27537 non-null  float64\n",
      " 54  deducted_principal_min                       27537 non-null  float64\n",
      " 55  deducted_principal_max                       27537 non-null  float64\n",
      " 56  deducted_principal_max_minus_min             27537 non-null  float64\n",
      " 57  deducted_vs_principal_payment_min            27537 non-null  float64\n",
      " 58  deducted_vs_principal_payment_max            27537 non-null  float64\n",
      " 59  deducted_vs_principal_payment_mean           27537 non-null  float64\n",
      " 60  deducted_vs_principal_payment_max_minus_min  27537 non-null  float64\n",
      " 61  principal_left_pctg_min                      27537 non-null  float64\n",
      " 62  principal_left_pctg_max                      27537 non-null  float64\n",
      " 63  principal_left_pctg_max_minus_min            27537 non-null  float64\n",
      "dtypes: float64(28), int64(31), object(5)\n",
      "memory usage: 13.7+ MB\n"
     ]
    }
   ],
   "source": [
    "X_train.info()"
   ]
  },
  {
   "cell_type": "markdown",
   "id": "9045e7eb",
   "metadata": {},
   "source": [
    "## Feature Selection"
   ]
  },
  {
   "cell_type": "code",
   "execution_count": 283,
   "id": "03af95e1",
   "metadata": {
    "ExecuteTime": {
     "end_time": "2022-08-31T17:34:07.712833Z",
     "start_time": "2022-08-31T17:34:07.697833Z"
    }
   },
   "outputs": [],
   "source": [
    "features_selected = [col for col in X_train.columns if col not in [\"customer_id_\", \n",
    "                                                                   \"account_id_\", \n",
    "                                                                   \"open_date_\", \n",
    "                                                                   \"maturity_date_min\", \n",
    "                                                                   \"maturity_date_max\"]]"
   ]
  },
  {
   "cell_type": "code",
   "execution_count": 284,
   "id": "43751b6b",
   "metadata": {
    "ExecuteTime": {
     "end_time": "2022-08-31T17:34:07.728835Z",
     "start_time": "2022-08-31T17:34:07.714835Z"
    }
   },
   "outputs": [],
   "source": [
    "X_train_fs, X_test_fs = X_train[features_selected], X_test[features_selected]"
   ]
  },
  {
   "cell_type": "markdown",
   "id": "1e2348b2",
   "metadata": {},
   "source": [
    "## Standardize features"
   ]
  },
  {
   "cell_type": "code",
   "execution_count": 285,
   "id": "6b29d38d",
   "metadata": {
    "ExecuteTime": {
     "end_time": "2022-08-31T17:34:07.744833Z",
     "start_time": "2022-08-31T17:34:07.730834Z"
    }
   },
   "outputs": [
    {
     "data": {
      "text/plain": [
       "0.000000      20166\n",
       "3.269785          2\n",
       "0.492068          2\n",
       "55.703058         2\n",
       "20.079476         1\n",
       "              ...  \n",
       "153.097904        1\n",
       "59.494099         1\n",
       "52.605069         1\n",
       "10.806798         1\n",
       "22.397064         1\n",
       "Name: exp_monthly_payments_std, Length: 7369, dtype: int64"
      ]
     },
     "execution_count": 285,
     "metadata": {},
     "output_type": "execute_result"
    }
   ],
   "source": [
    "X_train_fs[\"exp_monthly_payments_std\"].value_counts()"
   ]
  },
  {
   "cell_type": "code",
   "execution_count": 286,
   "id": "d1420135",
   "metadata": {
    "ExecuteTime": {
     "end_time": "2022-08-31T17:34:07.760833Z",
     "start_time": "2022-08-31T17:34:07.746834Z"
    }
   },
   "outputs": [
    {
     "name": "stdout",
     "output_type": "stream",
     "text": [
      "<class 'pandas.core.frame.DataFrame'>\n",
      "Int64Index: 27537 entries, 0 to 39338\n",
      "Data columns (total 59 columns):\n",
      " #   Column                                       Non-Null Count  Dtype  \n",
      "---  ------                                       --------------  -----  \n",
      " 0   original_principal_min                       27537 non-null  int64  \n",
      " 1   original_principal_max                       27537 non-null  int64  \n",
      " 2   original_principal_std                       27537 non-null  float64\n",
      " 3   original_principal_max_minus_min             27537 non-null  int64  \n",
      " 4   reporting_date_count                         27537 non-null  int64  \n",
      " 5   total_cust_exposure_min                      27537 non-null  int64  \n",
      " 6   total_cust_exposure_max                      27537 non-null  int64  \n",
      " 7   overdraft_min                                27537 non-null  int64  \n",
      " 8   overdraft_max                                27537 non-null  int64  \n",
      " 9   overdraft_size                               27537 non-null  int64  \n",
      " 10  overdraft_count0                             27537 non-null  int64  \n",
      " 11  overdraft_count1                             27537 non-null  int64  \n",
      " 12  overdraft_count2plus                         27537 non-null  int64  \n",
      " 13  consumer_loan_min                            27537 non-null  int64  \n",
      " 14  consumer_loan_max                            27537 non-null  int64  \n",
      " 15  consumer_loan_size                           27537 non-null  int64  \n",
      " 16  consumer_loan_count0                         27537 non-null  int64  \n",
      " 17  consumer_loan_count1                         27537 non-null  int64  \n",
      " 18  consumer_loan_count2plus                     27537 non-null  int64  \n",
      " 19  credit_card_min                              27537 non-null  int64  \n",
      " 20  credit_card_max                              27537 non-null  int64  \n",
      " 21  credit_card_size                             27537 non-null  int64  \n",
      " 22  credit_card_count0                           27537 non-null  int64  \n",
      " 23  credit_card_count1                           27537 non-null  int64  \n",
      " 24  credit_card_count2plus                       27537 non-null  int64  \n",
      " 25  customer_rating_min                          27537 non-null  float64\n",
      " 26  customer_rating_max                          27537 non-null  float64\n",
      " 27  customer_rating_modeX                        27537 non-null  float64\n",
      " 28  maturity_date_max_minus_min                  27537 non-null  int64  \n",
      " 29  l_period_min                                 27537 non-null  int64  \n",
      " 30  l_period_max                                 27537 non-null  int64  \n",
      " 31  l_period_max_minus_min                       27537 non-null  int64  \n",
      " 32  interest_rate_min                            27537 non-null  float64\n",
      " 33  interest_rate_max                            27537 non-null  float64\n",
      " 34  interest_rate_max_minus_min                  27537 non-null  float64\n",
      " 35  interest_rate_modeX                          27537 non-null  float64\n",
      " 36  exp_monthly_payments_min                     27537 non-null  float64\n",
      " 37  exp_monthly_payments_max                     27537 non-null  float64\n",
      " 38  exp_monthly_payments_std                     27537 non-null  float64\n",
      " 39  exp_monthly_payments_max_minus_min           27537 non-null  float64\n",
      " 40  current_principal_min                        27537 non-null  int64  \n",
      " 41  current_principal_max                        27537 non-null  int64  \n",
      " 42  current_principal_max_minus_min              27537 non-null  int64  \n",
      " 43  interest_payment_min                         27537 non-null  float64\n",
      " 44  interest_payment_max                         27537 non-null  float64\n",
      " 45  interest_payment_max_minus_min               27537 non-null  float64\n",
      " 46  principal_payment_min                        27537 non-null  float64\n",
      " 47  principal_payment_max                        27537 non-null  float64\n",
      " 48  principal_payment_max_minus_min              27537 non-null  float64\n",
      " 49  deducted_principal_min                       27537 non-null  float64\n",
      " 50  deducted_principal_max                       27537 non-null  float64\n",
      " 51  deducted_principal_max_minus_min             27537 non-null  float64\n",
      " 52  deducted_vs_principal_payment_min            27537 non-null  float64\n",
      " 53  deducted_vs_principal_payment_max            27537 non-null  float64\n",
      " 54  deducted_vs_principal_payment_mean           27537 non-null  float64\n",
      " 55  deducted_vs_principal_payment_max_minus_min  27537 non-null  float64\n",
      " 56  principal_left_pctg_min                      27537 non-null  float64\n",
      " 57  principal_left_pctg_max                      27537 non-null  float64\n",
      " 58  principal_left_pctg_max_minus_min            27537 non-null  float64\n",
      "dtypes: float64(28), int64(31)\n",
      "memory usage: 12.6 MB\n"
     ]
    }
   ],
   "source": [
    "X_train_fs.info()"
   ]
  },
  {
   "cell_type": "code",
   "execution_count": 287,
   "id": "deb37512",
   "metadata": {
    "ExecuteTime": {
     "end_time": "2022-08-31T17:34:07.776834Z",
     "start_time": "2022-08-31T17:34:07.761833Z"
    }
   },
   "outputs": [
    {
     "data": {
      "text/html": [
       "<div>\n",
       "<style scoped>\n",
       "    .dataframe tbody tr th:only-of-type {\n",
       "        vertical-align: middle;\n",
       "    }\n",
       "\n",
       "    .dataframe tbody tr th {\n",
       "        vertical-align: top;\n",
       "    }\n",
       "\n",
       "    .dataframe thead th {\n",
       "        text-align: right;\n",
       "    }\n",
       "</style>\n",
       "<table border=\"1\" class=\"dataframe\">\n",
       "  <thead>\n",
       "    <tr style=\"text-align: right;\">\n",
       "      <th></th>\n",
       "      <th>original_principal_min</th>\n",
       "      <th>original_principal_max</th>\n",
       "      <th>original_principal_std</th>\n",
       "      <th>original_principal_max_minus_min</th>\n",
       "      <th>reporting_date_count</th>\n",
       "      <th>total_cust_exposure_min</th>\n",
       "      <th>total_cust_exposure_max</th>\n",
       "      <th>overdraft_min</th>\n",
       "      <th>overdraft_max</th>\n",
       "      <th>overdraft_size</th>\n",
       "      <th>overdraft_count0</th>\n",
       "      <th>overdraft_count1</th>\n",
       "      <th>overdraft_count2plus</th>\n",
       "      <th>consumer_loan_min</th>\n",
       "      <th>consumer_loan_max</th>\n",
       "      <th>consumer_loan_size</th>\n",
       "      <th>consumer_loan_count0</th>\n",
       "      <th>consumer_loan_count1</th>\n",
       "      <th>consumer_loan_count2plus</th>\n",
       "      <th>credit_card_min</th>\n",
       "      <th>credit_card_max</th>\n",
       "      <th>credit_card_size</th>\n",
       "      <th>credit_card_count0</th>\n",
       "      <th>credit_card_count1</th>\n",
       "      <th>credit_card_count2plus</th>\n",
       "      <th>customer_rating_min</th>\n",
       "      <th>customer_rating_max</th>\n",
       "      <th>customer_rating_modeX</th>\n",
       "      <th>maturity_date_max_minus_min</th>\n",
       "      <th>l_period_min</th>\n",
       "      <th>l_period_max</th>\n",
       "      <th>l_period_max_minus_min</th>\n",
       "      <th>interest_rate_min</th>\n",
       "      <th>interest_rate_max</th>\n",
       "      <th>interest_rate_max_minus_min</th>\n",
       "      <th>interest_rate_modeX</th>\n",
       "      <th>exp_monthly_payments_min</th>\n",
       "      <th>exp_monthly_payments_max</th>\n",
       "      <th>exp_monthly_payments_std</th>\n",
       "      <th>exp_monthly_payments_max_minus_min</th>\n",
       "      <th>current_principal_min</th>\n",
       "      <th>current_principal_max</th>\n",
       "      <th>current_principal_max_minus_min</th>\n",
       "      <th>interest_payment_min</th>\n",
       "      <th>interest_payment_max</th>\n",
       "      <th>interest_payment_max_minus_min</th>\n",
       "      <th>principal_payment_min</th>\n",
       "      <th>principal_payment_max</th>\n",
       "      <th>principal_payment_max_minus_min</th>\n",
       "      <th>deducted_principal_min</th>\n",
       "      <th>deducted_principal_max</th>\n",
       "      <th>deducted_principal_max_minus_min</th>\n",
       "      <th>deducted_vs_principal_payment_min</th>\n",
       "      <th>deducted_vs_principal_payment_max</th>\n",
       "      <th>deducted_vs_principal_payment_mean</th>\n",
       "      <th>deducted_vs_principal_payment_max_minus_min</th>\n",
       "      <th>principal_left_pctg_min</th>\n",
       "      <th>principal_left_pctg_max</th>\n",
       "      <th>principal_left_pctg_max_minus_min</th>\n",
       "    </tr>\n",
       "  </thead>\n",
       "  <tbody>\n",
       "  </tbody>\n",
       "</table>\n",
       "</div>"
      ],
      "text/plain": [
       "Empty DataFrame\n",
       "Columns: [original_principal_min, original_principal_max, original_principal_std, original_principal_max_minus_min, reporting_date_count, total_cust_exposure_min, total_cust_exposure_max, overdraft_min, overdraft_max, overdraft_size, overdraft_count0, overdraft_count1, overdraft_count2plus, consumer_loan_min, consumer_loan_max, consumer_loan_size, consumer_loan_count0, consumer_loan_count1, consumer_loan_count2plus, credit_card_min, credit_card_max, credit_card_size, credit_card_count0, credit_card_count1, credit_card_count2plus, customer_rating_min, customer_rating_max, customer_rating_modeX, maturity_date_max_minus_min, l_period_min, l_period_max, l_period_max_minus_min, interest_rate_min, interest_rate_max, interest_rate_max_minus_min, interest_rate_modeX, exp_monthly_payments_min, exp_monthly_payments_max, exp_monthly_payments_std, exp_monthly_payments_max_minus_min, current_principal_min, current_principal_max, current_principal_max_minus_min, interest_payment_min, interest_payment_max, interest_payment_max_minus_min, principal_payment_min, principal_payment_max, principal_payment_max_minus_min, deducted_principal_min, deducted_principal_max, deducted_principal_max_minus_min, deducted_vs_principal_payment_min, deducted_vs_principal_payment_max, deducted_vs_principal_payment_mean, deducted_vs_principal_payment_max_minus_min, principal_left_pctg_min, principal_left_pctg_max, principal_left_pctg_max_minus_min]\n",
       "Index: []"
      ]
     },
     "execution_count": 287,
     "metadata": {},
     "output_type": "execute_result"
    }
   ],
   "source": [
    "# X_train_fs.loc[X_train_fs.isnull().any(axis=1)]"
   ]
  },
  {
   "cell_type": "code",
   "execution_count": 288,
   "id": "e3e0a363",
   "metadata": {
    "ExecuteTime": {
     "end_time": "2022-08-31T17:34:07.792835Z",
     "start_time": "2022-08-31T17:34:07.778833Z"
    }
   },
   "outputs": [
    {
     "data": {
      "text/plain": [
       "(0, 59)"
      ]
     },
     "execution_count": 288,
     "metadata": {},
     "output_type": "execute_result"
    }
   ],
   "source": [
    "# X_train_fs.loc[X_train_fs.isnull().any(axis=1)].shape"
   ]
  },
  {
   "cell_type": "code",
   "execution_count": 292,
   "id": "f5d536c3",
   "metadata": {
    "ExecuteTime": {
     "end_time": "2022-08-31T17:34:23.580801Z",
     "start_time": "2022-08-31T17:34:23.542533Z"
    }
   },
   "outputs": [],
   "source": [
    "scaler = StandardScaler()\n",
    "\n",
    "X_train_sc = scaler.fit_transform(X_train_fs)\n",
    "X_train_scaled = pd.DataFrame(data=X_train_sc, columns=features_selected)\n",
    "y_train_values = y_train.values.ravel()"
   ]
  },
  {
   "cell_type": "code",
   "execution_count": 330,
   "id": "307d3157",
   "metadata": {
    "ExecuteTime": {
     "end_time": "2022-08-31T18:04:44.103522Z",
     "start_time": "2022-08-31T18:04:44.091497Z"
    }
   },
   "outputs": [
    {
     "data": {
      "text/plain": [
       "0    22489\n",
       "1     5048\n",
       "Name: prepayment_status_unique, dtype: int64"
      ]
     },
     "execution_count": 330,
     "metadata": {},
     "output_type": "execute_result"
    }
   ],
   "source": [
    "y_train.value_counts()"
   ]
  },
  {
   "cell_type": "code",
   "execution_count": 331,
   "id": "ccc884c0",
   "metadata": {
    "ExecuteTime": {
     "end_time": "2022-08-31T18:04:57.975212Z",
     "start_time": "2022-08-31T18:04:57.968210Z"
    }
   },
   "outputs": [
    {
     "data": {
      "text/plain": [
       "0    9638\n",
       "1    2164\n",
       "Name: prepayment_status_unique, dtype: int64"
      ]
     },
     "execution_count": 331,
     "metadata": {},
     "output_type": "execute_result"
    }
   ],
   "source": [
    "y_test.value_counts()"
   ]
  },
  {
   "cell_type": "code",
   "execution_count": 332,
   "id": "41dab48e",
   "metadata": {
    "ExecuteTime": {
     "end_time": "2022-08-31T18:05:41.889018Z",
     "start_time": "2022-08-31T18:05:41.880505Z"
    }
   },
   "outputs": [
    {
     "data": {
      "text/plain": [
       "0.18335875275377056"
      ]
     },
     "execution_count": 332,
     "metadata": {},
     "output_type": "execute_result"
    }
   ],
   "source": [
    "2164 / (2164 + 9638)"
   ]
  },
  {
   "cell_type": "code",
   "execution_count": 333,
   "id": "6ecfd2f8",
   "metadata": {
    "ExecuteTime": {
     "end_time": "2022-08-31T18:05:51.416942Z",
     "start_time": "2022-08-31T18:05:51.411941Z"
    }
   },
   "outputs": [
    {
     "data": {
      "text/plain": [
       "0.8166412472462294"
      ]
     },
     "execution_count": 333,
     "metadata": {},
     "output_type": "execute_result"
    }
   ],
   "source": [
    "1 - 0.18335875275377056"
   ]
  },
  {
   "cell_type": "markdown",
   "id": "53a48d9e",
   "metadata": {},
   "source": [
    "## Modeling"
   ]
  },
  {
   "cell_type": "code",
   "execution_count": 318,
   "id": "96970beb",
   "metadata": {
    "ExecuteTime": {
     "end_time": "2022-08-31T17:56:28.562478Z",
     "start_time": "2022-08-31T17:56:28.549448Z"
    }
   },
   "outputs": [],
   "source": [
    "# sgd_clf = SGDClassifier(loss=\"log\", max_iter=1000, tol=-np.infty, random_state=24)\n",
    "log_reg_clf = LogisticRegression(max_iter=10000000000)\n",
    "forest_clf = RandomForestClassifier(n_estimators=10, random_state=24)\n",
    "# gr_boost_clf = GradientBoostingClassifier()\n",
    "xgb_clf = XGBClassifier()\n",
    "# lgbm_clf = LGBMClassifier()"
   ]
  },
  {
   "cell_type": "code",
   "execution_count": 319,
   "id": "5fba134d",
   "metadata": {
    "ExecuteTime": {
     "end_time": "2022-08-31T17:56:28.798508Z",
     "start_time": "2022-08-31T17:56:28.784482Z"
    }
   },
   "outputs": [],
   "source": [
    "def select_model(model, X, y, predict_proba=False):\n",
    "    \n",
    "    model.fit(X, y)\n",
    "    model_score = cross_val_score(model, X, y, cv=5, scoring=\"accuracy\")\n",
    "    \n",
    "    y_model_predict = cross_val_predict(model, X, y, cv=5)\n",
    "    \n",
    "    if predict_proba:\n",
    "        y_probas = cross_val_predict(model, X, y, cv=5,\n",
    "                             method=\"predict_proba\")\n",
    "        y_scores = y_probas[:, 1]\n",
    "    else:\n",
    "        y_scores = cross_val_predict(model, X, y, cv=5,\n",
    "                             method=\"decision_function\")\n",
    "    \n",
    "    \n",
    "    conf_matrix = confusion_matrix(y, y_model_predict)\n",
    "    precision_sc = precision_score(y, y_model_predict)\n",
    "    recall_sc = recall_score(y, y_model_predict)\n",
    "    f1_sc = f1_score(y, y_model_predict)\n",
    "    \n",
    "    \n",
    "    print(f\" Results for the {model} are:\")\n",
    "    print()\n",
    "    print(f\" Accuracy score: {model_score.mean()}\")\n",
    "    print()\n",
    "    print(f\" Confusion matrix: \\n {conf_matrix}\")\n",
    "    print()\n",
    "    print(f\" Precision: {precision_sc}\")\n",
    "    print(f\" Recall: {recall_sc}\")\n",
    "    print(f\" F1 score: {f1_sc}\")\n",
    "    \n",
    "    return y_scores, y_model_predict"
   ]
  },
  {
   "cell_type": "code",
   "execution_count": 320,
   "id": "f0ab0f6e",
   "metadata": {
    "ExecuteTime": {
     "end_time": "2022-08-31T17:56:35.779200Z",
     "start_time": "2022-08-31T17:56:29.001511Z"
    }
   },
   "outputs": [
    {
     "name": "stdout",
     "output_type": "stream",
     "text": [
      " Results for the LogisticRegression(max_iter=10000000000) are:\n",
      "\n",
      " Accuracy score: 0.8621854155647153\n",
      "\n",
      " Confusion matrix: \n",
      " [[21771   718]\n",
      " [ 3077  1971]]\n",
      "\n",
      " Precision: 0.7329862402380067\n",
      " Recall: 0.3904516640253566\n",
      " F1 score: 0.5094998061264057\n"
     ]
    }
   ],
   "source": [
    "y_scores_log_reg, y_predict_log_reg = select_model(log_reg_clf, X_train_scaled, y_train_values)\n"
   ]
  },
  {
   "cell_type": "code",
   "execution_count": null,
   "id": "d8c001ec",
   "metadata": {},
   "outputs": [],
   "source": []
  },
  {
   "cell_type": "code",
   "execution_count": 321,
   "id": "7162f04a",
   "metadata": {
    "ExecuteTime": {
     "end_time": "2022-08-31T17:56:42.187762Z",
     "start_time": "2022-08-31T17:56:35.987201Z"
    }
   },
   "outputs": [
    {
     "name": "stdout",
     "output_type": "stream",
     "text": [
      " Results for the RandomForestClassifier(n_estimators=10, random_state=24) are:\n",
      "\n",
      " Accuracy score: 0.9737444084830834\n",
      "\n",
      " Confusion matrix: \n",
      " [[22388   101]\n",
      " [  622  4426]]\n",
      "\n",
      " Precision: 0.9776894190413077\n",
      " Recall: 0.876782884310618\n",
      " F1 score: 0.9244908616187989\n"
     ]
    }
   ],
   "source": [
    "y_scores_forest, y_predict_forest = select_model(forest_clf, X_train_scaled, y_train_values, predict_proba=True)"
   ]
  },
  {
   "cell_type": "code",
   "execution_count": 322,
   "id": "053e6429",
   "metadata": {
    "ExecuteTime": {
     "end_time": "2022-08-31T17:57:04.954138Z",
     "start_time": "2022-08-31T17:56:42.379336Z"
    }
   },
   "outputs": [
    {
     "name": "stdout",
     "output_type": "stream",
     "text": [
      " Results for the XGBClassifier(base_score=0.5, booster='gbtree', callbacks=None,\n",
      "              colsample_bylevel=1, colsample_bynode=1, colsample_bytree=1,\n",
      "              early_stopping_rounds=None, enable_categorical=False,\n",
      "              eval_metric=None, gamma=0, gpu_id=-1, grow_policy='depthwise',\n",
      "              importance_type=None, interaction_constraints='',\n",
      "              learning_rate=0.300000012, max_bin=256, max_cat_to_onehot=4,\n",
      "              max_delta_step=0, max_depth=6, max_leaves=0, min_child_weight=1,\n",
      "              missing=nan, monotone_constraints='()', n_estimators=100,\n",
      "              n_jobs=0, num_parallel_tree=1, predictor='auto', random_state=0,\n",
      "              reg_alpha=0, reg_lambda=1, ...) are:\n",
      "\n",
      " Accuracy score: 0.9769037795561969\n",
      "\n",
      " Confusion matrix: \n",
      " [[22391    98]\n",
      " [  538  4510]]\n",
      "\n",
      " Precision: 0.9787326388888888\n",
      " Recall: 0.8934231378763867\n",
      " F1 score: 0.9341342170671085\n"
     ]
    }
   ],
   "source": [
    "y_scores_xgb, y_predict_xgb = select_model(xgb_clf, X_train_scaled, y_train_values, predict_proba=True)"
   ]
  },
  {
   "cell_type": "markdown",
   "id": "335180e9",
   "metadata": {},
   "source": [
    "## Predictions"
   ]
  },
  {
   "cell_type": "code",
   "execution_count": 323,
   "id": "ac71d2da",
   "metadata": {
    "ExecuteTime": {
     "end_time": "2022-08-31T17:57:05.248169Z",
     "start_time": "2022-08-31T17:57:05.187140Z"
    }
   },
   "outputs": [
    {
     "name": "stdout",
     "output_type": "stream",
     "text": [
      "Prediction Scores:\n",
      "LogReg: 0.7558041009998305\n",
      "RF: 0.19911879342484326\n",
      "XGB: 0.20072869005253346\n"
     ]
    }
   ],
   "source": [
    "# y_sgd_predict = sgd_clf.predict(X_test_final)\n",
    "# n_correct_sgd = sum(y_sgd_predict == y_test)\n",
    "# y_sgd_predict_proba = sgd_clf.predict_proba(X_test_final)\n",
    "# y_sgd_predict_proba = y_sgd_predict_proba[:, 1]\n",
    "\n",
    "y_log_reg_predict = log_reg_clf.predict(X_test_fs)\n",
    "n_correct_log_reg = sum(y_log_reg_predict == y_test)\n",
    "y_log_reg_predict_proba = log_reg_clf.predict_proba(X_test_fs)\n",
    "y_log_reg_predict_proba = y_log_reg_predict_proba[:, 1]\n",
    "\n",
    "\n",
    "\n",
    "y_forest_predict = forest_clf.predict(X_test_fs)\n",
    "n_correct_forest = sum(y_forest_predict == y_test)\n",
    "y_forest_predict_proba = forest_clf.predict_proba(X_test_fs)\n",
    "y_forest_predict_proba = y_forest_predict_proba[:, 1]\n",
    "\n",
    "\n",
    "# y_grb_predict = gr_boost_clf.predict(X_test_final)\n",
    "# n_correct_grb = sum(y_grb_predict == y_test)\n",
    "# y_grb_predict_proba = gr_boost_clf.predict_proba(X_test_final)\n",
    "# y_grb_predict_proba = y_grb_predict_proba[:, 1]\n",
    "\n",
    "\n",
    "y_xgb_predict = xgb_clf.predict(X_test_fs)\n",
    "n_correct_xgb = sum(y_xgb_predict == y_test)\n",
    "y_xgb_predict_proba = xgb_clf.predict_proba(X_test_fs)\n",
    "y_xgb_predict_proba = y_xgb_predict_proba[:, 1]\n",
    "\n",
    "\n",
    "# y_lgbm_predict = lgbm_clf.predict(X_test_final)\n",
    "# n_correct_lgbm = sum(y_lgbm_predict == y_test)\n",
    "# y_lgbm_predict_proba = lgbm_clf.predict_proba(X_test_final)\n",
    "# y_lgbm_predict_proba = y_lgbm_predict_proba[:, 1]\n",
    "\n",
    "\n",
    "print(\"Prediction Scores:\")\n",
    "# print(f\"SGD: {(n_correct_sgd / len(y_sgd_predict))}\")\n",
    "print(f\"LogReg: {(n_correct_log_reg / len(y_log_reg_predict))}\")\n",
    "print(f\"RF: {(n_correct_forest / len(y_forest_predict))}\")\n",
    "# print(f\"GRB: {(n_correct_grb / len(y_grb_predict))}\")\n",
    "print(f\"XGB: {(n_correct_xgb / len(y_xgb_predict))}\")\n",
    "# print(f\"LGBM: {(n_correct_lgbm / len(y_lgbm_predict))}\")"
   ]
  },
  {
   "cell_type": "code",
   "execution_count": 336,
   "id": "7b6e0d67",
   "metadata": {
    "ExecuteTime": {
     "end_time": "2022-08-31T18:08:11.802195Z",
     "start_time": "2022-08-31T18:08:11.792655Z"
    }
   },
   "outputs": [
    {
     "data": {
      "text/plain": [
       "0    10090\n",
       "1     1712\n",
       "dtype: int64"
      ]
     },
     "execution_count": 336,
     "metadata": {},
     "output_type": "execute_result"
    }
   ],
   "source": [
    "pd.Series(y_log_reg_predict).value_counts()"
   ]
  },
  {
   "cell_type": "code",
   "execution_count": 337,
   "id": "f4638c00",
   "metadata": {
    "ExecuteTime": {
     "end_time": "2022-08-31T18:08:33.385919Z",
     "start_time": "2022-08-31T18:08:33.378918Z"
    }
   },
   "outputs": [
    {
     "data": {
      "text/plain": [
       "0    9638\n",
       "1    2164\n",
       "Name: prepayment_status_unique, dtype: int64"
      ]
     },
     "execution_count": 337,
     "metadata": {},
     "output_type": "execute_result"
    }
   ],
   "source": [
    "y_test.value_counts()"
   ]
  },
  {
   "cell_type": "code",
   "execution_count": 338,
   "id": "a1d8a10b",
   "metadata": {
    "ExecuteTime": {
     "end_time": "2022-08-31T18:08:42.164261Z",
     "start_time": "2022-08-31T18:08:42.156723Z"
    }
   },
   "outputs": [
    {
     "data": {
      "text/plain": [
       "1    11558\n",
       "0      244\n",
       "dtype: int64"
      ]
     },
     "execution_count": 338,
     "metadata": {},
     "output_type": "execute_result"
    }
   ],
   "source": [
    "pd.Series(y_forest_predict).value_counts()"
   ]
  },
  {
   "cell_type": "code",
   "execution_count": 339,
   "id": "03c77664",
   "metadata": {
    "ExecuteTime": {
     "end_time": "2022-08-31T18:08:56.487113Z",
     "start_time": "2022-08-31T18:08:56.460090Z"
    }
   },
   "outputs": [
    {
     "data": {
      "text/plain": [
       "1    11595\n",
       "0      207\n",
       "dtype: int64"
      ]
     },
     "execution_count": 339,
     "metadata": {},
     "output_type": "execute_result"
    }
   ],
   "source": [
    "pd.Series(y_xgb_predict).value_counts()"
   ]
  },
  {
   "cell_type": "markdown",
   "id": "03d846c7",
   "metadata": {},
   "source": [
    "## Scores"
   ]
  },
  {
   "cell_type": "code",
   "execution_count": 328,
   "id": "378f10f7",
   "metadata": {
    "ExecuteTime": {
     "end_time": "2022-08-31T18:01:47.481064Z",
     "start_time": "2022-08-31T18:01:47.463065Z"
    }
   },
   "outputs": [],
   "source": [
    "def plot_roc_curve(fpr, tpr, color=\"g\", label=None):\n",
    "    plt.plot(fpr, tpr, linewidth=2, color=color, label=label)\n",
    "    plt.plot([0, 1], [0, 1], 'k--')\n",
    "    plt.axis([0, 1, 0, 1])\n",
    "    plt.xlabel('False Positive Rate', fontsize=16)\n",
    "    plt.ylabel('True Positive Rate', fontsize=16)\n",
    "    plt.title(\"ROC Curves\", fontsize=18)\n",
    "    plt.ylim(0, 1.1)"
   ]
  },
  {
   "cell_type": "code",
   "execution_count": 359,
   "id": "2199246d",
   "metadata": {
    "ExecuteTime": {
     "end_time": "2022-08-31T18:16:53.748718Z",
     "start_time": "2022-08-31T18:16:53.732721Z"
    }
   },
   "outputs": [],
   "source": [
    "def plot_precision_vs_recall(precisions, recalls, color=\"g\", label=None):\n",
    "    plt.plot(recalls, precisions, color=color, linestyle='dashed', linewidth=2, label=label)\n",
    "    plt.xlabel(\"Recall\", fontsize=16)\n",
    "    plt.ylabel(\"Precision\", fontsize=16)\n",
    "    plt.axis([0, 1, 0, 1])\n",
    "    plt.title(\"PR Curves\", fontsize=18)\n",
    "    plt.ylim(0, 1.05)"
   ]
  },
  {
   "cell_type": "code",
   "execution_count": 329,
   "id": "7affd7e3",
   "metadata": {
    "ExecuteTime": {
     "end_time": "2022-08-31T18:01:48.009496Z",
     "start_time": "2022-08-31T18:01:47.857495Z"
    }
   },
   "outputs": [
    {
     "data": {
      "image/png": "[encoded data removed]",
      "text/plain": [
       "<Figure size 800x600 with 1 Axes>"
      ]
     },
     "metadata": {},
     "output_type": "display_data"
    }
   ],
   "source": [
    "# fpr_sgd_test, tpr_sgd_test, thresholds_sgd_test = roc_curve(y_test, y_sgd_predict)\n",
    "fpr_log_reg_test, tpr_log_reg_test, thresholds_log_reg_test = roc_curve(y_test, y_log_reg_predict_proba)\n",
    "fpr_forest_test, tpr_forest_test, thresholds_forest_test = roc_curve(y_test, y_forest_predict_proba)\n",
    "# fpr_grb_test, tpr_grb_test, thresholds_grb_test = roc_curve(y_test, y_grb_predict_proba)\n",
    "fpr_xgb_test, tpr_xgb_test, thresholds_xgb_test = roc_curve(y_test, y_xgb_predict_proba)\n",
    "# fpr_lgbm_test, tpr_lgbm_test, thresholds_lgbm_test = roc_curve(y_test, y_lgbm_predict_proba)\n",
    "\n",
    "\n",
    "\n",
    "\n",
    "\n",
    "plt.figure(figsize=(8, 6))\n",
    "# plot_roc_curve(fpr_sgd_test, tpr_sgd_test, label=\"SGD\")\n",
    "plot_roc_curve(fpr_log_reg_test, tpr_log_reg_test, color=\"#b55167\", label=\"LogReg\")\n",
    "plot_roc_curve(fpr_forest_test, tpr_forest_test, color=\"#d000eb\", label=\"RF\")\n",
    "# plot_roc_curve(fpr_grb_test, tpr_grb_test, color=\"#ebc700\", label=\"GRB\")\n",
    "plot_roc_curve(fpr_xgb_test, tpr_xgb_test, color=\"r\", label=\"XGB\")\n",
    "# plot_roc_curve(fpr_lgbm_test, tpr_lgbm_test, color=\"c\", label=\"LGBM\")\n",
    "plt.legend()\n",
    "plt.show()"
   ]
  },
  {
   "cell_type": "code",
   "execution_count": null,
   "id": "ca32fb22",
   "metadata": {},
   "outputs": [],
   "source": []
  },
  {
   "cell_type": "markdown",
   "id": "3e750d43",
   "metadata": {},
   "source": [
    "ROC Curve after predictions"
   ]
  },
  {
   "cell_type": "code",
   "execution_count": 381,
   "id": "8ad55bd1",
   "metadata": {
    "ExecuteTime": {
     "end_time": "2022-08-31T18:21:51.498582Z",
     "start_time": "2022-08-31T18:21:51.489065Z"
    }
   },
   "outputs": [],
   "source": [
    "precisions_log_reg_test, recalls_log_reg_test, thresholds_log_reg_test = precision_recall_curve(y_test, y_log_reg_predict_proba)\n",
    "precisions_forest_test, recalls_forest_test, thresholds_forest_test = precision_recall_curve(y_test, y_forest_predict_proba)\n",
    "precisions_xgb_test, recalls_xgb_test, thresholds_xgb_test = precision_recall_curve(y_test, y_xgb_predict_proba)"
   ]
  },
  {
   "cell_type": "code",
   "execution_count": null,
   "id": "d1472220",
   "metadata": {},
   "outputs": [],
   "source": []
  },
  {
   "cell_type": "code",
   "execution_count": null,
   "id": "10f7553f",
   "metadata": {},
   "outputs": [],
   "source": []
  },
  {
   "cell_type": "code",
   "execution_count": null,
   "id": "901321be",
   "metadata": {},
   "outputs": [],
   "source": []
  },
  {
   "cell_type": "markdown",
   "id": "83380f0c",
   "metadata": {},
   "source": [
    "#### Try to improve models performance on PR Curve by changing their decision boundaries"
   ]
  },
  {
   "cell_type": "markdown",
   "id": "3c4d3483",
   "metadata": {},
   "source": [
    "Check the probability distribution for the positive target class"
   ]
  },
  {
   "cell_type": "code",
   "execution_count": 340,
   "id": "6b9f19d4",
   "metadata": {
    "ExecuteTime": {
     "end_time": "2022-08-31T18:13:30.944700Z",
     "start_time": "2022-08-31T18:13:30.838274Z"
    }
   },
   "outputs": [
    {
     "data": {
      "text/plain": [
       "Text(0.5, 1.0, 'Probability dist of 1s')"
      ]
     },
     "execution_count": 340,
     "metadata": {},
     "output_type": "execute_result"
    },
    {
     "data": {
      "image/png": "[encoded data removed]",
      "text/plain": [
       "<Figure size 640x480 with 1 Axes>"
      ]
     },
     "metadata": {},
     "output_type": "display_data"
    }
   ],
   "source": [
    "plt.hist(y_log_reg_predict_proba)\n",
    "plt.title(\"Probability dist of 1s\")"
   ]
  },
  {
   "cell_type": "markdown",
   "id": "30684f72",
   "metadata": {},
   "source": [
    "#### Calculate all possible thresholds and get the ones that result in the best f1 score measure for each model"
   ]
  },
  {
   "cell_type": "code",
   "execution_count": 344,
   "id": "af6629f6",
   "metadata": {
    "ExecuteTime": {
     "end_time": "2022-08-31T18:14:14.824668Z",
     "start_time": "2022-08-31T18:14:14.814154Z"
    }
   },
   "outputs": [],
   "source": [
    "# define possible thresholds\n",
    "thresholds = arange(0, 1, 0.001)\n",
    "\n",
    "# apply threshold to positive probabilities to create labels\n",
    "def to_labels(pos_probs, threshold):\n",
    "    return (pos_probs >= threshold).astype('int')\n",
    "\n",
    "\n",
    "probas_list = [y_log_reg_predict_proba, y_forest_predict_proba, \n",
    "               y_xgb_predict_proba]\n",
    "\n",
    "def threshold_eval(probas_list):\n",
    "    \n",
    "    scores_list = []\n",
    "    for prob in probas_list:\n",
    "        \n",
    "        scores_cust = [f1_score(y_test, to_labels(prob, t)) for t in thresholds]\n",
    "        scores_list.append(scores_cust)\n",
    "    \n",
    "    return tuple(scores_list)"
   ]
  },
  {
   "cell_type": "code",
   "execution_count": 345,
   "id": "4fffe640",
   "metadata": {
    "ExecuteTime": {
     "end_time": "2022-08-31T18:14:26.155927Z",
     "start_time": "2022-08-31T18:14:19.629353Z"
    }
   },
   "outputs": [],
   "source": [
    "scores_log_reg, scores_forest, scores_xgb, = threshold_eval(probas_list)"
   ]
  },
  {
   "cell_type": "code",
   "execution_count": 346,
   "id": "0eab1333",
   "metadata": {
    "ExecuteTime": {
     "end_time": "2022-08-31T18:14:28.247490Z",
     "start_time": "2022-08-31T18:14:28.236981Z"
    }
   },
   "outputs": [],
   "source": [
    "list_of_scores = [scores_log_reg, scores_forest, scores_xgb]"
   ]
  },
  {
   "cell_type": "code",
   "execution_count": 350,
   "id": "caef6eb9",
   "metadata": {
    "ExecuteTime": {
     "end_time": "2022-08-31T18:15:32.178531Z",
     "start_time": "2022-08-31T18:15:32.173534Z"
    }
   },
   "outputs": [],
   "source": [
    "def get_best_thresholds(list_of_scores):\n",
    "    \n",
    "    n = 0\n",
    "    print_list = [\"LogReg:\", \"RF:\", \"XGB:\"]\n",
    "    for s in list_of_scores:\n",
    "        \n",
    "        \n",
    "        ix = argmax(s)\n",
    "        print(print_list[n])\n",
    "        print('Threshold=%.3f, F-Score=%.5f' % (thresholds[ix], s[ix]))\n",
    "        print()\n",
    "        n += 1"
   ]
  },
  {
   "cell_type": "code",
   "execution_count": 351,
   "id": "43e347b3",
   "metadata": {
    "ExecuteTime": {
     "end_time": "2022-08-31T18:15:34.220251Z",
     "start_time": "2022-08-31T18:15:34.197225Z"
    }
   },
   "outputs": [
    {
     "name": "stdout",
     "output_type": "stream",
     "text": [
      " F1 Score LogReg: 0.2564499484004128\n",
      " F1 Score RF: 0.31117912840693784\n",
      " F1 Score XGB: 0.3144123846209754\n"
     ]
    }
   ],
   "source": [
    "# Check the f1 scores first:\n",
    "print(f\" F1 Score LogReg: {f1_score(y_test, y_log_reg_predict)}\")\n",
    "print(f\" F1 Score RF: {f1_score(y_test, y_forest_predict)}\")\n",
    "print(f\" F1 Score XGB: {f1_score(y_test, y_xgb_predict)}\")"
   ]
  },
  {
   "cell_type": "code",
   "execution_count": 352,
   "id": "d76ae533",
   "metadata": {
    "ExecuteTime": {
     "end_time": "2022-08-31T18:15:34.457789Z",
     "start_time": "2022-08-31T18:15:34.444254Z"
    },
    "scrolled": false
   },
   "outputs": [
    {
     "name": "stdout",
     "output_type": "stream",
     "text": [
      "LogReg:\n",
      "Threshold=0.000, F-Score=0.30990\n",
      "\n",
      "RF:\n",
      "Threshold=0.501, F-Score=0.31118\n",
      "\n",
      "XGB:\n",
      "Threshold=0.992, F-Score=0.73917\n",
      "\n"
     ]
    }
   ],
   "source": [
    "get_best_thresholds(list_of_scores)"
   ]
  },
  {
   "cell_type": "markdown",
   "id": "07177798",
   "metadata": {},
   "source": [
    "The above results show that if we change the thresholds from 0.5 the F-Scores could be improved by some margin"
   ]
  },
  {
   "cell_type": "markdown",
   "id": "db433648",
   "metadata": {},
   "source": [
    "#### Log Reg with new threshold"
   ]
  },
  {
   "cell_type": "code",
   "execution_count": 354,
   "id": "6e4f9a9e",
   "metadata": {
    "ExecuteTime": {
     "end_time": "2022-08-31T18:16:06.533480Z",
     "start_time": "2022-08-31T18:16:06.521036Z"
    }
   },
   "outputs": [],
   "source": [
    "log_reg_threshold = 0.000\n",
    "log_reg_new_preds = np.where(log_reg_clf.predict_proba(X_test_fs)[:,1] > log_reg_threshold, 1, 0)"
   ]
  },
  {
   "cell_type": "code",
   "execution_count": 355,
   "id": "52e1d843",
   "metadata": {
    "ExecuteTime": {
     "end_time": "2022-08-31T18:16:12.722460Z",
     "start_time": "2022-08-31T18:16:12.710440Z"
    }
   },
   "outputs": [
    {
     "name": "stdout",
     "output_type": "stream",
     "text": [
      "Old_Prediction_LogReg: 0.7558041009998305\n",
      "New_Prediction_LogReg: 0.7552109811896289\n"
     ]
    }
   ],
   "source": [
    "n_correct_log_reg_new = sum(log_reg_new_preds == y_test)\n",
    "log_reg_predict_proba_new = log_reg_clf.predict_proba(X_test_fs)\n",
    "\n",
    "print(f\"Old_Prediction_LogReg: {(n_correct_log_reg / len(y_log_reg_predict))}\")\n",
    "print(f\"New_Prediction_LogReg: {(n_correct_log_reg_new / len(log_reg_new_preds))}\")"
   ]
  },
  {
   "cell_type": "code",
   "execution_count": 356,
   "id": "566c7b32",
   "metadata": {
    "ExecuteTime": {
     "end_time": "2022-08-31T18:16:22.591419Z",
     "start_time": "2022-08-31T18:16:22.574884Z"
    }
   },
   "outputs": [],
   "source": [
    "precisions_log_reg_test_new, recalls_log_reg_test_new, thresholds_log_reg_test_new = precision_recall_curve(y_test, log_reg_new_preds)"
   ]
  },
  {
   "cell_type": "code",
   "execution_count": 357,
   "id": "32cc947c",
   "metadata": {
    "ExecuteTime": {
     "end_time": "2022-08-31T18:16:24.510192Z",
     "start_time": "2022-08-31T18:16:24.498330Z"
    },
    "scrolled": true
   },
   "outputs": [
    {
     "name": "stdout",
     "output_type": "stream",
     "text": [
      " Old Confusion matrix:   \n",
      "  [[8423 1215]\n",
      " [1667  497]]\n",
      "\n",
      " New Confusion matrix:   \n",
      "  [[8414 1224]\n",
      " [1665  499]]\n"
     ]
    }
   ],
   "source": [
    "print(f\" Old Confusion matrix:   \\n  {confusion_matrix(y_test, y_log_reg_predict)}\")\n",
    "print()\n",
    "print(f\" New Confusion matrix:   \\n  {confusion_matrix(y_test, log_reg_new_preds)}\")"
   ]
  },
  {
   "cell_type": "code",
   "execution_count": 384,
   "id": "3eeef112",
   "metadata": {
    "ExecuteTime": {
     "end_time": "2022-08-31T18:22:40.660406Z",
     "start_time": "2022-08-31T18:22:40.560367Z"
    }
   },
   "outputs": [
    {
     "data": {
      "image/png": "[encoded data removed]",
      "text/plain": [
       "<Figure size 800x600 with 1 Axes>"
      ]
     },
     "metadata": {},
     "output_type": "display_data"
    },
    {
     "name": "stdout",
     "output_type": "stream",
     "text": [
      "AUC LogReg: 0.32998804521930425\n",
      "AUC LogReg_New: 0.3306402120042543\n"
     ]
    }
   ],
   "source": [
    "plt.figure(figsize=(8, 6))\n",
    "\n",
    "plot_precision_vs_recall(precisions_log_reg_test, recalls_log_reg_test, color=\"#b55167\", label=\"LogReg\")\n",
    "plot_precision_vs_recall(precisions_log_reg_test_new, recalls_log_reg_test_new, color=\"#2eb8aa\", label=\"LogReg_New\")\n",
    "plt.legend()\n",
    "plt.show()\n",
    "\n",
    "print(f\"AUC LogReg: {auc(recalls_log_reg_test, precisions_log_reg_test)}\")\n",
    "print(f\"AUC LogReg_New: {auc(recalls_log_reg_test_new, precisions_log_reg_test_new)}\")"
   ]
  },
  {
   "cell_type": "markdown",
   "id": "174a0a6a",
   "metadata": {},
   "source": [
    "#### Random Forest with new threshold"
   ]
  },
  {
   "cell_type": "code",
   "execution_count": 362,
   "id": "3580d7a6",
   "metadata": {
    "ExecuteTime": {
     "end_time": "2022-08-31T18:17:48.376936Z",
     "start_time": "2022-08-31T18:17:48.361944Z"
    }
   },
   "outputs": [],
   "source": [
    "rf_threshold = 0.501\n",
    "rf_new_preds = np.where(forest_clf.predict_proba(X_test_fs)[:,1] > rf_threshold, 1, 0)"
   ]
  },
  {
   "cell_type": "code",
   "execution_count": 364,
   "id": "46cd0f56",
   "metadata": {
    "ExecuteTime": {
     "end_time": "2022-08-31T18:17:56.360683Z",
     "start_time": "2022-08-31T18:17:56.345660Z"
    }
   },
   "outputs": [
    {
     "name": "stdout",
     "output_type": "stream",
     "text": [
      "Old_Prediction_RF: 0.19911879342484326\n",
      "New_Prediction_RF: 0.19911879342484326\n"
     ]
    }
   ],
   "source": [
    "n_correct_rf_new = sum(rf_new_preds == y_test)\n",
    "rf_predict_proba_new = forest_clf.predict_proba(X_test_fs)\n",
    "\n",
    "print(f\"Old_Prediction_RF: {(n_correct_forest / len(y_forest_predict))}\")\n",
    "print(f\"New_Prediction_RF: {(n_correct_rf_new / len(rf_new_preds))}\")"
   ]
  },
  {
   "cell_type": "code",
   "execution_count": 365,
   "id": "ae511638",
   "metadata": {
    "ExecuteTime": {
     "end_time": "2022-08-31T18:18:01.400315Z",
     "start_time": "2022-08-31T18:18:01.388287Z"
    }
   },
   "outputs": [],
   "source": [
    "precisions_rf_test_new, recalls_rf_test_new, thresholds_rf_test_new = precision_recall_curve(y_test, rf_new_preds)"
   ]
  },
  {
   "cell_type": "code",
   "execution_count": 366,
   "id": "cc1359a9",
   "metadata": {
    "ExecuteTime": {
     "end_time": "2022-08-31T18:18:02.651422Z",
     "start_time": "2022-08-31T18:18:02.641422Z"
    },
    "scrolled": true
   },
   "outputs": [
    {
     "name": "stdout",
     "output_type": "stream",
     "text": [
      " Old Confusion matrix:   \n",
      "  [[ 215 9423]\n",
      " [  29 2135]]\n",
      "\n",
      " New Confusion matrix:   \n",
      "  [[ 215 9423]\n",
      " [  29 2135]]\n"
     ]
    }
   ],
   "source": [
    "print(f\" Old Confusion matrix:   \\n  {confusion_matrix(y_test, y_forest_predict)}\")\n",
    "print()\n",
    "print(f\" New Confusion matrix:   \\n  {confusion_matrix(y_test, rf_new_preds)}\")"
   ]
  },
  {
   "cell_type": "code",
   "execution_count": 385,
   "id": "5b57cdca",
   "metadata": {
    "ExecuteTime": {
     "end_time": "2022-08-31T18:22:44.664980Z",
     "start_time": "2022-08-31T18:22:44.557983Z"
    }
   },
   "outputs": [
    {
     "data": {
      "image/png": "[encoded data removed]",
      "text/plain": [
       "<Figure size 800x600 with 1 Axes>"
      ]
     },
     "metadata": {},
     "output_type": "display_data"
    },
    {
     "name": "stdout",
     "output_type": "stream",
     "text": [
      "AUC Random_Forest: 0.1455763547682565\n",
      "AUC Random_Forest_New: 0.5868883207353781\n"
     ]
    }
   ],
   "source": [
    "plt.figure(figsize=(8, 6))\n",
    "\n",
    "plot_precision_vs_recall(precisions_forest_test, recalls_forest_test, color=\"#b55167\", label=\"RF\")\n",
    "plot_precision_vs_recall(precisions_rf_test_new, recalls_rf_test_new, color=\"#2eb8aa\", label=\"RF_New\")\n",
    "plt.legend()\n",
    "plt.show()\n",
    "\n",
    "print(f\"AUC Random_Forest: {auc(recalls_forest_test, precisions_forest_test)}\")\n",
    "print(f\"AUC Random_Forest_New: {auc(recalls_rf_test_new, precisions_rf_test_new)}\")"
   ]
  },
  {
   "cell_type": "markdown",
   "id": "371ac725",
   "metadata": {},
   "source": [
    "#### Gradient Boost with new threshold"
   ]
  },
  {
   "cell_type": "code",
   "execution_count": 368,
   "id": "a0004e87",
   "metadata": {
    "ExecuteTime": {
     "end_time": "2022-08-31T18:18:55.659114Z",
     "start_time": "2022-08-31T18:18:55.634609Z"
    }
   },
   "outputs": [],
   "source": [
    "xgb_threshold = 0.992\n",
    "xgb_new_preds = np.where(xgb_clf.predict_proba(X_test_fs)[:,1] > xgb_threshold, 1, 0)"
   ]
  },
  {
   "cell_type": "code",
   "execution_count": 396,
   "id": "98914e44",
   "metadata": {
    "ExecuteTime": {
     "end_time": "2022-08-31T19:04:56.710636Z",
     "start_time": "2022-08-31T19:04:56.689127Z"
    }
   },
   "outputs": [
    {
     "name": "stdout",
     "output_type": "stream",
     "text": [
      "Old_Prediction_XGB: 0.20072869005253346\n",
      "New_Prediction_XGB: 0.9122182680901542\n"
     ]
    }
   ],
   "source": [
    "n_correct_xgb_new = sum(xgb_new_preds == y_test)\n",
    "xgb_predict_proba_new = xgb_clf.predict_proba(X_test_fs)\n",
    "\n",
    "print(f\"Old_Prediction_XGB: {(n_correct_xgb / len(y_xgb_predict))}\")\n",
    "print(f\"New_Prediction_XGB: {(n_correct_xgb_new / len(xgb_new_preds))}\")"
   ]
  },
  {
   "cell_type": "code",
   "execution_count": 393,
   "id": "283ef1ad",
   "metadata": {
    "ExecuteTime": {
     "end_time": "2022-08-31T19:03:27.962216Z",
     "start_time": "2022-08-31T19:03:27.948774Z"
    }
   },
   "outputs": [
    {
     "data": {
      "text/plain": [
       "array([[0.18489599, 0.815104  ],\n",
       "       [0.09187406, 0.90812594],\n",
       "       [0.08090687, 0.91909313],\n",
       "       ...,\n",
       "       [0.08090687, 0.91909313],\n",
       "       [0.29340893, 0.70659107],\n",
       "       [0.29340893, 0.70659107]], dtype=float32)"
      ]
     },
     "execution_count": 393,
     "metadata": {},
     "output_type": "execute_result"
    }
   ],
   "source": [
    "xgb_predict_proba_new"
   ]
  },
  {
   "cell_type": "code",
   "execution_count": 377,
   "id": "fbeca660",
   "metadata": {
    "ExecuteTime": {
     "end_time": "2022-08-31T18:20:28.382603Z",
     "start_time": "2022-08-31T18:20:28.363516Z"
    }
   },
   "outputs": [],
   "source": [
    "precisions_xgb_test_new, recalls_xgb_test_new, thresholds_xgb_test_new = precision_recall_curve(y_test, xgb_new_preds)"
   ]
  },
  {
   "cell_type": "code",
   "execution_count": 378,
   "id": "38b92ce3",
   "metadata": {
    "ExecuteTime": {
     "end_time": "2022-08-31T18:20:40.913603Z",
     "start_time": "2022-08-31T18:20:40.891546Z"
    }
   },
   "outputs": [
    {
     "name": "stdout",
     "output_type": "stream",
     "text": [
      " Old Confusion matrix:   \n",
      "  [[ 206 9432]\n",
      " [   1 2163]]\n",
      "\n",
      " New Confusion matrix:   \n",
      "  [[9298  340]\n",
      " [ 696 1468]]\n"
     ]
    }
   ],
   "source": [
    "print(f\" Old Confusion matrix:   \\n  {confusion_matrix(y_test, y_xgb_predict)}\")\n",
    "print()\n",
    "print(f\" New Confusion matrix:   \\n  {confusion_matrix(y_test, xgb_new_preds)}\")"
   ]
  },
  {
   "cell_type": "code",
   "execution_count": 387,
   "id": "7f106c73",
   "metadata": {
    "ExecuteTime": {
     "end_time": "2022-08-31T18:23:35.340522Z",
     "start_time": "2022-08-31T18:23:35.233984Z"
    }
   },
   "outputs": [
    {
     "data": {
      "image/png": "[encoded data removed]",
      "text/plain": [
       "<Figure size 800x600 with 1 Axes>"
      ]
     },
     "metadata": {},
     "output_type": "display_data"
    },
    {
     "name": "stdout",
     "output_type": "stream",
     "text": [
      "AUC GR_Boost: 0.6221778641965249\n",
      "AUC GR_Boost_New: 0.7746466703469863\n"
     ]
    }
   ],
   "source": [
    "plt.figure(figsize=(8, 6))\n",
    "\n",
    "plot_precision_vs_recall(precisions_xgb_test, recalls_xgb_test, color=\"#b55167\", label=\"XGB\")\n",
    "plot_precision_vs_recall(precisions_xgb_test_new, recalls_xgb_test_new, color=\"#2eb8aa\", label=\"XGB_New\")\n",
    "plt.legend()\n",
    "plt.show()\n",
    "\n",
    "print(f\"AUC GR_Boost: {auc(recalls_xgb_test, precisions_xgb_test)}\")\n",
    "print(f\"AUC GR_Boost_New: {auc(recalls_xgb_test_new, precisions_xgb_test_new)}\")"
   ]
  },
  {
   "cell_type": "markdown",
   "id": "f5a237d1",
   "metadata": {},
   "source": [
    "### Final prediction scores and performance measures"
   ]
  },
  {
   "cell_type": "code",
   "execution_count": 389,
   "id": "74504407",
   "metadata": {
    "ExecuteTime": {
     "end_time": "2022-08-31T18:24:03.926129Z",
     "start_time": "2022-08-31T18:24:03.918614Z"
    },
    "scrolled": true
   },
   "outputs": [
    {
     "name": "stdout",
     "output_type": "stream",
     "text": [
      "New_Prediction_LogReg: 0.7552109811896289\n",
      "New_Prediction_RF: 0.19911879342484326\n",
      "New_Prediction_GRB: 0.9122182680901542\n"
     ]
    }
   ],
   "source": [
    "print(f\"New_Prediction_LogReg: {(n_correct_log_reg_new / len(log_reg_new_preds))}\")\n",
    "print(f\"New_Prediction_RF: {(n_correct_rf_new / len(rf_new_preds))}\")\n",
    "print(f\"New_Prediction_GRB: {(n_correct_xgb_new / len(xgb_new_preds))}\")"
   ]
  },
  {
   "cell_type": "code",
   "execution_count": null,
   "id": "97d14fbe",
   "metadata": {},
   "outputs": [],
   "source": []
  },
  {
   "cell_type": "code",
   "execution_count": 390,
   "id": "ca8d86d3",
   "metadata": {
    "ExecuteTime": {
     "end_time": "2022-08-31T18:55:18.544890Z",
     "start_time": "2022-08-31T18:55:18.536378Z"
    }
   },
   "outputs": [
    {
     "name": "stdout",
     "output_type": "stream",
     "text": [
      "[0.00467779 0.00341952 0.         0.         0.03211306 0.00308776\n",
      " 0.00365714 0.00203908 0.         0.         0.00994699 0.00251608\n",
      " 0.         0.         0.         0.         0.01076017 0.\n",
      " 0.         0.         0.         0.         0.00334396 0.\n",
      " 0.         0.00352161 0.00346775 0.00277464 0.00626373 0.00489875\n",
      " 0.00457136 0.00280525 0.00353329 0.09281036 0.00335375 0.00429038\n",
      " 0.00288083 0.00378068 0.01221531 0.00370771 0.00338713 0.00378403\n",
      " 0.00320645 0.00414683 0.0043244  0.0067124  0.0032365  0.0030672\n",
      " 0.00381415 0.5969508  0.00318279 0.00349716 0.00363975 0.00390203\n",
      " 0.0083463  0.00319084 0.0731588  0.03312607 0.00488928]\n"
     ]
    }
   ],
   "source": [
    "print(xgb_clf.feature_importances_)"
   ]
  },
  {
   "cell_type": "code",
   "execution_count": 410,
   "id": "d6ca5314",
   "metadata": {
    "ExecuteTime": {
     "end_time": "2022-08-31T19:12:20.163784Z",
     "start_time": "2022-08-31T19:12:19.977894Z"
    }
   },
   "outputs": [
    {
     "data": {
      "text/plain": [
       "<AxesSubplot:title={'center':'Feature importance'}, xlabel='F score', ylabel='Features'>"
      ]
     },
     "execution_count": 410,
     "metadata": {},
     "output_type": "execute_result"
    },
    {
     "data": {
      "image/png": "[encoded data removed]",
      "text/plain": [
       "<Figure size 640x480 with 1 Axes>"
      ]
     },
     "metadata": {},
     "output_type": "display_data"
    }
   ],
   "source": [
    "from xgboost import plot_importance\n",
    "plot_importance(xgb_clf, height=0.2, grid=False, max_num_features=15)"
   ]
  },
  {
   "cell_type": "code",
   "execution_count": null,
   "id": "f93bc2bd",
   "metadata": {},
   "outputs": [],
   "source": []
  },
  {
   "cell_type": "code",
   "execution_count": 394,
   "id": "73ee6dc6",
   "metadata": {
    "ExecuteTime": {
     "end_time": "2022-08-31T19:04:14.450548Z",
     "start_time": "2022-08-31T19:04:14.442539Z"
    }
   },
   "outputs": [],
   "source": [
    "log_reg_predict_proba_new = log_reg_predict_proba_new[:, 1]\n",
    "rf_predict_proba_new = rf_predict_proba_new[:, 1]\n",
    "xgb_predict_proba_new = xgb_predict_proba_new[:, 1]\n",
    "\n"
   ]
  },
  {
   "cell_type": "code",
   "execution_count": null,
   "id": "c579592d",
   "metadata": {},
   "outputs": [],
   "source": []
  },
  {
   "cell_type": "code",
   "execution_count": 395,
   "id": "145bcef2",
   "metadata": {
    "ExecuteTime": {
     "end_time": "2022-08-31T19:04:16.235307Z",
     "start_time": "2022-08-31T19:04:16.111577Z"
    }
   },
   "outputs": [
    {
     "data": {
      "image/png": "[encoded data removed]",
      "text/plain": [
       "<Figure size 800x600 with 1 Axes>"
      ]
     },
     "metadata": {},
     "output_type": "display_data"
    }
   ],
   "source": [
    "# fpr_sgd_test, tpr_sgd_test, thresholds_sgd_test = roc_curve(y_test, y_sgd_predict)\n",
    "fpr_log_reg_test, tpr_log_reg_test, thresholds_log_reg_test = roc_curve(y_test, log_reg_predict_proba_new)\n",
    "fpr_forest_test, tpr_forest_test, thresholds_forest_test = roc_curve(y_test, rf_predict_proba_new)\n",
    "# fpr_grb_test, tpr_grb_test, thresholds_grb_test = roc_curve(y_test, y_grb_predict_proba)\n",
    "fpr_xgb_test, tpr_xgb_test, thresholds_xgb_test = roc_curve(y_test, xgb_predict_proba_new)\n",
    "# fpr_lgbm_test, tpr_lgbm_test, thresholds_lgbm_test = roc_curve(y_test, y_lgbm_predict_proba)\n",
    "\n",
    "\n",
    "\n",
    "\n",
    "\n",
    "plt.figure(figsize=(8, 6))\n",
    "# plot_roc_curve(fpr_sgd_test, tpr_sgd_test, label=\"SGD\")\n",
    "plot_roc_curve(fpr_log_reg_test, tpr_log_reg_test, color=\"#b55167\", label=\"LogReg\")\n",
    "plot_roc_curve(fpr_forest_test, tpr_forest_test, color=\"#d000eb\", label=\"RF\")\n",
    "# plot_roc_curve(fpr_grb_test, tpr_grb_test, color=\"#ebc700\", label=\"GRB\")\n",
    "plot_roc_curve(fpr_xgb_test, tpr_xgb_test, color=\"r\", label=\"XGB\")\n",
    "# plot_roc_curve(fpr_lgbm_test, tpr_lgbm_test, color=\"c\", label=\"LGBM\")\n",
    "plt.legend()\n",
    "plt.show()"
   ]
  },
  {
   "cell_type": "code",
   "execution_count": 397,
   "id": "db165381",
   "metadata": {
    "ExecuteTime": {
     "end_time": "2022-08-31T19:05:31.585401Z",
     "start_time": "2022-08-31T19:05:31.467391Z"
    }
   },
   "outputs": [
    {
     "data": {
      "image/png": "[encoded data removed]",
      "text/plain": [
       "<Figure size 800x600 with 1 Axes>"
      ]
     },
     "metadata": {},
     "output_type": "display_data"
    }
   ],
   "source": [
    "# fpr_sgd_test, tpr_sgd_test, thresholds_sgd_test = roc_curve(y_test, y_sgd_predict)\n",
    "fpr_log_reg_test, tpr_log_reg_test, thresholds_log_reg_test = roc_curve(y_test, y_log_reg_predict_proba)\n",
    "fpr_forest_test, tpr_forest_test, thresholds_forest_test = roc_curve(y_test, y_forest_predict_proba)\n",
    "# fpr_grb_test, tpr_grb_test, thresholds_grb_test = roc_curve(y_test, y_grb_predict_proba)\n",
    "fpr_xgb_test, tpr_xgb_test, thresholds_xgb_test = roc_curve(y_test, y_xgb_predict_proba)\n",
    "# fpr_lgbm_test, tpr_lgbm_test, thresholds_lgbm_test = roc_curve(y_test, y_lgbm_predict_proba)\n",
    "\n",
    "\n",
    "\n",
    "\n",
    "\n",
    "plt.figure(figsize=(8, 6))\n",
    "# plot_roc_curve(fpr_sgd_test, tpr_sgd_test, label=\"SGD\")\n",
    "plot_roc_curve(fpr_log_reg_test, tpr_log_reg_test, color=\"#b55167\", label=\"LogReg\")\n",
    "plot_roc_curve(fpr_forest_test, tpr_forest_test, color=\"#d000eb\", label=\"RF\")\n",
    "# plot_roc_curve(fpr_grb_test, tpr_grb_test, color=\"#ebc700\", label=\"GRB\")\n",
    "plot_roc_curve(fpr_xgb_test, tpr_xgb_test, color=\"r\", label=\"XGB\")\n",
    "# plot_roc_curve(fpr_lgbm_test, tpr_lgbm_test, color=\"c\", label=\"LGBM\")\n",
    "plt.legend()\n",
    "plt.show()"
   ]
  },
  {
   "cell_type": "code",
   "execution_count": null,
   "id": "d065bf02",
   "metadata": {},
   "outputs": [],
   "source": []
  }
 ],
 "metadata": {
  "kernelspec": {
   "display_name": "Python [conda env:.conda-ss2022]",
   "language": "python",
   "name": "conda-env-.conda-ss2022-py"
  },
  "language_info": {
   "codemirror_mode": {
    "name": "ipython",
    "version": 3
   },
   "file_extension": ".py",
   "mimetype": "text/x-python",
   "name": "python",
   "nbconvert_exporter": "python",
   "pygments_lexer": "ipython3",
   "version": "3.10.6"
  },
  "latex_envs": {
   "LaTeX_envs_menu_present": true,
   "autoclose": false,
   "autocomplete": true,
   "bibliofile": "biblio.bib",
   "cite_by": "apalike",
   "current_citInitial": 1,
   "eqLabelWithNumbers": true,
   "eqNumInitial": 1,
   "hotkeys": {
    "equation": "Ctrl-E",
    "itemize": "Ctrl-I"
   },
   "labels_anchors": false,
   "latex_user_defs": false,
   "report_style_numbering": false,
   "user_envs_cfg": false
  },
  "toc": {
   "base_numbering": 1,
   "nav_menu": {},
   "number_sections": true,
   "sideBar": true,
   "skip_h1_title": false,
   "title_cell": "Table of Contents",
   "title_sidebar": "Contents",
   "toc_cell": false,
   "toc_position": {
    "height": "calc(100% - 180px)",
    "left": "10px",
    "top": "150px",
    "width": "339.2px"
   },
   "toc_section_display": true,
   "toc_window_display": true
  },
  "varInspector": {
   "cols": {
    "lenName": 16,
    "lenType": 16,
    "lenVar": 40
   },
   "kernels_config": {
    "python": {
     "delete_cmd_postfix": "",
     "delete_cmd_prefix": "del ",
     "library": "var_list.py",
     "varRefreshCmd": "print(var_dic_list())"
    },
    "r": {
     "delete_cmd_postfix": ") ",
     "delete_cmd_prefix": "rm(",
     "library": "var_list.r",
     "varRefreshCmd": "cat(var_dic_list()) "
    }
   },
   "oldHeight": 230.08333399999998,
   "position": {
    "height": "40px",
    "left": "1426px",
    "right": "20px",
    "top": "120px",
    "width": "250px"
   },
   "types_to_exclude": [
    "module",
    "function",
    "builtin_function_or_method",
    "instance",
    "_Feature"
   ],
   "varInspector_section_display": "none",
   "window_display": false
  }
 },
 "nbformat": 4,
 "nbformat_minor": 5
}
