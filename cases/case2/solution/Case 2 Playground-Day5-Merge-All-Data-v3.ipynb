{
 "cells": [
  {
   "cell_type": "code",
   "execution_count": 141,
   "id": "a1718c8c",
   "metadata": {
    "ExecuteTime": {
     "end_time": "2022-09-01T20:26:41.712088Z",
     "start_time": "2022-09-01T20:26:41.699576Z"
    }
   },
   "outputs": [],
   "source": [
    "import pandas as pd\n",
    "import numpy as np\n",
    "import random\n",
    "import string\n",
    "\n",
    "from sklearn.model_selection import train_test_split, cross_val_score, cross_val_predict, GridSearchCV, RepeatedStratifiedKFold\n",
    "from sklearn.preprocessing import StandardScaler\n",
    "from sklearn.linear_model import SGDClassifier, LogisticRegression\n",
    "from sklearn.metrics import confusion_matrix, RocCurveDisplay, plot_confusion_matrix, roc_curve, auc, roc_auc_score, precision_score, recall_score, f1_score, precision_recall_curve\n",
    "from sklearn.ensemble import RandomForestClassifier, GradientBoostingClassifier, RandomForestRegressor\n",
    "from xgboost import XGBClassifier\n",
    "from lightgbm import LGBMClassifier\n",
    "from numpy import arange, argmax\n",
    "from sklearn.metrics import accuracy_score, confusion_matrix,roc_curve, roc_auc_score, precision_score, recall_score, precision_recall_curve\n",
    "from sklearn.tree import DecisionTreeClassifier\n",
    "from sklearn import metrics\n",
    "from sklearn import tree\n",
    "\n",
    "import matplotlib.pyplot as plt\n",
    "%matplotlib inline\n",
    "\n",
    "from numpy import mean\n",
    "\n",
    "pd.set_option(\"display.max_columns\", 200)\n",
    "pd.set_option(\"display.max_rows\", 1500)\n",
    "pd.set_option(\"display.max_colwidth\", None)"
   ]
  },
  {
   "cell_type": "code",
   "execution_count": null,
   "id": "e3f5022f",
   "metadata": {},
   "outputs": [],
   "source": []
  },
  {
   "cell_type": "markdown",
   "id": "d8e9830a",
   "metadata": {},
   "source": [
    "## Load the data"
   ]
  },
  {
   "cell_type": "code",
   "execution_count": 142,
   "id": "a93e7987",
   "metadata": {
    "ExecuteTime": {
     "end_time": "2022-09-01T20:26:43.932052Z",
     "start_time": "2022-09-01T20:26:41.759004Z"
    }
   },
   "outputs": [],
   "source": [
    "balances_df = pd.read_csv(\"balances.csv\", sep=\";\")\n",
    "collateral_df = pd.read_csv(\"collateral.csv\", sep=\";\")\n",
    "customers_df = pd.read_csv(\"customers.csv\", sep=\";\")\n",
    "\n",
    "\n",
    "balances_prep = pd.read_csv(\"balances_prep_simple_v2.csv\")\n",
    "balances_prep.drop(\"Unnamed: 0\", axis=1, inplace=True)"
   ]
  },
  {
   "cell_type": "code",
   "execution_count": null,
   "id": "ef9d011b",
   "metadata": {},
   "outputs": [],
   "source": []
  },
  {
   "cell_type": "markdown",
   "id": "3a88150a",
   "metadata": {},
   "source": [
    "## Explore balances_prep"
   ]
  },
  {
   "cell_type": "code",
   "execution_count": 143,
   "id": "13f58bec",
   "metadata": {
    "ExecuteTime": {
     "end_time": "2022-09-01T20:26:43.979595Z",
     "start_time": "2022-09-01T20:26:43.934058Z"
    }
   },
   "outputs": [
    {
     "name": "stdout",
     "output_type": "stream",
     "text": [
      "<class 'pandas.core.frame.DataFrame'>\n",
      "RangeIndex: 39339 entries, 0 to 39338\n",
      "Data columns (total 65 columns):\n",
      " #   Column                                       Non-Null Count  Dtype  \n",
      "---  ------                                       --------------  -----  \n",
      " 0   customer_id_                                 39339 non-null  object \n",
      " 1   account_id_                                  39339 non-null  object \n",
      " 2   open_date_                                   39339 non-null  object \n",
      " 3   original_principal_min                       39339 non-null  int64  \n",
      " 4   original_principal_max                       39339 non-null  int64  \n",
      " 5   original_principal_std                       39339 non-null  float64\n",
      " 6   original_principal_max_minus_min             39339 non-null  int64  \n",
      " 7   reporting_date_count                         39339 non-null  int64  \n",
      " 8   total_cust_exposure_min                      39339 non-null  int64  \n",
      " 9   total_cust_exposure_max                      39339 non-null  int64  \n",
      " 10  overdraft_min                                39339 non-null  int64  \n",
      " 11  overdraft_max                                39339 non-null  int64  \n",
      " 12  overdraft_size                               39339 non-null  int64  \n",
      " 13  overdraft_count0                             39339 non-null  int64  \n",
      " 14  overdraft_count1                             39339 non-null  int64  \n",
      " 15  overdraft_count2plus                         39339 non-null  int64  \n",
      " 16  consumer_loan_min                            39339 non-null  int64  \n",
      " 17  consumer_loan_max                            39339 non-null  int64  \n",
      " 18  consumer_loan_size                           39339 non-null  int64  \n",
      " 19  consumer_loan_count0                         39339 non-null  int64  \n",
      " 20  consumer_loan_count1                         39339 non-null  int64  \n",
      " 21  consumer_loan_count2plus                     39339 non-null  int64  \n",
      " 22  credit_card_min                              39339 non-null  int64  \n",
      " 23  credit_card_max                              39339 non-null  int64  \n",
      " 24  credit_card_size                             39339 non-null  int64  \n",
      " 25  credit_card_count0                           39339 non-null  int64  \n",
      " 26  credit_card_count1                           39339 non-null  int64  \n",
      " 27  credit_card_count2plus                       39339 non-null  int64  \n",
      " 28  customer_rating_min                          39339 non-null  float64\n",
      " 29  customer_rating_max                          39339 non-null  float64\n",
      " 30  customer_rating_modeX                        39339 non-null  float64\n",
      " 31  maturity_date_min                            39339 non-null  object \n",
      " 32  maturity_date_max                            39339 non-null  object \n",
      " 33  maturity_date_max_minus_min                  39339 non-null  int64  \n",
      " 34  prepayment_status_unique                     39339 non-null  object \n",
      " 35  l_period_min                                 39339 non-null  int64  \n",
      " 36  l_period_max                                 39339 non-null  int64  \n",
      " 37  l_period_max_minus_min                       39339 non-null  int64  \n",
      " 38  interest_rate_min                            39339 non-null  float64\n",
      " 39  interest_rate_max                            39339 non-null  float64\n",
      " 40  interest_rate_max_minus_min                  39339 non-null  float64\n",
      " 41  interest_rate_modeX                          39339 non-null  float64\n",
      " 42  exp_monthly_payments_min                     39339 non-null  float64\n",
      " 43  exp_monthly_payments_max                     39339 non-null  float64\n",
      " 44  exp_monthly_payments_std                     39339 non-null  float64\n",
      " 45  exp_monthly_payments_max_minus_min           39339 non-null  float64\n",
      " 46  current_principal_min                        39339 non-null  int64  \n",
      " 47  current_principal_max                        39339 non-null  int64  \n",
      " 48  current_principal_max_minus_min              39339 non-null  int64  \n",
      " 49  interest_payment_min                         39339 non-null  float64\n",
      " 50  interest_payment_max                         39339 non-null  float64\n",
      " 51  interest_payment_max_minus_min               39339 non-null  float64\n",
      " 52  principal_payment_min                        39339 non-null  float64\n",
      " 53  principal_payment_max                        39339 non-null  float64\n",
      " 54  principal_payment_max_minus_min              39339 non-null  float64\n",
      " 55  deducted_principal_min                       39339 non-null  float64\n",
      " 56  deducted_principal_max                       39339 non-null  float64\n",
      " 57  deducted_principal_max_minus_min             39339 non-null  float64\n",
      " 58  deducted_vs_principal_payment_min            39339 non-null  float64\n",
      " 59  deducted_vs_principal_payment_max            39339 non-null  float64\n",
      " 60  deducted_vs_principal_payment_mean           39339 non-null  float64\n",
      " 61  deducted_vs_principal_payment_max_minus_min  39339 non-null  float64\n",
      " 62  principal_left_pctg_min                      39339 non-null  float64\n",
      " 63  principal_left_pctg_max                      39339 non-null  float64\n",
      " 64  principal_left_pctg_max_minus_min            39339 non-null  float64\n",
      "dtypes: float64(28), int64(31), object(6)\n",
      "memory usage: 19.5+ MB\n"
     ]
    }
   ],
   "source": [
    "balances_prep.info()"
   ]
  },
  {
   "cell_type": "code",
   "execution_count": 144,
   "id": "a102be34",
   "metadata": {
    "ExecuteTime": {
     "end_time": "2022-09-01T20:26:43.995595Z",
     "start_time": "2022-09-01T20:26:43.980597Z"
    }
   },
   "outputs": [],
   "source": [
    "def new_labels(row):\n",
    "    return 0 if row[\"prepayment_status_unique\"] == \"['no']\" else 1"
   ]
  },
  {
   "cell_type": "code",
   "execution_count": 145,
   "id": "16ce1218",
   "metadata": {
    "ExecuteTime": {
     "end_time": "2022-09-01T20:26:44.311595Z",
     "start_time": "2022-09-01T20:26:43.997600Z"
    }
   },
   "outputs": [],
   "source": [
    "balances_prep[\"prepayment_status_unique\"] = balances_prep.apply(new_labels, axis=1)"
   ]
  },
  {
   "cell_type": "code",
   "execution_count": null,
   "id": "f8da4a19",
   "metadata": {},
   "outputs": [],
   "source": []
  },
  {
   "cell_type": "code",
   "execution_count": null,
   "id": "3d3cd569",
   "metadata": {},
   "outputs": [],
   "source": []
  },
  {
   "cell_type": "markdown",
   "id": "4f7c82f6",
   "metadata": {},
   "source": [
    "## Explore customers_df"
   ]
  },
  {
   "cell_type": "code",
   "execution_count": 146,
   "id": "4e6e144a",
   "metadata": {
    "ExecuteTime": {
     "end_time": "2022-09-01T20:26:44.343152Z",
     "start_time": "2022-09-01T20:26:44.312607Z"
    }
   },
   "outputs": [
    {
     "name": "stdout",
     "output_type": "stream",
     "text": [
      "<class 'pandas.core.frame.DataFrame'>\n",
      "RangeIndex: 34515 entries, 0 to 34514\n",
      "Data columns (total 8 columns):\n",
      " #   Column           Non-Null Count  Dtype \n",
      "---  ------           --------------  ----- \n",
      " 0   customer_id      34515 non-null  object\n",
      " 1   age              34515 non-null  object\n",
      " 2   maritial_status  34515 non-null  object\n",
      " 3   town             31440 non-null  object\n",
      " 4   empl_type        34515 non-null  object\n",
      " 5   profession       34515 non-null  int64 \n",
      " 6   tot_mnth_income  34515 non-null  int64 \n",
      " 7   gross_salary     34515 non-null  int64 \n",
      "dtypes: int64(3), object(5)\n",
      "memory usage: 2.1+ MB\n"
     ]
    }
   ],
   "source": [
    "customers_df.info()"
   ]
  },
  {
   "cell_type": "code",
   "execution_count": 147,
   "id": "7872e011",
   "metadata": {
    "ExecuteTime": {
     "end_time": "2022-09-01T20:26:44.359153Z",
     "start_time": "2022-09-01T20:26:44.344154Z"
    }
   },
   "outputs": [
    {
     "data": {
      "text/html": [
       "<div>\n",
       "<style scoped>\n",
       "    .dataframe tbody tr th:only-of-type {\n",
       "        vertical-align: middle;\n",
       "    }\n",
       "\n",
       "    .dataframe tbody tr th {\n",
       "        vertical-align: top;\n",
       "    }\n",
       "\n",
       "    .dataframe thead th {\n",
       "        text-align: right;\n",
       "    }\n",
       "</style>\n",
       "<table border=\"1\" class=\"dataframe\">\n",
       "  <thead>\n",
       "    <tr style=\"text-align: right;\">\n",
       "      <th></th>\n",
       "      <th>profession</th>\n",
       "      <th>tot_mnth_income</th>\n",
       "      <th>gross_salary</th>\n",
       "    </tr>\n",
       "  </thead>\n",
       "  <tbody>\n",
       "    <tr>\n",
       "      <th>count</th>\n",
       "      <td>34515.000000</td>\n",
       "      <td>34515.000000</td>\n",
       "      <td>3.451500e+04</td>\n",
       "    </tr>\n",
       "    <tr>\n",
       "      <th>mean</th>\n",
       "      <td>24.811444</td>\n",
       "      <td>2613.860930</td>\n",
       "      <td>2.101830e+03</td>\n",
       "    </tr>\n",
       "    <tr>\n",
       "      <th>std</th>\n",
       "      <td>13.471852</td>\n",
       "      <td>9573.384642</td>\n",
       "      <td>7.965116e+03</td>\n",
       "    </tr>\n",
       "    <tr>\n",
       "      <th>min</th>\n",
       "      <td>0.000000</td>\n",
       "      <td>0.000000</td>\n",
       "      <td>0.000000e+00</td>\n",
       "    </tr>\n",
       "    <tr>\n",
       "      <th>25%</th>\n",
       "      <td>11.000000</td>\n",
       "      <td>994.000000</td>\n",
       "      <td>7.130000e+02</td>\n",
       "    </tr>\n",
       "    <tr>\n",
       "      <th>50%</th>\n",
       "      <td>27.000000</td>\n",
       "      <td>1555.000000</td>\n",
       "      <td>1.398000e+03</td>\n",
       "    </tr>\n",
       "    <tr>\n",
       "      <th>75%</th>\n",
       "      <td>36.000000</td>\n",
       "      <td>2525.500000</td>\n",
       "      <td>2.411000e+03</td>\n",
       "    </tr>\n",
       "    <tr>\n",
       "      <th>max</th>\n",
       "      <td>44.000000</td>\n",
       "      <td>868284.000000</td>\n",
       "      <td>1.116359e+06</td>\n",
       "    </tr>\n",
       "  </tbody>\n",
       "</table>\n",
       "</div>"
      ],
      "text/plain": [
       "         profession  tot_mnth_income  gross_salary\n",
       "count  34515.000000     34515.000000  3.451500e+04\n",
       "mean      24.811444      2613.860930  2.101830e+03\n",
       "std       13.471852      9573.384642  7.965116e+03\n",
       "min        0.000000         0.000000  0.000000e+00\n",
       "25%       11.000000       994.000000  7.130000e+02\n",
       "50%       27.000000      1555.000000  1.398000e+03\n",
       "75%       36.000000      2525.500000  2.411000e+03\n",
       "max       44.000000    868284.000000  1.116359e+06"
      ]
     },
     "execution_count": 147,
     "metadata": {},
     "output_type": "execute_result"
    }
   ],
   "source": [
    "customers_df.describe()"
   ]
  },
  {
   "cell_type": "code",
   "execution_count": 148,
   "id": "8f281f96",
   "metadata": {
    "ExecuteTime": {
     "end_time": "2022-09-01T20:26:44.375153Z",
     "start_time": "2022-09-01T20:26:44.360155Z"
    }
   },
   "outputs": [
    {
     "data": {
      "text/html": [
       "<div>\n",
       "<style scoped>\n",
       "    .dataframe tbody tr th:only-of-type {\n",
       "        vertical-align: middle;\n",
       "    }\n",
       "\n",
       "    .dataframe tbody tr th {\n",
       "        vertical-align: top;\n",
       "    }\n",
       "\n",
       "    .dataframe thead th {\n",
       "        text-align: right;\n",
       "    }\n",
       "</style>\n",
       "<table border=\"1\" class=\"dataframe\">\n",
       "  <thead>\n",
       "    <tr style=\"text-align: right;\">\n",
       "      <th></th>\n",
       "      <th>customer_id</th>\n",
       "      <th>age</th>\n",
       "      <th>maritial_status</th>\n",
       "      <th>town</th>\n",
       "      <th>empl_type</th>\n",
       "      <th>profession</th>\n",
       "      <th>tot_mnth_income</th>\n",
       "      <th>gross_salary</th>\n",
       "    </tr>\n",
       "  </thead>\n",
       "  <tbody>\n",
       "    <tr>\n",
       "      <th>0</th>\n",
       "      <td>0x966001FD3EF723FC5F</td>\n",
       "      <td>Q251</td>\n",
       "      <td>U67</td>\n",
       "      <td>Sofia</td>\n",
       "      <td>I508</td>\n",
       "      <td>2</td>\n",
       "      <td>5138</td>\n",
       "      <td>6000</td>\n",
       "    </tr>\n",
       "    <tr>\n",
       "      <th>1</th>\n",
       "      <td>0xBA04902FFAA73BF01A</td>\n",
       "      <td>Z829</td>\n",
       "      <td>K16</td>\n",
       "      <td>Smolyan</td>\n",
       "      <td>Q237</td>\n",
       "      <td>11</td>\n",
       "      <td>3551</td>\n",
       "      <td>119</td>\n",
       "    </tr>\n",
       "    <tr>\n",
       "      <th>2</th>\n",
       "      <td>0xC28B6C6C55416E68A9</td>\n",
       "      <td>Z829</td>\n",
       "      <td>A49</td>\n",
       "      <td>Plovdiv</td>\n",
       "      <td>R412</td>\n",
       "      <td>6</td>\n",
       "      <td>1384</td>\n",
       "      <td>119</td>\n",
       "    </tr>\n",
       "    <tr>\n",
       "      <th>3</th>\n",
       "      <td>0x07C6BA3D65466D8A6A</td>\n",
       "      <td>J454</td>\n",
       "      <td>U67</td>\n",
       "      <td>Sofia</td>\n",
       "      <td>I508</td>\n",
       "      <td>41</td>\n",
       "      <td>1652</td>\n",
       "      <td>1128</td>\n",
       "    </tr>\n",
       "    <tr>\n",
       "      <th>4</th>\n",
       "      <td>0xF49D6CCED11944AB48</td>\n",
       "      <td>G219</td>\n",
       "      <td>U67</td>\n",
       "      <td>Sofia</td>\n",
       "      <td>I508</td>\n",
       "      <td>10</td>\n",
       "      <td>9655</td>\n",
       "      <td>11225</td>\n",
       "    </tr>\n",
       "  </tbody>\n",
       "</table>\n",
       "</div>"
      ],
      "text/plain": [
       "            customer_id   age maritial_status     town empl_type  profession  \\\n",
       "0  0x966001FD3EF723FC5F  Q251             U67    Sofia      I508           2   \n",
       "1  0xBA04902FFAA73BF01A  Z829             K16  Smolyan      Q237          11   \n",
       "2  0xC28B6C6C55416E68A9  Z829             A49  Plovdiv      R412           6   \n",
       "3  0x07C6BA3D65466D8A6A  J454             U67    Sofia      I508          41   \n",
       "4  0xF49D6CCED11944AB48  G219             U67    Sofia      I508          10   \n",
       "\n",
       "   tot_mnth_income  gross_salary  \n",
       "0             5138          6000  \n",
       "1             3551           119  \n",
       "2             1384           119  \n",
       "3             1652          1128  \n",
       "4             9655         11225  "
      ]
     },
     "execution_count": 148,
     "metadata": {},
     "output_type": "execute_result"
    }
   ],
   "source": [
    "customers_df.head()"
   ]
  },
  {
   "cell_type": "code",
   "execution_count": null,
   "id": "0a05c9d4",
   "metadata": {},
   "outputs": [],
   "source": []
  },
  {
   "cell_type": "code",
   "execution_count": null,
   "id": "91d7cf51",
   "metadata": {},
   "outputs": [],
   "source": []
  },
  {
   "cell_type": "code",
   "execution_count": null,
   "id": "41834505",
   "metadata": {},
   "outputs": [],
   "source": []
  },
  {
   "cell_type": "code",
   "execution_count": null,
   "id": "fdec74d7",
   "metadata": {},
   "outputs": [],
   "source": []
  },
  {
   "cell_type": "markdown",
   "id": "ba0ee790",
   "metadata": {},
   "source": [
    "### Explore columns"
   ]
  },
  {
   "cell_type": "markdown",
   "id": "719b846e",
   "metadata": {},
   "source": [
    "#### Age"
   ]
  },
  {
   "cell_type": "code",
   "execution_count": 149,
   "id": "aa2a48cc",
   "metadata": {
    "ExecuteTime": {
     "end_time": "2022-09-01T20:26:44.391152Z",
     "start_time": "2022-09-01T20:26:44.376154Z"
    }
   },
   "outputs": [
    {
     "data": {
      "text/plain": [
       "P508    7775\n",
       "T555    6815\n",
       "Z829    6409\n",
       "G219    4898\n",
       "Q251    3172\n",
       "A788    2426\n",
       "J454    1876\n",
       "H294     766\n",
       "X693     179\n",
       "M764     110\n",
       "F953      54\n",
       "O456      32\n",
       "S205       2\n",
       "W677       1\n",
       "Name: age, dtype: int64"
      ]
     },
     "execution_count": 149,
     "metadata": {},
     "output_type": "execute_result"
    }
   ],
   "source": [
    "customers_df[\"age\"].value_counts()"
   ]
  },
  {
   "cell_type": "code",
   "execution_count": 150,
   "id": "acd0d836",
   "metadata": {
    "ExecuteTime": {
     "end_time": "2022-09-01T20:26:44.407152Z",
     "start_time": "2022-09-01T20:26:44.392153Z"
    }
   },
   "outputs": [
    {
     "data": {
      "text/plain": [
       "14"
      ]
     },
     "execution_count": 150,
     "metadata": {},
     "output_type": "execute_result"
    }
   ],
   "source": [
    "len(customers_df[\"age\"].value_counts())"
   ]
  },
  {
   "cell_type": "code",
   "execution_count": null,
   "id": "42464864",
   "metadata": {},
   "outputs": [],
   "source": []
  },
  {
   "cell_type": "markdown",
   "id": "7ae66068",
   "metadata": {},
   "source": [
    "#### marital_status"
   ]
  },
  {
   "cell_type": "code",
   "execution_count": 151,
   "id": "71211fff",
   "metadata": {
    "ExecuteTime": {
     "end_time": "2022-09-01T20:26:44.423152Z",
     "start_time": "2022-09-01T20:26:44.410155Z"
    }
   },
   "outputs": [
    {
     "data": {
      "text/plain": [
       "K16    15913\n",
       "U67    12934\n",
       "A49     3549\n",
       "M45      764\n",
       "O32      739\n",
       "Q37      375\n",
       "I63      241\n",
       "Name: maritial_status, dtype: int64"
      ]
     },
     "execution_count": 151,
     "metadata": {},
     "output_type": "execute_result"
    }
   ],
   "source": [
    "customers_df[\"maritial_status\"].value_counts()"
   ]
  },
  {
   "cell_type": "code",
   "execution_count": 152,
   "id": "b412171c",
   "metadata": {
    "ExecuteTime": {
     "end_time": "2022-09-01T20:26:44.439152Z",
     "start_time": "2022-09-01T20:26:44.424156Z"
    }
   },
   "outputs": [
    {
     "data": {
      "text/plain": [
       "7"
      ]
     },
     "execution_count": 152,
     "metadata": {},
     "output_type": "execute_result"
    }
   ],
   "source": [
    "len(customers_df[\"maritial_status\"].value_counts())"
   ]
  },
  {
   "cell_type": "code",
   "execution_count": null,
   "id": "2e13fb75",
   "metadata": {},
   "outputs": [],
   "source": []
  },
  {
   "cell_type": "markdown",
   "id": "6175bd71",
   "metadata": {},
   "source": [
    "#### town"
   ]
  },
  {
   "cell_type": "markdown",
   "id": "aa2652aa",
   "metadata": {},
   "source": [
    "Мога да ги сложа в три категории - столица, големи, малки градове"
   ]
  },
  {
   "cell_type": "code",
   "execution_count": 153,
   "id": "2d223f23",
   "metadata": {
    "ExecuteTime": {
     "end_time": "2022-09-01T20:26:44.455153Z",
     "start_time": "2022-09-01T20:26:44.441154Z"
    }
   },
   "outputs": [
    {
     "data": {
      "text/plain": [
       "Sofia             8958\n",
       "Plovdiv           4547\n",
       "Varna             2565\n",
       "Burgas            2172\n",
       "Veliko Tarnovo    1699\n",
       "Stara Zagora      1558\n",
       "Blagoevgrad       1073\n",
       "Vratsa            1048\n",
       "Pleven             945\n",
       "Ruse               797\n",
       "Shumen             741\n",
       "Pazardzhik         655\n",
       "Haskovo            588\n",
       "Montana            553\n",
       "Dobrich            447\n",
       "Yambol             417\n",
       "Razgrad            343\n",
       "Pernik             339\n",
       "Vidin              327\n",
       "Gabrovo            311\n",
       "Lovech             270\n",
       "Smolyan            257\n",
       "Silistra           202\n",
       "Kardzhali          194\n",
       "Kyustendil         184\n",
       "Sliven             163\n",
       "Targovishte         87\n",
       "Name: town, dtype: int64"
      ]
     },
     "execution_count": 153,
     "metadata": {},
     "output_type": "execute_result"
    }
   ],
   "source": [
    "customers_df[\"town\"].value_counts()"
   ]
  },
  {
   "cell_type": "code",
   "execution_count": 154,
   "id": "24336e4c",
   "metadata": {
    "ExecuteTime": {
     "end_time": "2022-09-01T20:26:44.470152Z",
     "start_time": "2022-09-01T20:26:44.457152Z"
    }
   },
   "outputs": [
    {
     "data": {
      "text/plain": [
       "27"
      ]
     },
     "execution_count": 154,
     "metadata": {},
     "output_type": "execute_result"
    }
   ],
   "source": [
    "len(customers_df[\"town\"].value_counts())"
   ]
  },
  {
   "cell_type": "markdown",
   "id": "d76a9890",
   "metadata": {},
   "source": [
    "разпределението на градове се базира на:\n",
    "https://bg.wikipedia.org/wiki/%D0%A1%D0%BF%D0%B8%D1%81%D1%8A%D0%BA_%D0%BD%D0%B0_%D0%B3%D1%80%D0%B0%D0%B4%D0%BE%D0%B2%D0%B5%D1%82%D0%B5_%D0%B2_%D0%91%D1%8A%D0%BB%D0%B3%D0%B0%D1%80%D0%B8%D1%8F_%D0%BF%D0%BE_%D0%BD%D0%B0%D1%81%D0%B5%D0%BB%D0%B5%D0%BD%D0%B8%D0%B5"
   ]
  },
  {
   "cell_type": "code",
   "execution_count": 155,
   "id": "e679c348",
   "metadata": {
    "ExecuteTime": {
     "end_time": "2022-09-01T20:26:44.485153Z",
     "start_time": "2022-09-01T20:26:44.471154Z"
    }
   },
   "outputs": [],
   "source": [
    "major_towns = [\"Plovdiv\", \"Varna\"]\n",
    "big_towns = [\"Burgas\", \"Ruse\", \"Stara Zagora\", \"Pleven\"]\n",
    "medium_towns = [\"Sliven\", \n",
    "                \"Dobrich\", \n",
    "                \"Shumen\", \n",
    "                \"Pernik\", \n",
    "                \"Haskovo\", \n",
    "                \"Yambol\", \n",
    "                \"Pazardzhik\", \n",
    "                \"Blagoevgrad\", \n",
    "                \"Veliko Tarnovo\", \n",
    "                \"Vratsa\", \n",
    "                \"Gabrovo\", \n",
    "                \"Asenovgrad\", \n",
    "                \"Vidin\", \n",
    "                \"Kazanlak\", \n",
    "                \"Kyustendil\", \n",
    "                \"Kardzhali\", \n",
    "                \"Montana\", \n",
    "                \"Dimitrovgrad\", \n",
    "                \"Targovishte\", \n",
    "                \"Lovech\", \n",
    "                \"Silistra\", \n",
    "                \"Razgrad\", \n",
    "                \"Dupnitsa\", \n",
    "                \"Gorna Oryahovitsa\", \n",
    "                \"Smolyan\", \n",
    "                \"Svishtov\"]\n",
    "\n",
    "\n",
    "\n",
    "def new_town_labels(row):\n",
    "    \n",
    "#     print(row)\n",
    "    if row == \"Sofia\":\n",
    "        return \"Capital\"\n",
    "    elif row in major_towns:\n",
    "        return \"Major Town\"\n",
    "    elif row in big_towns:\n",
    "        return \"Big Town\"\n",
    "    elif row in medium_towns:\n",
    "        return \"MediumS Town\"\n",
    "    else:\n",
    "        return np.nan"
   ]
  },
  {
   "cell_type": "code",
   "execution_count": 156,
   "id": "b62b6f6e",
   "metadata": {
    "ExecuteTime": {
     "end_time": "2022-09-01T20:26:44.500152Z",
     "start_time": "2022-09-01T20:26:44.486154Z"
    }
   },
   "outputs": [],
   "source": []
  },
  {
   "cell_type": "code",
   "execution_count": 157,
   "id": "6fb680f6",
   "metadata": {
    "ExecuteTime": {
     "end_time": "2022-09-01T20:26:44.515152Z",
     "start_time": "2022-09-01T20:26:44.501157Z"
    }
   },
   "outputs": [
    {
     "data": {
      "text/html": [
       "<div>\n",
       "<style scoped>\n",
       "    .dataframe tbody tr th:only-of-type {\n",
       "        vertical-align: middle;\n",
       "    }\n",
       "\n",
       "    .dataframe tbody tr th {\n",
       "        vertical-align: top;\n",
       "    }\n",
       "\n",
       "    .dataframe thead th {\n",
       "        text-align: right;\n",
       "    }\n",
       "</style>\n",
       "<table border=\"1\" class=\"dataframe\">\n",
       "  <thead>\n",
       "    <tr style=\"text-align: right;\">\n",
       "      <th></th>\n",
       "      <th>town</th>\n",
       "      <th>town_transformed</th>\n",
       "    </tr>\n",
       "  </thead>\n",
       "  <tbody>\n",
       "    <tr>\n",
       "      <th>0</th>\n",
       "      <td>Sofia</td>\n",
       "      <td>Capital</td>\n",
       "    </tr>\n",
       "    <tr>\n",
       "      <th>1</th>\n",
       "      <td>Smolyan</td>\n",
       "      <td>MediumS Town</td>\n",
       "    </tr>\n",
       "    <tr>\n",
       "      <th>2</th>\n",
       "      <td>Plovdiv</td>\n",
       "      <td>Major Town</td>\n",
       "    </tr>\n",
       "    <tr>\n",
       "      <th>3</th>\n",
       "      <td>Sofia</td>\n",
       "      <td>Capital</td>\n",
       "    </tr>\n",
       "    <tr>\n",
       "      <th>4</th>\n",
       "      <td>Sofia</td>\n",
       "      <td>Capital</td>\n",
       "    </tr>\n",
       "    <tr>\n",
       "      <th>5</th>\n",
       "      <td>Plovdiv</td>\n",
       "      <td>Major Town</td>\n",
       "    </tr>\n",
       "    <tr>\n",
       "      <th>6</th>\n",
       "      <td>Stara Zagora</td>\n",
       "      <td>Big Town</td>\n",
       "    </tr>\n",
       "    <tr>\n",
       "      <th>7</th>\n",
       "      <td>Veliko Tarnovo</td>\n",
       "      <td>MediumS Town</td>\n",
       "    </tr>\n",
       "    <tr>\n",
       "      <th>8</th>\n",
       "      <td>Sofia</td>\n",
       "      <td>Capital</td>\n",
       "    </tr>\n",
       "    <tr>\n",
       "      <th>9</th>\n",
       "      <td>Varna</td>\n",
       "      <td>Major Town</td>\n",
       "    </tr>\n",
       "    <tr>\n",
       "      <th>10</th>\n",
       "      <td>Sofia</td>\n",
       "      <td>Capital</td>\n",
       "    </tr>\n",
       "    <tr>\n",
       "      <th>11</th>\n",
       "      <td>Lovech</td>\n",
       "      <td>MediumS Town</td>\n",
       "    </tr>\n",
       "    <tr>\n",
       "      <th>12</th>\n",
       "      <td>Plovdiv</td>\n",
       "      <td>Major Town</td>\n",
       "    </tr>\n",
       "    <tr>\n",
       "      <th>13</th>\n",
       "      <td>Plovdiv</td>\n",
       "      <td>Major Town</td>\n",
       "    </tr>\n",
       "    <tr>\n",
       "      <th>14</th>\n",
       "      <td>Plovdiv</td>\n",
       "      <td>Major Town</td>\n",
       "    </tr>\n",
       "    <tr>\n",
       "      <th>15</th>\n",
       "      <td>Plovdiv</td>\n",
       "      <td>Major Town</td>\n",
       "    </tr>\n",
       "    <tr>\n",
       "      <th>16</th>\n",
       "      <td>Plovdiv</td>\n",
       "      <td>Major Town</td>\n",
       "    </tr>\n",
       "    <tr>\n",
       "      <th>17</th>\n",
       "      <td>Plovdiv</td>\n",
       "      <td>Major Town</td>\n",
       "    </tr>\n",
       "    <tr>\n",
       "      <th>18</th>\n",
       "      <td>Plovdiv</td>\n",
       "      <td>Major Town</td>\n",
       "    </tr>\n",
       "    <tr>\n",
       "      <th>19</th>\n",
       "      <td>Plovdiv</td>\n",
       "      <td>Major Town</td>\n",
       "    </tr>\n",
       "    <tr>\n",
       "      <th>20</th>\n",
       "      <td>Plovdiv</td>\n",
       "      <td>Major Town</td>\n",
       "    </tr>\n",
       "    <tr>\n",
       "      <th>21</th>\n",
       "      <td>Sofia</td>\n",
       "      <td>Capital</td>\n",
       "    </tr>\n",
       "    <tr>\n",
       "      <th>22</th>\n",
       "      <td>Plovdiv</td>\n",
       "      <td>Major Town</td>\n",
       "    </tr>\n",
       "    <tr>\n",
       "      <th>23</th>\n",
       "      <td>Plovdiv</td>\n",
       "      <td>Major Town</td>\n",
       "    </tr>\n",
       "    <tr>\n",
       "      <th>24</th>\n",
       "      <td>Plovdiv</td>\n",
       "      <td>Major Town</td>\n",
       "    </tr>\n",
       "    <tr>\n",
       "      <th>25</th>\n",
       "      <td>Plovdiv</td>\n",
       "      <td>Major Town</td>\n",
       "    </tr>\n",
       "    <tr>\n",
       "      <th>26</th>\n",
       "      <td>Plovdiv</td>\n",
       "      <td>Major Town</td>\n",
       "    </tr>\n",
       "    <tr>\n",
       "      <th>27</th>\n",
       "      <td>Plovdiv</td>\n",
       "      <td>Major Town</td>\n",
       "    </tr>\n",
       "    <tr>\n",
       "      <th>28</th>\n",
       "      <td>Plovdiv</td>\n",
       "      <td>Major Town</td>\n",
       "    </tr>\n",
       "    <tr>\n",
       "      <th>29</th>\n",
       "      <td>Plovdiv</td>\n",
       "      <td>Major Town</td>\n",
       "    </tr>\n",
       "    <tr>\n",
       "      <th>30</th>\n",
       "      <td>Stara Zagora</td>\n",
       "      <td>Big Town</td>\n",
       "    </tr>\n",
       "    <tr>\n",
       "      <th>31</th>\n",
       "      <td>Blagoevgrad</td>\n",
       "      <td>MediumS Town</td>\n",
       "    </tr>\n",
       "    <tr>\n",
       "      <th>32</th>\n",
       "      <td>Sofia</td>\n",
       "      <td>Capital</td>\n",
       "    </tr>\n",
       "    <tr>\n",
       "      <th>33</th>\n",
       "      <td>Sofia</td>\n",
       "      <td>Capital</td>\n",
       "    </tr>\n",
       "    <tr>\n",
       "      <th>34</th>\n",
       "      <td>Sofia</td>\n",
       "      <td>Capital</td>\n",
       "    </tr>\n",
       "    <tr>\n",
       "      <th>35</th>\n",
       "      <td>NaN</td>\n",
       "      <td>NaN</td>\n",
       "    </tr>\n",
       "    <tr>\n",
       "      <th>36</th>\n",
       "      <td>Plovdiv</td>\n",
       "      <td>Major Town</td>\n",
       "    </tr>\n",
       "    <tr>\n",
       "      <th>37</th>\n",
       "      <td>Plovdiv</td>\n",
       "      <td>Major Town</td>\n",
       "    </tr>\n",
       "    <tr>\n",
       "      <th>38</th>\n",
       "      <td>Stara Zagora</td>\n",
       "      <td>Big Town</td>\n",
       "    </tr>\n",
       "    <tr>\n",
       "      <th>39</th>\n",
       "      <td>NaN</td>\n",
       "      <td>NaN</td>\n",
       "    </tr>\n",
       "    <tr>\n",
       "      <th>40</th>\n",
       "      <td>Plovdiv</td>\n",
       "      <td>Major Town</td>\n",
       "    </tr>\n",
       "    <tr>\n",
       "      <th>41</th>\n",
       "      <td>Sofia</td>\n",
       "      <td>Capital</td>\n",
       "    </tr>\n",
       "    <tr>\n",
       "      <th>42</th>\n",
       "      <td>Sofia</td>\n",
       "      <td>Capital</td>\n",
       "    </tr>\n",
       "    <tr>\n",
       "      <th>43</th>\n",
       "      <td>Plovdiv</td>\n",
       "      <td>Major Town</td>\n",
       "    </tr>\n",
       "    <tr>\n",
       "      <th>44</th>\n",
       "      <td>Sofia</td>\n",
       "      <td>Capital</td>\n",
       "    </tr>\n",
       "    <tr>\n",
       "      <th>45</th>\n",
       "      <td>Veliko Tarnovo</td>\n",
       "      <td>MediumS Town</td>\n",
       "    </tr>\n",
       "    <tr>\n",
       "      <th>46</th>\n",
       "      <td>NaN</td>\n",
       "      <td>NaN</td>\n",
       "    </tr>\n",
       "    <tr>\n",
       "      <th>47</th>\n",
       "      <td>Veliko Tarnovo</td>\n",
       "      <td>MediumS Town</td>\n",
       "    </tr>\n",
       "    <tr>\n",
       "      <th>48</th>\n",
       "      <td>Veliko Tarnovo</td>\n",
       "      <td>MediumS Town</td>\n",
       "    </tr>\n",
       "    <tr>\n",
       "      <th>49</th>\n",
       "      <td>NaN</td>\n",
       "      <td>NaN</td>\n",
       "    </tr>\n",
       "    <tr>\n",
       "      <th>50</th>\n",
       "      <td>Veliko Tarnovo</td>\n",
       "      <td>MediumS Town</td>\n",
       "    </tr>\n",
       "  </tbody>\n",
       "</table>\n",
       "</div>"
      ],
      "text/plain": [
       "              town town_transformed\n",
       "0            Sofia          Capital\n",
       "1          Smolyan     MediumS Town\n",
       "2          Plovdiv       Major Town\n",
       "3            Sofia          Capital\n",
       "4            Sofia          Capital\n",
       "5          Plovdiv       Major Town\n",
       "6     Stara Zagora         Big Town\n",
       "7   Veliko Tarnovo     MediumS Town\n",
       "8            Sofia          Capital\n",
       "9            Varna       Major Town\n",
       "10           Sofia          Capital\n",
       "11          Lovech     MediumS Town\n",
       "12         Plovdiv       Major Town\n",
       "13         Plovdiv       Major Town\n",
       "14         Plovdiv       Major Town\n",
       "15         Plovdiv       Major Town\n",
       "16         Plovdiv       Major Town\n",
       "17         Plovdiv       Major Town\n",
       "18         Plovdiv       Major Town\n",
       "19         Plovdiv       Major Town\n",
       "20         Plovdiv       Major Town\n",
       "21           Sofia          Capital\n",
       "22         Plovdiv       Major Town\n",
       "23         Plovdiv       Major Town\n",
       "24         Plovdiv       Major Town\n",
       "25         Plovdiv       Major Town\n",
       "26         Plovdiv       Major Town\n",
       "27         Plovdiv       Major Town\n",
       "28         Plovdiv       Major Town\n",
       "29         Plovdiv       Major Town\n",
       "30    Stara Zagora         Big Town\n",
       "31     Blagoevgrad     MediumS Town\n",
       "32           Sofia          Capital\n",
       "33           Sofia          Capital\n",
       "34           Sofia          Capital\n",
       "35             NaN              NaN\n",
       "36         Plovdiv       Major Town\n",
       "37         Plovdiv       Major Town\n",
       "38    Stara Zagora         Big Town\n",
       "39             NaN              NaN\n",
       "40         Plovdiv       Major Town\n",
       "41           Sofia          Capital\n",
       "42           Sofia          Capital\n",
       "43         Plovdiv       Major Town\n",
       "44           Sofia          Capital\n",
       "45  Veliko Tarnovo     MediumS Town\n",
       "46             NaN              NaN\n",
       "47  Veliko Tarnovo     MediumS Town\n",
       "48  Veliko Tarnovo     MediumS Town\n",
       "49             NaN              NaN\n",
       "50  Veliko Tarnovo     MediumS Town"
      ]
     },
     "execution_count": 157,
     "metadata": {},
     "output_type": "execute_result"
    }
   ],
   "source": [
    "customers_df.loc[:50, [\"town\", \"town_transformed\"]]"
   ]
  },
  {
   "cell_type": "code",
   "execution_count": null,
   "id": "f9b650d8",
   "metadata": {},
   "outputs": [],
   "source": []
  },
  {
   "cell_type": "code",
   "execution_count": null,
   "id": "2dd2fd70",
   "metadata": {},
   "outputs": [],
   "source": []
  },
  {
   "cell_type": "markdown",
   "id": "d088c2ba",
   "metadata": {},
   "source": [
    "#### empl_type"
   ]
  },
  {
   "cell_type": "code",
   "execution_count": 158,
   "id": "7ec1939c",
   "metadata": {
    "ExecuteTime": {
     "end_time": "2022-09-01T20:26:44.530152Z",
     "start_time": "2022-09-01T20:26:44.516153Z"
    }
   },
   "outputs": [
    {
     "data": {
      "text/plain": [
       "I508    30322\n",
       "Q237     3292\n",
       "R412      402\n",
       "U768      124\n",
       "L320      108\n",
       "H787      100\n",
       "Y735       83\n",
       "C288       45\n",
       "A350       23\n",
       "P115       16\n",
       "Name: empl_type, dtype: int64"
      ]
     },
     "execution_count": 158,
     "metadata": {},
     "output_type": "execute_result"
    }
   ],
   "source": [
    "customers_df[\"empl_type\"].value_counts()"
   ]
  },
  {
   "cell_type": "code",
   "execution_count": 159,
   "id": "9e599373",
   "metadata": {
    "ExecuteTime": {
     "end_time": "2022-09-01T20:26:44.545152Z",
     "start_time": "2022-09-01T20:26:44.531155Z"
    }
   },
   "outputs": [
    {
     "data": {
      "text/plain": [
       "10"
      ]
     },
     "execution_count": 159,
     "metadata": {},
     "output_type": "execute_result"
    }
   ],
   "source": [
    "len(customers_df[\"empl_type\"].value_counts())"
   ]
  },
  {
   "cell_type": "code",
   "execution_count": null,
   "id": "6848d746",
   "metadata": {},
   "outputs": [],
   "source": []
  },
  {
   "cell_type": "markdown",
   "id": "2ebce298",
   "metadata": {},
   "source": [
    "### Create dummy_classes"
   ]
  },
  {
   "cell_type": "code",
   "execution_count": 160,
   "id": "167c094d",
   "metadata": {
    "ExecuteTime": {
     "end_time": "2022-09-01T20:26:44.576152Z",
     "start_time": "2022-09-01T20:26:44.546154Z"
    }
   },
   "outputs": [],
   "source": [
    "customers_df = customers_df.join(pd.get_dummies(customers_df[\"maritial_status\"], prefix=\"maritial_status\"), how=\"left\")\n",
    "customers_df = customers_df.join(pd.get_dummies(customers_df[\"age\"], prefix=\"age\"), how=\"left\")\n",
    "customers_df = customers_df.join(pd.get_dummies(customers_df[\"empl_type\"], prefix=\"empl_type\"), how=\"left\")\n"
   ]
  },
  {
   "cell_type": "code",
   "execution_count": 161,
   "id": "f984e271",
   "metadata": {
    "ExecuteTime": {
     "end_time": "2022-09-01T20:26:44.607152Z",
     "start_time": "2022-09-01T20:26:44.578155Z"
    }
   },
   "outputs": [
    {
     "data": {
      "text/html": [
       "<div>\n",
       "<style scoped>\n",
       "    .dataframe tbody tr th:only-of-type {\n",
       "        vertical-align: middle;\n",
       "    }\n",
       "\n",
       "    .dataframe tbody tr th {\n",
       "        vertical-align: top;\n",
       "    }\n",
       "\n",
       "    .dataframe thead th {\n",
       "        text-align: right;\n",
       "    }\n",
       "</style>\n",
       "<table border=\"1\" class=\"dataframe\">\n",
       "  <thead>\n",
       "    <tr style=\"text-align: right;\">\n",
       "      <th></th>\n",
       "      <th>customer_id</th>\n",
       "      <th>age</th>\n",
       "      <th>maritial_status</th>\n",
       "      <th>town</th>\n",
       "      <th>empl_type</th>\n",
       "      <th>profession</th>\n",
       "      <th>tot_mnth_income</th>\n",
       "      <th>gross_salary</th>\n",
       "      <th>town_transformed</th>\n",
       "      <th>maritial_status_A49</th>\n",
       "      <th>maritial_status_I63</th>\n",
       "      <th>maritial_status_K16</th>\n",
       "      <th>maritial_status_M45</th>\n",
       "      <th>maritial_status_O32</th>\n",
       "      <th>maritial_status_Q37</th>\n",
       "      <th>maritial_status_U67</th>\n",
       "      <th>age_A788</th>\n",
       "      <th>age_F953</th>\n",
       "      <th>age_G219</th>\n",
       "      <th>age_H294</th>\n",
       "      <th>age_J454</th>\n",
       "      <th>age_M764</th>\n",
       "      <th>age_O456</th>\n",
       "      <th>age_P508</th>\n",
       "      <th>age_Q251</th>\n",
       "      <th>age_S205</th>\n",
       "      <th>age_T555</th>\n",
       "      <th>age_W677</th>\n",
       "      <th>age_X693</th>\n",
       "      <th>age_Z829</th>\n",
       "      <th>empl_type_A350</th>\n",
       "      <th>empl_type_C288</th>\n",
       "      <th>empl_type_H787</th>\n",
       "      <th>empl_type_I508</th>\n",
       "      <th>empl_type_L320</th>\n",
       "      <th>empl_type_P115</th>\n",
       "      <th>empl_type_Q237</th>\n",
       "      <th>empl_type_R412</th>\n",
       "      <th>empl_type_U768</th>\n",
       "      <th>empl_type_Y735</th>\n",
       "    </tr>\n",
       "  </thead>\n",
       "  <tbody>\n",
       "    <tr>\n",
       "      <th>0</th>\n",
       "      <td>0x966001FD3EF723FC5F</td>\n",
       "      <td>Q251</td>\n",
       "      <td>U67</td>\n",
       "      <td>Sofia</td>\n",
       "      <td>I508</td>\n",
       "      <td>2</td>\n",
       "      <td>5138</td>\n",
       "      <td>6000</td>\n",
       "      <td>Capital</td>\n",
       "      <td>0</td>\n",
       "      <td>0</td>\n",
       "      <td>0</td>\n",
       "      <td>0</td>\n",
       "      <td>0</td>\n",
       "      <td>0</td>\n",
       "      <td>1</td>\n",
       "      <td>0</td>\n",
       "      <td>0</td>\n",
       "      <td>0</td>\n",
       "      <td>0</td>\n",
       "      <td>0</td>\n",
       "      <td>0</td>\n",
       "      <td>0</td>\n",
       "      <td>0</td>\n",
       "      <td>1</td>\n",
       "      <td>0</td>\n",
       "      <td>0</td>\n",
       "      <td>0</td>\n",
       "      <td>0</td>\n",
       "      <td>0</td>\n",
       "      <td>0</td>\n",
       "      <td>0</td>\n",
       "      <td>0</td>\n",
       "      <td>1</td>\n",
       "      <td>0</td>\n",
       "      <td>0</td>\n",
       "      <td>0</td>\n",
       "      <td>0</td>\n",
       "      <td>0</td>\n",
       "      <td>0</td>\n",
       "    </tr>\n",
       "    <tr>\n",
       "      <th>1</th>\n",
       "      <td>0xBA04902FFAA73BF01A</td>\n",
       "      <td>Z829</td>\n",
       "      <td>K16</td>\n",
       "      <td>Smolyan</td>\n",
       "      <td>Q237</td>\n",
       "      <td>11</td>\n",
       "      <td>3551</td>\n",
       "      <td>119</td>\n",
       "      <td>MediumS Town</td>\n",
       "      <td>0</td>\n",
       "      <td>0</td>\n",
       "      <td>1</td>\n",
       "      <td>0</td>\n",
       "      <td>0</td>\n",
       "      <td>0</td>\n",
       "      <td>0</td>\n",
       "      <td>0</td>\n",
       "      <td>0</td>\n",
       "      <td>0</td>\n",
       "      <td>0</td>\n",
       "      <td>0</td>\n",
       "      <td>0</td>\n",
       "      <td>0</td>\n",
       "      <td>0</td>\n",
       "      <td>0</td>\n",
       "      <td>0</td>\n",
       "      <td>0</td>\n",
       "      <td>0</td>\n",
       "      <td>0</td>\n",
       "      <td>1</td>\n",
       "      <td>0</td>\n",
       "      <td>0</td>\n",
       "      <td>0</td>\n",
       "      <td>0</td>\n",
       "      <td>0</td>\n",
       "      <td>0</td>\n",
       "      <td>1</td>\n",
       "      <td>0</td>\n",
       "      <td>0</td>\n",
       "      <td>0</td>\n",
       "    </tr>\n",
       "    <tr>\n",
       "      <th>2</th>\n",
       "      <td>0xC28B6C6C55416E68A9</td>\n",
       "      <td>Z829</td>\n",
       "      <td>A49</td>\n",
       "      <td>Plovdiv</td>\n",
       "      <td>R412</td>\n",
       "      <td>6</td>\n",
       "      <td>1384</td>\n",
       "      <td>119</td>\n",
       "      <td>Major Town</td>\n",
       "      <td>1</td>\n",
       "      <td>0</td>\n",
       "      <td>0</td>\n",
       "      <td>0</td>\n",
       "      <td>0</td>\n",
       "      <td>0</td>\n",
       "      <td>0</td>\n",
       "      <td>0</td>\n",
       "      <td>0</td>\n",
       "      <td>0</td>\n",
       "      <td>0</td>\n",
       "      <td>0</td>\n",
       "      <td>0</td>\n",
       "      <td>0</td>\n",
       "      <td>0</td>\n",
       "      <td>0</td>\n",
       "      <td>0</td>\n",
       "      <td>0</td>\n",
       "      <td>0</td>\n",
       "      <td>0</td>\n",
       "      <td>1</td>\n",
       "      <td>0</td>\n",
       "      <td>0</td>\n",
       "      <td>0</td>\n",
       "      <td>0</td>\n",
       "      <td>0</td>\n",
       "      <td>0</td>\n",
       "      <td>0</td>\n",
       "      <td>1</td>\n",
       "      <td>0</td>\n",
       "      <td>0</td>\n",
       "    </tr>\n",
       "    <tr>\n",
       "      <th>3</th>\n",
       "      <td>0x07C6BA3D65466D8A6A</td>\n",
       "      <td>J454</td>\n",
       "      <td>U67</td>\n",
       "      <td>Sofia</td>\n",
       "      <td>I508</td>\n",
       "      <td>41</td>\n",
       "      <td>1652</td>\n",
       "      <td>1128</td>\n",
       "      <td>Capital</td>\n",
       "      <td>0</td>\n",
       "      <td>0</td>\n",
       "      <td>0</td>\n",
       "      <td>0</td>\n",
       "      <td>0</td>\n",
       "      <td>0</td>\n",
       "      <td>1</td>\n",
       "      <td>0</td>\n",
       "      <td>0</td>\n",
       "      <td>0</td>\n",
       "      <td>0</td>\n",
       "      <td>1</td>\n",
       "      <td>0</td>\n",
       "      <td>0</td>\n",
       "      <td>0</td>\n",
       "      <td>0</td>\n",
       "      <td>0</td>\n",
       "      <td>0</td>\n",
       "      <td>0</td>\n",
       "      <td>0</td>\n",
       "      <td>0</td>\n",
       "      <td>0</td>\n",
       "      <td>0</td>\n",
       "      <td>0</td>\n",
       "      <td>1</td>\n",
       "      <td>0</td>\n",
       "      <td>0</td>\n",
       "      <td>0</td>\n",
       "      <td>0</td>\n",
       "      <td>0</td>\n",
       "      <td>0</td>\n",
       "    </tr>\n",
       "    <tr>\n",
       "      <th>4</th>\n",
       "      <td>0xF49D6CCED11944AB48</td>\n",
       "      <td>G219</td>\n",
       "      <td>U67</td>\n",
       "      <td>Sofia</td>\n",
       "      <td>I508</td>\n",
       "      <td>10</td>\n",
       "      <td>9655</td>\n",
       "      <td>11225</td>\n",
       "      <td>Capital</td>\n",
       "      <td>0</td>\n",
       "      <td>0</td>\n",
       "      <td>0</td>\n",
       "      <td>0</td>\n",
       "      <td>0</td>\n",
       "      <td>0</td>\n",
       "      <td>1</td>\n",
       "      <td>0</td>\n",
       "      <td>0</td>\n",
       "      <td>1</td>\n",
       "      <td>0</td>\n",
       "      <td>0</td>\n",
       "      <td>0</td>\n",
       "      <td>0</td>\n",
       "      <td>0</td>\n",
       "      <td>0</td>\n",
       "      <td>0</td>\n",
       "      <td>0</td>\n",
       "      <td>0</td>\n",
       "      <td>0</td>\n",
       "      <td>0</td>\n",
       "      <td>0</td>\n",
       "      <td>0</td>\n",
       "      <td>0</td>\n",
       "      <td>1</td>\n",
       "      <td>0</td>\n",
       "      <td>0</td>\n",
       "      <td>0</td>\n",
       "      <td>0</td>\n",
       "      <td>0</td>\n",
       "      <td>0</td>\n",
       "    </tr>\n",
       "    <tr>\n",
       "      <th>...</th>\n",
       "      <td>...</td>\n",
       "      <td>...</td>\n",
       "      <td>...</td>\n",
       "      <td>...</td>\n",
       "      <td>...</td>\n",
       "      <td>...</td>\n",
       "      <td>...</td>\n",
       "      <td>...</td>\n",
       "      <td>...</td>\n",
       "      <td>...</td>\n",
       "      <td>...</td>\n",
       "      <td>...</td>\n",
       "      <td>...</td>\n",
       "      <td>...</td>\n",
       "      <td>...</td>\n",
       "      <td>...</td>\n",
       "      <td>...</td>\n",
       "      <td>...</td>\n",
       "      <td>...</td>\n",
       "      <td>...</td>\n",
       "      <td>...</td>\n",
       "      <td>...</td>\n",
       "      <td>...</td>\n",
       "      <td>...</td>\n",
       "      <td>...</td>\n",
       "      <td>...</td>\n",
       "      <td>...</td>\n",
       "      <td>...</td>\n",
       "      <td>...</td>\n",
       "      <td>...</td>\n",
       "      <td>...</td>\n",
       "      <td>...</td>\n",
       "      <td>...</td>\n",
       "      <td>...</td>\n",
       "      <td>...</td>\n",
       "      <td>...</td>\n",
       "      <td>...</td>\n",
       "      <td>...</td>\n",
       "      <td>...</td>\n",
       "      <td>...</td>\n",
       "    </tr>\n",
       "    <tr>\n",
       "      <th>34510</th>\n",
       "      <td>0x4FE7E433DDF7160BCB</td>\n",
       "      <td>Z829</td>\n",
       "      <td>U67</td>\n",
       "      <td>Veliko Tarnovo</td>\n",
       "      <td>I508</td>\n",
       "      <td>6</td>\n",
       "      <td>893</td>\n",
       "      <td>1139</td>\n",
       "      <td>MediumS Town</td>\n",
       "      <td>0</td>\n",
       "      <td>0</td>\n",
       "      <td>0</td>\n",
       "      <td>0</td>\n",
       "      <td>0</td>\n",
       "      <td>0</td>\n",
       "      <td>1</td>\n",
       "      <td>0</td>\n",
       "      <td>0</td>\n",
       "      <td>0</td>\n",
       "      <td>0</td>\n",
       "      <td>0</td>\n",
       "      <td>0</td>\n",
       "      <td>0</td>\n",
       "      <td>0</td>\n",
       "      <td>0</td>\n",
       "      <td>0</td>\n",
       "      <td>0</td>\n",
       "      <td>0</td>\n",
       "      <td>0</td>\n",
       "      <td>1</td>\n",
       "      <td>0</td>\n",
       "      <td>0</td>\n",
       "      <td>0</td>\n",
       "      <td>1</td>\n",
       "      <td>0</td>\n",
       "      <td>0</td>\n",
       "      <td>0</td>\n",
       "      <td>0</td>\n",
       "      <td>0</td>\n",
       "      <td>0</td>\n",
       "    </tr>\n",
       "    <tr>\n",
       "      <th>34511</th>\n",
       "      <td>0xF760CDB2C6B6DE4997</td>\n",
       "      <td>Z829</td>\n",
       "      <td>K16</td>\n",
       "      <td>Veliko Tarnovo</td>\n",
       "      <td>I508</td>\n",
       "      <td>43</td>\n",
       "      <td>1985</td>\n",
       "      <td>2520</td>\n",
       "      <td>MediumS Town</td>\n",
       "      <td>0</td>\n",
       "      <td>0</td>\n",
       "      <td>1</td>\n",
       "      <td>0</td>\n",
       "      <td>0</td>\n",
       "      <td>0</td>\n",
       "      <td>0</td>\n",
       "      <td>0</td>\n",
       "      <td>0</td>\n",
       "      <td>0</td>\n",
       "      <td>0</td>\n",
       "      <td>0</td>\n",
       "      <td>0</td>\n",
       "      <td>0</td>\n",
       "      <td>0</td>\n",
       "      <td>0</td>\n",
       "      <td>0</td>\n",
       "      <td>0</td>\n",
       "      <td>0</td>\n",
       "      <td>0</td>\n",
       "      <td>1</td>\n",
       "      <td>0</td>\n",
       "      <td>0</td>\n",
       "      <td>0</td>\n",
       "      <td>1</td>\n",
       "      <td>0</td>\n",
       "      <td>0</td>\n",
       "      <td>0</td>\n",
       "      <td>0</td>\n",
       "      <td>0</td>\n",
       "      <td>0</td>\n",
       "    </tr>\n",
       "    <tr>\n",
       "      <th>34512</th>\n",
       "      <td>0x0359E3A2B71F02FFC1</td>\n",
       "      <td>H294</td>\n",
       "      <td>U67</td>\n",
       "      <td>Veliko Tarnovo</td>\n",
       "      <td>I508</td>\n",
       "      <td>20</td>\n",
       "      <td>1099</td>\n",
       "      <td>972</td>\n",
       "      <td>MediumS Town</td>\n",
       "      <td>0</td>\n",
       "      <td>0</td>\n",
       "      <td>0</td>\n",
       "      <td>0</td>\n",
       "      <td>0</td>\n",
       "      <td>0</td>\n",
       "      <td>1</td>\n",
       "      <td>0</td>\n",
       "      <td>0</td>\n",
       "      <td>0</td>\n",
       "      <td>1</td>\n",
       "      <td>0</td>\n",
       "      <td>0</td>\n",
       "      <td>0</td>\n",
       "      <td>0</td>\n",
       "      <td>0</td>\n",
       "      <td>0</td>\n",
       "      <td>0</td>\n",
       "      <td>0</td>\n",
       "      <td>0</td>\n",
       "      <td>0</td>\n",
       "      <td>0</td>\n",
       "      <td>0</td>\n",
       "      <td>0</td>\n",
       "      <td>1</td>\n",
       "      <td>0</td>\n",
       "      <td>0</td>\n",
       "      <td>0</td>\n",
       "      <td>0</td>\n",
       "      <td>0</td>\n",
       "      <td>0</td>\n",
       "    </tr>\n",
       "    <tr>\n",
       "      <th>34513</th>\n",
       "      <td>0x141C729EC4693C9345</td>\n",
       "      <td>G219</td>\n",
       "      <td>K16</td>\n",
       "      <td>Shumen</td>\n",
       "      <td>Q237</td>\n",
       "      <td>6</td>\n",
       "      <td>53554</td>\n",
       "      <td>119</td>\n",
       "      <td>MediumS Town</td>\n",
       "      <td>0</td>\n",
       "      <td>0</td>\n",
       "      <td>1</td>\n",
       "      <td>0</td>\n",
       "      <td>0</td>\n",
       "      <td>0</td>\n",
       "      <td>0</td>\n",
       "      <td>0</td>\n",
       "      <td>0</td>\n",
       "      <td>1</td>\n",
       "      <td>0</td>\n",
       "      <td>0</td>\n",
       "      <td>0</td>\n",
       "      <td>0</td>\n",
       "      <td>0</td>\n",
       "      <td>0</td>\n",
       "      <td>0</td>\n",
       "      <td>0</td>\n",
       "      <td>0</td>\n",
       "      <td>0</td>\n",
       "      <td>0</td>\n",
       "      <td>0</td>\n",
       "      <td>0</td>\n",
       "      <td>0</td>\n",
       "      <td>0</td>\n",
       "      <td>0</td>\n",
       "      <td>0</td>\n",
       "      <td>1</td>\n",
       "      <td>0</td>\n",
       "      <td>0</td>\n",
       "      <td>0</td>\n",
       "    </tr>\n",
       "    <tr>\n",
       "      <th>34514</th>\n",
       "      <td>0x7C86FF3666AEDAE714</td>\n",
       "      <td>H294</td>\n",
       "      <td>U67</td>\n",
       "      <td>Ruse</td>\n",
       "      <td>I508</td>\n",
       "      <td>27</td>\n",
       "      <td>1244</td>\n",
       "      <td>1604</td>\n",
       "      <td>Big Town</td>\n",
       "      <td>0</td>\n",
       "      <td>0</td>\n",
       "      <td>0</td>\n",
       "      <td>0</td>\n",
       "      <td>0</td>\n",
       "      <td>0</td>\n",
       "      <td>1</td>\n",
       "      <td>0</td>\n",
       "      <td>0</td>\n",
       "      <td>0</td>\n",
       "      <td>1</td>\n",
       "      <td>0</td>\n",
       "      <td>0</td>\n",
       "      <td>0</td>\n",
       "      <td>0</td>\n",
       "      <td>0</td>\n",
       "      <td>0</td>\n",
       "      <td>0</td>\n",
       "      <td>0</td>\n",
       "      <td>0</td>\n",
       "      <td>0</td>\n",
       "      <td>0</td>\n",
       "      <td>0</td>\n",
       "      <td>0</td>\n",
       "      <td>1</td>\n",
       "      <td>0</td>\n",
       "      <td>0</td>\n",
       "      <td>0</td>\n",
       "      <td>0</td>\n",
       "      <td>0</td>\n",
       "      <td>0</td>\n",
       "    </tr>\n",
       "  </tbody>\n",
       "</table>\n",
       "<p>34515 rows × 40 columns</p>\n",
       "</div>"
      ],
      "text/plain": [
       "                customer_id   age maritial_status            town empl_type  \\\n",
       "0      0x966001FD3EF723FC5F  Q251             U67           Sofia      I508   \n",
       "1      0xBA04902FFAA73BF01A  Z829             K16         Smolyan      Q237   \n",
       "2      0xC28B6C6C55416E68A9  Z829             A49         Plovdiv      R412   \n",
       "3      0x07C6BA3D65466D8A6A  J454             U67           Sofia      I508   \n",
       "4      0xF49D6CCED11944AB48  G219             U67           Sofia      I508   \n",
       "...                     ...   ...             ...             ...       ...   \n",
       "34510  0x4FE7E433DDF7160BCB  Z829             U67  Veliko Tarnovo      I508   \n",
       "34511  0xF760CDB2C6B6DE4997  Z829             K16  Veliko Tarnovo      I508   \n",
       "34512  0x0359E3A2B71F02FFC1  H294             U67  Veliko Tarnovo      I508   \n",
       "34513  0x141C729EC4693C9345  G219             K16          Shumen      Q237   \n",
       "34514  0x7C86FF3666AEDAE714  H294             U67            Ruse      I508   \n",
       "\n",
       "       profession  tot_mnth_income  gross_salary town_transformed  \\\n",
       "0               2             5138          6000          Capital   \n",
       "1              11             3551           119     MediumS Town   \n",
       "2               6             1384           119       Major Town   \n",
       "3              41             1652          1128          Capital   \n",
       "4              10             9655         11225          Capital   \n",
       "...           ...              ...           ...              ...   \n",
       "34510           6              893          1139     MediumS Town   \n",
       "34511          43             1985          2520     MediumS Town   \n",
       "34512          20             1099           972     MediumS Town   \n",
       "34513           6            53554           119     MediumS Town   \n",
       "34514          27             1244          1604         Big Town   \n",
       "\n",
       "       maritial_status_A49  maritial_status_I63  maritial_status_K16  \\\n",
       "0                        0                    0                    0   \n",
       "1                        0                    0                    1   \n",
       "2                        1                    0                    0   \n",
       "3                        0                    0                    0   \n",
       "4                        0                    0                    0   \n",
       "...                    ...                  ...                  ...   \n",
       "34510                    0                    0                    0   \n",
       "34511                    0                    0                    1   \n",
       "34512                    0                    0                    0   \n",
       "34513                    0                    0                    1   \n",
       "34514                    0                    0                    0   \n",
       "\n",
       "       maritial_status_M45  maritial_status_O32  maritial_status_Q37  \\\n",
       "0                        0                    0                    0   \n",
       "1                        0                    0                    0   \n",
       "2                        0                    0                    0   \n",
       "3                        0                    0                    0   \n",
       "4                        0                    0                    0   \n",
       "...                    ...                  ...                  ...   \n",
       "34510                    0                    0                    0   \n",
       "34511                    0                    0                    0   \n",
       "34512                    0                    0                    0   \n",
       "34513                    0                    0                    0   \n",
       "34514                    0                    0                    0   \n",
       "\n",
       "       maritial_status_U67  age_A788  age_F953  age_G219  age_H294  age_J454  \\\n",
       "0                        1         0         0         0         0         0   \n",
       "1                        0         0         0         0         0         0   \n",
       "2                        0         0         0         0         0         0   \n",
       "3                        1         0         0         0         0         1   \n",
       "4                        1         0         0         1         0         0   \n",
       "...                    ...       ...       ...       ...       ...       ...   \n",
       "34510                    1         0         0         0         0         0   \n",
       "34511                    0         0         0         0         0         0   \n",
       "34512                    1         0         0         0         1         0   \n",
       "34513                    0         0         0         1         0         0   \n",
       "34514                    1         0         0         0         1         0   \n",
       "\n",
       "       age_M764  age_O456  age_P508  age_Q251  age_S205  age_T555  age_W677  \\\n",
       "0             0         0         0         1         0         0         0   \n",
       "1             0         0         0         0         0         0         0   \n",
       "2             0         0         0         0         0         0         0   \n",
       "3             0         0         0         0         0         0         0   \n",
       "4             0         0         0         0         0         0         0   \n",
       "...         ...       ...       ...       ...       ...       ...       ...   \n",
       "34510         0         0         0         0         0         0         0   \n",
       "34511         0         0         0         0         0         0         0   \n",
       "34512         0         0         0         0         0         0         0   \n",
       "34513         0         0         0         0         0         0         0   \n",
       "34514         0         0         0         0         0         0         0   \n",
       "\n",
       "       age_X693  age_Z829  empl_type_A350  empl_type_C288  empl_type_H787  \\\n",
       "0             0         0               0               0               0   \n",
       "1             0         1               0               0               0   \n",
       "2             0         1               0               0               0   \n",
       "3             0         0               0               0               0   \n",
       "4             0         0               0               0               0   \n",
       "...         ...       ...             ...             ...             ...   \n",
       "34510         0         1               0               0               0   \n",
       "34511         0         1               0               0               0   \n",
       "34512         0         0               0               0               0   \n",
       "34513         0         0               0               0               0   \n",
       "34514         0         0               0               0               0   \n",
       "\n",
       "       empl_type_I508  empl_type_L320  empl_type_P115  empl_type_Q237  \\\n",
       "0                   1               0               0               0   \n",
       "1                   0               0               0               1   \n",
       "2                   0               0               0               0   \n",
       "3                   1               0               0               0   \n",
       "4                   1               0               0               0   \n",
       "...               ...             ...             ...             ...   \n",
       "34510               1               0               0               0   \n",
       "34511               1               0               0               0   \n",
       "34512               1               0               0               0   \n",
       "34513               0               0               0               1   \n",
       "34514               1               0               0               0   \n",
       "\n",
       "       empl_type_R412  empl_type_U768  empl_type_Y735  \n",
       "0                   0               0               0  \n",
       "1                   0               0               0  \n",
       "2                   1               0               0  \n",
       "3                   0               0               0  \n",
       "4                   0               0               0  \n",
       "...               ...             ...             ...  \n",
       "34510               0               0               0  \n",
       "34511               0               0               0  \n",
       "34512               0               0               0  \n",
       "34513               0               0               0  \n",
       "34514               0               0               0  \n",
       "\n",
       "[34515 rows x 40 columns]"
      ]
     },
     "execution_count": 161,
     "metadata": {},
     "output_type": "execute_result"
    }
   ],
   "source": [
    "customers_df"
   ]
  },
  {
   "cell_type": "markdown",
   "id": "c22fbf50",
   "metadata": {},
   "source": [
    "### Fill in missing values (town)"
   ]
  },
  {
   "cell_type": "code",
   "execution_count": 162,
   "id": "a134c123",
   "metadata": {
    "ExecuteTime": {
     "end_time": "2022-09-01T20:26:44.622152Z",
     "start_time": "2022-09-01T20:26:44.608153Z"
    }
   },
   "outputs": [
    {
     "data": {
      "text/plain": [
       "Index(['customer_id', 'age', 'maritial_status', 'town', 'empl_type',\n",
       "       'profession', 'tot_mnth_income', 'gross_salary', 'town_transformed',\n",
       "       'maritial_status_A49', 'maritial_status_I63', 'maritial_status_K16',\n",
       "       'maritial_status_M45', 'maritial_status_O32', 'maritial_status_Q37',\n",
       "       'maritial_status_U67', 'age_A788', 'age_F953', 'age_G219', 'age_H294',\n",
       "       'age_J454', 'age_M764', 'age_O456', 'age_P508', 'age_Q251', 'age_S205',\n",
       "       'age_T555', 'age_W677', 'age_X693', 'age_Z829', 'empl_type_A350',\n",
       "       'empl_type_C288', 'empl_type_H787', 'empl_type_I508', 'empl_type_L320',\n",
       "       'empl_type_P115', 'empl_type_Q237', 'empl_type_R412', 'empl_type_U768',\n",
       "       'empl_type_Y735'],\n",
       "      dtype='object')"
      ]
     },
     "execution_count": 162,
     "metadata": {},
     "output_type": "execute_result"
    }
   ],
   "source": [
    "customers_df.columns"
   ]
  },
  {
   "cell_type": "code",
   "execution_count": 163,
   "id": "8516f313",
   "metadata": {
    "ExecuteTime": {
     "end_time": "2022-09-01T20:26:44.637152Z",
     "start_time": "2022-09-01T20:26:44.623152Z"
    }
   },
   "outputs": [],
   "source": [
    "customers_df\n",
    "town_features = ['profession', 'tot_mnth_income', 'gross_salary',\n",
    "       'maritial_status_A49', 'maritial_status_I63', 'maritial_status_K16',\n",
    "       'maritial_status_M45', 'maritial_status_O32', 'maritial_status_Q37',\n",
    "       'maritial_status_U67', 'age_A788', 'age_F953', 'age_G219', 'age_H294',\n",
    "       'age_J454', 'age_M764', 'age_O456', 'age_P508', 'age_Q251', 'age_S205',\n",
    "       'age_T555', 'age_W677', 'age_X693', 'age_Z829', 'empl_type_A350',\n",
    "       'empl_type_C288', 'empl_type_H787', 'empl_type_I508', 'empl_type_L320',\n",
    "       'empl_type_P115', 'empl_type_Q237', 'empl_type_R412', 'empl_type_U768',\n",
    "       'empl_type_Y735']\n",
    "\n",
    "X = customers_df[town_features] \n",
    "y = customers_df[\"town_transformed\"]"
   ]
  },
  {
   "cell_type": "markdown",
   "id": "c254f60d",
   "metadata": {},
   "source": [
    "#### Split on train and test"
   ]
  },
  {
   "cell_type": "code",
   "execution_count": 164,
   "id": "7fa9ed26",
   "metadata": {
    "ExecuteTime": {
     "end_time": "2022-09-01T20:26:44.653152Z",
     "start_time": "2022-09-01T20:26:44.638155Z"
    }
   },
   "outputs": [
    {
     "name": "stdout",
     "output_type": "stream",
     "text": [
      "<class 'pandas.core.frame.DataFrame'>\n",
      "RangeIndex: 34515 entries, 0 to 34514\n",
      "Data columns (total 34 columns):\n",
      " #   Column               Non-Null Count  Dtype\n",
      "---  ------               --------------  -----\n",
      " 0   profession           34515 non-null  int64\n",
      " 1   tot_mnth_income      34515 non-null  int64\n",
      " 2   gross_salary         34515 non-null  int64\n",
      " 3   maritial_status_A49  34515 non-null  uint8\n",
      " 4   maritial_status_I63  34515 non-null  uint8\n",
      " 5   maritial_status_K16  34515 non-null  uint8\n",
      " 6   maritial_status_M45  34515 non-null  uint8\n",
      " 7   maritial_status_O32  34515 non-null  uint8\n",
      " 8   maritial_status_Q37  34515 non-null  uint8\n",
      " 9   maritial_status_U67  34515 non-null  uint8\n",
      " 10  age_A788             34515 non-null  uint8\n",
      " 11  age_F953             34515 non-null  uint8\n",
      " 12  age_G219             34515 non-null  uint8\n",
      " 13  age_H294             34515 non-null  uint8\n",
      " 14  age_J454             34515 non-null  uint8\n",
      " 15  age_M764             34515 non-null  uint8\n",
      " 16  age_O456             34515 non-null  uint8\n",
      " 17  age_P508             34515 non-null  uint8\n",
      " 18  age_Q251             34515 non-null  uint8\n",
      " 19  age_S205             34515 non-null  uint8\n",
      " 20  age_T555             34515 non-null  uint8\n",
      " 21  age_W677             34515 non-null  uint8\n",
      " 22  age_X693             34515 non-null  uint8\n",
      " 23  age_Z829             34515 non-null  uint8\n",
      " 24  empl_type_A350       34515 non-null  uint8\n",
      " 25  empl_type_C288       34515 non-null  uint8\n",
      " 26  empl_type_H787       34515 non-null  uint8\n",
      " 27  empl_type_I508       34515 non-null  uint8\n",
      " 28  empl_type_L320       34515 non-null  uint8\n",
      " 29  empl_type_P115       34515 non-null  uint8\n",
      " 30  empl_type_Q237       34515 non-null  uint8\n",
      " 31  empl_type_R412       34515 non-null  uint8\n",
      " 32  empl_type_U768       34515 non-null  uint8\n",
      " 33  empl_type_Y735       34515 non-null  uint8\n",
      "dtypes: int64(3), uint8(31)\n",
      "memory usage: 1.8 MB\n"
     ]
    }
   ],
   "source": [
    "X.info()"
   ]
  },
  {
   "cell_type": "code",
   "execution_count": 165,
   "id": "5e2f1d96",
   "metadata": {
    "ExecuteTime": {
     "end_time": "2022-09-01T20:26:44.668153Z",
     "start_time": "2022-09-01T20:26:44.655156Z"
    }
   },
   "outputs": [],
   "source": [
    "empty_towns = y[y.isna()].index"
   ]
  },
  {
   "cell_type": "code",
   "execution_count": 166,
   "id": "f9dd49da",
   "metadata": {
    "ExecuteTime": {
     "end_time": "2022-09-01T20:26:44.684151Z",
     "start_time": "2022-09-01T20:26:44.669154Z"
    }
   },
   "outputs": [],
   "source": [
    "X_test = X.loc[empty_towns, :]\n",
    "y_test = y[empty_towns]"
   ]
  },
  {
   "cell_type": "code",
   "execution_count": 167,
   "id": "3a5e403b",
   "metadata": {
    "ExecuteTime": {
     "end_time": "2022-09-01T20:26:44.700152Z",
     "start_time": "2022-09-01T20:26:44.685157Z"
    }
   },
   "outputs": [],
   "source": [
    "X_train = X[~X.index.isin(empty_towns)]\n",
    "y_train = y[~y.index.isin(empty_towns)]"
   ]
  },
  {
   "cell_type": "markdown",
   "id": "ba4611b5",
   "metadata": {},
   "source": [
    "#### Predict y_test"
   ]
  },
  {
   "cell_type": "markdown",
   "id": "ee3674a6",
   "metadata": {},
   "source": [
    "##### Scale the data"
   ]
  },
  {
   "cell_type": "code",
   "execution_count": 168,
   "id": "1f95ba20",
   "metadata": {
    "ExecuteTime": {
     "end_time": "2022-09-01T20:26:44.731152Z",
     "start_time": "2022-09-01T20:26:44.701157Z"
    }
   },
   "outputs": [],
   "source": [
    "scaler = StandardScaler()\n",
    "\n",
    "X_train_sc = scaler.fit_transform(X_train)\n",
    "X_train_scaled = pd.DataFrame(data=X_train_sc, columns=X_train.columns)\n",
    "y_train_values = y_train.values.ravel()"
   ]
  },
  {
   "cell_type": "code",
   "execution_count": 169,
   "id": "552663c4",
   "metadata": {
    "ExecuteTime": {
     "end_time": "2022-09-01T20:26:44.746152Z",
     "start_time": "2022-09-01T20:26:44.737155Z"
    }
   },
   "outputs": [],
   "source": [
    "rf_clf = RandomForestClassifier()"
   ]
  },
  {
   "cell_type": "code",
   "execution_count": 170,
   "id": "c092a475",
   "metadata": {
    "ExecuteTime": {
     "end_time": "2022-09-01T20:26:47.857945Z",
     "start_time": "2022-09-01T20:26:44.747155Z"
    }
   },
   "outputs": [
    {
     "data": {
      "text/html": [
       "<style>#sk-container-id-6 {color: black;background-color: white;}#sk-container-id-6 pre{padding: 0;}#sk-container-id-6 div.sk-toggleable {background-color: white;}#sk-container-id-6 label.sk-toggleable__label {cursor: pointer;display: block;width: 100%;margin-bottom: 0;padding: 0.3em;box-sizing: border-box;text-align: center;}#sk-container-id-6 label.sk-toggleable__label-arrow:before {content: \"▸\";float: left;margin-right: 0.25em;color: #696969;}#sk-container-id-6 label.sk-toggleable__label-arrow:hover:before {color: black;}#sk-container-id-6 div.sk-estimator:hover label.sk-toggleable__label-arrow:before {color: black;}#sk-container-id-6 div.sk-toggleable__content {max-height: 0;max-width: 0;overflow: hidden;text-align: left;background-color: #f0f8ff;}#sk-container-id-6 div.sk-toggleable__content pre {margin: 0.2em;color: black;border-radius: 0.25em;background-color: #f0f8ff;}#sk-container-id-6 input.sk-toggleable__control:checked~div.sk-toggleable__content {max-height: 200px;max-width: 100%;overflow: auto;}#sk-container-id-6 input.sk-toggleable__control:checked~label.sk-toggleable__label-arrow:before {content: \"▾\";}#sk-container-id-6 div.sk-estimator input.sk-toggleable__control:checked~label.sk-toggleable__label {background-color: #d4ebff;}#sk-container-id-6 div.sk-label input.sk-toggleable__control:checked~label.sk-toggleable__label {background-color: #d4ebff;}#sk-container-id-6 input.sk-hidden--visually {border: 0;clip: rect(1px 1px 1px 1px);clip: rect(1px, 1px, 1px, 1px);height: 1px;margin: -1px;overflow: hidden;padding: 0;position: absolute;width: 1px;}#sk-container-id-6 div.sk-estimator {font-family: monospace;background-color: #f0f8ff;border: 1px dotted black;border-radius: 0.25em;box-sizing: border-box;margin-bottom: 0.5em;}#sk-container-id-6 div.sk-estimator:hover {background-color: #d4ebff;}#sk-container-id-6 div.sk-parallel-item::after {content: \"\";width: 100%;border-bottom: 1px solid gray;flex-grow: 1;}#sk-container-id-6 div.sk-label:hover label.sk-toggleable__label {background-color: #d4ebff;}#sk-container-id-6 div.sk-serial::before {content: \"\";position: absolute;border-left: 1px solid gray;box-sizing: border-box;top: 0;bottom: 0;left: 50%;z-index: 0;}#sk-container-id-6 div.sk-serial {display: flex;flex-direction: column;align-items: center;background-color: white;padding-right: 0.2em;padding-left: 0.2em;position: relative;}#sk-container-id-6 div.sk-item {position: relative;z-index: 1;}#sk-container-id-6 div.sk-parallel {display: flex;align-items: stretch;justify-content: center;background-color: white;position: relative;}#sk-container-id-6 div.sk-item::before, #sk-container-id-6 div.sk-parallel-item::before {content: \"\";position: absolute;border-left: 1px solid gray;box-sizing: border-box;top: 0;bottom: 0;left: 50%;z-index: -1;}#sk-container-id-6 div.sk-parallel-item {display: flex;flex-direction: column;z-index: 1;position: relative;background-color: white;}#sk-container-id-6 div.sk-parallel-item:first-child::after {align-self: flex-end;width: 50%;}#sk-container-id-6 div.sk-parallel-item:last-child::after {align-self: flex-start;width: 50%;}#sk-container-id-6 div.sk-parallel-item:only-child::after {width: 0;}#sk-container-id-6 div.sk-dashed-wrapped {border: 1px dashed gray;margin: 0 0.4em 0.5em 0.4em;box-sizing: border-box;padding-bottom: 0.4em;background-color: white;}#sk-container-id-6 div.sk-label label {font-family: monospace;font-weight: bold;display: inline-block;line-height: 1.2em;}#sk-container-id-6 div.sk-label-container {text-align: center;}#sk-container-id-6 div.sk-container {/* jupyter's `normalize.less` sets `[hidden] { display: none; }` but bootstrap.min.css set `[hidden] { display: none !important; }` so we also need the `!important` here to be able to override the default hidden behavior on the sphinx rendered scikit-learn.org. See: https://github.com/scikit-learn/scikit-learn/issues/21755 */display: inline-block !important;position: relative;}#sk-container-id-6 div.sk-text-repr-fallback {display: none;}</style><div id=\"sk-container-id-6\" class=\"sk-top-container\"><div class=\"sk-text-repr-fallback\"><pre>RandomForestClassifier()</pre><b>In a Jupyter environment, please rerun this cell to show the HTML representation or trust the notebook. <br />On GitHub, the HTML representation is unable to render, please try loading this page with nbviewer.org.</b></div><div class=\"sk-container\" hidden><div class=\"sk-item\"><div class=\"sk-estimator sk-toggleable\"><input class=\"sk-toggleable__control sk-hidden--visually\" id=\"sk-estimator-id-6\" type=\"checkbox\" checked><label for=\"sk-estimator-id-6\" class=\"sk-toggleable__label sk-toggleable__label-arrow\">RandomForestClassifier</label><div class=\"sk-toggleable__content\"><pre>RandomForestClassifier()</pre></div></div></div></div></div>"
      ],
      "text/plain": [
       "RandomForestClassifier()"
      ]
     },
     "execution_count": 170,
     "metadata": {},
     "output_type": "execute_result"
    }
   ],
   "source": [
    "rf_clf.fit(X_train_scaled, y_train_values)"
   ]
  },
  {
   "cell_type": "code",
   "execution_count": 171,
   "id": "a4b1e002",
   "metadata": {
    "ExecuteTime": {
     "end_time": "2022-09-01T20:26:47.873483Z",
     "start_time": "2022-09-01T20:26:47.859946Z"
    }
   },
   "outputs": [],
   "source": [
    "X_test_sc = scaler.transform(X_test)\n",
    "X_test_scaled = pd.DataFrame(data=X_test_sc, columns=X_test.columns)"
   ]
  },
  {
   "cell_type": "code",
   "execution_count": 172,
   "id": "e3a8e547",
   "metadata": {
    "ExecuteTime": {
     "end_time": "2022-09-01T20:26:47.968489Z",
     "start_time": "2022-09-01T20:26:47.875494Z"
    }
   },
   "outputs": [],
   "source": [
    "pred_values = rf_clf.predict(X_test_scaled)"
   ]
  },
  {
   "cell_type": "code",
   "execution_count": 173,
   "id": "db731cbf",
   "metadata": {
    "ExecuteTime": {
     "end_time": "2022-09-01T20:26:47.983491Z",
     "start_time": "2022-09-01T20:26:47.969493Z"
    }
   },
   "outputs": [],
   "source": [
    "y_test = pd.Series(data=pred_values, name=\"town_transformed\")"
   ]
  },
  {
   "cell_type": "code",
   "execution_count": 174,
   "id": "ff9058f6",
   "metadata": {
    "ExecuteTime": {
     "end_time": "2022-09-01T20:26:47.999491Z",
     "start_time": "2022-09-01T20:26:47.984491Z"
    }
   },
   "outputs": [
    {
     "data": {
      "text/plain": [
       "Capital         1194\n",
       "MediumS Town     837\n",
       "Major Town       638\n",
       "Big Town         406\n",
       "Name: town_transformed, dtype: int64"
      ]
     },
     "execution_count": 174,
     "metadata": {},
     "output_type": "execute_result"
    }
   ],
   "source": [
    "y_test.value_counts()"
   ]
  },
  {
   "cell_type": "code",
   "execution_count": 175,
   "id": "b08aeaac",
   "metadata": {
    "ExecuteTime": {
     "end_time": "2022-09-01T20:26:48.015491Z",
     "start_time": "2022-09-01T20:26:48.001492Z"
    }
   },
   "outputs": [],
   "source": [
    "y_test.index = empty_towns"
   ]
  },
  {
   "cell_type": "code",
   "execution_count": 176,
   "id": "b6d90db2",
   "metadata": {
    "ExecuteTime": {
     "end_time": "2022-09-01T20:26:48.030491Z",
     "start_time": "2022-09-01T20:26:48.016491Z"
    }
   },
   "outputs": [],
   "source": [
    "y_comb = pd.concat([y_train, y_test])"
   ]
  },
  {
   "cell_type": "code",
   "execution_count": 177,
   "id": "2c0e7c72",
   "metadata": {
    "ExecuteTime": {
     "end_time": "2022-09-01T20:26:48.046491Z",
     "start_time": "2022-09-01T20:26:48.031491Z"
    }
   },
   "outputs": [],
   "source": [
    "customers_df[\"town_transformed_full\"] = y_comb"
   ]
  },
  {
   "cell_type": "code",
   "execution_count": 178,
   "id": "e44ab3d7",
   "metadata": {
    "ExecuteTime": {
     "end_time": "2022-09-01T20:26:48.061508Z",
     "start_time": "2022-09-01T20:26:48.048491Z"
    }
   },
   "outputs": [],
   "source": [
    "customers_df.drop(\"town_transformed\", axis=1, inplace=True)"
   ]
  },
  {
   "cell_type": "code",
   "execution_count": 179,
   "id": "8996ede5",
   "metadata": {
    "ExecuteTime": {
     "end_time": "2022-09-01T20:26:48.093494Z",
     "start_time": "2022-09-01T20:26:48.062491Z"
    }
   },
   "outputs": [
    {
     "name": "stdout",
     "output_type": "stream",
     "text": [
      "<class 'pandas.core.frame.DataFrame'>\n",
      "RangeIndex: 34515 entries, 0 to 34514\n",
      "Data columns (total 40 columns):\n",
      " #   Column                 Non-Null Count  Dtype \n",
      "---  ------                 --------------  ----- \n",
      " 0   customer_id            34515 non-null  object\n",
      " 1   age                    34515 non-null  object\n",
      " 2   maritial_status        34515 non-null  object\n",
      " 3   town                   31440 non-null  object\n",
      " 4   empl_type              34515 non-null  object\n",
      " 5   profession             34515 non-null  int64 \n",
      " 6   tot_mnth_income        34515 non-null  int64 \n",
      " 7   gross_salary           34515 non-null  int64 \n",
      " 8   maritial_status_A49    34515 non-null  uint8 \n",
      " 9   maritial_status_I63    34515 non-null  uint8 \n",
      " 10  maritial_status_K16    34515 non-null  uint8 \n",
      " 11  maritial_status_M45    34515 non-null  uint8 \n",
      " 12  maritial_status_O32    34515 non-null  uint8 \n",
      " 13  maritial_status_Q37    34515 non-null  uint8 \n",
      " 14  maritial_status_U67    34515 non-null  uint8 \n",
      " 15  age_A788               34515 non-null  uint8 \n",
      " 16  age_F953               34515 non-null  uint8 \n",
      " 17  age_G219               34515 non-null  uint8 \n",
      " 18  age_H294               34515 non-null  uint8 \n",
      " 19  age_J454               34515 non-null  uint8 \n",
      " 20  age_M764               34515 non-null  uint8 \n",
      " 21  age_O456               34515 non-null  uint8 \n",
      " 22  age_P508               34515 non-null  uint8 \n",
      " 23  age_Q251               34515 non-null  uint8 \n",
      " 24  age_S205               34515 non-null  uint8 \n",
      " 25  age_T555               34515 non-null  uint8 \n",
      " 26  age_W677               34515 non-null  uint8 \n",
      " 27  age_X693               34515 non-null  uint8 \n",
      " 28  age_Z829               34515 non-null  uint8 \n",
      " 29  empl_type_A350         34515 non-null  uint8 \n",
      " 30  empl_type_C288         34515 non-null  uint8 \n",
      " 31  empl_type_H787         34515 non-null  uint8 \n",
      " 32  empl_type_I508         34515 non-null  uint8 \n",
      " 33  empl_type_L320         34515 non-null  uint8 \n",
      " 34  empl_type_P115         34515 non-null  uint8 \n",
      " 35  empl_type_Q237         34515 non-null  uint8 \n",
      " 36  empl_type_R412         34515 non-null  uint8 \n",
      " 37  empl_type_U768         34515 non-null  uint8 \n",
      " 38  empl_type_Y735         34515 non-null  uint8 \n",
      " 39  town_transformed_full  34515 non-null  object\n",
      "dtypes: int64(3), object(6), uint8(31)\n",
      "memory usage: 3.4+ MB\n"
     ]
    }
   ],
   "source": [
    "customers_df.info()"
   ]
  },
  {
   "cell_type": "markdown",
   "id": "258c7e84",
   "metadata": {},
   "source": [
    "### Create town dummy"
   ]
  },
  {
   "cell_type": "code",
   "execution_count": 180,
   "id": "066f3fa7",
   "metadata": {
    "ExecuteTime": {
     "end_time": "2022-09-01T20:26:48.109492Z",
     "start_time": "2022-09-01T20:26:48.095492Z"
    }
   },
   "outputs": [],
   "source": [
    "customers_df.rename({\"town_transformed_full\": \"town_transformed\"}, axis=1, inplace=True)"
   ]
  },
  {
   "cell_type": "code",
   "execution_count": 181,
   "id": "cab1d6ba",
   "metadata": {
    "ExecuteTime": {
     "end_time": "2022-09-01T20:26:48.125489Z",
     "start_time": "2022-09-01T20:26:48.110491Z"
    }
   },
   "outputs": [],
   "source": [
    "customers_df = customers_df.join(pd.get_dummies(customers_df[\"town_transformed\"], prefix=\"town_transformed\"), how=\"left\")"
   ]
  },
  {
   "cell_type": "markdown",
   "id": "854f15ac",
   "metadata": {},
   "source": [
    "### Drop cat data"
   ]
  },
  {
   "cell_type": "code",
   "execution_count": 182,
   "id": "1440ef52",
   "metadata": {
    "ExecuteTime": {
     "end_time": "2022-09-01T20:26:48.141488Z",
     "start_time": "2022-09-01T20:26:48.127493Z"
    }
   },
   "outputs": [],
   "source": [
    "customers_df.drop([\"age\", \"maritial_status\", \"town\", \"empl_type\", \"town_transformed\"], axis=1, inplace=True)"
   ]
  },
  {
   "cell_type": "markdown",
   "id": "b5825456",
   "metadata": {},
   "source": [
    "## Explore collateral"
   ]
  },
  {
   "cell_type": "code",
   "execution_count": 183,
   "id": "45ce43a4",
   "metadata": {
    "ExecuteTime": {
     "end_time": "2022-09-01T20:26:48.173489Z",
     "start_time": "2022-09-01T20:26:48.142491Z"
    }
   },
   "outputs": [
    {
     "name": "stdout",
     "output_type": "stream",
     "text": [
      "<class 'pandas.core.frame.DataFrame'>\n",
      "RangeIndex: 40794 entries, 0 to 40793\n",
      "Data columns (total 8 columns):\n",
      " #   Column                Non-Null Count  Dtype  \n",
      "---  ------                --------------  -----  \n",
      " 0   account_id            40794 non-null  object \n",
      " 1   collateral_id         40794 non-null  object \n",
      " 2   market_value          40794 non-null  int64  \n",
      " 3   collateral_type       40794 non-null  object \n",
      " 4   building_type         40264 non-null  float64\n",
      " 5   mortgage_utilisation  40774 non-null  float64\n",
      " 6   town                  40748 non-null  object \n",
      " 7   area                  40718 non-null  float64\n",
      "dtypes: float64(3), int64(1), object(4)\n",
      "memory usage: 2.5+ MB\n"
     ]
    }
   ],
   "source": [
    "collateral_df.info()"
   ]
  },
  {
   "cell_type": "code",
   "execution_count": 184,
   "id": "857e7ea8",
   "metadata": {
    "ExecuteTime": {
     "end_time": "2022-09-01T20:26:48.189490Z",
     "start_time": "2022-09-01T20:26:48.175491Z"
    }
   },
   "outputs": [
    {
     "data": {
      "text/html": [
       "<div>\n",
       "<style scoped>\n",
       "    .dataframe tbody tr th:only-of-type {\n",
       "        vertical-align: middle;\n",
       "    }\n",
       "\n",
       "    .dataframe tbody tr th {\n",
       "        vertical-align: top;\n",
       "    }\n",
       "\n",
       "    .dataframe thead th {\n",
       "        text-align: right;\n",
       "    }\n",
       "</style>\n",
       "<table border=\"1\" class=\"dataframe\">\n",
       "  <thead>\n",
       "    <tr style=\"text-align: right;\">\n",
       "      <th></th>\n",
       "      <th>account_id</th>\n",
       "      <th>collateral_id</th>\n",
       "      <th>market_value</th>\n",
       "      <th>collateral_type</th>\n",
       "      <th>building_type</th>\n",
       "      <th>mortgage_utilisation</th>\n",
       "      <th>town</th>\n",
       "      <th>area</th>\n",
       "    </tr>\n",
       "  </thead>\n",
       "  <tbody>\n",
       "    <tr>\n",
       "      <th>0</th>\n",
       "      <td>0x41702C36588DDB37F2DD861C5DB40111</td>\n",
       "      <td>0x82164E87B8688CBEC83A21BD4D</td>\n",
       "      <td>136800</td>\n",
       "      <td>M100</td>\n",
       "      <td>1.0</td>\n",
       "      <td>1.0</td>\n",
       "      <td>Plovdiv</td>\n",
       "      <td>84.276</td>\n",
       "    </tr>\n",
       "    <tr>\n",
       "      <th>1</th>\n",
       "      <td>0x05354063C1E883849C745C1F1B0418D9</td>\n",
       "      <td>0xA7B4F5E66A9AA942428F810CF8</td>\n",
       "      <td>397800</td>\n",
       "      <td>M101</td>\n",
       "      <td>1.0</td>\n",
       "      <td>1.0</td>\n",
       "      <td>Plovdiv</td>\n",
       "      <td>344.172</td>\n",
       "    </tr>\n",
       "    <tr>\n",
       "      <th>2</th>\n",
       "      <td>0x9A6BED3374ABA6453F5BD729DF4E3E01</td>\n",
       "      <td>0x845E56B7B510F20CA2AB7FAB21</td>\n",
       "      <td>95237</td>\n",
       "      <td>M100</td>\n",
       "      <td>2.0</td>\n",
       "      <td>1.0</td>\n",
       "      <td>Sofia</td>\n",
       "      <td>50.448</td>\n",
       "    </tr>\n",
       "    <tr>\n",
       "      <th>3</th>\n",
       "      <td>0x480CA3D2B69E387AEE0040B33C0FA21C</td>\n",
       "      <td>0xA069E952426A04A9529D9C011A</td>\n",
       "      <td>98574</td>\n",
       "      <td>M100</td>\n",
       "      <td>1.0</td>\n",
       "      <td>1.0</td>\n",
       "      <td>Plovdiv</td>\n",
       "      <td>116.460</td>\n",
       "    </tr>\n",
       "    <tr>\n",
       "      <th>4</th>\n",
       "      <td>0xC6CB9AE910C26A4C142CB6600E8599D6</td>\n",
       "      <td>0xC76BF79BB907B0F68DF52F59FE</td>\n",
       "      <td>187560</td>\n",
       "      <td>M100</td>\n",
       "      <td>1.0</td>\n",
       "      <td>1.0</td>\n",
       "      <td>Plovdiv</td>\n",
       "      <td>161.088</td>\n",
       "    </tr>\n",
       "  </tbody>\n",
       "</table>\n",
       "</div>"
      ],
      "text/plain": [
       "                           account_id                 collateral_id  \\\n",
       "0  0x41702C36588DDB37F2DD861C5DB40111  0x82164E87B8688CBEC83A21BD4D   \n",
       "1  0x05354063C1E883849C745C1F1B0418D9  0xA7B4F5E66A9AA942428F810CF8   \n",
       "2  0x9A6BED3374ABA6453F5BD729DF4E3E01  0x845E56B7B510F20CA2AB7FAB21   \n",
       "3  0x480CA3D2B69E387AEE0040B33C0FA21C  0xA069E952426A04A9529D9C011A   \n",
       "4  0xC6CB9AE910C26A4C142CB6600E8599D6  0xC76BF79BB907B0F68DF52F59FE   \n",
       "\n",
       "   market_value collateral_type  building_type  mortgage_utilisation     town  \\\n",
       "0        136800            M100            1.0                   1.0  Plovdiv   \n",
       "1        397800            M101            1.0                   1.0  Plovdiv   \n",
       "2         95237            M100            2.0                   1.0    Sofia   \n",
       "3         98574            M100            1.0                   1.0  Plovdiv   \n",
       "4        187560            M100            1.0                   1.0  Plovdiv   \n",
       "\n",
       "      area  \n",
       "0   84.276  \n",
       "1  344.172  \n",
       "2   50.448  \n",
       "3  116.460  \n",
       "4  161.088  "
      ]
     },
     "execution_count": 184,
     "metadata": {},
     "output_type": "execute_result"
    }
   ],
   "source": [
    "collateral_df.head()"
   ]
  },
  {
   "cell_type": "code",
   "execution_count": 185,
   "id": "31dabd10",
   "metadata": {
    "ExecuteTime": {
     "end_time": "2022-09-01T20:26:48.205488Z",
     "start_time": "2022-09-01T20:26:48.191492Z"
    }
   },
   "outputs": [
    {
     "data": {
      "text/plain": [
       "M100    34668\n",
       "M101     5517\n",
       "M105      463\n",
       "M102       74\n",
       "M103       71\n",
       "M104        1\n",
       "Name: collateral_type, dtype: int64"
      ]
     },
     "execution_count": 185,
     "metadata": {},
     "output_type": "execute_result"
    }
   ],
   "source": [
    "collateral_df[\"collateral_type\"].value_counts()"
   ]
  },
  {
   "cell_type": "code",
   "execution_count": 186,
   "id": "422ac1e8",
   "metadata": {
    "ExecuteTime": {
     "end_time": "2022-09-01T20:26:48.220489Z",
     "start_time": "2022-09-01T20:26:48.207491Z"
    }
   },
   "outputs": [
    {
     "data": {
      "text/plain": [
       "1.0    31275\n",
       "2.0     8989\n",
       "Name: building_type, dtype: int64"
      ]
     },
     "execution_count": 186,
     "metadata": {},
     "output_type": "execute_result"
    }
   ],
   "source": [
    "collateral_df[\"building_type\"].value_counts()"
   ]
  },
  {
   "cell_type": "code",
   "execution_count": 187,
   "id": "180c3fef",
   "metadata": {
    "ExecuteTime": {
     "end_time": "2022-09-01T20:26:48.235488Z",
     "start_time": "2022-09-01T20:26:48.221491Z"
    }
   },
   "outputs": [
    {
     "data": {
      "text/plain": [
       "1.0    34308\n",
       "2.0     6466\n",
       "Name: mortgage_utilisation, dtype: int64"
      ]
     },
     "execution_count": 187,
     "metadata": {},
     "output_type": "execute_result"
    }
   ],
   "source": [
    "collateral_df[\"mortgage_utilisation\"].value_counts()"
   ]
  },
  {
   "cell_type": "code",
   "execution_count": 188,
   "id": "2bdac3f0",
   "metadata": {
    "ExecuteTime": {
     "end_time": "2022-09-01T20:26:48.251490Z",
     "start_time": "2022-09-01T20:26:48.236490Z"
    }
   },
   "outputs": [
    {
     "data": {
      "text/plain": [
       "Sofia             13674\n",
       "Plovdiv            6323\n",
       "Varna              3495\n",
       "Burgas             3086\n",
       "Veliko Tarnovo     1820\n",
       "Stara Zagora       1653\n",
       "Pleven             1091\n",
       "Blagoevgrad        1014\n",
       "Vratsa              929\n",
       "Ruse                872\n",
       "Shumen              744\n",
       "Pazardzhik          631\n",
       "Dobrich             605\n",
       "Montana             591\n",
       "Pernik              545\n",
       "Haskovo             506\n",
       "Sliven              443\n",
       "Yambol              439\n",
       "Razgrad             399\n",
       "Gabrovo             357\n",
       "Kyustendil          352\n",
       "Lovech              262\n",
       "Targovishte         243\n",
       "Silistra            186\n",
       "Vidin               180\n",
       "Kardzhali           157\n",
       "Smolyan             151\n",
       "Name: town, dtype: int64"
      ]
     },
     "execution_count": 188,
     "metadata": {},
     "output_type": "execute_result"
    }
   ],
   "source": [
    "collateral_df[\"town\"].value_counts()"
   ]
  },
  {
   "cell_type": "markdown",
   "id": "315f8695",
   "metadata": {},
   "source": [
    "### Transform town"
   ]
  },
  {
   "cell_type": "code",
   "execution_count": 189,
   "id": "1ad955ce",
   "metadata": {
    "ExecuteTime": {
     "end_time": "2022-09-01T20:26:48.266488Z",
     "start_time": "2022-09-01T20:26:48.253492Z"
    }
   },
   "outputs": [],
   "source": [
    "collateral_df[\"town_transformed\"] = collateral_df[\"town\"].apply(new_town_labels)"
   ]
  },
  {
   "cell_type": "code",
   "execution_count": null,
   "id": "c6c4f07e",
   "metadata": {},
   "outputs": [],
   "source": []
  },
  {
   "cell_type": "markdown",
   "id": "a52434ea",
   "metadata": {},
   "source": [
    "### collateral_type"
   ]
  },
  {
   "cell_type": "code",
   "execution_count": 190,
   "id": "b9c1c7a0",
   "metadata": {
    "ExecuteTime": {
     "end_time": "2022-09-01T20:26:48.281488Z",
     "start_time": "2022-09-01T20:26:48.267493Z"
    }
   },
   "outputs": [],
   "source": [
    "collateral_df = collateral_df.join(pd.get_dummies(collateral_df[\"collateral_type\"], prefix=\"collateral_type\"), how=\"left\")"
   ]
  },
  {
   "cell_type": "code",
   "execution_count": 191,
   "id": "7af89e63",
   "metadata": {
    "ExecuteTime": {
     "end_time": "2022-09-01T20:26:48.296490Z",
     "start_time": "2022-09-01T20:26:48.282489Z"
    }
   },
   "outputs": [
    {
     "data": {
      "text/html": [
       "<div>\n",
       "<style scoped>\n",
       "    .dataframe tbody tr th:only-of-type {\n",
       "        vertical-align: middle;\n",
       "    }\n",
       "\n",
       "    .dataframe tbody tr th {\n",
       "        vertical-align: top;\n",
       "    }\n",
       "\n",
       "    .dataframe thead th {\n",
       "        text-align: right;\n",
       "    }\n",
       "</style>\n",
       "<table border=\"1\" class=\"dataframe\">\n",
       "  <thead>\n",
       "    <tr style=\"text-align: right;\">\n",
       "      <th></th>\n",
       "      <th>account_id</th>\n",
       "      <th>collateral_id</th>\n",
       "      <th>market_value</th>\n",
       "      <th>collateral_type</th>\n",
       "      <th>building_type</th>\n",
       "      <th>mortgage_utilisation</th>\n",
       "      <th>town</th>\n",
       "      <th>area</th>\n",
       "      <th>town_transformed</th>\n",
       "      <th>collateral_type_M100</th>\n",
       "      <th>collateral_type_M101</th>\n",
       "      <th>collateral_type_M102</th>\n",
       "      <th>collateral_type_M103</th>\n",
       "      <th>collateral_type_M104</th>\n",
       "      <th>collateral_type_M105</th>\n",
       "    </tr>\n",
       "  </thead>\n",
       "  <tbody>\n",
       "    <tr>\n",
       "      <th>0</th>\n",
       "      <td>0x41702C36588DDB37F2DD861C5DB40111</td>\n",
       "      <td>0x82164E87B8688CBEC83A21BD4D</td>\n",
       "      <td>136800</td>\n",
       "      <td>M100</td>\n",
       "      <td>1.0</td>\n",
       "      <td>1.0</td>\n",
       "      <td>Plovdiv</td>\n",
       "      <td>84.276</td>\n",
       "      <td>Major Town</td>\n",
       "      <td>1</td>\n",
       "      <td>0</td>\n",
       "      <td>0</td>\n",
       "      <td>0</td>\n",
       "      <td>0</td>\n",
       "      <td>0</td>\n",
       "    </tr>\n",
       "    <tr>\n",
       "      <th>1</th>\n",
       "      <td>0x05354063C1E883849C745C1F1B0418D9</td>\n",
       "      <td>0xA7B4F5E66A9AA942428F810CF8</td>\n",
       "      <td>397800</td>\n",
       "      <td>M101</td>\n",
       "      <td>1.0</td>\n",
       "      <td>1.0</td>\n",
       "      <td>Plovdiv</td>\n",
       "      <td>344.172</td>\n",
       "      <td>Major Town</td>\n",
       "      <td>0</td>\n",
       "      <td>1</td>\n",
       "      <td>0</td>\n",
       "      <td>0</td>\n",
       "      <td>0</td>\n",
       "      <td>0</td>\n",
       "    </tr>\n",
       "    <tr>\n",
       "      <th>2</th>\n",
       "      <td>0x9A6BED3374ABA6453F5BD729DF4E3E01</td>\n",
       "      <td>0x845E56B7B510F20CA2AB7FAB21</td>\n",
       "      <td>95237</td>\n",
       "      <td>M100</td>\n",
       "      <td>2.0</td>\n",
       "      <td>1.0</td>\n",
       "      <td>Sofia</td>\n",
       "      <td>50.448</td>\n",
       "      <td>Capital</td>\n",
       "      <td>1</td>\n",
       "      <td>0</td>\n",
       "      <td>0</td>\n",
       "      <td>0</td>\n",
       "      <td>0</td>\n",
       "      <td>0</td>\n",
       "    </tr>\n",
       "    <tr>\n",
       "      <th>3</th>\n",
       "      <td>0x480CA3D2B69E387AEE0040B33C0FA21C</td>\n",
       "      <td>0xA069E952426A04A9529D9C011A</td>\n",
       "      <td>98574</td>\n",
       "      <td>M100</td>\n",
       "      <td>1.0</td>\n",
       "      <td>1.0</td>\n",
       "      <td>Plovdiv</td>\n",
       "      <td>116.460</td>\n",
       "      <td>Major Town</td>\n",
       "      <td>1</td>\n",
       "      <td>0</td>\n",
       "      <td>0</td>\n",
       "      <td>0</td>\n",
       "      <td>0</td>\n",
       "      <td>0</td>\n",
       "    </tr>\n",
       "    <tr>\n",
       "      <th>4</th>\n",
       "      <td>0xC6CB9AE910C26A4C142CB6600E8599D6</td>\n",
       "      <td>0xC76BF79BB907B0F68DF52F59FE</td>\n",
       "      <td>187560</td>\n",
       "      <td>M100</td>\n",
       "      <td>1.0</td>\n",
       "      <td>1.0</td>\n",
       "      <td>Plovdiv</td>\n",
       "      <td>161.088</td>\n",
       "      <td>Major Town</td>\n",
       "      <td>1</td>\n",
       "      <td>0</td>\n",
       "      <td>0</td>\n",
       "      <td>0</td>\n",
       "      <td>0</td>\n",
       "      <td>0</td>\n",
       "    </tr>\n",
       "    <tr>\n",
       "      <th>...</th>\n",
       "      <td>...</td>\n",
       "      <td>...</td>\n",
       "      <td>...</td>\n",
       "      <td>...</td>\n",
       "      <td>...</td>\n",
       "      <td>...</td>\n",
       "      <td>...</td>\n",
       "      <td>...</td>\n",
       "      <td>...</td>\n",
       "      <td>...</td>\n",
       "      <td>...</td>\n",
       "      <td>...</td>\n",
       "      <td>...</td>\n",
       "      <td>...</td>\n",
       "      <td>...</td>\n",
       "    </tr>\n",
       "    <tr>\n",
       "      <th>40789</th>\n",
       "      <td>0x8B3D24EFFF236A42A7AAECE4D8CDD2E7</td>\n",
       "      <td>0x9F402A07EB714CC16E8AB9662D</td>\n",
       "      <td>82800</td>\n",
       "      <td>M100</td>\n",
       "      <td>1.0</td>\n",
       "      <td>1.0</td>\n",
       "      <td>Veliko Tarnovo</td>\n",
       "      <td>85.860</td>\n",
       "      <td>MediumS Town</td>\n",
       "      <td>1</td>\n",
       "      <td>0</td>\n",
       "      <td>0</td>\n",
       "      <td>0</td>\n",
       "      <td>0</td>\n",
       "      <td>0</td>\n",
       "    </tr>\n",
       "    <tr>\n",
       "      <th>40790</th>\n",
       "      <td>0x0C16AB8C478403130D0F169F46D4F037</td>\n",
       "      <td>0xE7F02EC0D2E5A810C81F62CF22</td>\n",
       "      <td>134118</td>\n",
       "      <td>M100</td>\n",
       "      <td>1.0</td>\n",
       "      <td>1.0</td>\n",
       "      <td>Veliko Tarnovo</td>\n",
       "      <td>107.532</td>\n",
       "      <td>MediumS Town</td>\n",
       "      <td>1</td>\n",
       "      <td>0</td>\n",
       "      <td>0</td>\n",
       "      <td>0</td>\n",
       "      <td>0</td>\n",
       "      <td>0</td>\n",
       "    </tr>\n",
       "    <tr>\n",
       "      <th>40791</th>\n",
       "      <td>0x48782A1FF9A5B9EC94E2FD7112DB151D</td>\n",
       "      <td>0x5142E86E6D9D6520A4A1F75C34</td>\n",
       "      <td>106320</td>\n",
       "      <td>M101</td>\n",
       "      <td>1.0</td>\n",
       "      <td>1.0</td>\n",
       "      <td>Lovech</td>\n",
       "      <td>148.800</td>\n",
       "      <td>MediumS Town</td>\n",
       "      <td>0</td>\n",
       "      <td>1</td>\n",
       "      <td>0</td>\n",
       "      <td>0</td>\n",
       "      <td>0</td>\n",
       "      <td>0</td>\n",
       "    </tr>\n",
       "    <tr>\n",
       "      <th>40792</th>\n",
       "      <td>0x60E568486E4464F8BE16472EF62BBCCE</td>\n",
       "      <td>0x674AF0BF63809C37B5BD9F3C34</td>\n",
       "      <td>132636</td>\n",
       "      <td>M100</td>\n",
       "      <td>1.0</td>\n",
       "      <td>1.0</td>\n",
       "      <td>Veliko Tarnovo</td>\n",
       "      <td>108.720</td>\n",
       "      <td>MediumS Town</td>\n",
       "      <td>1</td>\n",
       "      <td>0</td>\n",
       "      <td>0</td>\n",
       "      <td>0</td>\n",
       "      <td>0</td>\n",
       "      <td>0</td>\n",
       "    </tr>\n",
       "    <tr>\n",
       "      <th>40793</th>\n",
       "      <td>0xE9015A0BECAEF9441932502A6807FB46</td>\n",
       "      <td>0x6C28AA1E228772BF9646FA71D9</td>\n",
       "      <td>153096</td>\n",
       "      <td>M100</td>\n",
       "      <td>1.0</td>\n",
       "      <td>1.0</td>\n",
       "      <td>Veliko Tarnovo</td>\n",
       "      <td>162.840</td>\n",
       "      <td>MediumS Town</td>\n",
       "      <td>1</td>\n",
       "      <td>0</td>\n",
       "      <td>0</td>\n",
       "      <td>0</td>\n",
       "      <td>0</td>\n",
       "      <td>0</td>\n",
       "    </tr>\n",
       "  </tbody>\n",
       "</table>\n",
       "<p>40794 rows × 15 columns</p>\n",
       "</div>"
      ],
      "text/plain": [
       "                               account_id                 collateral_id  \\\n",
       "0      0x41702C36588DDB37F2DD861C5DB40111  0x82164E87B8688CBEC83A21BD4D   \n",
       "1      0x05354063C1E883849C745C1F1B0418D9  0xA7B4F5E66A9AA942428F810CF8   \n",
       "2      0x9A6BED3374ABA6453F5BD729DF4E3E01  0x845E56B7B510F20CA2AB7FAB21   \n",
       "3      0x480CA3D2B69E387AEE0040B33C0FA21C  0xA069E952426A04A9529D9C011A   \n",
       "4      0xC6CB9AE910C26A4C142CB6600E8599D6  0xC76BF79BB907B0F68DF52F59FE   \n",
       "...                                   ...                           ...   \n",
       "40789  0x8B3D24EFFF236A42A7AAECE4D8CDD2E7  0x9F402A07EB714CC16E8AB9662D   \n",
       "40790  0x0C16AB8C478403130D0F169F46D4F037  0xE7F02EC0D2E5A810C81F62CF22   \n",
       "40791  0x48782A1FF9A5B9EC94E2FD7112DB151D  0x5142E86E6D9D6520A4A1F75C34   \n",
       "40792  0x60E568486E4464F8BE16472EF62BBCCE  0x674AF0BF63809C37B5BD9F3C34   \n",
       "40793  0xE9015A0BECAEF9441932502A6807FB46  0x6C28AA1E228772BF9646FA71D9   \n",
       "\n",
       "       market_value collateral_type  building_type  mortgage_utilisation  \\\n",
       "0            136800            M100            1.0                   1.0   \n",
       "1            397800            M101            1.0                   1.0   \n",
       "2             95237            M100            2.0                   1.0   \n",
       "3             98574            M100            1.0                   1.0   \n",
       "4            187560            M100            1.0                   1.0   \n",
       "...             ...             ...            ...                   ...   \n",
       "40789         82800            M100            1.0                   1.0   \n",
       "40790        134118            M100            1.0                   1.0   \n",
       "40791        106320            M101            1.0                   1.0   \n",
       "40792        132636            M100            1.0                   1.0   \n",
       "40793        153096            M100            1.0                   1.0   \n",
       "\n",
       "                 town     area town_transformed  collateral_type_M100  \\\n",
       "0             Plovdiv   84.276       Major Town                     1   \n",
       "1             Plovdiv  344.172       Major Town                     0   \n",
       "2               Sofia   50.448          Capital                     1   \n",
       "3             Plovdiv  116.460       Major Town                     1   \n",
       "4             Plovdiv  161.088       Major Town                     1   \n",
       "...               ...      ...              ...                   ...   \n",
       "40789  Veliko Tarnovo   85.860     MediumS Town                     1   \n",
       "40790  Veliko Tarnovo  107.532     MediumS Town                     1   \n",
       "40791          Lovech  148.800     MediumS Town                     0   \n",
       "40792  Veliko Tarnovo  108.720     MediumS Town                     1   \n",
       "40793  Veliko Tarnovo  162.840     MediumS Town                     1   \n",
       "\n",
       "       collateral_type_M101  collateral_type_M102  collateral_type_M103  \\\n",
       "0                         0                     0                     0   \n",
       "1                         1                     0                     0   \n",
       "2                         0                     0                     0   \n",
       "3                         0                     0                     0   \n",
       "4                         0                     0                     0   \n",
       "...                     ...                   ...                   ...   \n",
       "40789                     0                     0                     0   \n",
       "40790                     0                     0                     0   \n",
       "40791                     1                     0                     0   \n",
       "40792                     0                     0                     0   \n",
       "40793                     0                     0                     0   \n",
       "\n",
       "       collateral_type_M104  collateral_type_M105  \n",
       "0                         0                     0  \n",
       "1                         0                     0  \n",
       "2                         0                     0  \n",
       "3                         0                     0  \n",
       "4                         0                     0  \n",
       "...                     ...                   ...  \n",
       "40789                     0                     0  \n",
       "40790                     0                     0  \n",
       "40791                     0                     0  \n",
       "40792                     0                     0  \n",
       "40793                     0                     0  \n",
       "\n",
       "[40794 rows x 15 columns]"
      ]
     },
     "execution_count": 191,
     "metadata": {},
     "output_type": "execute_result"
    }
   ],
   "source": [
    "collateral_df"
   ]
  },
  {
   "cell_type": "markdown",
   "id": "63b8bae2",
   "metadata": {},
   "source": [
    "### Fill in missing values"
   ]
  },
  {
   "cell_type": "code",
   "execution_count": 192,
   "id": "735b7380",
   "metadata": {
    "ExecuteTime": {
     "end_time": "2022-09-01T20:26:48.327488Z",
     "start_time": "2022-09-01T20:26:48.297492Z"
    }
   },
   "outputs": [
    {
     "name": "stdout",
     "output_type": "stream",
     "text": [
      "<class 'pandas.core.frame.DataFrame'>\n",
      "RangeIndex: 40794 entries, 0 to 40793\n",
      "Data columns (total 15 columns):\n",
      " #   Column                Non-Null Count  Dtype  \n",
      "---  ------                --------------  -----  \n",
      " 0   account_id            40794 non-null  object \n",
      " 1   collateral_id         40794 non-null  object \n",
      " 2   market_value          40794 non-null  int64  \n",
      " 3   collateral_type       40794 non-null  object \n",
      " 4   building_type         40264 non-null  float64\n",
      " 5   mortgage_utilisation  40774 non-null  float64\n",
      " 6   town                  40748 non-null  object \n",
      " 7   area                  40718 non-null  float64\n",
      " 8   town_transformed      40748 non-null  object \n",
      " 9   collateral_type_M100  40794 non-null  uint8  \n",
      " 10  collateral_type_M101  40794 non-null  uint8  \n",
      " 11  collateral_type_M102  40794 non-null  uint8  \n",
      " 12  collateral_type_M103  40794 non-null  uint8  \n",
      " 13  collateral_type_M104  40794 non-null  uint8  \n",
      " 14  collateral_type_M105  40794 non-null  uint8  \n",
      "dtypes: float64(3), int64(1), object(5), uint8(6)\n",
      "memory usage: 3.0+ MB\n"
     ]
    }
   ],
   "source": [
    "collateral_df.info()"
   ]
  },
  {
   "cell_type": "code",
   "execution_count": 193,
   "id": "7db1ed70",
   "metadata": {
    "ExecuteTime": {
     "end_time": "2022-09-01T20:26:48.343489Z",
     "start_time": "2022-09-01T20:26:48.328492Z"
    }
   },
   "outputs": [
    {
     "data": {
      "text/plain": [
       "Index(['account_id', 'collateral_id', 'market_value', 'collateral_type',\n",
       "       'building_type', 'mortgage_utilisation', 'town', 'area',\n",
       "       'town_transformed', 'collateral_type_M100', 'collateral_type_M101',\n",
       "       'collateral_type_M102', 'collateral_type_M103', 'collateral_type_M104',\n",
       "       'collateral_type_M105'],\n",
       "      dtype='object')"
      ]
     },
     "execution_count": 193,
     "metadata": {},
     "output_type": "execute_result"
    }
   ],
   "source": [
    "collateral_df.columns"
   ]
  },
  {
   "cell_type": "code",
   "execution_count": 194,
   "id": "38107ed9",
   "metadata": {
    "ExecuteTime": {
     "end_time": "2022-09-01T20:26:48.359488Z",
     "start_time": "2022-09-01T20:26:48.344490Z"
    }
   },
   "outputs": [],
   "source": [
    "town_tr_features = ['market_value', 'collateral_type_M100', 'collateral_type_M101',\n",
    "       'collateral_type_M102', 'collateral_type_M103', 'collateral_type_M104',\n",
    "       'collateral_type_M105']\n",
    "\n",
    "X = collateral_df[town_tr_features] \n",
    "y = collateral_df[\"town_transformed\"]"
   ]
  },
  {
   "cell_type": "markdown",
   "id": "b0e8d4d1",
   "metadata": {},
   "source": [
    "#### Split on train and test"
   ]
  },
  {
   "cell_type": "code",
   "execution_count": 195,
   "id": "ca7584bb",
   "metadata": {
    "ExecuteTime": {
     "end_time": "2022-09-01T20:26:48.375489Z",
     "start_time": "2022-09-01T20:26:48.360491Z"
    }
   },
   "outputs": [],
   "source": [
    "empty_towns = y[y.isna()].index"
   ]
  },
  {
   "cell_type": "code",
   "execution_count": 196,
   "id": "a8773eb3",
   "metadata": {
    "ExecuteTime": {
     "end_time": "2022-09-01T20:26:48.391488Z",
     "start_time": "2022-09-01T20:26:48.376490Z"
    }
   },
   "outputs": [],
   "source": [
    "X_test = X.loc[empty_towns, :]\n",
    "y_test = y[empty_towns]"
   ]
  },
  {
   "cell_type": "code",
   "execution_count": 197,
   "id": "4db1487c",
   "metadata": {
    "ExecuteTime": {
     "end_time": "2022-09-01T20:26:48.407490Z",
     "start_time": "2022-09-01T20:26:48.393491Z"
    }
   },
   "outputs": [],
   "source": [
    "X_train = X[~X.index.isin(empty_towns)]\n",
    "y_train = y[~y.index.isin(empty_towns)]"
   ]
  },
  {
   "cell_type": "markdown",
   "id": "774fd397",
   "metadata": {},
   "source": [
    "#### Predict y_test"
   ]
  },
  {
   "cell_type": "markdown",
   "id": "cec97a51",
   "metadata": {},
   "source": [
    "##### Scale the data"
   ]
  },
  {
   "cell_type": "code",
   "execution_count": 198,
   "id": "160cc359",
   "metadata": {
    "ExecuteTime": {
     "end_time": "2022-09-01T20:26:48.422488Z",
     "start_time": "2022-09-01T20:26:48.409493Z"
    }
   },
   "outputs": [],
   "source": [
    "scaler = StandardScaler()\n",
    "\n",
    "X_train_sc = scaler.fit_transform(X_train)\n",
    "X_train_scaled = pd.DataFrame(data=X_train_sc, columns=X_train.columns)\n",
    "y_train_values = y_train.values.ravel()"
   ]
  },
  {
   "cell_type": "code",
   "execution_count": 199,
   "id": "2e6a7772",
   "metadata": {
    "ExecuteTime": {
     "end_time": "2022-09-01T20:26:48.437488Z",
     "start_time": "2022-09-01T20:26:48.424492Z"
    }
   },
   "outputs": [],
   "source": [
    "rf_clf = RandomForestClassifier()"
   ]
  },
  {
   "cell_type": "code",
   "execution_count": 200,
   "id": "65a7d20d",
   "metadata": {
    "ExecuteTime": {
     "end_time": "2022-09-01T20:26:57.575528Z",
     "start_time": "2022-09-01T20:26:48.439489Z"
    }
   },
   "outputs": [
    {
     "data": {
      "text/html": [
       "<style>#sk-container-id-7 {color: black;background-color: white;}#sk-container-id-7 pre{padding: 0;}#sk-container-id-7 div.sk-toggleable {background-color: white;}#sk-container-id-7 label.sk-toggleable__label {cursor: pointer;display: block;width: 100%;margin-bottom: 0;padding: 0.3em;box-sizing: border-box;text-align: center;}#sk-container-id-7 label.sk-toggleable__label-arrow:before {content: \"▸\";float: left;margin-right: 0.25em;color: #696969;}#sk-container-id-7 label.sk-toggleable__label-arrow:hover:before {color: black;}#sk-container-id-7 div.sk-estimator:hover label.sk-toggleable__label-arrow:before {color: black;}#sk-container-id-7 div.sk-toggleable__content {max-height: 0;max-width: 0;overflow: hidden;text-align: left;background-color: #f0f8ff;}#sk-container-id-7 div.sk-toggleable__content pre {margin: 0.2em;color: black;border-radius: 0.25em;background-color: #f0f8ff;}#sk-container-id-7 input.sk-toggleable__control:checked~div.sk-toggleable__content {max-height: 200px;max-width: 100%;overflow: auto;}#sk-container-id-7 input.sk-toggleable__control:checked~label.sk-toggleable__label-arrow:before {content: \"▾\";}#sk-container-id-7 div.sk-estimator input.sk-toggleable__control:checked~label.sk-toggleable__label {background-color: #d4ebff;}#sk-container-id-7 div.sk-label input.sk-toggleable__control:checked~label.sk-toggleable__label {background-color: #d4ebff;}#sk-container-id-7 input.sk-hidden--visually {border: 0;clip: rect(1px 1px 1px 1px);clip: rect(1px, 1px, 1px, 1px);height: 1px;margin: -1px;overflow: hidden;padding: 0;position: absolute;width: 1px;}#sk-container-id-7 div.sk-estimator {font-family: monospace;background-color: #f0f8ff;border: 1px dotted black;border-radius: 0.25em;box-sizing: border-box;margin-bottom: 0.5em;}#sk-container-id-7 div.sk-estimator:hover {background-color: #d4ebff;}#sk-container-id-7 div.sk-parallel-item::after {content: \"\";width: 100%;border-bottom: 1px solid gray;flex-grow: 1;}#sk-container-id-7 div.sk-label:hover label.sk-toggleable__label {background-color: #d4ebff;}#sk-container-id-7 div.sk-serial::before {content: \"\";position: absolute;border-left: 1px solid gray;box-sizing: border-box;top: 0;bottom: 0;left: 50%;z-index: 0;}#sk-container-id-7 div.sk-serial {display: flex;flex-direction: column;align-items: center;background-color: white;padding-right: 0.2em;padding-left: 0.2em;position: relative;}#sk-container-id-7 div.sk-item {position: relative;z-index: 1;}#sk-container-id-7 div.sk-parallel {display: flex;align-items: stretch;justify-content: center;background-color: white;position: relative;}#sk-container-id-7 div.sk-item::before, #sk-container-id-7 div.sk-parallel-item::before {content: \"\";position: absolute;border-left: 1px solid gray;box-sizing: border-box;top: 0;bottom: 0;left: 50%;z-index: -1;}#sk-container-id-7 div.sk-parallel-item {display: flex;flex-direction: column;z-index: 1;position: relative;background-color: white;}#sk-container-id-7 div.sk-parallel-item:first-child::after {align-self: flex-end;width: 50%;}#sk-container-id-7 div.sk-parallel-item:last-child::after {align-self: flex-start;width: 50%;}#sk-container-id-7 div.sk-parallel-item:only-child::after {width: 0;}#sk-container-id-7 div.sk-dashed-wrapped {border: 1px dashed gray;margin: 0 0.4em 0.5em 0.4em;box-sizing: border-box;padding-bottom: 0.4em;background-color: white;}#sk-container-id-7 div.sk-label label {font-family: monospace;font-weight: bold;display: inline-block;line-height: 1.2em;}#sk-container-id-7 div.sk-label-container {text-align: center;}#sk-container-id-7 div.sk-container {/* jupyter's `normalize.less` sets `[hidden] { display: none; }` but bootstrap.min.css set `[hidden] { display: none !important; }` so we also need the `!important` here to be able to override the default hidden behavior on the sphinx rendered scikit-learn.org. See: https://github.com/scikit-learn/scikit-learn/issues/21755 */display: inline-block !important;position: relative;}#sk-container-id-7 div.sk-text-repr-fallback {display: none;}</style><div id=\"sk-container-id-7\" class=\"sk-top-container\"><div class=\"sk-text-repr-fallback\"><pre>RandomForestClassifier()</pre><b>In a Jupyter environment, please rerun this cell to show the HTML representation or trust the notebook. <br />On GitHub, the HTML representation is unable to render, please try loading this page with nbviewer.org.</b></div><div class=\"sk-container\" hidden><div class=\"sk-item\"><div class=\"sk-estimator sk-toggleable\"><input class=\"sk-toggleable__control sk-hidden--visually\" id=\"sk-estimator-id-7\" type=\"checkbox\" checked><label for=\"sk-estimator-id-7\" class=\"sk-toggleable__label sk-toggleable__label-arrow\">RandomForestClassifier</label><div class=\"sk-toggleable__content\"><pre>RandomForestClassifier()</pre></div></div></div></div></div>"
      ],
      "text/plain": [
       "RandomForestClassifier()"
      ]
     },
     "execution_count": 200,
     "metadata": {},
     "output_type": "execute_result"
    }
   ],
   "source": [
    "rf_clf.fit(X_train_scaled, y_train_values)"
   ]
  },
  {
   "cell_type": "code",
   "execution_count": 201,
   "id": "ee412bd2",
   "metadata": {
    "ExecuteTime": {
     "end_time": "2022-09-01T20:26:57.606690Z",
     "start_time": "2022-09-01T20:26:57.580524Z"
    }
   },
   "outputs": [],
   "source": [
    "X_test_sc = scaler.transform(X_test)\n",
    "X_test_scaled = pd.DataFrame(data=X_test_sc, columns=X_test.columns)"
   ]
  },
  {
   "cell_type": "code",
   "execution_count": 202,
   "id": "88dd2354",
   "metadata": {
    "ExecuteTime": {
     "end_time": "2022-09-01T20:26:57.670293Z",
     "start_time": "2022-09-01T20:26:57.611221Z"
    }
   },
   "outputs": [],
   "source": [
    "pred_values = rf_clf.predict(X_test_scaled)"
   ]
  },
  {
   "cell_type": "code",
   "execution_count": 203,
   "id": "4cc4c0ef",
   "metadata": {
    "ExecuteTime": {
     "end_time": "2022-09-01T20:26:57.686289Z",
     "start_time": "2022-09-01T20:26:57.674292Z"
    }
   },
   "outputs": [],
   "source": [
    "y_test = pd.Series(data=pred_values, name=\"town_transformed\")"
   ]
  },
  {
   "cell_type": "code",
   "execution_count": 204,
   "id": "d916ef4d",
   "metadata": {
    "ExecuteTime": {
     "end_time": "2022-09-01T20:26:57.701290Z",
     "start_time": "2022-09-01T20:26:57.690291Z"
    }
   },
   "outputs": [
    {
     "data": {
      "text/plain": [
       "Capital         32\n",
       "Major Town       9\n",
       "Big Town         3\n",
       "MediumS Town     2\n",
       "Name: town_transformed, dtype: int64"
      ]
     },
     "execution_count": 204,
     "metadata": {},
     "output_type": "execute_result"
    }
   ],
   "source": [
    "y_test.value_counts()"
   ]
  },
  {
   "cell_type": "code",
   "execution_count": 205,
   "id": "9c3e2f0b",
   "metadata": {
    "ExecuteTime": {
     "end_time": "2022-09-01T20:26:57.716288Z",
     "start_time": "2022-09-01T20:26:57.705294Z"
    }
   },
   "outputs": [],
   "source": [
    "y_test.index = empty_towns"
   ]
  },
  {
   "cell_type": "code",
   "execution_count": 206,
   "id": "5861bd85",
   "metadata": {
    "ExecuteTime": {
     "end_time": "2022-09-01T20:26:57.732288Z",
     "start_time": "2022-09-01T20:26:57.721289Z"
    }
   },
   "outputs": [],
   "source": [
    "y_comb = pd.concat([y_train, y_test])"
   ]
  },
  {
   "cell_type": "code",
   "execution_count": 207,
   "id": "460f2d73",
   "metadata": {
    "ExecuteTime": {
     "end_time": "2022-09-01T20:26:57.747290Z",
     "start_time": "2022-09-01T20:26:57.736294Z"
    }
   },
   "outputs": [],
   "source": [
    "collateral_df[\"town_transformed_full\"] = y_comb"
   ]
  },
  {
   "cell_type": "code",
   "execution_count": 208,
   "id": "cb147372",
   "metadata": {
    "ExecuteTime": {
     "end_time": "2022-09-01T20:26:57.778293Z",
     "start_time": "2022-09-01T20:26:57.751292Z"
    }
   },
   "outputs": [],
   "source": [
    "collateral_df.drop(\"town_transformed\", axis=1, inplace=True)"
   ]
  },
  {
   "cell_type": "code",
   "execution_count": 209,
   "id": "73e503c3",
   "metadata": {
    "ExecuteTime": {
     "end_time": "2022-09-01T20:26:57.840312Z",
     "start_time": "2022-09-01T20:26:57.782289Z"
    }
   },
   "outputs": [
    {
     "name": "stdout",
     "output_type": "stream",
     "text": [
      "<class 'pandas.core.frame.DataFrame'>\n",
      "RangeIndex: 40794 entries, 0 to 40793\n",
      "Data columns (total 15 columns):\n",
      " #   Column                 Non-Null Count  Dtype  \n",
      "---  ------                 --------------  -----  \n",
      " 0   account_id             40794 non-null  object \n",
      " 1   collateral_id          40794 non-null  object \n",
      " 2   market_value           40794 non-null  int64  \n",
      " 3   collateral_type        40794 non-null  object \n",
      " 4   building_type          40264 non-null  float64\n",
      " 5   mortgage_utilisation   40774 non-null  float64\n",
      " 6   town                   40748 non-null  object \n",
      " 7   area                   40718 non-null  float64\n",
      " 8   collateral_type_M100   40794 non-null  uint8  \n",
      " 9   collateral_type_M101   40794 non-null  uint8  \n",
      " 10  collateral_type_M102   40794 non-null  uint8  \n",
      " 11  collateral_type_M103   40794 non-null  uint8  \n",
      " 12  collateral_type_M104   40794 non-null  uint8  \n",
      " 13  collateral_type_M105   40794 non-null  uint8  \n",
      " 14  town_transformed_full  40794 non-null  object \n",
      "dtypes: float64(3), int64(1), object(5), uint8(6)\n",
      "memory usage: 3.0+ MB\n"
     ]
    }
   ],
   "source": [
    "collateral_df.info()"
   ]
  },
  {
   "cell_type": "code",
   "execution_count": 210,
   "id": "ba3ecf11",
   "metadata": {
    "ExecuteTime": {
     "end_time": "2022-09-01T20:26:57.871295Z",
     "start_time": "2022-09-01T20:26:57.844290Z"
    }
   },
   "outputs": [],
   "source": [
    "collateral_df.drop(\"collateral_type\", axis=1, inplace=True)"
   ]
  },
  {
   "cell_type": "markdown",
   "id": "d7588c6d",
   "metadata": {},
   "source": [
    "#### Create town dummies"
   ]
  },
  {
   "cell_type": "code",
   "execution_count": 211,
   "id": "0a0c16ce",
   "metadata": {
    "ExecuteTime": {
     "end_time": "2022-09-01T20:26:57.917295Z",
     "start_time": "2022-09-01T20:26:57.876291Z"
    }
   },
   "outputs": [],
   "source": [
    "### Create town dummy\n",
    "\n",
    "collateral_df.rename({\"town_transformed_full\": \"town_transformed\"}, axis=1, inplace=True)\n",
    "\n",
    "collateral_df = collateral_df.join(pd.get_dummies(collateral_df[\"town_transformed\"], prefix=\"town_transformed\"), how=\"left\")\n",
    "\n",
    "collateral_df.drop(\"town\", axis=1, inplace=True)"
   ]
  },
  {
   "cell_type": "code",
   "execution_count": null,
   "id": "bacd24a8",
   "metadata": {},
   "outputs": [],
   "source": []
  },
  {
   "cell_type": "code",
   "execution_count": 212,
   "id": "4415996e",
   "metadata": {
    "ExecuteTime": {
     "end_time": "2022-09-01T20:26:57.932291Z",
     "start_time": "2022-09-01T20:26:57.921294Z"
    }
   },
   "outputs": [],
   "source": [
    "collateral_df.drop(\"town_transformed\", axis=1, inplace=True)"
   ]
  },
  {
   "cell_type": "markdown",
   "id": "38008b37",
   "metadata": {},
   "source": [
    "#### fill in building_type"
   ]
  },
  {
   "cell_type": "code",
   "execution_count": 213,
   "id": "6e01e25f",
   "metadata": {
    "ExecuteTime": {
     "end_time": "2022-09-01T20:26:57.995288Z",
     "start_time": "2022-09-01T20:26:57.936292Z"
    }
   },
   "outputs": [
    {
     "name": "stdout",
     "output_type": "stream",
     "text": [
      "<class 'pandas.core.frame.DataFrame'>\n",
      "RangeIndex: 40794 entries, 0 to 40793\n",
      "Data columns (total 16 columns):\n",
      " #   Column                         Non-Null Count  Dtype  \n",
      "---  ------                         --------------  -----  \n",
      " 0   account_id                     40794 non-null  object \n",
      " 1   collateral_id                  40794 non-null  object \n",
      " 2   market_value                   40794 non-null  int64  \n",
      " 3   building_type                  40264 non-null  float64\n",
      " 4   mortgage_utilisation           40774 non-null  float64\n",
      " 5   area                           40718 non-null  float64\n",
      " 6   collateral_type_M100           40794 non-null  uint8  \n",
      " 7   collateral_type_M101           40794 non-null  uint8  \n",
      " 8   collateral_type_M102           40794 non-null  uint8  \n",
      " 9   collateral_type_M103           40794 non-null  uint8  \n",
      " 10  collateral_type_M104           40794 non-null  uint8  \n",
      " 11  collateral_type_M105           40794 non-null  uint8  \n",
      " 12  town_transformed_Big Town      40794 non-null  uint8  \n",
      " 13  town_transformed_Capital       40794 non-null  uint8  \n",
      " 14  town_transformed_Major Town    40794 non-null  uint8  \n",
      " 15  town_transformed_MediumS Town  40794 non-null  uint8  \n",
      "dtypes: float64(3), int64(1), object(2), uint8(10)\n",
      "memory usage: 2.3+ MB\n"
     ]
    }
   ],
   "source": [
    "collateral_df.info()"
   ]
  },
  {
   "cell_type": "code",
   "execution_count": 214,
   "id": "6b2b83bb",
   "metadata": {
    "ExecuteTime": {
     "end_time": "2022-09-01T20:26:58.010288Z",
     "start_time": "2022-09-01T20:26:57.999288Z"
    }
   },
   "outputs": [
    {
     "data": {
      "text/plain": [
       "Index(['account_id', 'collateral_id', 'market_value', 'building_type',\n",
       "       'mortgage_utilisation', 'area', 'collateral_type_M100',\n",
       "       'collateral_type_M101', 'collateral_type_M102', 'collateral_type_M103',\n",
       "       'collateral_type_M104', 'collateral_type_M105',\n",
       "       'town_transformed_Big Town', 'town_transformed_Capital',\n",
       "       'town_transformed_Major Town', 'town_transformed_MediumS Town'],\n",
       "      dtype='object')"
      ]
     },
     "execution_count": 214,
     "metadata": {},
     "output_type": "execute_result"
    }
   ],
   "source": [
    "collateral_df.columns"
   ]
  },
  {
   "cell_type": "code",
   "execution_count": 215,
   "id": "b07caf4a",
   "metadata": {
    "ExecuteTime": {
     "end_time": "2022-09-01T20:26:58.042290Z",
     "start_time": "2022-09-01T20:26:58.015289Z"
    }
   },
   "outputs": [],
   "source": [
    "building_type_features = ['market_value', 'collateral_type_M100', 'collateral_type_M101',\n",
    "       'collateral_type_M102', 'collateral_type_M103', 'collateral_type_M104',\n",
    "       'collateral_type_M105', 'town_transformed_Big Town', 'town_transformed_Capital',\n",
    "       'town_transformed_Major Town', 'town_transformed_MediumS Town']\n",
    "\n",
    "X = collateral_df[building_type_features] \n",
    "y = collateral_df[\"building_type\"]"
   ]
  },
  {
   "cell_type": "markdown",
   "id": "52e8ac6c",
   "metadata": {},
   "source": [
    "#### Split on train and test"
   ]
  },
  {
   "cell_type": "code",
   "execution_count": 216,
   "id": "88eb7bf7",
   "metadata": {
    "ExecuteTime": {
     "end_time": "2022-09-01T20:26:58.058285Z",
     "start_time": "2022-09-01T20:26:58.046292Z"
    }
   },
   "outputs": [],
   "source": [
    "empty_towns = y[y.isna()].index"
   ]
  },
  {
   "cell_type": "code",
   "execution_count": 217,
   "id": "bd66f8e9",
   "metadata": {
    "ExecuteTime": {
     "end_time": "2022-09-01T20:26:58.074288Z",
     "start_time": "2022-09-01T20:26:58.062291Z"
    }
   },
   "outputs": [],
   "source": [
    "X_test = X.loc[empty_towns, :]\n",
    "y_test = y[empty_towns]"
   ]
  },
  {
   "cell_type": "code",
   "execution_count": 218,
   "id": "5afa01f1",
   "metadata": {
    "ExecuteTime": {
     "end_time": "2022-09-01T20:26:58.106291Z",
     "start_time": "2022-09-01T20:26:58.079295Z"
    }
   },
   "outputs": [],
   "source": [
    "X_train = X[~X.index.isin(empty_towns)]\n",
    "y_train = y[~y.index.isin(empty_towns)]"
   ]
  },
  {
   "cell_type": "markdown",
   "id": "b6294577",
   "metadata": {},
   "source": [
    "#### Predict y_test"
   ]
  },
  {
   "cell_type": "markdown",
   "id": "5c0550e8",
   "metadata": {},
   "source": [
    "##### Scale the data"
   ]
  },
  {
   "cell_type": "code",
   "execution_count": 219,
   "id": "bcc03abd",
   "metadata": {
    "ExecuteTime": {
     "end_time": "2022-09-01T20:26:58.138286Z",
     "start_time": "2022-09-01T20:26:58.109292Z"
    }
   },
   "outputs": [],
   "source": [
    "scaler = StandardScaler()\n",
    "\n",
    "X_train_sc = scaler.fit_transform(X_train)\n",
    "X_train_scaled = pd.DataFrame(data=X_train_sc, columns=X_train.columns)\n",
    "y_train_values = y_train.values.ravel()"
   ]
  },
  {
   "cell_type": "code",
   "execution_count": 220,
   "id": "6e1027eb",
   "metadata": {
    "ExecuteTime": {
     "end_time": "2022-09-01T20:26:58.154290Z",
     "start_time": "2022-09-01T20:26:58.142289Z"
    }
   },
   "outputs": [],
   "source": [
    "rf_clf = RandomForestClassifier()"
   ]
  },
  {
   "cell_type": "code",
   "execution_count": 221,
   "id": "8b1eb4d1",
   "metadata": {
    "ExecuteTime": {
     "end_time": "2022-09-01T20:27:05.468309Z",
     "start_time": "2022-09-01T20:26:58.158290Z"
    }
   },
   "outputs": [
    {
     "data": {
      "text/html": [
       "<style>#sk-container-id-8 {color: black;background-color: white;}#sk-container-id-8 pre{padding: 0;}#sk-container-id-8 div.sk-toggleable {background-color: white;}#sk-container-id-8 label.sk-toggleable__label {cursor: pointer;display: block;width: 100%;margin-bottom: 0;padding: 0.3em;box-sizing: border-box;text-align: center;}#sk-container-id-8 label.sk-toggleable__label-arrow:before {content: \"▸\";float: left;margin-right: 0.25em;color: #696969;}#sk-container-id-8 label.sk-toggleable__label-arrow:hover:before {color: black;}#sk-container-id-8 div.sk-estimator:hover label.sk-toggleable__label-arrow:before {color: black;}#sk-container-id-8 div.sk-toggleable__content {max-height: 0;max-width: 0;overflow: hidden;text-align: left;background-color: #f0f8ff;}#sk-container-id-8 div.sk-toggleable__content pre {margin: 0.2em;color: black;border-radius: 0.25em;background-color: #f0f8ff;}#sk-container-id-8 input.sk-toggleable__control:checked~div.sk-toggleable__content {max-height: 200px;max-width: 100%;overflow: auto;}#sk-container-id-8 input.sk-toggleable__control:checked~label.sk-toggleable__label-arrow:before {content: \"▾\";}#sk-container-id-8 div.sk-estimator input.sk-toggleable__control:checked~label.sk-toggleable__label {background-color: #d4ebff;}#sk-container-id-8 div.sk-label input.sk-toggleable__control:checked~label.sk-toggleable__label {background-color: #d4ebff;}#sk-container-id-8 input.sk-hidden--visually {border: 0;clip: rect(1px 1px 1px 1px);clip: rect(1px, 1px, 1px, 1px);height: 1px;margin: -1px;overflow: hidden;padding: 0;position: absolute;width: 1px;}#sk-container-id-8 div.sk-estimator {font-family: monospace;background-color: #f0f8ff;border: 1px dotted black;border-radius: 0.25em;box-sizing: border-box;margin-bottom: 0.5em;}#sk-container-id-8 div.sk-estimator:hover {background-color: #d4ebff;}#sk-container-id-8 div.sk-parallel-item::after {content: \"\";width: 100%;border-bottom: 1px solid gray;flex-grow: 1;}#sk-container-id-8 div.sk-label:hover label.sk-toggleable__label {background-color: #d4ebff;}#sk-container-id-8 div.sk-serial::before {content: \"\";position: absolute;border-left: 1px solid gray;box-sizing: border-box;top: 0;bottom: 0;left: 50%;z-index: 0;}#sk-container-id-8 div.sk-serial {display: flex;flex-direction: column;align-items: center;background-color: white;padding-right: 0.2em;padding-left: 0.2em;position: relative;}#sk-container-id-8 div.sk-item {position: relative;z-index: 1;}#sk-container-id-8 div.sk-parallel {display: flex;align-items: stretch;justify-content: center;background-color: white;position: relative;}#sk-container-id-8 div.sk-item::before, #sk-container-id-8 div.sk-parallel-item::before {content: \"\";position: absolute;border-left: 1px solid gray;box-sizing: border-box;top: 0;bottom: 0;left: 50%;z-index: -1;}#sk-container-id-8 div.sk-parallel-item {display: flex;flex-direction: column;z-index: 1;position: relative;background-color: white;}#sk-container-id-8 div.sk-parallel-item:first-child::after {align-self: flex-end;width: 50%;}#sk-container-id-8 div.sk-parallel-item:last-child::after {align-self: flex-start;width: 50%;}#sk-container-id-8 div.sk-parallel-item:only-child::after {width: 0;}#sk-container-id-8 div.sk-dashed-wrapped {border: 1px dashed gray;margin: 0 0.4em 0.5em 0.4em;box-sizing: border-box;padding-bottom: 0.4em;background-color: white;}#sk-container-id-8 div.sk-label label {font-family: monospace;font-weight: bold;display: inline-block;line-height: 1.2em;}#sk-container-id-8 div.sk-label-container {text-align: center;}#sk-container-id-8 div.sk-container {/* jupyter's `normalize.less` sets `[hidden] { display: none; }` but bootstrap.min.css set `[hidden] { display: none !important; }` so we also need the `!important` here to be able to override the default hidden behavior on the sphinx rendered scikit-learn.org. See: https://github.com/scikit-learn/scikit-learn/issues/21755 */display: inline-block !important;position: relative;}#sk-container-id-8 div.sk-text-repr-fallback {display: none;}</style><div id=\"sk-container-id-8\" class=\"sk-top-container\"><div class=\"sk-text-repr-fallback\"><pre>RandomForestClassifier()</pre><b>In a Jupyter environment, please rerun this cell to show the HTML representation or trust the notebook. <br />On GitHub, the HTML representation is unable to render, please try loading this page with nbviewer.org.</b></div><div class=\"sk-container\" hidden><div class=\"sk-item\"><div class=\"sk-estimator sk-toggleable\"><input class=\"sk-toggleable__control sk-hidden--visually\" id=\"sk-estimator-id-8\" type=\"checkbox\" checked><label for=\"sk-estimator-id-8\" class=\"sk-toggleable__label sk-toggleable__label-arrow\">RandomForestClassifier</label><div class=\"sk-toggleable__content\"><pre>RandomForestClassifier()</pre></div></div></div></div></div>"
      ],
      "text/plain": [
       "RandomForestClassifier()"
      ]
     },
     "execution_count": 221,
     "metadata": {},
     "output_type": "execute_result"
    }
   ],
   "source": [
    "rf_clf.fit(X_train_scaled, y_train_values)"
   ]
  },
  {
   "cell_type": "code",
   "execution_count": 222,
   "id": "e0398d6c",
   "metadata": {
    "ExecuteTime": {
     "end_time": "2022-09-01T20:27:05.499824Z",
     "start_time": "2022-09-01T20:27:05.473309Z"
    }
   },
   "outputs": [],
   "source": [
    "X_test_sc = scaler.transform(X_test)\n",
    "X_test_scaled = pd.DataFrame(data=X_test_sc, columns=X_test.columns)"
   ]
  },
  {
   "cell_type": "code",
   "execution_count": 223,
   "id": "e0c804ff",
   "metadata": {
    "ExecuteTime": {
     "end_time": "2022-09-01T20:27:05.591207Z",
     "start_time": "2022-09-01T20:27:05.533994Z"
    }
   },
   "outputs": [],
   "source": [
    "pred_values = rf_clf.predict(X_test_scaled)"
   ]
  },
  {
   "cell_type": "code",
   "execution_count": 224,
   "id": "13be4bfb",
   "metadata": {
    "ExecuteTime": {
     "end_time": "2022-09-01T20:27:05.607229Z",
     "start_time": "2022-09-01T20:27:05.595230Z"
    }
   },
   "outputs": [],
   "source": [
    "y_test = pd.Series(data=pred_values, name=\"building_type\")"
   ]
  },
  {
   "cell_type": "code",
   "execution_count": 225,
   "id": "a3d9b311",
   "metadata": {
    "ExecuteTime": {
     "end_time": "2022-09-01T20:27:05.623235Z",
     "start_time": "2022-09-01T20:27:05.611231Z"
    }
   },
   "outputs": [
    {
     "data": {
      "text/plain": [
       "1.0    412\n",
       "2.0    118\n",
       "Name: building_type, dtype: int64"
      ]
     },
     "execution_count": 225,
     "metadata": {},
     "output_type": "execute_result"
    }
   ],
   "source": [
    "y_test.value_counts()"
   ]
  },
  {
   "cell_type": "code",
   "execution_count": 226,
   "id": "d9af3936",
   "metadata": {
    "ExecuteTime": {
     "end_time": "2022-09-01T20:27:05.639229Z",
     "start_time": "2022-09-01T20:27:05.627233Z"
    }
   },
   "outputs": [],
   "source": [
    "y_test.index = empty_towns"
   ]
  },
  {
   "cell_type": "code",
   "execution_count": 227,
   "id": "fa9eae6d",
   "metadata": {
    "ExecuteTime": {
     "end_time": "2022-09-01T20:27:05.655225Z",
     "start_time": "2022-09-01T20:27:05.643227Z"
    }
   },
   "outputs": [],
   "source": [
    "y_comb = pd.concat([y_train, y_test])"
   ]
  },
  {
   "cell_type": "code",
   "execution_count": 228,
   "id": "5d792c57",
   "metadata": {
    "ExecuteTime": {
     "end_time": "2022-09-01T20:27:05.671228Z",
     "start_time": "2022-09-01T20:27:05.659228Z"
    }
   },
   "outputs": [],
   "source": [
    "collateral_df[\"building_type_full\"] = y_comb"
   ]
  },
  {
   "cell_type": "code",
   "execution_count": 229,
   "id": "92cdc9bb",
   "metadata": {
    "ExecuteTime": {
     "end_time": "2022-09-01T20:27:05.687225Z",
     "start_time": "2022-09-01T20:27:05.674228Z"
    }
   },
   "outputs": [],
   "source": [
    "collateral_df.drop(\"building_type\", axis=1, inplace=True)"
   ]
  },
  {
   "cell_type": "code",
   "execution_count": 230,
   "id": "354fa1f9",
   "metadata": {
    "ExecuteTime": {
     "end_time": "2022-09-01T20:27:05.732225Z",
     "start_time": "2022-09-01T20:27:05.690233Z"
    }
   },
   "outputs": [
    {
     "name": "stdout",
     "output_type": "stream",
     "text": [
      "<class 'pandas.core.frame.DataFrame'>\n",
      "RangeIndex: 40794 entries, 0 to 40793\n",
      "Data columns (total 16 columns):\n",
      " #   Column                         Non-Null Count  Dtype  \n",
      "---  ------                         --------------  -----  \n",
      " 0   account_id                     40794 non-null  object \n",
      " 1   collateral_id                  40794 non-null  object \n",
      " 2   market_value                   40794 non-null  int64  \n",
      " 3   mortgage_utilisation           40774 non-null  float64\n",
      " 4   area                           40718 non-null  float64\n",
      " 5   collateral_type_M100           40794 non-null  uint8  \n",
      " 6   collateral_type_M101           40794 non-null  uint8  \n",
      " 7   collateral_type_M102           40794 non-null  uint8  \n",
      " 8   collateral_type_M103           40794 non-null  uint8  \n",
      " 9   collateral_type_M104           40794 non-null  uint8  \n",
      " 10  collateral_type_M105           40794 non-null  uint8  \n",
      " 11  town_transformed_Big Town      40794 non-null  uint8  \n",
      " 12  town_transformed_Capital       40794 non-null  uint8  \n",
      " 13  town_transformed_Major Town    40794 non-null  uint8  \n",
      " 14  town_transformed_MediumS Town  40794 non-null  uint8  \n",
      " 15  building_type_full             40794 non-null  float64\n",
      "dtypes: float64(3), int64(1), object(2), uint8(10)\n",
      "memory usage: 2.3+ MB\n"
     ]
    }
   ],
   "source": [
    "collateral_df.info()"
   ]
  },
  {
   "cell_type": "markdown",
   "id": "ffbdc72d",
   "metadata": {},
   "source": [
    "#### Fill in mortgage utilization"
   ]
  },
  {
   "cell_type": "code",
   "execution_count": 231,
   "id": "15162d5f",
   "metadata": {
    "ExecuteTime": {
     "end_time": "2022-09-01T20:27:05.779261Z",
     "start_time": "2022-09-01T20:27:05.736232Z"
    }
   },
   "outputs": [
    {
     "name": "stdout",
     "output_type": "stream",
     "text": [
      "<class 'pandas.core.frame.DataFrame'>\n",
      "RangeIndex: 40794 entries, 0 to 40793\n",
      "Data columns (total 16 columns):\n",
      " #   Column                         Non-Null Count  Dtype  \n",
      "---  ------                         --------------  -----  \n",
      " 0   account_id                     40794 non-null  object \n",
      " 1   collateral_id                  40794 non-null  object \n",
      " 2   market_value                   40794 non-null  int64  \n",
      " 3   mortgage_utilisation           40774 non-null  float64\n",
      " 4   area                           40718 non-null  float64\n",
      " 5   collateral_type_M100           40794 non-null  uint8  \n",
      " 6   collateral_type_M101           40794 non-null  uint8  \n",
      " 7   collateral_type_M102           40794 non-null  uint8  \n",
      " 8   collateral_type_M103           40794 non-null  uint8  \n",
      " 9   collateral_type_M104           40794 non-null  uint8  \n",
      " 10  collateral_type_M105           40794 non-null  uint8  \n",
      " 11  town_transformed_Big Town      40794 non-null  uint8  \n",
      " 12  town_transformed_Capital       40794 non-null  uint8  \n",
      " 13  town_transformed_Major Town    40794 non-null  uint8  \n",
      " 14  town_transformed_MediumS Town  40794 non-null  uint8  \n",
      " 15  building_type_full             40794 non-null  float64\n",
      "dtypes: float64(3), int64(1), object(2), uint8(10)\n",
      "memory usage: 2.3+ MB\n"
     ]
    }
   ],
   "source": [
    "collateral_df.info()"
   ]
  },
  {
   "cell_type": "code",
   "execution_count": 232,
   "id": "9b8ca481",
   "metadata": {
    "ExecuteTime": {
     "end_time": "2022-09-01T20:27:05.795235Z",
     "start_time": "2022-09-01T20:27:05.783230Z"
    }
   },
   "outputs": [
    {
     "data": {
      "text/plain": [
       "Index(['account_id', 'collateral_id', 'market_value', 'mortgage_utilisation',\n",
       "       'area', 'collateral_type_M100', 'collateral_type_M101',\n",
       "       'collateral_type_M102', 'collateral_type_M103', 'collateral_type_M104',\n",
       "       'collateral_type_M105', 'town_transformed_Big Town',\n",
       "       'town_transformed_Capital', 'town_transformed_Major Town',\n",
       "       'town_transformed_MediumS Town', 'building_type_full'],\n",
       "      dtype='object')"
      ]
     },
     "execution_count": 232,
     "metadata": {},
     "output_type": "execute_result"
    }
   ],
   "source": [
    "collateral_df.columns"
   ]
  },
  {
   "cell_type": "code",
   "execution_count": 233,
   "id": "7f674a46",
   "metadata": {
    "ExecuteTime": {
     "end_time": "2022-09-01T20:27:05.811251Z",
     "start_time": "2022-09-01T20:27:05.799232Z"
    }
   },
   "outputs": [],
   "source": [
    "mortgage_utilisation_features = ['market_value', 'collateral_type_M100', 'collateral_type_M101',\n",
    "       'collateral_type_M102', 'collateral_type_M103', 'collateral_type_M104',\n",
    "       'collateral_type_M105', 'town_transformed_Big Town', 'town_transformed_Capital',\n",
    "       'town_transformed_Major Town', 'town_transformed_MediumS Town',\n",
    "       'building_type_full']\n",
    "\n",
    "X = collateral_df[mortgage_utilisation_features] \n",
    "y = collateral_df[\"mortgage_utilisation\"]"
   ]
  },
  {
   "cell_type": "markdown",
   "id": "3a0ae678",
   "metadata": {},
   "source": [
    "#### Split on train and test"
   ]
  },
  {
   "cell_type": "code",
   "execution_count": 234,
   "id": "e4e03877",
   "metadata": {
    "ExecuteTime": {
     "end_time": "2022-09-01T20:27:05.827252Z",
     "start_time": "2022-09-01T20:27:05.815235Z"
    }
   },
   "outputs": [],
   "source": [
    "empty_towns = y[y.isna()].index"
   ]
  },
  {
   "cell_type": "code",
   "execution_count": 235,
   "id": "fb5c6a03",
   "metadata": {
    "ExecuteTime": {
     "end_time": "2022-09-01T20:27:05.843248Z",
     "start_time": "2022-09-01T20:27:05.831235Z"
    }
   },
   "outputs": [],
   "source": [
    "X_test = X.loc[empty_towns, :]\n",
    "y_test = y[empty_towns]"
   ]
  },
  {
   "cell_type": "code",
   "execution_count": 236,
   "id": "ff475a04",
   "metadata": {
    "ExecuteTime": {
     "end_time": "2022-09-01T20:27:05.875572Z",
     "start_time": "2022-09-01T20:27:05.847237Z"
    }
   },
   "outputs": [],
   "source": [
    "X_train = X[~X.index.isin(empty_towns)]\n",
    "y_train = y[~y.index.isin(empty_towns)]"
   ]
  },
  {
   "cell_type": "markdown",
   "id": "2f64d9a5",
   "metadata": {},
   "source": [
    "#### Predict y_test"
   ]
  },
  {
   "cell_type": "markdown",
   "id": "4f33327b",
   "metadata": {},
   "source": [
    "##### Scale the data"
   ]
  },
  {
   "cell_type": "code",
   "execution_count": 237,
   "id": "db81f9e2",
   "metadata": {
    "ExecuteTime": {
     "end_time": "2022-09-01T20:27:05.907231Z",
     "start_time": "2022-09-01T20:27:05.880229Z"
    }
   },
   "outputs": [],
   "source": [
    "scaler = StandardScaler()\n",
    "\n",
    "X_train_sc = scaler.fit_transform(X_train)\n",
    "X_train_scaled = pd.DataFrame(data=X_train_sc, columns=X_train.columns)\n",
    "y_train_values = y_train.values.ravel()"
   ]
  },
  {
   "cell_type": "code",
   "execution_count": 238,
   "id": "4afc7879",
   "metadata": {
    "ExecuteTime": {
     "end_time": "2022-09-01T20:27:05.923232Z",
     "start_time": "2022-09-01T20:27:05.911230Z"
    }
   },
   "outputs": [],
   "source": [
    "rf_clf = RandomForestClassifier()"
   ]
  },
  {
   "cell_type": "code",
   "execution_count": 239,
   "id": "153f804b",
   "metadata": {
    "ExecuteTime": {
     "end_time": "2022-09-01T20:27:13.260800Z",
     "start_time": "2022-09-01T20:27:05.927230Z"
    }
   },
   "outputs": [
    {
     "data": {
      "text/html": [
       "<style>#sk-container-id-9 {color: black;background-color: white;}#sk-container-id-9 pre{padding: 0;}#sk-container-id-9 div.sk-toggleable {background-color: white;}#sk-container-id-9 label.sk-toggleable__label {cursor: pointer;display: block;width: 100%;margin-bottom: 0;padding: 0.3em;box-sizing: border-box;text-align: center;}#sk-container-id-9 label.sk-toggleable__label-arrow:before {content: \"▸\";float: left;margin-right: 0.25em;color: #696969;}#sk-container-id-9 label.sk-toggleable__label-arrow:hover:before {color: black;}#sk-container-id-9 div.sk-estimator:hover label.sk-toggleable__label-arrow:before {color: black;}#sk-container-id-9 div.sk-toggleable__content {max-height: 0;max-width: 0;overflow: hidden;text-align: left;background-color: #f0f8ff;}#sk-container-id-9 div.sk-toggleable__content pre {margin: 0.2em;color: black;border-radius: 0.25em;background-color: #f0f8ff;}#sk-container-id-9 input.sk-toggleable__control:checked~div.sk-toggleable__content {max-height: 200px;max-width: 100%;overflow: auto;}#sk-container-id-9 input.sk-toggleable__control:checked~label.sk-toggleable__label-arrow:before {content: \"▾\";}#sk-container-id-9 div.sk-estimator input.sk-toggleable__control:checked~label.sk-toggleable__label {background-color: #d4ebff;}#sk-container-id-9 div.sk-label input.sk-toggleable__control:checked~label.sk-toggleable__label {background-color: #d4ebff;}#sk-container-id-9 input.sk-hidden--visually {border: 0;clip: rect(1px 1px 1px 1px);clip: rect(1px, 1px, 1px, 1px);height: 1px;margin: -1px;overflow: hidden;padding: 0;position: absolute;width: 1px;}#sk-container-id-9 div.sk-estimator {font-family: monospace;background-color: #f0f8ff;border: 1px dotted black;border-radius: 0.25em;box-sizing: border-box;margin-bottom: 0.5em;}#sk-container-id-9 div.sk-estimator:hover {background-color: #d4ebff;}#sk-container-id-9 div.sk-parallel-item::after {content: \"\";width: 100%;border-bottom: 1px solid gray;flex-grow: 1;}#sk-container-id-9 div.sk-label:hover label.sk-toggleable__label {background-color: #d4ebff;}#sk-container-id-9 div.sk-serial::before {content: \"\";position: absolute;border-left: 1px solid gray;box-sizing: border-box;top: 0;bottom: 0;left: 50%;z-index: 0;}#sk-container-id-9 div.sk-serial {display: flex;flex-direction: column;align-items: center;background-color: white;padding-right: 0.2em;padding-left: 0.2em;position: relative;}#sk-container-id-9 div.sk-item {position: relative;z-index: 1;}#sk-container-id-9 div.sk-parallel {display: flex;align-items: stretch;justify-content: center;background-color: white;position: relative;}#sk-container-id-9 div.sk-item::before, #sk-container-id-9 div.sk-parallel-item::before {content: \"\";position: absolute;border-left: 1px solid gray;box-sizing: border-box;top: 0;bottom: 0;left: 50%;z-index: -1;}#sk-container-id-9 div.sk-parallel-item {display: flex;flex-direction: column;z-index: 1;position: relative;background-color: white;}#sk-container-id-9 div.sk-parallel-item:first-child::after {align-self: flex-end;width: 50%;}#sk-container-id-9 div.sk-parallel-item:last-child::after {align-self: flex-start;width: 50%;}#sk-container-id-9 div.sk-parallel-item:only-child::after {width: 0;}#sk-container-id-9 div.sk-dashed-wrapped {border: 1px dashed gray;margin: 0 0.4em 0.5em 0.4em;box-sizing: border-box;padding-bottom: 0.4em;background-color: white;}#sk-container-id-9 div.sk-label label {font-family: monospace;font-weight: bold;display: inline-block;line-height: 1.2em;}#sk-container-id-9 div.sk-label-container {text-align: center;}#sk-container-id-9 div.sk-container {/* jupyter's `normalize.less` sets `[hidden] { display: none; }` but bootstrap.min.css set `[hidden] { display: none !important; }` so we also need the `!important` here to be able to override the default hidden behavior on the sphinx rendered scikit-learn.org. See: https://github.com/scikit-learn/scikit-learn/issues/21755 */display: inline-block !important;position: relative;}#sk-container-id-9 div.sk-text-repr-fallback {display: none;}</style><div id=\"sk-container-id-9\" class=\"sk-top-container\"><div class=\"sk-text-repr-fallback\"><pre>RandomForestClassifier()</pre><b>In a Jupyter environment, please rerun this cell to show the HTML representation or trust the notebook. <br />On GitHub, the HTML representation is unable to render, please try loading this page with nbviewer.org.</b></div><div class=\"sk-container\" hidden><div class=\"sk-item\"><div class=\"sk-estimator sk-toggleable\"><input class=\"sk-toggleable__control sk-hidden--visually\" id=\"sk-estimator-id-9\" type=\"checkbox\" checked><label for=\"sk-estimator-id-9\" class=\"sk-toggleable__label sk-toggleable__label-arrow\">RandomForestClassifier</label><div class=\"sk-toggleable__content\"><pre>RandomForestClassifier()</pre></div></div></div></div></div>"
      ],
      "text/plain": [
       "RandomForestClassifier()"
      ]
     },
     "execution_count": 239,
     "metadata": {},
     "output_type": "execute_result"
    }
   ],
   "source": [
    "rf_clf.fit(X_train_scaled, y_train_values)"
   ]
  },
  {
   "cell_type": "code",
   "execution_count": 240,
   "id": "12ca3e98",
   "metadata": {
    "ExecuteTime": {
     "end_time": "2022-09-01T20:27:13.275778Z",
     "start_time": "2022-09-01T20:27:13.264777Z"
    }
   },
   "outputs": [],
   "source": [
    "X_test_sc = scaler.transform(X_test)\n",
    "X_test_scaled = pd.DataFrame(data=X_test_sc, columns=X_test.columns)"
   ]
  },
  {
   "cell_type": "code",
   "execution_count": 241,
   "id": "837bd061",
   "metadata": {
    "ExecuteTime": {
     "end_time": "2022-09-01T20:27:13.353252Z",
     "start_time": "2022-09-01T20:27:13.280849Z"
    }
   },
   "outputs": [],
   "source": [
    "pred_values = rf_clf.predict(X_test_scaled)"
   ]
  },
  {
   "cell_type": "code",
   "execution_count": 242,
   "id": "ffc2a1dd",
   "metadata": {
    "ExecuteTime": {
     "end_time": "2022-09-01T20:27:13.368244Z",
     "start_time": "2022-09-01T20:27:13.356247Z"
    }
   },
   "outputs": [],
   "source": [
    "y_test = pd.Series(data=pred_values, name=\"mortgage_utilisation\")"
   ]
  },
  {
   "cell_type": "code",
   "execution_count": 243,
   "id": "92ad1d64",
   "metadata": {
    "ExecuteTime": {
     "end_time": "2022-09-01T20:27:13.400251Z",
     "start_time": "2022-09-01T20:27:13.373248Z"
    }
   },
   "outputs": [
    {
     "data": {
      "text/plain": [
       "1.0    20\n",
       "Name: mortgage_utilisation, dtype: int64"
      ]
     },
     "execution_count": 243,
     "metadata": {},
     "output_type": "execute_result"
    }
   ],
   "source": [
    "y_test.value_counts()"
   ]
  },
  {
   "cell_type": "code",
   "execution_count": 244,
   "id": "ec375542",
   "metadata": {
    "ExecuteTime": {
     "end_time": "2022-09-01T20:27:13.416248Z",
     "start_time": "2022-09-01T20:27:13.404248Z"
    }
   },
   "outputs": [],
   "source": [
    "y_test.index = empty_towns"
   ]
  },
  {
   "cell_type": "code",
   "execution_count": 245,
   "id": "64ab274f",
   "metadata": {
    "ExecuteTime": {
     "end_time": "2022-09-01T20:27:13.432250Z",
     "start_time": "2022-09-01T20:27:13.420249Z"
    }
   },
   "outputs": [],
   "source": [
    "y_comb = pd.concat([y_train, y_test])"
   ]
  },
  {
   "cell_type": "code",
   "execution_count": 246,
   "id": "4596f317",
   "metadata": {
    "ExecuteTime": {
     "end_time": "2022-09-01T20:27:13.448250Z",
     "start_time": "2022-09-01T20:27:13.437249Z"
    }
   },
   "outputs": [],
   "source": [
    "collateral_df[\"mortgage_utilisation_full\"] = y_comb"
   ]
  },
  {
   "cell_type": "code",
   "execution_count": 247,
   "id": "ff3475bb",
   "metadata": {
    "ExecuteTime": {
     "end_time": "2022-09-01T20:27:13.479246Z",
     "start_time": "2022-09-01T20:27:13.452243Z"
    }
   },
   "outputs": [],
   "source": [
    "collateral_df.drop(\"mortgage_utilisation\", axis=1, inplace=True)"
   ]
  },
  {
   "cell_type": "code",
   "execution_count": 248,
   "id": "6a9a3898",
   "metadata": {
    "ExecuteTime": {
     "end_time": "2022-09-01T20:27:13.525243Z",
     "start_time": "2022-09-01T20:27:13.484244Z"
    }
   },
   "outputs": [
    {
     "name": "stdout",
     "output_type": "stream",
     "text": [
      "<class 'pandas.core.frame.DataFrame'>\n",
      "RangeIndex: 40794 entries, 0 to 40793\n",
      "Data columns (total 16 columns):\n",
      " #   Column                         Non-Null Count  Dtype  \n",
      "---  ------                         --------------  -----  \n",
      " 0   account_id                     40794 non-null  object \n",
      " 1   collateral_id                  40794 non-null  object \n",
      " 2   market_value                   40794 non-null  int64  \n",
      " 3   area                           40718 non-null  float64\n",
      " 4   collateral_type_M100           40794 non-null  uint8  \n",
      " 5   collateral_type_M101           40794 non-null  uint8  \n",
      " 6   collateral_type_M102           40794 non-null  uint8  \n",
      " 7   collateral_type_M103           40794 non-null  uint8  \n",
      " 8   collateral_type_M104           40794 non-null  uint8  \n",
      " 9   collateral_type_M105           40794 non-null  uint8  \n",
      " 10  town_transformed_Big Town      40794 non-null  uint8  \n",
      " 11  town_transformed_Capital       40794 non-null  uint8  \n",
      " 12  town_transformed_Major Town    40794 non-null  uint8  \n",
      " 13  town_transformed_MediumS Town  40794 non-null  uint8  \n",
      " 14  building_type_full             40794 non-null  float64\n",
      " 15  mortgage_utilisation_full      40794 non-null  float64\n",
      "dtypes: float64(3), int64(1), object(2), uint8(10)\n",
      "memory usage: 2.3+ MB\n"
     ]
    }
   ],
   "source": [
    "collateral_df.info()"
   ]
  },
  {
   "cell_type": "markdown",
   "id": "24269c6f",
   "metadata": {},
   "source": [
    "#### Fill in area"
   ]
  },
  {
   "cell_type": "code",
   "execution_count": 249,
   "id": "3288dc8f",
   "metadata": {
    "ExecuteTime": {
     "end_time": "2022-09-01T20:27:13.571769Z",
     "start_time": "2022-09-01T20:27:13.528248Z"
    }
   },
   "outputs": [
    {
     "name": "stdout",
     "output_type": "stream",
     "text": [
      "<class 'pandas.core.frame.DataFrame'>\n",
      "RangeIndex: 40794 entries, 0 to 40793\n",
      "Data columns (total 16 columns):\n",
      " #   Column                         Non-Null Count  Dtype  \n",
      "---  ------                         --------------  -----  \n",
      " 0   account_id                     40794 non-null  object \n",
      " 1   collateral_id                  40794 non-null  object \n",
      " 2   market_value                   40794 non-null  int64  \n",
      " 3   area                           40718 non-null  float64\n",
      " 4   collateral_type_M100           40794 non-null  uint8  \n",
      " 5   collateral_type_M101           40794 non-null  uint8  \n",
      " 6   collateral_type_M102           40794 non-null  uint8  \n",
      " 7   collateral_type_M103           40794 non-null  uint8  \n",
      " 8   collateral_type_M104           40794 non-null  uint8  \n",
      " 9   collateral_type_M105           40794 non-null  uint8  \n",
      " 10  town_transformed_Big Town      40794 non-null  uint8  \n",
      " 11  town_transformed_Capital       40794 non-null  uint8  \n",
      " 12  town_transformed_Major Town    40794 non-null  uint8  \n",
      " 13  town_transformed_MediumS Town  40794 non-null  uint8  \n",
      " 14  building_type_full             40794 non-null  float64\n",
      " 15  mortgage_utilisation_full      40794 non-null  float64\n",
      "dtypes: float64(3), int64(1), object(2), uint8(10)\n",
      "memory usage: 2.3+ MB\n"
     ]
    }
   ],
   "source": [
    "collateral_df.info()"
   ]
  },
  {
   "cell_type": "code",
   "execution_count": 250,
   "id": "18ea191e",
   "metadata": {
    "ExecuteTime": {
     "end_time": "2022-09-01T20:27:13.586782Z",
     "start_time": "2022-09-01T20:27:13.575775Z"
    }
   },
   "outputs": [
    {
     "data": {
      "text/plain": [
       "Index(['account_id', 'collateral_id', 'market_value', 'area',\n",
       "       'collateral_type_M100', 'collateral_type_M101', 'collateral_type_M102',\n",
       "       'collateral_type_M103', 'collateral_type_M104', 'collateral_type_M105',\n",
       "       'town_transformed_Big Town', 'town_transformed_Capital',\n",
       "       'town_transformed_Major Town', 'town_transformed_MediumS Town',\n",
       "       'building_type_full', 'mortgage_utilisation_full'],\n",
       "      dtype='object')"
      ]
     },
     "execution_count": 250,
     "metadata": {},
     "output_type": "execute_result"
    }
   ],
   "source": [
    "collateral_df.columns"
   ]
  },
  {
   "cell_type": "code",
   "execution_count": 251,
   "id": "8a950819",
   "metadata": {
    "ExecuteTime": {
     "end_time": "2022-09-01T20:27:13.602766Z",
     "start_time": "2022-09-01T20:27:13.590766Z"
    }
   },
   "outputs": [],
   "source": [
    "area_features = ['market_value', 'collateral_type_M100', 'collateral_type_M101',\n",
    "       'collateral_type_M102', 'collateral_type_M103', 'collateral_type_M104',\n",
    "       'collateral_type_M105', 'town_transformed_Big Town', 'town_transformed_Capital',\n",
    "       'town_transformed_Major Town', 'town_transformed_MediumS Town',\n",
    "       'building_type_full', 'mortgage_utilisation_full']\n",
    "\n",
    "X = collateral_df[area_features] \n",
    "y = collateral_df[\"area\"]"
   ]
  },
  {
   "cell_type": "markdown",
   "id": "d3356220",
   "metadata": {},
   "source": [
    "#### Split on train and test"
   ]
  },
  {
   "cell_type": "code",
   "execution_count": 252,
   "id": "15e7d03f",
   "metadata": {
    "ExecuteTime": {
     "end_time": "2022-09-01T20:27:13.618766Z",
     "start_time": "2022-09-01T20:27:13.606766Z"
    }
   },
   "outputs": [],
   "source": [
    "empty_towns = y[y.isna()].index"
   ]
  },
  {
   "cell_type": "code",
   "execution_count": 253,
   "id": "c09ab4ee",
   "metadata": {
    "ExecuteTime": {
     "end_time": "2022-09-01T20:27:13.634768Z",
     "start_time": "2022-09-01T20:27:13.622764Z"
    }
   },
   "outputs": [],
   "source": [
    "X_test = X.loc[empty_towns, :]\n",
    "y_test = y[empty_towns]"
   ]
  },
  {
   "cell_type": "code",
   "execution_count": 254,
   "id": "f74ff2b3",
   "metadata": {
    "ExecuteTime": {
     "end_time": "2022-09-01T20:27:13.666792Z",
     "start_time": "2022-09-01T20:27:13.638765Z"
    }
   },
   "outputs": [],
   "source": [
    "X_train = X[~X.index.isin(empty_towns)]\n",
    "y_train = y[~y.index.isin(empty_towns)]"
   ]
  },
  {
   "cell_type": "markdown",
   "id": "5c3ae269",
   "metadata": {},
   "source": [
    "#### Predict y_test"
   ]
  },
  {
   "cell_type": "markdown",
   "id": "9efe5960",
   "metadata": {},
   "source": [
    "##### Scale the data"
   ]
  },
  {
   "cell_type": "code",
   "execution_count": 255,
   "id": "0b1301af",
   "metadata": {
    "ExecuteTime": {
     "end_time": "2022-09-01T20:27:13.698806Z",
     "start_time": "2022-09-01T20:27:13.669796Z"
    }
   },
   "outputs": [],
   "source": [
    "scaler = StandardScaler()\n",
    "\n",
    "X_train_sc = scaler.fit_transform(X_train)\n",
    "X_train_scaled = pd.DataFrame(data=X_train_sc, columns=X_train.columns)\n",
    "y_train_values = y_train.values.ravel()"
   ]
  },
  {
   "cell_type": "code",
   "execution_count": 256,
   "id": "db4403f0",
   "metadata": {
    "ExecuteTime": {
     "end_time": "2022-09-01T20:27:13.714809Z",
     "start_time": "2022-09-01T20:27:13.702805Z"
    }
   },
   "outputs": [],
   "source": [
    "rf_clf = RandomForestRegressor()"
   ]
  },
  {
   "cell_type": "code",
   "execution_count": 257,
   "id": "fdf64571",
   "metadata": {
    "ExecuteTime": {
     "end_time": "2022-09-01T20:27:25.645519Z",
     "start_time": "2022-09-01T20:27:13.718827Z"
    }
   },
   "outputs": [
    {
     "data": {
      "text/html": [
       "<style>#sk-container-id-10 {color: black;background-color: white;}#sk-container-id-10 pre{padding: 0;}#sk-container-id-10 div.sk-toggleable {background-color: white;}#sk-container-id-10 label.sk-toggleable__label {cursor: pointer;display: block;width: 100%;margin-bottom: 0;padding: 0.3em;box-sizing: border-box;text-align: center;}#sk-container-id-10 label.sk-toggleable__label-arrow:before {content: \"▸\";float: left;margin-right: 0.25em;color: #696969;}#sk-container-id-10 label.sk-toggleable__label-arrow:hover:before {color: black;}#sk-container-id-10 div.sk-estimator:hover label.sk-toggleable__label-arrow:before {color: black;}#sk-container-id-10 div.sk-toggleable__content {max-height: 0;max-width: 0;overflow: hidden;text-align: left;background-color: #f0f8ff;}#sk-container-id-10 div.sk-toggleable__content pre {margin: 0.2em;color: black;border-radius: 0.25em;background-color: #f0f8ff;}#sk-container-id-10 input.sk-toggleable__control:checked~div.sk-toggleable__content {max-height: 200px;max-width: 100%;overflow: auto;}#sk-container-id-10 input.sk-toggleable__control:checked~label.sk-toggleable__label-arrow:before {content: \"▾\";}#sk-container-id-10 div.sk-estimator input.sk-toggleable__control:checked~label.sk-toggleable__label {background-color: #d4ebff;}#sk-container-id-10 div.sk-label input.sk-toggleable__control:checked~label.sk-toggleable__label {background-color: #d4ebff;}#sk-container-id-10 input.sk-hidden--visually {border: 0;clip: rect(1px 1px 1px 1px);clip: rect(1px, 1px, 1px, 1px);height: 1px;margin: -1px;overflow: hidden;padding: 0;position: absolute;width: 1px;}#sk-container-id-10 div.sk-estimator {font-family: monospace;background-color: #f0f8ff;border: 1px dotted black;border-radius: 0.25em;box-sizing: border-box;margin-bottom: 0.5em;}#sk-container-id-10 div.sk-estimator:hover {background-color: #d4ebff;}#sk-container-id-10 div.sk-parallel-item::after {content: \"\";width: 100%;border-bottom: 1px solid gray;flex-grow: 1;}#sk-container-id-10 div.sk-label:hover label.sk-toggleable__label {background-color: #d4ebff;}#sk-container-id-10 div.sk-serial::before {content: \"\";position: absolute;border-left: 1px solid gray;box-sizing: border-box;top: 0;bottom: 0;left: 50%;z-index: 0;}#sk-container-id-10 div.sk-serial {display: flex;flex-direction: column;align-items: center;background-color: white;padding-right: 0.2em;padding-left: 0.2em;position: relative;}#sk-container-id-10 div.sk-item {position: relative;z-index: 1;}#sk-container-id-10 div.sk-parallel {display: flex;align-items: stretch;justify-content: center;background-color: white;position: relative;}#sk-container-id-10 div.sk-item::before, #sk-container-id-10 div.sk-parallel-item::before {content: \"\";position: absolute;border-left: 1px solid gray;box-sizing: border-box;top: 0;bottom: 0;left: 50%;z-index: -1;}#sk-container-id-10 div.sk-parallel-item {display: flex;flex-direction: column;z-index: 1;position: relative;background-color: white;}#sk-container-id-10 div.sk-parallel-item:first-child::after {align-self: flex-end;width: 50%;}#sk-container-id-10 div.sk-parallel-item:last-child::after {align-self: flex-start;width: 50%;}#sk-container-id-10 div.sk-parallel-item:only-child::after {width: 0;}#sk-container-id-10 div.sk-dashed-wrapped {border: 1px dashed gray;margin: 0 0.4em 0.5em 0.4em;box-sizing: border-box;padding-bottom: 0.4em;background-color: white;}#sk-container-id-10 div.sk-label label {font-family: monospace;font-weight: bold;display: inline-block;line-height: 1.2em;}#sk-container-id-10 div.sk-label-container {text-align: center;}#sk-container-id-10 div.sk-container {/* jupyter's `normalize.less` sets `[hidden] { display: none; }` but bootstrap.min.css set `[hidden] { display: none !important; }` so we also need the `!important` here to be able to override the default hidden behavior on the sphinx rendered scikit-learn.org. See: https://github.com/scikit-learn/scikit-learn/issues/21755 */display: inline-block !important;position: relative;}#sk-container-id-10 div.sk-text-repr-fallback {display: none;}</style><div id=\"sk-container-id-10\" class=\"sk-top-container\"><div class=\"sk-text-repr-fallback\"><pre>RandomForestRegressor()</pre><b>In a Jupyter environment, please rerun this cell to show the HTML representation or trust the notebook. <br />On GitHub, the HTML representation is unable to render, please try loading this page with nbviewer.org.</b></div><div class=\"sk-container\" hidden><div class=\"sk-item\"><div class=\"sk-estimator sk-toggleable\"><input class=\"sk-toggleable__control sk-hidden--visually\" id=\"sk-estimator-id-10\" type=\"checkbox\" checked><label for=\"sk-estimator-id-10\" class=\"sk-toggleable__label sk-toggleable__label-arrow\">RandomForestRegressor</label><div class=\"sk-toggleable__content\"><pre>RandomForestRegressor()</pre></div></div></div></div></div>"
      ],
      "text/plain": [
       "RandomForestRegressor()"
      ]
     },
     "execution_count": 257,
     "metadata": {},
     "output_type": "execute_result"
    }
   ],
   "source": [
    "rf_clf.fit(X_train_scaled, y_train_values)"
   ]
  },
  {
   "cell_type": "code",
   "execution_count": 258,
   "id": "64d2d131",
   "metadata": {
    "ExecuteTime": {
     "end_time": "2022-09-01T20:27:25.676934Z",
     "start_time": "2022-09-01T20:27:25.649519Z"
    }
   },
   "outputs": [],
   "source": [
    "X_test_sc = scaler.transform(X_test)\n",
    "X_test_scaled = pd.DataFrame(data=X_test_sc, columns=X_test.columns)"
   ]
  },
  {
   "cell_type": "code",
   "execution_count": 259,
   "id": "1aedfbc0",
   "metadata": {
    "ExecuteTime": {
     "end_time": "2022-09-01T20:27:25.740393Z",
     "start_time": "2022-09-01T20:27:25.681461Z"
    }
   },
   "outputs": [],
   "source": [
    "pred_values = rf_clf.predict(X_test_scaled)"
   ]
  },
  {
   "cell_type": "code",
   "execution_count": 260,
   "id": "455c8976",
   "metadata": {
    "ExecuteTime": {
     "end_time": "2022-09-01T20:27:25.756389Z",
     "start_time": "2022-09-01T20:27:25.744389Z"
    }
   },
   "outputs": [],
   "source": [
    "y_test = pd.Series(data=pred_values, name=\"area\")"
   ]
  },
  {
   "cell_type": "code",
   "execution_count": 261,
   "id": "55b1b0fe",
   "metadata": {
    "ExecuteTime": {
     "end_time": "2022-09-01T20:27:25.788390Z",
     "start_time": "2022-09-01T20:27:25.761390Z"
    }
   },
   "outputs": [
    {
     "data": {
      "text/plain": [
       "110.685760    1\n",
       "76.446070     1\n",
       "96.166720     1\n",
       "70.342224     1\n",
       "116.489280    1\n",
       "71.042280     1\n",
       "88.001697     1\n",
       "66.256822     1\n",
       "63.712512     1\n",
       "133.014480    1\n",
       "64.622831     1\n",
       "108.922440    1\n",
       "360.553714    1\n",
       "77.039453     1\n",
       "86.540396     1\n",
       "187.548640    1\n",
       "255.164520    1\n",
       "162.975600    1\n",
       "104.467936    1\n",
       "126.358228    1\n",
       "339.376920    1\n",
       "76.181880     1\n",
       "152.407069    1\n",
       "71.236460     1\n",
       "86.890688     1\n",
       "71.123923     1\n",
       "81.400862     1\n",
       "55.383240     1\n",
       "106.963632    1\n",
       "118.502970    1\n",
       "74.612980     1\n",
       "87.513796     1\n",
       "126.938040    1\n",
       "52.021464     1\n",
       "160.364688    1\n",
       "111.564833    1\n",
       "102.990480    1\n",
       "104.565270    1\n",
       "74.936325     1\n",
       "84.996051     1\n",
       "76.209600     1\n",
       "56.875080     1\n",
       "153.865600    1\n",
       "80.158252     1\n",
       "133.577240    1\n",
       "74.175739     1\n",
       "206.258440    1\n",
       "103.966856    1\n",
       "45.161218     1\n",
       "87.552000     1\n",
       "73.212912     1\n",
       "63.032124     1\n",
       "76.596000     1\n",
       "70.031712     1\n",
       "109.127744    1\n",
       "75.868464     1\n",
       "82.169729     1\n",
       "147.599724    1\n",
       "121.520237    1\n",
       "94.996920     1\n",
       "76.334400     1\n",
       "950.882500    1\n",
       "77.365372     1\n",
       "65.990172     1\n",
       "84.119432     1\n",
       "75.067984     1\n",
       "91.483450     1\n",
       "130.613219    1\n",
       "113.987472    1\n",
       "85.214754     1\n",
       "90.086789     1\n",
       "115.201290    1\n",
       "113.259720    1\n",
       "79.390426     1\n",
       "130.116920    1\n",
       "77.081957     1\n",
       "Name: area, dtype: int64"
      ]
     },
     "execution_count": 261,
     "metadata": {},
     "output_type": "execute_result"
    }
   ],
   "source": [
    "y_test.value_counts()"
   ]
  },
  {
   "cell_type": "code",
   "execution_count": 262,
   "id": "57ae9e26",
   "metadata": {
    "ExecuteTime": {
     "end_time": "2022-09-01T20:27:25.804389Z",
     "start_time": "2022-09-01T20:27:25.792389Z"
    }
   },
   "outputs": [],
   "source": [
    "y_test.index = empty_towns"
   ]
  },
  {
   "cell_type": "code",
   "execution_count": 263,
   "id": "b4770cbf",
   "metadata": {
    "ExecuteTime": {
     "end_time": "2022-09-01T20:27:25.820367Z",
     "start_time": "2022-09-01T20:27:25.809369Z"
    }
   },
   "outputs": [],
   "source": [
    "y_comb = pd.concat([y_train, y_test])"
   ]
  },
  {
   "cell_type": "code",
   "execution_count": 264,
   "id": "dc4f46c7",
   "metadata": {
    "ExecuteTime": {
     "end_time": "2022-09-01T20:27:25.836368Z",
     "start_time": "2022-09-01T20:27:25.824370Z"
    }
   },
   "outputs": [],
   "source": [
    "collateral_df[\"area_full\"] = y_comb"
   ]
  },
  {
   "cell_type": "code",
   "execution_count": 265,
   "id": "41f3b25c",
   "metadata": {
    "ExecuteTime": {
     "end_time": "2022-09-01T20:27:25.868393Z",
     "start_time": "2022-09-01T20:27:25.840369Z"
    }
   },
   "outputs": [],
   "source": [
    "collateral_df.drop(\"area\", axis=1, inplace=True)"
   ]
  },
  {
   "cell_type": "code",
   "execution_count": 266,
   "id": "b1c95d73",
   "metadata": {
    "ExecuteTime": {
     "end_time": "2022-09-01T20:27:25.914466Z",
     "start_time": "2022-09-01T20:27:25.872385Z"
    }
   },
   "outputs": [
    {
     "name": "stdout",
     "output_type": "stream",
     "text": [
      "<class 'pandas.core.frame.DataFrame'>\n",
      "RangeIndex: 40794 entries, 0 to 40793\n",
      "Data columns (total 16 columns):\n",
      " #   Column                         Non-Null Count  Dtype  \n",
      "---  ------                         --------------  -----  \n",
      " 0   account_id                     40794 non-null  object \n",
      " 1   collateral_id                  40794 non-null  object \n",
      " 2   market_value                   40794 non-null  int64  \n",
      " 3   collateral_type_M100           40794 non-null  uint8  \n",
      " 4   collateral_type_M101           40794 non-null  uint8  \n",
      " 5   collateral_type_M102           40794 non-null  uint8  \n",
      " 6   collateral_type_M103           40794 non-null  uint8  \n",
      " 7   collateral_type_M104           40794 non-null  uint8  \n",
      " 8   collateral_type_M105           40794 non-null  uint8  \n",
      " 9   town_transformed_Big Town      40794 non-null  uint8  \n",
      " 10  town_transformed_Capital       40794 non-null  uint8  \n",
      " 11  town_transformed_Major Town    40794 non-null  uint8  \n",
      " 12  town_transformed_MediumS Town  40794 non-null  uint8  \n",
      " 13  building_type_full             40794 non-null  float64\n",
      " 14  mortgage_utilisation_full      40794 non-null  float64\n",
      " 15  area_full                      40794 non-null  float64\n",
      "dtypes: float64(3), int64(1), object(2), uint8(10)\n",
      "memory usage: 2.3+ MB\n"
     ]
    }
   ],
   "source": [
    "collateral_df.info()"
   ]
  },
  {
   "cell_type": "code",
   "execution_count": null,
   "id": "9f88d60a",
   "metadata": {},
   "outputs": [],
   "source": []
  },
  {
   "cell_type": "code",
   "execution_count": null,
   "id": "4df0a3d7",
   "metadata": {},
   "outputs": [],
   "source": []
  },
  {
   "cell_type": "code",
   "execution_count": null,
   "id": "19d94d84",
   "metadata": {},
   "outputs": [],
   "source": []
  },
  {
   "cell_type": "markdown",
   "id": "185435f7",
   "metadata": {},
   "source": [
    "## Merge all data"
   ]
  },
  {
   "cell_type": "code",
   "execution_count": 267,
   "id": "2849e9ef",
   "metadata": {
    "ExecuteTime": {
     "end_time": "2022-09-01T20:27:25.930440Z",
     "start_time": "2022-09-01T20:27:25.917458Z"
    }
   },
   "outputs": [
    {
     "data": {
      "text/plain": [
       "Index(['customer_id', 'profession', 'tot_mnth_income', 'gross_salary',\n",
       "       'maritial_status_A49', 'maritial_status_I63', 'maritial_status_K16',\n",
       "       'maritial_status_M45', 'maritial_status_O32', 'maritial_status_Q37',\n",
       "       'maritial_status_U67', 'age_A788', 'age_F953', 'age_G219', 'age_H294',\n",
       "       'age_J454', 'age_M764', 'age_O456', 'age_P508', 'age_Q251', 'age_S205',\n",
       "       'age_T555', 'age_W677', 'age_X693', 'age_Z829', 'empl_type_A350',\n",
       "       'empl_type_C288', 'empl_type_H787', 'empl_type_I508', 'empl_type_L320',\n",
       "       'empl_type_P115', 'empl_type_Q237', 'empl_type_R412', 'empl_type_U768',\n",
       "       'empl_type_Y735', 'town_transformed_Big Town',\n",
       "       'town_transformed_Capital', 'town_transformed_Major Town',\n",
       "       'town_transformed_MediumS Town'],\n",
       "      dtype='object')"
      ]
     },
     "execution_count": 267,
     "metadata": {},
     "output_type": "execute_result"
    }
   ],
   "source": [
    "customers_df.columns"
   ]
  },
  {
   "cell_type": "code",
   "execution_count": 268,
   "id": "07679109",
   "metadata": {
    "ExecuteTime": {
     "end_time": "2022-09-01T20:27:25.946459Z",
     "start_time": "2022-09-01T20:27:25.935458Z"
    }
   },
   "outputs": [],
   "source": [
    "balances_prep.rename(columns={\"customer_id_\":\"customer_id\",\n",
    "                             \"account_id_\": \"account_id\"}, inplace=True)"
   ]
  },
  {
   "cell_type": "code",
   "execution_count": 269,
   "id": "5faa117a",
   "metadata": {
    "ExecuteTime": {
     "end_time": "2022-09-01T20:27:26.181824Z",
     "start_time": "2022-09-01T20:27:25.950442Z"
    }
   },
   "outputs": [],
   "source": [
    "cust_bal = pd.merge(balances_prep, customers_df, on=\"customer_id\", how=\"left\")\n",
    "all_files = pd.merge(cust_bal, collateral_df, on=\"account_id\", how=\"left\")"
   ]
  },
  {
   "cell_type": "code",
   "execution_count": 270,
   "id": "e82a142c",
   "metadata": {
    "ExecuteTime": {
     "end_time": "2022-09-01T20:27:26.260794Z",
     "start_time": "2022-09-01T20:27:26.185840Z"
    }
   },
   "outputs": [],
   "source": [
    "all_files.drop([\"town_transformed_Big Town_x\", \n",
    "                \"town_transformed_Capital_x\", \n",
    "                \"town_transformed_Major Town_x\", \n",
    "                \"town_transformed_MediumS Town_x\"], axis=1, inplace=True)"
   ]
  },
  {
   "cell_type": "code",
   "execution_count": 271,
   "id": "fcfaf219",
   "metadata": {
    "ExecuteTime": {
     "end_time": "2022-09-01T20:27:26.276767Z",
     "start_time": "2022-09-01T20:27:26.264766Z"
    }
   },
   "outputs": [],
   "source": [
    "all_files.rename({\"town_transformed_Big Town_y\": \"town_Big\",\n",
    "                 \"town_transformed_Capital_y\": \"town_Capital\",\n",
    "                 \"town_transformed_Major Town_y\": \"town_Major\",\n",
    "                 \"town_transformed_MediumS Town_y\": \"town_Medium_Size\"}, axis=1, inplace=True)"
   ]
  },
  {
   "cell_type": "code",
   "execution_count": 272,
   "id": "71cacbc6",
   "metadata": {
    "ExecuteTime": {
     "end_time": "2022-09-01T20:27:26.370765Z",
     "start_time": "2022-09-01T20:27:26.281768Z"
    },
    "scrolled": false
   },
   "outputs": [
    {
     "name": "stdout",
     "output_type": "stream",
     "text": [
      "<class 'pandas.core.frame.DataFrame'>\n",
      "Int64Index: 40602 entries, 0 to 40601\n",
      "Data columns (total 114 columns):\n",
      " #    Column                                       Non-Null Count  Dtype  \n",
      "---   ------                                       --------------  -----  \n",
      " 0    customer_id                                  40602 non-null  object \n",
      " 1    account_id                                   40602 non-null  object \n",
      " 2    open_date_                                   40602 non-null  object \n",
      " 3    original_principal_min                       40602 non-null  int64  \n",
      " 4    original_principal_max                       40602 non-null  int64  \n",
      " 5    original_principal_std                       40602 non-null  float64\n",
      " 6    original_principal_max_minus_min             40602 non-null  int64  \n",
      " 7    reporting_date_count                         40602 non-null  int64  \n",
      " 8    total_cust_exposure_min                      40602 non-null  int64  \n",
      " 9    total_cust_exposure_max                      40602 non-null  int64  \n",
      " 10   overdraft_min                                40602 non-null  int64  \n",
      " 11   overdraft_max                                40602 non-null  int64  \n",
      " 12   overdraft_size                               40602 non-null  int64  \n",
      " 13   overdraft_count0                             40602 non-null  int64  \n",
      " 14   overdraft_count1                             40602 non-null  int64  \n",
      " 15   overdraft_count2plus                         40602 non-null  int64  \n",
      " 16   consumer_loan_min                            40602 non-null  int64  \n",
      " 17   consumer_loan_max                            40602 non-null  int64  \n",
      " 18   consumer_loan_size                           40602 non-null  int64  \n",
      " 19   consumer_loan_count0                         40602 non-null  int64  \n",
      " 20   consumer_loan_count1                         40602 non-null  int64  \n",
      " 21   consumer_loan_count2plus                     40602 non-null  int64  \n",
      " 22   credit_card_min                              40602 non-null  int64  \n",
      " 23   credit_card_max                              40602 non-null  int64  \n",
      " 24   credit_card_size                             40602 non-null  int64  \n",
      " 25   credit_card_count0                           40602 non-null  int64  \n",
      " 26   credit_card_count1                           40602 non-null  int64  \n",
      " 27   credit_card_count2plus                       40602 non-null  int64  \n",
      " 28   customer_rating_min                          40602 non-null  float64\n",
      " 29   customer_rating_max                          40602 non-null  float64\n",
      " 30   customer_rating_modeX                        40602 non-null  float64\n",
      " 31   maturity_date_min                            40602 non-null  object \n",
      " 32   maturity_date_max                            40602 non-null  object \n",
      " 33   maturity_date_max_minus_min                  40602 non-null  int64  \n",
      " 34   prepayment_status_unique                     40602 non-null  int64  \n",
      " 35   l_period_min                                 40602 non-null  int64  \n",
      " 36   l_period_max                                 40602 non-null  int64  \n",
      " 37   l_period_max_minus_min                       40602 non-null  int64  \n",
      " 38   interest_rate_min                            40602 non-null  float64\n",
      " 39   interest_rate_max                            40602 non-null  float64\n",
      " 40   interest_rate_max_minus_min                  40602 non-null  float64\n",
      " 41   interest_rate_modeX                          40602 non-null  float64\n",
      " 42   exp_monthly_payments_min                     40602 non-null  float64\n",
      " 43   exp_monthly_payments_max                     40602 non-null  float64\n",
      " 44   exp_monthly_payments_std                     40602 non-null  float64\n",
      " 45   exp_monthly_payments_max_minus_min           40602 non-null  float64\n",
      " 46   current_principal_min                        40602 non-null  int64  \n",
      " 47   current_principal_max                        40602 non-null  int64  \n",
      " 48   current_principal_max_minus_min              40602 non-null  int64  \n",
      " 49   interest_payment_min                         40602 non-null  float64\n",
      " 50   interest_payment_max                         40602 non-null  float64\n",
      " 51   interest_payment_max_minus_min               40602 non-null  float64\n",
      " 52   principal_payment_min                        40602 non-null  float64\n",
      " 53   principal_payment_max                        40602 non-null  float64\n",
      " 54   principal_payment_max_minus_min              40602 non-null  float64\n",
      " 55   deducted_principal_min                       40602 non-null  float64\n",
      " 56   deducted_principal_max                       40602 non-null  float64\n",
      " 57   deducted_principal_max_minus_min             40602 non-null  float64\n",
      " 58   deducted_vs_principal_payment_min            40602 non-null  float64\n",
      " 59   deducted_vs_principal_payment_max            40602 non-null  float64\n",
      " 60   deducted_vs_principal_payment_mean           40602 non-null  float64\n",
      " 61   deducted_vs_principal_payment_max_minus_min  40602 non-null  float64\n",
      " 62   principal_left_pctg_min                      40602 non-null  float64\n",
      " 63   principal_left_pctg_max                      40602 non-null  float64\n",
      " 64   principal_left_pctg_max_minus_min            40602 non-null  float64\n",
      " 65   profession                                   35511 non-null  float64\n",
      " 66   tot_mnth_income                              35511 non-null  float64\n",
      " 67   gross_salary                                 35511 non-null  float64\n",
      " 68   maritial_status_A49                          35511 non-null  float64\n",
      " 69   maritial_status_I63                          35511 non-null  float64\n",
      " 70   maritial_status_K16                          35511 non-null  float64\n",
      " 71   maritial_status_M45                          35511 non-null  float64\n",
      " 72   maritial_status_O32                          35511 non-null  float64\n",
      " 73   maritial_status_Q37                          35511 non-null  float64\n",
      " 74   maritial_status_U67                          35511 non-null  float64\n",
      " 75   age_A788                                     35511 non-null  float64\n",
      " 76   age_F953                                     35511 non-null  float64\n",
      " 77   age_G219                                     35511 non-null  float64\n",
      " 78   age_H294                                     35511 non-null  float64\n",
      " 79   age_J454                                     35511 non-null  float64\n",
      " 80   age_M764                                     35511 non-null  float64\n",
      " 81   age_O456                                     35511 non-null  float64\n",
      " 82   age_P508                                     35511 non-null  float64\n",
      " 83   age_Q251                                     35511 non-null  float64\n",
      " 84   age_S205                                     35511 non-null  float64\n",
      " 85   age_T555                                     35511 non-null  float64\n",
      " 86   age_W677                                     35511 non-null  float64\n",
      " 87   age_X693                                     35511 non-null  float64\n",
      " 88   age_Z829                                     35511 non-null  float64\n",
      " 89   empl_type_A350                               35511 non-null  float64\n",
      " 90   empl_type_C288                               35511 non-null  float64\n",
      " 91   empl_type_H787                               35511 non-null  float64\n",
      " 92   empl_type_I508                               35511 non-null  float64\n",
      " 93   empl_type_L320                               35511 non-null  float64\n",
      " 94   empl_type_P115                               35511 non-null  float64\n",
      " 95   empl_type_Q237                               35511 non-null  float64\n",
      " 96   empl_type_R412                               35511 non-null  float64\n",
      " 97   empl_type_U768                               35511 non-null  float64\n",
      " 98   empl_type_Y735                               35511 non-null  float64\n",
      " 99   collateral_id                                40602 non-null  object \n",
      " 100  market_value                                 40602 non-null  int64  \n",
      " 101  collateral_type_M100                         40602 non-null  uint8  \n",
      " 102  collateral_type_M101                         40602 non-null  uint8  \n",
      " 103  collateral_type_M102                         40602 non-null  uint8  \n",
      " 104  collateral_type_M103                         40602 non-null  uint8  \n",
      " 105  collateral_type_M104                         40602 non-null  uint8  \n",
      " 106  collateral_type_M105                         40602 non-null  uint8  \n",
      " 107  town_Big                                     40602 non-null  uint8  \n",
      " 108  town_Capital                                 40602 non-null  uint8  \n",
      " 109  town_Major                                   40602 non-null  uint8  \n",
      " 110  town_Medium_Size                             40602 non-null  uint8  \n",
      " 111  building_type_full                           40602 non-null  float64\n",
      " 112  mortgage_utilisation_full                    40602 non-null  float64\n",
      " 113  area_full                                    40602 non-null  float64\n",
      "dtypes: float64(65), int64(33), object(6), uint8(10)\n",
      "memory usage: 32.9+ MB\n"
     ]
    }
   ],
   "source": [
    "all_files.info(verbose=True, show_counts=True)"
   ]
  },
  {
   "cell_type": "code",
   "execution_count": null,
   "id": "43f3931f",
   "metadata": {},
   "outputs": [],
   "source": []
  },
  {
   "cell_type": "code",
   "execution_count": null,
   "id": "d493c8b0",
   "metadata": {},
   "outputs": [],
   "source": []
  },
  {
   "cell_type": "code",
   "execution_count": null,
   "id": "eecda4d5",
   "metadata": {},
   "outputs": [],
   "source": []
  },
  {
   "cell_type": "code",
   "execution_count": null,
   "id": "fd9c1144",
   "metadata": {},
   "outputs": [],
   "source": []
  },
  {
   "cell_type": "code",
   "execution_count": null,
   "id": "628ec81e",
   "metadata": {},
   "outputs": [],
   "source": []
  },
  {
   "cell_type": "markdown",
   "id": "e91bddbb",
   "metadata": {},
   "source": [
    "## Fill in rest of data"
   ]
  },
  {
   "cell_type": "code",
   "execution_count": 273,
   "id": "9ba96d4f",
   "metadata": {
    "ExecuteTime": {
     "end_time": "2022-09-01T20:27:26.402041Z",
     "start_time": "2022-09-01T20:27:26.374773Z"
    }
   },
   "outputs": [],
   "source": [
    "def feature_fill(df, features_pred_list, target_col, model):\n",
    "    \n",
    "    \n",
    "    \n",
    "    print(\"Column: \", col)\n",
    "    X = df[features_pred_list] \n",
    "    y = df[target_col]\n",
    "    \n",
    "    \n",
    "    empty_col_idx = y[y.isna()].index\n",
    "    \n",
    "    X_test = X.loc[empty_col_idx, :]\n",
    "    y_test = y[empty_col_idx]\n",
    "    \n",
    "    X_train = X[~X.index.isin(empty_col_idx)]\n",
    "    y_train = y[~y.index.isin(empty_col_idx)]\n",
    "    \n",
    "    \n",
    "    print(\"SCALING THE DATA...\")\n",
    "    scaler = StandardScaler()\n",
    "\n",
    "    X_train_sc = scaler.fit_transform(X_train)\n",
    "    X_train_scaled = pd.DataFrame(data=X_train_sc, columns=X_train.columns)\n",
    "    y_train_values = y_train.values.ravel()\n",
    "    \n",
    "    \n",
    "    \n",
    "    print(\"FITTING MODEL...\")\n",
    "    model.fit(X_train_scaled, y_train_values)\n",
    "    \n",
    "    X_test_sc = scaler.transform(X_test)\n",
    "    X_test_scaled = pd.DataFrame(data=X_test_sc, columns=X_test.columns)\n",
    "    \n",
    "    pred_values = model.predict(X_test_scaled)\n",
    "    y_test = pd.Series(data=pred_values, name=target_col)\n",
    "    \n",
    "    y_test.index = empty_col_idx\n",
    "    \n",
    "    y_comb = pd.concat([y_train, y_test])\n",
    "    \n",
    "    col_name_full = target_col + \"_full\"\n",
    "    df[col_name_full] = y_comb\n",
    "    \n",
    "    df.drop(target_col, axis=1, inplace=True)\n",
    "    print(\"COLUMN SUCCESSFULLY PROCESSED\")\n",
    "    print()"
   ]
  },
  {
   "cell_type": "code",
   "execution_count": 274,
   "id": "3741ee8d",
   "metadata": {
    "ExecuteTime": {
     "end_time": "2022-09-01T20:27:26.545637Z",
     "start_time": "2022-09-01T20:27:26.407062Z"
    },
    "scrolled": true
   },
   "outputs": [
    {
     "data": {
      "text/html": [
       "<div>\n",
       "<style scoped>\n",
       "    .dataframe tbody tr th:only-of-type {\n",
       "        vertical-align: middle;\n",
       "    }\n",
       "\n",
       "    .dataframe tbody tr th {\n",
       "        vertical-align: top;\n",
       "    }\n",
       "\n",
       "    .dataframe thead th {\n",
       "        text-align: right;\n",
       "    }\n",
       "</style>\n",
       "<table border=\"1\" class=\"dataframe\">\n",
       "  <thead>\n",
       "    <tr style=\"text-align: right;\">\n",
       "      <th></th>\n",
       "      <th>customer_id</th>\n",
       "      <th>account_id</th>\n",
       "      <th>open_date_</th>\n",
       "      <th>original_principal_min</th>\n",
       "      <th>original_principal_max</th>\n",
       "      <th>original_principal_std</th>\n",
       "      <th>original_principal_max_minus_min</th>\n",
       "      <th>reporting_date_count</th>\n",
       "      <th>total_cust_exposure_min</th>\n",
       "      <th>total_cust_exposure_max</th>\n",
       "      <th>overdraft_min</th>\n",
       "      <th>overdraft_max</th>\n",
       "      <th>overdraft_size</th>\n",
       "      <th>overdraft_count0</th>\n",
       "      <th>overdraft_count1</th>\n",
       "      <th>overdraft_count2plus</th>\n",
       "      <th>consumer_loan_min</th>\n",
       "      <th>consumer_loan_max</th>\n",
       "      <th>consumer_loan_size</th>\n",
       "      <th>consumer_loan_count0</th>\n",
       "      <th>consumer_loan_count1</th>\n",
       "      <th>consumer_loan_count2plus</th>\n",
       "      <th>credit_card_min</th>\n",
       "      <th>credit_card_max</th>\n",
       "      <th>credit_card_size</th>\n",
       "      <th>credit_card_count0</th>\n",
       "      <th>credit_card_count1</th>\n",
       "      <th>credit_card_count2plus</th>\n",
       "      <th>customer_rating_min</th>\n",
       "      <th>customer_rating_max</th>\n",
       "      <th>customer_rating_modeX</th>\n",
       "      <th>maturity_date_min</th>\n",
       "      <th>maturity_date_max</th>\n",
       "      <th>maturity_date_max_minus_min</th>\n",
       "      <th>prepayment_status_unique</th>\n",
       "      <th>l_period_min</th>\n",
       "      <th>l_period_max</th>\n",
       "      <th>l_period_max_minus_min</th>\n",
       "      <th>interest_rate_min</th>\n",
       "      <th>interest_rate_max</th>\n",
       "      <th>interest_rate_max_minus_min</th>\n",
       "      <th>interest_rate_modeX</th>\n",
       "      <th>exp_monthly_payments_min</th>\n",
       "      <th>exp_monthly_payments_max</th>\n",
       "      <th>exp_monthly_payments_std</th>\n",
       "      <th>exp_monthly_payments_max_minus_min</th>\n",
       "      <th>current_principal_min</th>\n",
       "      <th>current_principal_max</th>\n",
       "      <th>current_principal_max_minus_min</th>\n",
       "      <th>interest_payment_min</th>\n",
       "      <th>interest_payment_max</th>\n",
       "      <th>interest_payment_max_minus_min</th>\n",
       "      <th>principal_payment_min</th>\n",
       "      <th>principal_payment_max</th>\n",
       "      <th>principal_payment_max_minus_min</th>\n",
       "      <th>deducted_principal_min</th>\n",
       "      <th>deducted_principal_max</th>\n",
       "      <th>deducted_principal_max_minus_min</th>\n",
       "      <th>deducted_vs_principal_payment_min</th>\n",
       "      <th>deducted_vs_principal_payment_max</th>\n",
       "      <th>deducted_vs_principal_payment_mean</th>\n",
       "      <th>deducted_vs_principal_payment_max_minus_min</th>\n",
       "      <th>principal_left_pctg_min</th>\n",
       "      <th>principal_left_pctg_max</th>\n",
       "      <th>principal_left_pctg_max_minus_min</th>\n",
       "      <th>profession</th>\n",
       "      <th>tot_mnth_income</th>\n",
       "      <th>gross_salary</th>\n",
       "      <th>maritial_status_A49</th>\n",
       "      <th>maritial_status_I63</th>\n",
       "      <th>maritial_status_K16</th>\n",
       "      <th>maritial_status_M45</th>\n",
       "      <th>maritial_status_O32</th>\n",
       "      <th>maritial_status_Q37</th>\n",
       "      <th>maritial_status_U67</th>\n",
       "      <th>age_A788</th>\n",
       "      <th>age_F953</th>\n",
       "      <th>age_G219</th>\n",
       "      <th>age_H294</th>\n",
       "      <th>age_J454</th>\n",
       "      <th>age_M764</th>\n",
       "      <th>age_O456</th>\n",
       "      <th>age_P508</th>\n",
       "      <th>age_Q251</th>\n",
       "      <th>age_S205</th>\n",
       "      <th>age_T555</th>\n",
       "      <th>age_W677</th>\n",
       "      <th>age_X693</th>\n",
       "      <th>age_Z829</th>\n",
       "      <th>empl_type_A350</th>\n",
       "      <th>empl_type_C288</th>\n",
       "      <th>empl_type_H787</th>\n",
       "      <th>empl_type_I508</th>\n",
       "      <th>empl_type_L320</th>\n",
       "      <th>empl_type_P115</th>\n",
       "      <th>empl_type_Q237</th>\n",
       "      <th>empl_type_R412</th>\n",
       "      <th>empl_type_U768</th>\n",
       "      <th>empl_type_Y735</th>\n",
       "      <th>collateral_id</th>\n",
       "      <th>market_value</th>\n",
       "      <th>collateral_type_M100</th>\n",
       "      <th>collateral_type_M101</th>\n",
       "      <th>collateral_type_M102</th>\n",
       "      <th>collateral_type_M103</th>\n",
       "      <th>collateral_type_M104</th>\n",
       "      <th>collateral_type_M105</th>\n",
       "      <th>town_Big</th>\n",
       "      <th>town_Capital</th>\n",
       "      <th>town_Major</th>\n",
       "      <th>town_Medium_Size</th>\n",
       "      <th>building_type_full</th>\n",
       "      <th>mortgage_utilisation_full</th>\n",
       "      <th>area_full</th>\n",
       "    </tr>\n",
       "  </thead>\n",
       "  <tbody>\n",
       "    <tr>\n",
       "      <th>0</th>\n",
       "      <td>0x000100F424893C746F</td>\n",
       "      <td>0xF7CDAD654B6CE06334F9FE655212AAD1</td>\n",
       "      <td>2017-06-29</td>\n",
       "      <td>64800</td>\n",
       "      <td>64800</td>\n",
       "      <td>0.0</td>\n",
       "      <td>0</td>\n",
       "      <td>44</td>\n",
       "      <td>56155</td>\n",
       "      <td>63355</td>\n",
       "      <td>0</td>\n",
       "      <td>0</td>\n",
       "      <td>44</td>\n",
       "      <td>44</td>\n",
       "      <td>0</td>\n",
       "      <td>0</td>\n",
       "      <td>0</td>\n",
       "      <td>0</td>\n",
       "      <td>44</td>\n",
       "      <td>44</td>\n",
       "      <td>0</td>\n",
       "      <td>0</td>\n",
       "      <td>0</td>\n",
       "      <td>0</td>\n",
       "      <td>44</td>\n",
       "      <td>44</td>\n",
       "      <td>0</td>\n",
       "      <td>0</td>\n",
       "      <td>3.0</td>\n",
       "      <td>5.5</td>\n",
       "      <td>3.5</td>\n",
       "      <td>2042-06-29</td>\n",
       "      <td>2042-06-29</td>\n",
       "      <td>0</td>\n",
       "      <td>0</td>\n",
       "      <td>24</td>\n",
       "      <td>24</td>\n",
       "      <td>0</td>\n",
       "      <td>3.70</td>\n",
       "      <td>3.70</td>\n",
       "      <td>0.0</td>\n",
       "      <td>3.70</td>\n",
       "      <td>339.819283</td>\n",
       "      <td>339.819283</td>\n",
       "      <td>0.0</td>\n",
       "      <td>0.0</td>\n",
       "      <td>56155</td>\n",
       "      <td>62342</td>\n",
       "      <td>6187</td>\n",
       "      <td>173.144583</td>\n",
       "      <td>192.221167</td>\n",
       "      <td>19.076583</td>\n",
       "      <td>147.598116</td>\n",
       "      <td>166.674700</td>\n",
       "      <td>19.076583</td>\n",
       "      <td>0.0</td>\n",
       "      <td>2458.0</td>\n",
       "      <td>2458.0</td>\n",
       "      <td>-164.251200</td>\n",
       "      <td>2310.401884</td>\n",
       "      <td>39.390899</td>\n",
       "      <td>2474.653083</td>\n",
       "      <td>87.0</td>\n",
       "      <td>96.0</td>\n",
       "      <td>9.0</td>\n",
       "      <td>21.0</td>\n",
       "      <td>660.0</td>\n",
       "      <td>888.0</td>\n",
       "      <td>1.0</td>\n",
       "      <td>0.0</td>\n",
       "      <td>0.0</td>\n",
       "      <td>0.0</td>\n",
       "      <td>0.0</td>\n",
       "      <td>0.0</td>\n",
       "      <td>0.0</td>\n",
       "      <td>0.0</td>\n",
       "      <td>0.0</td>\n",
       "      <td>0.0</td>\n",
       "      <td>0.0</td>\n",
       "      <td>0.0</td>\n",
       "      <td>0.0</td>\n",
       "      <td>0.0</td>\n",
       "      <td>0.0</td>\n",
       "      <td>1.0</td>\n",
       "      <td>0.0</td>\n",
       "      <td>0.0</td>\n",
       "      <td>0.0</td>\n",
       "      <td>0.0</td>\n",
       "      <td>0.0</td>\n",
       "      <td>0.0</td>\n",
       "      <td>0.0</td>\n",
       "      <td>0.0</td>\n",
       "      <td>1.0</td>\n",
       "      <td>0.0</td>\n",
       "      <td>0.0</td>\n",
       "      <td>0.0</td>\n",
       "      <td>0.0</td>\n",
       "      <td>0.0</td>\n",
       "      <td>0.0</td>\n",
       "      <td>0xA1224902A54E10483EBEEFC973</td>\n",
       "      <td>72360</td>\n",
       "      <td>1</td>\n",
       "      <td>0</td>\n",
       "      <td>0</td>\n",
       "      <td>0</td>\n",
       "      <td>0</td>\n",
       "      <td>0</td>\n",
       "      <td>0</td>\n",
       "      <td>0</td>\n",
       "      <td>0</td>\n",
       "      <td>1</td>\n",
       "      <td>1.0</td>\n",
       "      <td>1.0</td>\n",
       "      <td>47.568</td>\n",
       "    </tr>\n",
       "    <tr>\n",
       "      <th>1</th>\n",
       "      <td>0x000224F02B4B39DDFE</td>\n",
       "      <td>0x5568E6E4AEB2DF832D6444950125EECB</td>\n",
       "      <td>2016-08-16</td>\n",
       "      <td>74880</td>\n",
       "      <td>74880</td>\n",
       "      <td>0.0</td>\n",
       "      <td>0</td>\n",
       "      <td>11</td>\n",
       "      <td>70449</td>\n",
       "      <td>72710</td>\n",
       "      <td>0</td>\n",
       "      <td>0</td>\n",
       "      <td>11</td>\n",
       "      <td>11</td>\n",
       "      <td>0</td>\n",
       "      <td>0</td>\n",
       "      <td>0</td>\n",
       "      <td>0</td>\n",
       "      <td>11</td>\n",
       "      <td>11</td>\n",
       "      <td>0</td>\n",
       "      <td>0</td>\n",
       "      <td>0</td>\n",
       "      <td>0</td>\n",
       "      <td>11</td>\n",
       "      <td>11</td>\n",
       "      <td>0</td>\n",
       "      <td>0</td>\n",
       "      <td>4.0</td>\n",
       "      <td>5.5</td>\n",
       "      <td>4.0</td>\n",
       "      <td>2042-08-16</td>\n",
       "      <td>2042-08-16</td>\n",
       "      <td>0</td>\n",
       "      <td>1</td>\n",
       "      <td>25</td>\n",
       "      <td>25</td>\n",
       "      <td>0</td>\n",
       "      <td>3.90</td>\n",
       "      <td>3.90</td>\n",
       "      <td>0.0</td>\n",
       "      <td>3.90</td>\n",
       "      <td>391.121433</td>\n",
       "      <td>391.121433</td>\n",
       "      <td>0.0</td>\n",
       "      <td>0.0</td>\n",
       "      <td>69729</td>\n",
       "      <td>71273</td>\n",
       "      <td>1544</td>\n",
       "      <td>226.619250</td>\n",
       "      <td>231.637250</td>\n",
       "      <td>5.018000</td>\n",
       "      <td>159.484183</td>\n",
       "      <td>164.502183</td>\n",
       "      <td>5.018000</td>\n",
       "      <td>147.0</td>\n",
       "      <td>3607.0</td>\n",
       "      <td>3460.0</td>\n",
       "      <td>-12.961933</td>\n",
       "      <td>3447.515817</td>\n",
       "      <td>306.287522</td>\n",
       "      <td>3460.477750</td>\n",
       "      <td>93.0</td>\n",
       "      <td>95.0</td>\n",
       "      <td>2.0</td>\n",
       "      <td>42.0</td>\n",
       "      <td>1487.0</td>\n",
       "      <td>0.0</td>\n",
       "      <td>0.0</td>\n",
       "      <td>0.0</td>\n",
       "      <td>1.0</td>\n",
       "      <td>0.0</td>\n",
       "      <td>0.0</td>\n",
       "      <td>0.0</td>\n",
       "      <td>0.0</td>\n",
       "      <td>0.0</td>\n",
       "      <td>0.0</td>\n",
       "      <td>1.0</td>\n",
       "      <td>0.0</td>\n",
       "      <td>0.0</td>\n",
       "      <td>0.0</td>\n",
       "      <td>0.0</td>\n",
       "      <td>0.0</td>\n",
       "      <td>0.0</td>\n",
       "      <td>0.0</td>\n",
       "      <td>0.0</td>\n",
       "      <td>0.0</td>\n",
       "      <td>0.0</td>\n",
       "      <td>0.0</td>\n",
       "      <td>0.0</td>\n",
       "      <td>0.0</td>\n",
       "      <td>0.0</td>\n",
       "      <td>1.0</td>\n",
       "      <td>0.0</td>\n",
       "      <td>0.0</td>\n",
       "      <td>0.0</td>\n",
       "      <td>0.0</td>\n",
       "      <td>0.0</td>\n",
       "      <td>0.0</td>\n",
       "      <td>0x5A1DD802DAC694B446F8C6161B</td>\n",
       "      <td>93600</td>\n",
       "      <td>1</td>\n",
       "      <td>0</td>\n",
       "      <td>0</td>\n",
       "      <td>0</td>\n",
       "      <td>0</td>\n",
       "      <td>0</td>\n",
       "      <td>1</td>\n",
       "      <td>0</td>\n",
       "      <td>0</td>\n",
       "      <td>0</td>\n",
       "      <td>1.0</td>\n",
       "      <td>1.0</td>\n",
       "      <td>81.180</td>\n",
       "    </tr>\n",
       "    <tr>\n",
       "      <th>2</th>\n",
       "      <td>0x00025DA4C145ED8EBF</td>\n",
       "      <td>0x8C794E5D7336C4FE59B85E4400973723</td>\n",
       "      <td>2022-04-13</td>\n",
       "      <td>54000</td>\n",
       "      <td>54000</td>\n",
       "      <td>0.0</td>\n",
       "      <td>0</td>\n",
       "      <td>3</td>\n",
       "      <td>53248</td>\n",
       "      <td>54000</td>\n",
       "      <td>0</td>\n",
       "      <td>0</td>\n",
       "      <td>3</td>\n",
       "      <td>3</td>\n",
       "      <td>0</td>\n",
       "      <td>0</td>\n",
       "      <td>0</td>\n",
       "      <td>0</td>\n",
       "      <td>3</td>\n",
       "      <td>3</td>\n",
       "      <td>0</td>\n",
       "      <td>0</td>\n",
       "      <td>0</td>\n",
       "      <td>0</td>\n",
       "      <td>3</td>\n",
       "      <td>3</td>\n",
       "      <td>0</td>\n",
       "      <td>0</td>\n",
       "      <td>5.5</td>\n",
       "      <td>5.5</td>\n",
       "      <td>5.5</td>\n",
       "      <td>2033-04-13</td>\n",
       "      <td>2033-04-13</td>\n",
       "      <td>0</td>\n",
       "      <td>0</td>\n",
       "      <td>11</td>\n",
       "      <td>11</td>\n",
       "      <td>0</td>\n",
       "      <td>2.48</td>\n",
       "      <td>2.48</td>\n",
       "      <td>0.0</td>\n",
       "      <td>2.48</td>\n",
       "      <td>467.844781</td>\n",
       "      <td>467.844781</td>\n",
       "      <td>0.0</td>\n",
       "      <td>0.0</td>\n",
       "      <td>53248</td>\n",
       "      <td>54000</td>\n",
       "      <td>752</td>\n",
       "      <td>110.045867</td>\n",
       "      <td>111.600000</td>\n",
       "      <td>1.554133</td>\n",
       "      <td>356.244781</td>\n",
       "      <td>357.798915</td>\n",
       "      <td>1.554133</td>\n",
       "      <td>0.0</td>\n",
       "      <td>398.0</td>\n",
       "      <td>398.0</td>\n",
       "      <td>-356.244781</td>\n",
       "      <td>40.932685</td>\n",
       "      <td>-106.370337</td>\n",
       "      <td>397.177467</td>\n",
       "      <td>99.0</td>\n",
       "      <td>100.0</td>\n",
       "      <td>1.0</td>\n",
       "      <td>13.0</td>\n",
       "      <td>1663.0</td>\n",
       "      <td>780.0</td>\n",
       "      <td>0.0</td>\n",
       "      <td>0.0</td>\n",
       "      <td>0.0</td>\n",
       "      <td>0.0</td>\n",
       "      <td>0.0</td>\n",
       "      <td>0.0</td>\n",
       "      <td>1.0</td>\n",
       "      <td>0.0</td>\n",
       "      <td>0.0</td>\n",
       "      <td>1.0</td>\n",
       "      <td>0.0</td>\n",
       "      <td>0.0</td>\n",
       "      <td>0.0</td>\n",
       "      <td>0.0</td>\n",
       "      <td>0.0</td>\n",
       "      <td>0.0</td>\n",
       "      <td>0.0</td>\n",
       "      <td>0.0</td>\n",
       "      <td>0.0</td>\n",
       "      <td>0.0</td>\n",
       "      <td>0.0</td>\n",
       "      <td>0.0</td>\n",
       "      <td>0.0</td>\n",
       "      <td>0.0</td>\n",
       "      <td>1.0</td>\n",
       "      <td>0.0</td>\n",
       "      <td>0.0</td>\n",
       "      <td>0.0</td>\n",
       "      <td>0.0</td>\n",
       "      <td>0.0</td>\n",
       "      <td>0.0</td>\n",
       "      <td>0xD744613939B2BCC38B45EC917E</td>\n",
       "      <td>80400</td>\n",
       "      <td>1</td>\n",
       "      <td>0</td>\n",
       "      <td>0</td>\n",
       "      <td>0</td>\n",
       "      <td>0</td>\n",
       "      <td>0</td>\n",
       "      <td>0</td>\n",
       "      <td>0</td>\n",
       "      <td>0</td>\n",
       "      <td>1</td>\n",
       "      <td>2.0</td>\n",
       "      <td>1.0</td>\n",
       "      <td>74.904</td>\n",
       "    </tr>\n",
       "    <tr>\n",
       "      <th>3</th>\n",
       "      <td>0x0003C2466FAE7F0BEA</td>\n",
       "      <td>0xAAD9093643AACB7C73D1DAB125D551FE</td>\n",
       "      <td>2018-05-08</td>\n",
       "      <td>93600</td>\n",
       "      <td>93600</td>\n",
       "      <td>0.0</td>\n",
       "      <td>0</td>\n",
       "      <td>44</td>\n",
       "      <td>87324</td>\n",
       "      <td>92598</td>\n",
       "      <td>0</td>\n",
       "      <td>0</td>\n",
       "      <td>44</td>\n",
       "      <td>44</td>\n",
       "      <td>0</td>\n",
       "      <td>0</td>\n",
       "      <td>0</td>\n",
       "      <td>0</td>\n",
       "      <td>44</td>\n",
       "      <td>44</td>\n",
       "      <td>0</td>\n",
       "      <td>0</td>\n",
       "      <td>0</td>\n",
       "      <td>0</td>\n",
       "      <td>44</td>\n",
       "      <td>44</td>\n",
       "      <td>0</td>\n",
       "      <td>0</td>\n",
       "      <td>3.0</td>\n",
       "      <td>6.5</td>\n",
       "      <td>3.5</td>\n",
       "      <td>2053-05-08</td>\n",
       "      <td>2053-05-08</td>\n",
       "      <td>0</td>\n",
       "      <td>0</td>\n",
       "      <td>35</td>\n",
       "      <td>35</td>\n",
       "      <td>0</td>\n",
       "      <td>3.35</td>\n",
       "      <td>3.35</td>\n",
       "      <td>0.0</td>\n",
       "      <td>3.35</td>\n",
       "      <td>378.749527</td>\n",
       "      <td>378.749527</td>\n",
       "      <td>0.0</td>\n",
       "      <td>0.0</td>\n",
       "      <td>87324</td>\n",
       "      <td>92598</td>\n",
       "      <td>5274</td>\n",
       "      <td>243.779500</td>\n",
       "      <td>258.502750</td>\n",
       "      <td>14.723250</td>\n",
       "      <td>120.246777</td>\n",
       "      <td>134.970027</td>\n",
       "      <td>14.723250</td>\n",
       "      <td>0.0</td>\n",
       "      <td>1002.0</td>\n",
       "      <td>1002.0</td>\n",
       "      <td>-133.096819</td>\n",
       "      <td>881.753223</td>\n",
       "      <td>15.045854</td>\n",
       "      <td>1014.850042</td>\n",
       "      <td>93.0</td>\n",
       "      <td>99.0</td>\n",
       "      <td>6.0</td>\n",
       "      <td>11.0</td>\n",
       "      <td>2443.0</td>\n",
       "      <td>3120.0</td>\n",
       "      <td>0.0</td>\n",
       "      <td>0.0</td>\n",
       "      <td>1.0</td>\n",
       "      <td>0.0</td>\n",
       "      <td>0.0</td>\n",
       "      <td>0.0</td>\n",
       "      <td>0.0</td>\n",
       "      <td>0.0</td>\n",
       "      <td>0.0</td>\n",
       "      <td>0.0</td>\n",
       "      <td>0.0</td>\n",
       "      <td>0.0</td>\n",
       "      <td>0.0</td>\n",
       "      <td>0.0</td>\n",
       "      <td>0.0</td>\n",
       "      <td>0.0</td>\n",
       "      <td>0.0</td>\n",
       "      <td>1.0</td>\n",
       "      <td>0.0</td>\n",
       "      <td>0.0</td>\n",
       "      <td>0.0</td>\n",
       "      <td>0.0</td>\n",
       "      <td>0.0</td>\n",
       "      <td>0.0</td>\n",
       "      <td>1.0</td>\n",
       "      <td>0.0</td>\n",
       "      <td>0.0</td>\n",
       "      <td>0.0</td>\n",
       "      <td>0.0</td>\n",
       "      <td>0.0</td>\n",
       "      <td>0.0</td>\n",
       "      <td>0x607DA1BAEA089087390CA4010D</td>\n",
       "      <td>211680</td>\n",
       "      <td>1</td>\n",
       "      <td>0</td>\n",
       "      <td>0</td>\n",
       "      <td>0</td>\n",
       "      <td>0</td>\n",
       "      <td>0</td>\n",
       "      <td>0</td>\n",
       "      <td>1</td>\n",
       "      <td>0</td>\n",
       "      <td>0</td>\n",
       "      <td>1.0</td>\n",
       "      <td>1.0</td>\n",
       "      <td>126.360</td>\n",
       "    </tr>\n",
       "    <tr>\n",
       "      <th>4</th>\n",
       "      <td>0x0004EAC7528D4869C1</td>\n",
       "      <td>0x1DE89AAB80B0FE12FBA0E35F21DDA118</td>\n",
       "      <td>2021-07-07</td>\n",
       "      <td>118320</td>\n",
       "      <td>118320</td>\n",
       "      <td>0.0</td>\n",
       "      <td>0</td>\n",
       "      <td>12</td>\n",
       "      <td>95275</td>\n",
       "      <td>116897</td>\n",
       "      <td>0</td>\n",
       "      <td>0</td>\n",
       "      <td>12</td>\n",
       "      <td>12</td>\n",
       "      <td>0</td>\n",
       "      <td>0</td>\n",
       "      <td>0</td>\n",
       "      <td>0</td>\n",
       "      <td>12</td>\n",
       "      <td>12</td>\n",
       "      <td>0</td>\n",
       "      <td>0</td>\n",
       "      <td>0</td>\n",
       "      <td>0</td>\n",
       "      <td>12</td>\n",
       "      <td>12</td>\n",
       "      <td>0</td>\n",
       "      <td>0</td>\n",
       "      <td>3.0</td>\n",
       "      <td>3.9</td>\n",
       "      <td>3.9</td>\n",
       "      <td>2051-07-07</td>\n",
       "      <td>2051-07-07</td>\n",
       "      <td>0</td>\n",
       "      <td>0</td>\n",
       "      <td>29</td>\n",
       "      <td>29</td>\n",
       "      <td>0</td>\n",
       "      <td>2.49</td>\n",
       "      <td>2.49</td>\n",
       "      <td>0.0</td>\n",
       "      <td>2.49</td>\n",
       "      <td>477.741699</td>\n",
       "      <td>477.741699</td>\n",
       "      <td>0.0</td>\n",
       "      <td>0.0</td>\n",
       "      <td>95275</td>\n",
       "      <td>116897</td>\n",
       "      <td>21622</td>\n",
       "      <td>197.695625</td>\n",
       "      <td>242.561275</td>\n",
       "      <td>44.865650</td>\n",
       "      <td>235.180424</td>\n",
       "      <td>280.046074</td>\n",
       "      <td>44.865650</td>\n",
       "      <td>-21622.0</td>\n",
       "      <td>22149.0</td>\n",
       "      <td>43771.0</td>\n",
       "      <td>-21857.180424</td>\n",
       "      <td>21870.813126</td>\n",
       "      <td>-65.958891</td>\n",
       "      <td>43727.993550</td>\n",
       "      <td>81.0</td>\n",
       "      <td>99.0</td>\n",
       "      <td>18.0</td>\n",
       "      <td>10.0</td>\n",
       "      <td>2892.0</td>\n",
       "      <td>3528.0</td>\n",
       "      <td>0.0</td>\n",
       "      <td>0.0</td>\n",
       "      <td>1.0</td>\n",
       "      <td>0.0</td>\n",
       "      <td>0.0</td>\n",
       "      <td>0.0</td>\n",
       "      <td>0.0</td>\n",
       "      <td>0.0</td>\n",
       "      <td>0.0</td>\n",
       "      <td>0.0</td>\n",
       "      <td>0.0</td>\n",
       "      <td>0.0</td>\n",
       "      <td>0.0</td>\n",
       "      <td>0.0</td>\n",
       "      <td>0.0</td>\n",
       "      <td>0.0</td>\n",
       "      <td>0.0</td>\n",
       "      <td>1.0</td>\n",
       "      <td>0.0</td>\n",
       "      <td>0.0</td>\n",
       "      <td>0.0</td>\n",
       "      <td>0.0</td>\n",
       "      <td>0.0</td>\n",
       "      <td>0.0</td>\n",
       "      <td>1.0</td>\n",
       "      <td>0.0</td>\n",
       "      <td>0.0</td>\n",
       "      <td>0.0</td>\n",
       "      <td>0.0</td>\n",
       "      <td>0.0</td>\n",
       "      <td>0.0</td>\n",
       "      <td>0x8A5213E89A803F64601648317B</td>\n",
       "      <td>139200</td>\n",
       "      <td>1</td>\n",
       "      <td>0</td>\n",
       "      <td>0</td>\n",
       "      <td>0</td>\n",
       "      <td>0</td>\n",
       "      <td>0</td>\n",
       "      <td>0</td>\n",
       "      <td>0</td>\n",
       "      <td>1</td>\n",
       "      <td>0</td>\n",
       "      <td>1.0</td>\n",
       "      <td>1.0</td>\n",
       "      <td>69.840</td>\n",
       "    </tr>\n",
       "  </tbody>\n",
       "</table>\n",
       "</div>"
      ],
      "text/plain": [
       "            customer_id                          account_id  open_date_  \\\n",
       "0  0x000100F424893C746F  0xF7CDAD654B6CE06334F9FE655212AAD1  2017-06-29   \n",
       "1  0x000224F02B4B39DDFE  0x5568E6E4AEB2DF832D6444950125EECB  2016-08-16   \n",
       "2  0x00025DA4C145ED8EBF  0x8C794E5D7336C4FE59B85E4400973723  2022-04-13   \n",
       "3  0x0003C2466FAE7F0BEA  0xAAD9093643AACB7C73D1DAB125D551FE  2018-05-08   \n",
       "4  0x0004EAC7528D4869C1  0x1DE89AAB80B0FE12FBA0E35F21DDA118  2021-07-07   \n",
       "\n",
       "   original_principal_min  original_principal_max  original_principal_std  \\\n",
       "0                   64800                   64800                     0.0   \n",
       "1                   74880                   74880                     0.0   \n",
       "2                   54000                   54000                     0.0   \n",
       "3                   93600                   93600                     0.0   \n",
       "4                  118320                  118320                     0.0   \n",
       "\n",
       "   original_principal_max_minus_min  reporting_date_count  \\\n",
       "0                                 0                    44   \n",
       "1                                 0                    11   \n",
       "2                                 0                     3   \n",
       "3                                 0                    44   \n",
       "4                                 0                    12   \n",
       "\n",
       "   total_cust_exposure_min  total_cust_exposure_max  overdraft_min  \\\n",
       "0                    56155                    63355              0   \n",
       "1                    70449                    72710              0   \n",
       "2                    53248                    54000              0   \n",
       "3                    87324                    92598              0   \n",
       "4                    95275                   116897              0   \n",
       "\n",
       "   overdraft_max  overdraft_size  overdraft_count0  overdraft_count1  \\\n",
       "0              0              44                44                 0   \n",
       "1              0              11                11                 0   \n",
       "2              0               3                 3                 0   \n",
       "3              0              44                44                 0   \n",
       "4              0              12                12                 0   \n",
       "\n",
       "   overdraft_count2plus  consumer_loan_min  consumer_loan_max  \\\n",
       "0                     0                  0                  0   \n",
       "1                     0                  0                  0   \n",
       "2                     0                  0                  0   \n",
       "3                     0                  0                  0   \n",
       "4                     0                  0                  0   \n",
       "\n",
       "   consumer_loan_size  consumer_loan_count0  consumer_loan_count1  \\\n",
       "0                  44                    44                     0   \n",
       "1                  11                    11                     0   \n",
       "2                   3                     3                     0   \n",
       "3                  44                    44                     0   \n",
       "4                  12                    12                     0   \n",
       "\n",
       "   consumer_loan_count2plus  credit_card_min  credit_card_max  \\\n",
       "0                         0                0                0   \n",
       "1                         0                0                0   \n",
       "2                         0                0                0   \n",
       "3                         0                0                0   \n",
       "4                         0                0                0   \n",
       "\n",
       "   credit_card_size  credit_card_count0  credit_card_count1  \\\n",
       "0                44                  44                   0   \n",
       "1                11                  11                   0   \n",
       "2                 3                   3                   0   \n",
       "3                44                  44                   0   \n",
       "4                12                  12                   0   \n",
       "\n",
       "   credit_card_count2plus  customer_rating_min  customer_rating_max  \\\n",
       "0                       0                  3.0                  5.5   \n",
       "1                       0                  4.0                  5.5   \n",
       "2                       0                  5.5                  5.5   \n",
       "3                       0                  3.0                  6.5   \n",
       "4                       0                  3.0                  3.9   \n",
       "\n",
       "   customer_rating_modeX maturity_date_min maturity_date_max  \\\n",
       "0                    3.5        2042-06-29        2042-06-29   \n",
       "1                    4.0        2042-08-16        2042-08-16   \n",
       "2                    5.5        2033-04-13        2033-04-13   \n",
       "3                    3.5        2053-05-08        2053-05-08   \n",
       "4                    3.9        2051-07-07        2051-07-07   \n",
       "\n",
       "   maturity_date_max_minus_min  prepayment_status_unique  l_period_min  \\\n",
       "0                            0                         0            24   \n",
       "1                            0                         1            25   \n",
       "2                            0                         0            11   \n",
       "3                            0                         0            35   \n",
       "4                            0                         0            29   \n",
       "\n",
       "   l_period_max  l_period_max_minus_min  interest_rate_min  interest_rate_max  \\\n",
       "0            24                       0               3.70               3.70   \n",
       "1            25                       0               3.90               3.90   \n",
       "2            11                       0               2.48               2.48   \n",
       "3            35                       0               3.35               3.35   \n",
       "4            29                       0               2.49               2.49   \n",
       "\n",
       "   interest_rate_max_minus_min  interest_rate_modeX  exp_monthly_payments_min  \\\n",
       "0                          0.0                 3.70                339.819283   \n",
       "1                          0.0                 3.90                391.121433   \n",
       "2                          0.0                 2.48                467.844781   \n",
       "3                          0.0                 3.35                378.749527   \n",
       "4                          0.0                 2.49                477.741699   \n",
       "\n",
       "   exp_monthly_payments_max  exp_monthly_payments_std  \\\n",
       "0                339.819283                       0.0   \n",
       "1                391.121433                       0.0   \n",
       "2                467.844781                       0.0   \n",
       "3                378.749527                       0.0   \n",
       "4                477.741699                       0.0   \n",
       "\n",
       "   exp_monthly_payments_max_minus_min  current_principal_min  \\\n",
       "0                                 0.0                  56155   \n",
       "1                                 0.0                  69729   \n",
       "2                                 0.0                  53248   \n",
       "3                                 0.0                  87324   \n",
       "4                                 0.0                  95275   \n",
       "\n",
       "   current_principal_max  current_principal_max_minus_min  \\\n",
       "0                  62342                             6187   \n",
       "1                  71273                             1544   \n",
       "2                  54000                              752   \n",
       "3                  92598                             5274   \n",
       "4                 116897                            21622   \n",
       "\n",
       "   interest_payment_min  interest_payment_max  interest_payment_max_minus_min  \\\n",
       "0            173.144583            192.221167                       19.076583   \n",
       "1            226.619250            231.637250                        5.018000   \n",
       "2            110.045867            111.600000                        1.554133   \n",
       "3            243.779500            258.502750                       14.723250   \n",
       "4            197.695625            242.561275                       44.865650   \n",
       "\n",
       "   principal_payment_min  principal_payment_max  \\\n",
       "0             147.598116             166.674700   \n",
       "1             159.484183             164.502183   \n",
       "2             356.244781             357.798915   \n",
       "3             120.246777             134.970027   \n",
       "4             235.180424             280.046074   \n",
       "\n",
       "   principal_payment_max_minus_min  deducted_principal_min  \\\n",
       "0                        19.076583                     0.0   \n",
       "1                         5.018000                   147.0   \n",
       "2                         1.554133                     0.0   \n",
       "3                        14.723250                     0.0   \n",
       "4                        44.865650                -21622.0   \n",
       "\n",
       "   deducted_principal_max  deducted_principal_max_minus_min  \\\n",
       "0                  2458.0                            2458.0   \n",
       "1                  3607.0                            3460.0   \n",
       "2                   398.0                             398.0   \n",
       "3                  1002.0                            1002.0   \n",
       "4                 22149.0                           43771.0   \n",
       "\n",
       "   deducted_vs_principal_payment_min  deducted_vs_principal_payment_max  \\\n",
       "0                        -164.251200                        2310.401884   \n",
       "1                         -12.961933                        3447.515817   \n",
       "2                        -356.244781                          40.932685   \n",
       "3                        -133.096819                         881.753223   \n",
       "4                      -21857.180424                       21870.813126   \n",
       "\n",
       "   deducted_vs_principal_payment_mean  \\\n",
       "0                           39.390899   \n",
       "1                          306.287522   \n",
       "2                         -106.370337   \n",
       "3                           15.045854   \n",
       "4                          -65.958891   \n",
       "\n",
       "   deducted_vs_principal_payment_max_minus_min  principal_left_pctg_min  \\\n",
       "0                                  2474.653083                     87.0   \n",
       "1                                  3460.477750                     93.0   \n",
       "2                                   397.177467                     99.0   \n",
       "3                                  1014.850042                     93.0   \n",
       "4                                 43727.993550                     81.0   \n",
       "\n",
       "   principal_left_pctg_max  principal_left_pctg_max_minus_min  profession  \\\n",
       "0                     96.0                                9.0        21.0   \n",
       "1                     95.0                                2.0        42.0   \n",
       "2                    100.0                                1.0        13.0   \n",
       "3                     99.0                                6.0        11.0   \n",
       "4                     99.0                               18.0        10.0   \n",
       "\n",
       "   tot_mnth_income  gross_salary  maritial_status_A49  maritial_status_I63  \\\n",
       "0            660.0         888.0                  1.0                  0.0   \n",
       "1           1487.0           0.0                  0.0                  0.0   \n",
       "2           1663.0         780.0                  0.0                  0.0   \n",
       "3           2443.0        3120.0                  0.0                  0.0   \n",
       "4           2892.0        3528.0                  0.0                  0.0   \n",
       "\n",
       "   maritial_status_K16  maritial_status_M45  maritial_status_O32  \\\n",
       "0                  0.0                  0.0                  0.0   \n",
       "1                  1.0                  0.0                  0.0   \n",
       "2                  0.0                  0.0                  0.0   \n",
       "3                  1.0                  0.0                  0.0   \n",
       "4                  1.0                  0.0                  0.0   \n",
       "\n",
       "   maritial_status_Q37  maritial_status_U67  age_A788  age_F953  age_G219  \\\n",
       "0                  0.0                  0.0       0.0       0.0       0.0   \n",
       "1                  0.0                  0.0       0.0       0.0       1.0   \n",
       "2                  0.0                  1.0       0.0       0.0       1.0   \n",
       "3                  0.0                  0.0       0.0       0.0       0.0   \n",
       "4                  0.0                  0.0       0.0       0.0       0.0   \n",
       "\n",
       "   age_H294  age_J454  age_M764  age_O456  age_P508  age_Q251  age_S205  \\\n",
       "0       0.0       0.0       0.0       0.0       0.0       1.0       0.0   \n",
       "1       0.0       0.0       0.0       0.0       0.0       0.0       0.0   \n",
       "2       0.0       0.0       0.0       0.0       0.0       0.0       0.0   \n",
       "3       0.0       0.0       0.0       0.0       0.0       0.0       0.0   \n",
       "4       0.0       0.0       0.0       0.0       0.0       0.0       0.0   \n",
       "\n",
       "   age_T555  age_W677  age_X693  age_Z829  empl_type_A350  empl_type_C288  \\\n",
       "0       0.0       0.0       0.0       0.0             0.0             0.0   \n",
       "1       0.0       0.0       0.0       0.0             0.0             0.0   \n",
       "2       0.0       0.0       0.0       0.0             0.0             0.0   \n",
       "3       1.0       0.0       0.0       0.0             0.0             0.0   \n",
       "4       1.0       0.0       0.0       0.0             0.0             0.0   \n",
       "\n",
       "   empl_type_H787  empl_type_I508  empl_type_L320  empl_type_P115  \\\n",
       "0             0.0             1.0             0.0             0.0   \n",
       "1             0.0             1.0             0.0             0.0   \n",
       "2             0.0             1.0             0.0             0.0   \n",
       "3             0.0             1.0             0.0             0.0   \n",
       "4             0.0             1.0             0.0             0.0   \n",
       "\n",
       "   empl_type_Q237  empl_type_R412  empl_type_U768  empl_type_Y735  \\\n",
       "0             0.0             0.0             0.0             0.0   \n",
       "1             0.0             0.0             0.0             0.0   \n",
       "2             0.0             0.0             0.0             0.0   \n",
       "3             0.0             0.0             0.0             0.0   \n",
       "4             0.0             0.0             0.0             0.0   \n",
       "\n",
       "                  collateral_id  market_value  collateral_type_M100  \\\n",
       "0  0xA1224902A54E10483EBEEFC973         72360                     1   \n",
       "1  0x5A1DD802DAC694B446F8C6161B         93600                     1   \n",
       "2  0xD744613939B2BCC38B45EC917E         80400                     1   \n",
       "3  0x607DA1BAEA089087390CA4010D        211680                     1   \n",
       "4  0x8A5213E89A803F64601648317B        139200                     1   \n",
       "\n",
       "   collateral_type_M101  collateral_type_M102  collateral_type_M103  \\\n",
       "0                     0                     0                     0   \n",
       "1                     0                     0                     0   \n",
       "2                     0                     0                     0   \n",
       "3                     0                     0                     0   \n",
       "4                     0                     0                     0   \n",
       "\n",
       "   collateral_type_M104  collateral_type_M105  town_Big  town_Capital  \\\n",
       "0                     0                     0         0             0   \n",
       "1                     0                     0         1             0   \n",
       "2                     0                     0         0             0   \n",
       "3                     0                     0         0             1   \n",
       "4                     0                     0         0             0   \n",
       "\n",
       "   town_Major  town_Medium_Size  building_type_full  \\\n",
       "0           0                 1                 1.0   \n",
       "1           0                 0                 1.0   \n",
       "2           0                 1                 2.0   \n",
       "3           0                 0                 1.0   \n",
       "4           1                 0                 1.0   \n",
       "\n",
       "   mortgage_utilisation_full  area_full  \n",
       "0                        1.0     47.568  \n",
       "1                        1.0     81.180  \n",
       "2                        1.0     74.904  \n",
       "3                        1.0    126.360  \n",
       "4                        1.0     69.840  "
      ]
     },
     "execution_count": 274,
     "metadata": {},
     "output_type": "execute_result"
    }
   ],
   "source": [
    "all_files.head()"
   ]
  },
  {
   "cell_type": "code",
   "execution_count": 275,
   "id": "4ab27e72",
   "metadata": {
    "ExecuteTime": {
     "end_time": "2022-09-01T20:27:26.561615Z",
     "start_time": "2022-09-01T20:27:26.549614Z"
    }
   },
   "outputs": [],
   "source": [
    "cols_to_fill_classifier = ['profession',\n",
    "       'maritial_status_A49', 'maritial_status_I63', 'maritial_status_K16',\n",
    "       'maritial_status_M45', 'maritial_status_O32', 'maritial_status_Q37',\n",
    "       'maritial_status_U67', 'age_A788', 'age_F953', 'age_G219', 'age_H294',\n",
    "       'age_J454', 'age_M764', 'age_O456', 'age_P508', 'age_Q251', 'age_S205',\n",
    "       'age_T555', 'age_W677', 'age_X693', 'age_Z829', 'empl_type_A350',\n",
    "       'empl_type_C288', 'empl_type_H787', 'empl_type_I508', 'empl_type_L320',\n",
    "       'empl_type_P115', 'empl_type_Q237', 'empl_type_R412', 'empl_type_U768',\n",
    "       'empl_type_Y735']\n",
    "\n",
    "cols_to_fill_regressor = ['tot_mnth_income', 'gross_salary']"
   ]
  },
  {
   "cell_type": "code",
   "execution_count": 276,
   "id": "063e9161",
   "metadata": {
    "ExecuteTime": {
     "end_time": "2022-09-01T20:27:26.577614Z",
     "start_time": "2022-09-01T20:27:26.566619Z"
    }
   },
   "outputs": [],
   "source": [
    "predictors_list = ['original_principal_min',\n",
    "       'original_principal_max', 'original_principal_std',\n",
    "       'original_principal_max_minus_min', 'reporting_date_count',\n",
    "       'total_cust_exposure_min', 'total_cust_exposure_max', 'overdraft_min',\n",
    "       'overdraft_max', 'overdraft_size', 'overdraft_count0',\n",
    "       'overdraft_count1', 'overdraft_count2plus', 'consumer_loan_min',\n",
    "       'consumer_loan_max', 'consumer_loan_size', 'consumer_loan_count0',\n",
    "       'consumer_loan_count1', 'consumer_loan_count2plus', 'credit_card_min',\n",
    "       'credit_card_max', 'credit_card_size', 'credit_card_count0',\n",
    "       'credit_card_count1', 'credit_card_count2plus', 'customer_rating_min',\n",
    "       'customer_rating_max', 'customer_rating_modeX', 'maturity_date_max_minus_min',\n",
    "       'prepayment_status_unique', 'l_period_min', 'l_period_max',\n",
    "       'l_period_max_minus_min', 'interest_rate_min', 'interest_rate_max',\n",
    "       'interest_rate_max_minus_min', 'interest_rate_modeX',\n",
    "       'exp_monthly_payments_min', 'exp_monthly_payments_max',\n",
    "       'exp_monthly_payments_std', 'exp_monthly_payments_max_minus_min',\n",
    "       'current_principal_min', 'current_principal_max',\n",
    "       'current_principal_max_minus_min', 'interest_payment_min',\n",
    "       'interest_payment_max', 'interest_payment_max_minus_min',\n",
    "       'principal_payment_min', 'principal_payment_max',\n",
    "       'principal_payment_max_minus_min', 'deducted_principal_min',\n",
    "       'deducted_principal_max', 'deducted_principal_max_minus_min',\n",
    "       'deducted_vs_principal_payment_min',\n",
    "       'deducted_vs_principal_payment_max',\n",
    "       'deducted_vs_principal_payment_mean',\n",
    "       'deducted_vs_principal_payment_max_minus_min',\n",
    "       'principal_left_pctg_min', 'principal_left_pctg_max',\n",
    "       'principal_left_pctg_max_minus_min',\n",
    "                  'market_value', 'collateral_type_M100',\n",
    "       'collateral_type_M101', 'collateral_type_M102', 'collateral_type_M103',\n",
    "       'collateral_type_M104', 'collateral_type_M105',\n",
    "       'town_Big', 'town_Capital',\n",
    "       'town_Major', 'town_Medium_Size',\n",
    "       'building_type_full', 'mortgage_utilisation_full', 'area_full']"
   ]
  },
  {
   "cell_type": "code",
   "execution_count": 277,
   "id": "625e117a",
   "metadata": {
    "ExecuteTime": {
     "end_time": "2022-09-01T20:36:21.800277Z",
     "start_time": "2022-09-01T20:27:26.582617Z"
    }
   },
   "outputs": [
    {
     "name": "stdout",
     "output_type": "stream",
     "text": [
      "Column:  tot_mnth_income\n",
      "SCALING THE DATA...\n",
      "FITTING MODEL...\n",
      "COLUMN SUCCESSFULLY PROCESSED\n",
      "\n",
      "Column:  gross_salary\n",
      "SCALING THE DATA...\n",
      "FITTING MODEL...\n",
      "COLUMN SUCCESSFULLY PROCESSED\n",
      "\n"
     ]
    }
   ],
   "source": [
    "model = RandomForestRegressor()\n",
    "\n",
    "\n",
    "\n",
    "for col in cols_to_fill_regressor:\n",
    "    \n",
    "    feature_fill(df=all_files, features_pred_list=predictors_list, target_col=col, model=model)"
   ]
  },
  {
   "cell_type": "code",
   "execution_count": 278,
   "id": "4db025e4",
   "metadata": {
    "ExecuteTime": {
     "end_time": "2022-09-01T20:36:21.907010Z",
     "start_time": "2022-09-01T20:36:21.804251Z"
    }
   },
   "outputs": [
    {
     "name": "stdout",
     "output_type": "stream",
     "text": [
      "<class 'pandas.core.frame.DataFrame'>\n",
      "Int64Index: 40602 entries, 0 to 40601\n",
      "Data columns (total 114 columns):\n",
      " #    Column                                       Non-Null Count  Dtype  \n",
      "---   ------                                       --------------  -----  \n",
      " 0    customer_id                                  40602 non-null  object \n",
      " 1    account_id                                   40602 non-null  object \n",
      " 2    open_date_                                   40602 non-null  object \n",
      " 3    original_principal_min                       40602 non-null  int64  \n",
      " 4    original_principal_max                       40602 non-null  int64  \n",
      " 5    original_principal_std                       40602 non-null  float64\n",
      " 6    original_principal_max_minus_min             40602 non-null  int64  \n",
      " 7    reporting_date_count                         40602 non-null  int64  \n",
      " 8    total_cust_exposure_min                      40602 non-null  int64  \n",
      " 9    total_cust_exposure_max                      40602 non-null  int64  \n",
      " 10   overdraft_min                                40602 non-null  int64  \n",
      " 11   overdraft_max                                40602 non-null  int64  \n",
      " 12   overdraft_size                               40602 non-null  int64  \n",
      " 13   overdraft_count0                             40602 non-null  int64  \n",
      " 14   overdraft_count1                             40602 non-null  int64  \n",
      " 15   overdraft_count2plus                         40602 non-null  int64  \n",
      " 16   consumer_loan_min                            40602 non-null  int64  \n",
      " 17   consumer_loan_max                            40602 non-null  int64  \n",
      " 18   consumer_loan_size                           40602 non-null  int64  \n",
      " 19   consumer_loan_count0                         40602 non-null  int64  \n",
      " 20   consumer_loan_count1                         40602 non-null  int64  \n",
      " 21   consumer_loan_count2plus                     40602 non-null  int64  \n",
      " 22   credit_card_min                              40602 non-null  int64  \n",
      " 23   credit_card_max                              40602 non-null  int64  \n",
      " 24   credit_card_size                             40602 non-null  int64  \n",
      " 25   credit_card_count0                           40602 non-null  int64  \n",
      " 26   credit_card_count1                           40602 non-null  int64  \n",
      " 27   credit_card_count2plus                       40602 non-null  int64  \n",
      " 28   customer_rating_min                          40602 non-null  float64\n",
      " 29   customer_rating_max                          40602 non-null  float64\n",
      " 30   customer_rating_modeX                        40602 non-null  float64\n",
      " 31   maturity_date_min                            40602 non-null  object \n",
      " 32   maturity_date_max                            40602 non-null  object \n",
      " 33   maturity_date_max_minus_min                  40602 non-null  int64  \n",
      " 34   prepayment_status_unique                     40602 non-null  int64  \n",
      " 35   l_period_min                                 40602 non-null  int64  \n",
      " 36   l_period_max                                 40602 non-null  int64  \n",
      " 37   l_period_max_minus_min                       40602 non-null  int64  \n",
      " 38   interest_rate_min                            40602 non-null  float64\n",
      " 39   interest_rate_max                            40602 non-null  float64\n",
      " 40   interest_rate_max_minus_min                  40602 non-null  float64\n",
      " 41   interest_rate_modeX                          40602 non-null  float64\n",
      " 42   exp_monthly_payments_min                     40602 non-null  float64\n",
      " 43   exp_monthly_payments_max                     40602 non-null  float64\n",
      " 44   exp_monthly_payments_std                     40602 non-null  float64\n",
      " 45   exp_monthly_payments_max_minus_min           40602 non-null  float64\n",
      " 46   current_principal_min                        40602 non-null  int64  \n",
      " 47   current_principal_max                        40602 non-null  int64  \n",
      " 48   current_principal_max_minus_min              40602 non-null  int64  \n",
      " 49   interest_payment_min                         40602 non-null  float64\n",
      " 50   interest_payment_max                         40602 non-null  float64\n",
      " 51   interest_payment_max_minus_min               40602 non-null  float64\n",
      " 52   principal_payment_min                        40602 non-null  float64\n",
      " 53   principal_payment_max                        40602 non-null  float64\n",
      " 54   principal_payment_max_minus_min              40602 non-null  float64\n",
      " 55   deducted_principal_min                       40602 non-null  float64\n",
      " 56   deducted_principal_max                       40602 non-null  float64\n",
      " 57   deducted_principal_max_minus_min             40602 non-null  float64\n",
      " 58   deducted_vs_principal_payment_min            40602 non-null  float64\n",
      " 59   deducted_vs_principal_payment_max            40602 non-null  float64\n",
      " 60   deducted_vs_principal_payment_mean           40602 non-null  float64\n",
      " 61   deducted_vs_principal_payment_max_minus_min  40602 non-null  float64\n",
      " 62   principal_left_pctg_min                      40602 non-null  float64\n",
      " 63   principal_left_pctg_max                      40602 non-null  float64\n",
      " 64   principal_left_pctg_max_minus_min            40602 non-null  float64\n",
      " 65   profession                                   35511 non-null  float64\n",
      " 66   maritial_status_A49                          35511 non-null  float64\n",
      " 67   maritial_status_I63                          35511 non-null  float64\n",
      " 68   maritial_status_K16                          35511 non-null  float64\n",
      " 69   maritial_status_M45                          35511 non-null  float64\n",
      " 70   maritial_status_O32                          35511 non-null  float64\n",
      " 71   maritial_status_Q37                          35511 non-null  float64\n",
      " 72   maritial_status_U67                          35511 non-null  float64\n",
      " 73   age_A788                                     35511 non-null  float64\n",
      " 74   age_F953                                     35511 non-null  float64\n",
      " 75   age_G219                                     35511 non-null  float64\n",
      " 76   age_H294                                     35511 non-null  float64\n",
      " 77   age_J454                                     35511 non-null  float64\n",
      " 78   age_M764                                     35511 non-null  float64\n",
      " 79   age_O456                                     35511 non-null  float64\n",
      " 80   age_P508                                     35511 non-null  float64\n",
      " 81   age_Q251                                     35511 non-null  float64\n",
      " 82   age_S205                                     35511 non-null  float64\n",
      " 83   age_T555                                     35511 non-null  float64\n",
      " 84   age_W677                                     35511 non-null  float64\n",
      " 85   age_X693                                     35511 non-null  float64\n",
      " 86   age_Z829                                     35511 non-null  float64\n",
      " 87   empl_type_A350                               35511 non-null  float64\n",
      " 88   empl_type_C288                               35511 non-null  float64\n",
      " 89   empl_type_H787                               35511 non-null  float64\n",
      " 90   empl_type_I508                               35511 non-null  float64\n",
      " 91   empl_type_L320                               35511 non-null  float64\n",
      " 92   empl_type_P115                               35511 non-null  float64\n",
      " 93   empl_type_Q237                               35511 non-null  float64\n",
      " 94   empl_type_R412                               35511 non-null  float64\n",
      " 95   empl_type_U768                               35511 non-null  float64\n",
      " 96   empl_type_Y735                               35511 non-null  float64\n",
      " 97   collateral_id                                40602 non-null  object \n",
      " 98   market_value                                 40602 non-null  int64  \n",
      " 99   collateral_type_M100                         40602 non-null  uint8  \n",
      " 100  collateral_type_M101                         40602 non-null  uint8  \n",
      " 101  collateral_type_M102                         40602 non-null  uint8  \n",
      " 102  collateral_type_M103                         40602 non-null  uint8  \n",
      " 103  collateral_type_M104                         40602 non-null  uint8  \n",
      " 104  collateral_type_M105                         40602 non-null  uint8  \n",
      " 105  town_Big                                     40602 non-null  uint8  \n",
      " 106  town_Capital                                 40602 non-null  uint8  \n",
      " 107  town_Major                                   40602 non-null  uint8  \n",
      " 108  town_Medium_Size                             40602 non-null  uint8  \n",
      " 109  building_type_full                           40602 non-null  float64\n",
      " 110  mortgage_utilisation_full                    40602 non-null  float64\n",
      " 111  area_full                                    40602 non-null  float64\n",
      " 112  tot_mnth_income_full                         40602 non-null  float64\n",
      " 113  gross_salary_full                            40602 non-null  float64\n",
      "dtypes: float64(65), int64(33), object(6), uint8(10)\n",
      "memory usage: 33.9+ MB\n"
     ]
    }
   ],
   "source": [
    "all_files.info(verbose=True, show_counts=True)"
   ]
  },
  {
   "cell_type": "code",
   "execution_count": 279,
   "id": "33f7d376",
   "metadata": {
    "ExecuteTime": {
     "end_time": "2022-09-01T20:36:22.051006Z",
     "start_time": "2022-09-01T20:36:21.909985Z"
    }
   },
   "outputs": [
    {
     "data": {
      "text/html": [
       "<div>\n",
       "<style scoped>\n",
       "    .dataframe tbody tr th:only-of-type {\n",
       "        vertical-align: middle;\n",
       "    }\n",
       "\n",
       "    .dataframe tbody tr th {\n",
       "        vertical-align: top;\n",
       "    }\n",
       "\n",
       "    .dataframe thead th {\n",
       "        text-align: right;\n",
       "    }\n",
       "</style>\n",
       "<table border=\"1\" class=\"dataframe\">\n",
       "  <thead>\n",
       "    <tr style=\"text-align: right;\">\n",
       "      <th></th>\n",
       "      <th>customer_id</th>\n",
       "      <th>account_id</th>\n",
       "      <th>open_date_</th>\n",
       "      <th>original_principal_min</th>\n",
       "      <th>original_principal_max</th>\n",
       "      <th>original_principal_std</th>\n",
       "      <th>original_principal_max_minus_min</th>\n",
       "      <th>reporting_date_count</th>\n",
       "      <th>total_cust_exposure_min</th>\n",
       "      <th>total_cust_exposure_max</th>\n",
       "      <th>overdraft_min</th>\n",
       "      <th>overdraft_max</th>\n",
       "      <th>overdraft_size</th>\n",
       "      <th>overdraft_count0</th>\n",
       "      <th>overdraft_count1</th>\n",
       "      <th>overdraft_count2plus</th>\n",
       "      <th>consumer_loan_min</th>\n",
       "      <th>consumer_loan_max</th>\n",
       "      <th>consumer_loan_size</th>\n",
       "      <th>consumer_loan_count0</th>\n",
       "      <th>consumer_loan_count1</th>\n",
       "      <th>consumer_loan_count2plus</th>\n",
       "      <th>credit_card_min</th>\n",
       "      <th>credit_card_max</th>\n",
       "      <th>credit_card_size</th>\n",
       "      <th>credit_card_count0</th>\n",
       "      <th>credit_card_count1</th>\n",
       "      <th>credit_card_count2plus</th>\n",
       "      <th>customer_rating_min</th>\n",
       "      <th>customer_rating_max</th>\n",
       "      <th>customer_rating_modeX</th>\n",
       "      <th>maturity_date_min</th>\n",
       "      <th>maturity_date_max</th>\n",
       "      <th>maturity_date_max_minus_min</th>\n",
       "      <th>prepayment_status_unique</th>\n",
       "      <th>l_period_min</th>\n",
       "      <th>l_period_max</th>\n",
       "      <th>l_period_max_minus_min</th>\n",
       "      <th>interest_rate_min</th>\n",
       "      <th>interest_rate_max</th>\n",
       "      <th>interest_rate_max_minus_min</th>\n",
       "      <th>interest_rate_modeX</th>\n",
       "      <th>exp_monthly_payments_min</th>\n",
       "      <th>exp_monthly_payments_max</th>\n",
       "      <th>exp_monthly_payments_std</th>\n",
       "      <th>exp_monthly_payments_max_minus_min</th>\n",
       "      <th>current_principal_min</th>\n",
       "      <th>current_principal_max</th>\n",
       "      <th>current_principal_max_minus_min</th>\n",
       "      <th>interest_payment_min</th>\n",
       "      <th>interest_payment_max</th>\n",
       "      <th>interest_payment_max_minus_min</th>\n",
       "      <th>principal_payment_min</th>\n",
       "      <th>principal_payment_max</th>\n",
       "      <th>principal_payment_max_minus_min</th>\n",
       "      <th>deducted_principal_min</th>\n",
       "      <th>deducted_principal_max</th>\n",
       "      <th>deducted_principal_max_minus_min</th>\n",
       "      <th>deducted_vs_principal_payment_min</th>\n",
       "      <th>deducted_vs_principal_payment_max</th>\n",
       "      <th>deducted_vs_principal_payment_mean</th>\n",
       "      <th>deducted_vs_principal_payment_max_minus_min</th>\n",
       "      <th>principal_left_pctg_min</th>\n",
       "      <th>principal_left_pctg_max</th>\n",
       "      <th>principal_left_pctg_max_minus_min</th>\n",
       "      <th>profession</th>\n",
       "      <th>maritial_status_A49</th>\n",
       "      <th>maritial_status_I63</th>\n",
       "      <th>maritial_status_K16</th>\n",
       "      <th>maritial_status_M45</th>\n",
       "      <th>maritial_status_O32</th>\n",
       "      <th>maritial_status_Q37</th>\n",
       "      <th>maritial_status_U67</th>\n",
       "      <th>age_A788</th>\n",
       "      <th>age_F953</th>\n",
       "      <th>age_G219</th>\n",
       "      <th>age_H294</th>\n",
       "      <th>age_J454</th>\n",
       "      <th>age_M764</th>\n",
       "      <th>age_O456</th>\n",
       "      <th>age_P508</th>\n",
       "      <th>age_Q251</th>\n",
       "      <th>age_S205</th>\n",
       "      <th>age_T555</th>\n",
       "      <th>age_W677</th>\n",
       "      <th>age_X693</th>\n",
       "      <th>age_Z829</th>\n",
       "      <th>empl_type_A350</th>\n",
       "      <th>empl_type_C288</th>\n",
       "      <th>empl_type_H787</th>\n",
       "      <th>empl_type_I508</th>\n",
       "      <th>empl_type_L320</th>\n",
       "      <th>empl_type_P115</th>\n",
       "      <th>empl_type_Q237</th>\n",
       "      <th>empl_type_R412</th>\n",
       "      <th>empl_type_U768</th>\n",
       "      <th>empl_type_Y735</th>\n",
       "      <th>collateral_id</th>\n",
       "      <th>market_value</th>\n",
       "      <th>collateral_type_M100</th>\n",
       "      <th>collateral_type_M101</th>\n",
       "      <th>collateral_type_M102</th>\n",
       "      <th>collateral_type_M103</th>\n",
       "      <th>collateral_type_M104</th>\n",
       "      <th>collateral_type_M105</th>\n",
       "      <th>town_Big</th>\n",
       "      <th>town_Capital</th>\n",
       "      <th>town_Major</th>\n",
       "      <th>town_Medium_Size</th>\n",
       "      <th>building_type_full</th>\n",
       "      <th>mortgage_utilisation_full</th>\n",
       "      <th>area_full</th>\n",
       "      <th>tot_mnth_income_full</th>\n",
       "      <th>gross_salary_full</th>\n",
       "    </tr>\n",
       "  </thead>\n",
       "  <tbody>\n",
       "    <tr>\n",
       "      <th>0</th>\n",
       "      <td>0x000100F424893C746F</td>\n",
       "      <td>0xF7CDAD654B6CE06334F9FE655212AAD1</td>\n",
       "      <td>2017-06-29</td>\n",
       "      <td>64800</td>\n",
       "      <td>64800</td>\n",
       "      <td>0.0</td>\n",
       "      <td>0</td>\n",
       "      <td>44</td>\n",
       "      <td>56155</td>\n",
       "      <td>63355</td>\n",
       "      <td>0</td>\n",
       "      <td>0</td>\n",
       "      <td>44</td>\n",
       "      <td>44</td>\n",
       "      <td>0</td>\n",
       "      <td>0</td>\n",
       "      <td>0</td>\n",
       "      <td>0</td>\n",
       "      <td>44</td>\n",
       "      <td>44</td>\n",
       "      <td>0</td>\n",
       "      <td>0</td>\n",
       "      <td>0</td>\n",
       "      <td>0</td>\n",
       "      <td>44</td>\n",
       "      <td>44</td>\n",
       "      <td>0</td>\n",
       "      <td>0</td>\n",
       "      <td>3.0</td>\n",
       "      <td>5.5</td>\n",
       "      <td>3.5</td>\n",
       "      <td>2042-06-29</td>\n",
       "      <td>2042-06-29</td>\n",
       "      <td>0</td>\n",
       "      <td>0</td>\n",
       "      <td>24</td>\n",
       "      <td>24</td>\n",
       "      <td>0</td>\n",
       "      <td>3.70</td>\n",
       "      <td>3.70</td>\n",
       "      <td>0.0</td>\n",
       "      <td>3.70</td>\n",
       "      <td>339.819283</td>\n",
       "      <td>339.819283</td>\n",
       "      <td>0.0</td>\n",
       "      <td>0.0</td>\n",
       "      <td>56155</td>\n",
       "      <td>62342</td>\n",
       "      <td>6187</td>\n",
       "      <td>173.144583</td>\n",
       "      <td>192.221167</td>\n",
       "      <td>19.076583</td>\n",
       "      <td>147.598116</td>\n",
       "      <td>166.674700</td>\n",
       "      <td>19.076583</td>\n",
       "      <td>0.0</td>\n",
       "      <td>2458.0</td>\n",
       "      <td>2458.0</td>\n",
       "      <td>-164.251200</td>\n",
       "      <td>2310.401884</td>\n",
       "      <td>39.390899</td>\n",
       "      <td>2474.653083</td>\n",
       "      <td>87.0</td>\n",
       "      <td>96.0</td>\n",
       "      <td>9.0</td>\n",
       "      <td>21.0</td>\n",
       "      <td>1.0</td>\n",
       "      <td>0.0</td>\n",
       "      <td>0.0</td>\n",
       "      <td>0.0</td>\n",
       "      <td>0.0</td>\n",
       "      <td>0.0</td>\n",
       "      <td>0.0</td>\n",
       "      <td>0.0</td>\n",
       "      <td>0.0</td>\n",
       "      <td>0.0</td>\n",
       "      <td>0.0</td>\n",
       "      <td>0.0</td>\n",
       "      <td>0.0</td>\n",
       "      <td>0.0</td>\n",
       "      <td>0.0</td>\n",
       "      <td>1.0</td>\n",
       "      <td>0.0</td>\n",
       "      <td>0.0</td>\n",
       "      <td>0.0</td>\n",
       "      <td>0.0</td>\n",
       "      <td>0.0</td>\n",
       "      <td>0.0</td>\n",
       "      <td>0.0</td>\n",
       "      <td>0.0</td>\n",
       "      <td>1.0</td>\n",
       "      <td>0.0</td>\n",
       "      <td>0.0</td>\n",
       "      <td>0.0</td>\n",
       "      <td>0.0</td>\n",
       "      <td>0.0</td>\n",
       "      <td>0.0</td>\n",
       "      <td>0xA1224902A54E10483EBEEFC973</td>\n",
       "      <td>72360</td>\n",
       "      <td>1</td>\n",
       "      <td>0</td>\n",
       "      <td>0</td>\n",
       "      <td>0</td>\n",
       "      <td>0</td>\n",
       "      <td>0</td>\n",
       "      <td>0</td>\n",
       "      <td>0</td>\n",
       "      <td>0</td>\n",
       "      <td>1</td>\n",
       "      <td>1.0</td>\n",
       "      <td>1.0</td>\n",
       "      <td>47.568</td>\n",
       "      <td>660.0</td>\n",
       "      <td>888.0</td>\n",
       "    </tr>\n",
       "    <tr>\n",
       "      <th>1</th>\n",
       "      <td>0x000224F02B4B39DDFE</td>\n",
       "      <td>0x5568E6E4AEB2DF832D6444950125EECB</td>\n",
       "      <td>2016-08-16</td>\n",
       "      <td>74880</td>\n",
       "      <td>74880</td>\n",
       "      <td>0.0</td>\n",
       "      <td>0</td>\n",
       "      <td>11</td>\n",
       "      <td>70449</td>\n",
       "      <td>72710</td>\n",
       "      <td>0</td>\n",
       "      <td>0</td>\n",
       "      <td>11</td>\n",
       "      <td>11</td>\n",
       "      <td>0</td>\n",
       "      <td>0</td>\n",
       "      <td>0</td>\n",
       "      <td>0</td>\n",
       "      <td>11</td>\n",
       "      <td>11</td>\n",
       "      <td>0</td>\n",
       "      <td>0</td>\n",
       "      <td>0</td>\n",
       "      <td>0</td>\n",
       "      <td>11</td>\n",
       "      <td>11</td>\n",
       "      <td>0</td>\n",
       "      <td>0</td>\n",
       "      <td>4.0</td>\n",
       "      <td>5.5</td>\n",
       "      <td>4.0</td>\n",
       "      <td>2042-08-16</td>\n",
       "      <td>2042-08-16</td>\n",
       "      <td>0</td>\n",
       "      <td>1</td>\n",
       "      <td>25</td>\n",
       "      <td>25</td>\n",
       "      <td>0</td>\n",
       "      <td>3.90</td>\n",
       "      <td>3.90</td>\n",
       "      <td>0.0</td>\n",
       "      <td>3.90</td>\n",
       "      <td>391.121433</td>\n",
       "      <td>391.121433</td>\n",
       "      <td>0.0</td>\n",
       "      <td>0.0</td>\n",
       "      <td>69729</td>\n",
       "      <td>71273</td>\n",
       "      <td>1544</td>\n",
       "      <td>226.619250</td>\n",
       "      <td>231.637250</td>\n",
       "      <td>5.018000</td>\n",
       "      <td>159.484183</td>\n",
       "      <td>164.502183</td>\n",
       "      <td>5.018000</td>\n",
       "      <td>147.0</td>\n",
       "      <td>3607.0</td>\n",
       "      <td>3460.0</td>\n",
       "      <td>-12.961933</td>\n",
       "      <td>3447.515817</td>\n",
       "      <td>306.287522</td>\n",
       "      <td>3460.477750</td>\n",
       "      <td>93.0</td>\n",
       "      <td>95.0</td>\n",
       "      <td>2.0</td>\n",
       "      <td>42.0</td>\n",
       "      <td>0.0</td>\n",
       "      <td>0.0</td>\n",
       "      <td>1.0</td>\n",
       "      <td>0.0</td>\n",
       "      <td>0.0</td>\n",
       "      <td>0.0</td>\n",
       "      <td>0.0</td>\n",
       "      <td>0.0</td>\n",
       "      <td>0.0</td>\n",
       "      <td>1.0</td>\n",
       "      <td>0.0</td>\n",
       "      <td>0.0</td>\n",
       "      <td>0.0</td>\n",
       "      <td>0.0</td>\n",
       "      <td>0.0</td>\n",
       "      <td>0.0</td>\n",
       "      <td>0.0</td>\n",
       "      <td>0.0</td>\n",
       "      <td>0.0</td>\n",
       "      <td>0.0</td>\n",
       "      <td>0.0</td>\n",
       "      <td>0.0</td>\n",
       "      <td>0.0</td>\n",
       "      <td>0.0</td>\n",
       "      <td>1.0</td>\n",
       "      <td>0.0</td>\n",
       "      <td>0.0</td>\n",
       "      <td>0.0</td>\n",
       "      <td>0.0</td>\n",
       "      <td>0.0</td>\n",
       "      <td>0.0</td>\n",
       "      <td>0x5A1DD802DAC694B446F8C6161B</td>\n",
       "      <td>93600</td>\n",
       "      <td>1</td>\n",
       "      <td>0</td>\n",
       "      <td>0</td>\n",
       "      <td>0</td>\n",
       "      <td>0</td>\n",
       "      <td>0</td>\n",
       "      <td>1</td>\n",
       "      <td>0</td>\n",
       "      <td>0</td>\n",
       "      <td>0</td>\n",
       "      <td>1.0</td>\n",
       "      <td>1.0</td>\n",
       "      <td>81.180</td>\n",
       "      <td>1487.0</td>\n",
       "      <td>0.0</td>\n",
       "    </tr>\n",
       "    <tr>\n",
       "      <th>2</th>\n",
       "      <td>0x00025DA4C145ED8EBF</td>\n",
       "      <td>0x8C794E5D7336C4FE59B85E4400973723</td>\n",
       "      <td>2022-04-13</td>\n",
       "      <td>54000</td>\n",
       "      <td>54000</td>\n",
       "      <td>0.0</td>\n",
       "      <td>0</td>\n",
       "      <td>3</td>\n",
       "      <td>53248</td>\n",
       "      <td>54000</td>\n",
       "      <td>0</td>\n",
       "      <td>0</td>\n",
       "      <td>3</td>\n",
       "      <td>3</td>\n",
       "      <td>0</td>\n",
       "      <td>0</td>\n",
       "      <td>0</td>\n",
       "      <td>0</td>\n",
       "      <td>3</td>\n",
       "      <td>3</td>\n",
       "      <td>0</td>\n",
       "      <td>0</td>\n",
       "      <td>0</td>\n",
       "      <td>0</td>\n",
       "      <td>3</td>\n",
       "      <td>3</td>\n",
       "      <td>0</td>\n",
       "      <td>0</td>\n",
       "      <td>5.5</td>\n",
       "      <td>5.5</td>\n",
       "      <td>5.5</td>\n",
       "      <td>2033-04-13</td>\n",
       "      <td>2033-04-13</td>\n",
       "      <td>0</td>\n",
       "      <td>0</td>\n",
       "      <td>11</td>\n",
       "      <td>11</td>\n",
       "      <td>0</td>\n",
       "      <td>2.48</td>\n",
       "      <td>2.48</td>\n",
       "      <td>0.0</td>\n",
       "      <td>2.48</td>\n",
       "      <td>467.844781</td>\n",
       "      <td>467.844781</td>\n",
       "      <td>0.0</td>\n",
       "      <td>0.0</td>\n",
       "      <td>53248</td>\n",
       "      <td>54000</td>\n",
       "      <td>752</td>\n",
       "      <td>110.045867</td>\n",
       "      <td>111.600000</td>\n",
       "      <td>1.554133</td>\n",
       "      <td>356.244781</td>\n",
       "      <td>357.798915</td>\n",
       "      <td>1.554133</td>\n",
       "      <td>0.0</td>\n",
       "      <td>398.0</td>\n",
       "      <td>398.0</td>\n",
       "      <td>-356.244781</td>\n",
       "      <td>40.932685</td>\n",
       "      <td>-106.370337</td>\n",
       "      <td>397.177467</td>\n",
       "      <td>99.0</td>\n",
       "      <td>100.0</td>\n",
       "      <td>1.0</td>\n",
       "      <td>13.0</td>\n",
       "      <td>0.0</td>\n",
       "      <td>0.0</td>\n",
       "      <td>0.0</td>\n",
       "      <td>0.0</td>\n",
       "      <td>0.0</td>\n",
       "      <td>0.0</td>\n",
       "      <td>1.0</td>\n",
       "      <td>0.0</td>\n",
       "      <td>0.0</td>\n",
       "      <td>1.0</td>\n",
       "      <td>0.0</td>\n",
       "      <td>0.0</td>\n",
       "      <td>0.0</td>\n",
       "      <td>0.0</td>\n",
       "      <td>0.0</td>\n",
       "      <td>0.0</td>\n",
       "      <td>0.0</td>\n",
       "      <td>0.0</td>\n",
       "      <td>0.0</td>\n",
       "      <td>0.0</td>\n",
       "      <td>0.0</td>\n",
       "      <td>0.0</td>\n",
       "      <td>0.0</td>\n",
       "      <td>0.0</td>\n",
       "      <td>1.0</td>\n",
       "      <td>0.0</td>\n",
       "      <td>0.0</td>\n",
       "      <td>0.0</td>\n",
       "      <td>0.0</td>\n",
       "      <td>0.0</td>\n",
       "      <td>0.0</td>\n",
       "      <td>0xD744613939B2BCC38B45EC917E</td>\n",
       "      <td>80400</td>\n",
       "      <td>1</td>\n",
       "      <td>0</td>\n",
       "      <td>0</td>\n",
       "      <td>0</td>\n",
       "      <td>0</td>\n",
       "      <td>0</td>\n",
       "      <td>0</td>\n",
       "      <td>0</td>\n",
       "      <td>0</td>\n",
       "      <td>1</td>\n",
       "      <td>2.0</td>\n",
       "      <td>1.0</td>\n",
       "      <td>74.904</td>\n",
       "      <td>1663.0</td>\n",
       "      <td>780.0</td>\n",
       "    </tr>\n",
       "    <tr>\n",
       "      <th>3</th>\n",
       "      <td>0x0003C2466FAE7F0BEA</td>\n",
       "      <td>0xAAD9093643AACB7C73D1DAB125D551FE</td>\n",
       "      <td>2018-05-08</td>\n",
       "      <td>93600</td>\n",
       "      <td>93600</td>\n",
       "      <td>0.0</td>\n",
       "      <td>0</td>\n",
       "      <td>44</td>\n",
       "      <td>87324</td>\n",
       "      <td>92598</td>\n",
       "      <td>0</td>\n",
       "      <td>0</td>\n",
       "      <td>44</td>\n",
       "      <td>44</td>\n",
       "      <td>0</td>\n",
       "      <td>0</td>\n",
       "      <td>0</td>\n",
       "      <td>0</td>\n",
       "      <td>44</td>\n",
       "      <td>44</td>\n",
       "      <td>0</td>\n",
       "      <td>0</td>\n",
       "      <td>0</td>\n",
       "      <td>0</td>\n",
       "      <td>44</td>\n",
       "      <td>44</td>\n",
       "      <td>0</td>\n",
       "      <td>0</td>\n",
       "      <td>3.0</td>\n",
       "      <td>6.5</td>\n",
       "      <td>3.5</td>\n",
       "      <td>2053-05-08</td>\n",
       "      <td>2053-05-08</td>\n",
       "      <td>0</td>\n",
       "      <td>0</td>\n",
       "      <td>35</td>\n",
       "      <td>35</td>\n",
       "      <td>0</td>\n",
       "      <td>3.35</td>\n",
       "      <td>3.35</td>\n",
       "      <td>0.0</td>\n",
       "      <td>3.35</td>\n",
       "      <td>378.749527</td>\n",
       "      <td>378.749527</td>\n",
       "      <td>0.0</td>\n",
       "      <td>0.0</td>\n",
       "      <td>87324</td>\n",
       "      <td>92598</td>\n",
       "      <td>5274</td>\n",
       "      <td>243.779500</td>\n",
       "      <td>258.502750</td>\n",
       "      <td>14.723250</td>\n",
       "      <td>120.246777</td>\n",
       "      <td>134.970027</td>\n",
       "      <td>14.723250</td>\n",
       "      <td>0.0</td>\n",
       "      <td>1002.0</td>\n",
       "      <td>1002.0</td>\n",
       "      <td>-133.096819</td>\n",
       "      <td>881.753223</td>\n",
       "      <td>15.045854</td>\n",
       "      <td>1014.850042</td>\n",
       "      <td>93.0</td>\n",
       "      <td>99.0</td>\n",
       "      <td>6.0</td>\n",
       "      <td>11.0</td>\n",
       "      <td>0.0</td>\n",
       "      <td>0.0</td>\n",
       "      <td>1.0</td>\n",
       "      <td>0.0</td>\n",
       "      <td>0.0</td>\n",
       "      <td>0.0</td>\n",
       "      <td>0.0</td>\n",
       "      <td>0.0</td>\n",
       "      <td>0.0</td>\n",
       "      <td>0.0</td>\n",
       "      <td>0.0</td>\n",
       "      <td>0.0</td>\n",
       "      <td>0.0</td>\n",
       "      <td>0.0</td>\n",
       "      <td>0.0</td>\n",
       "      <td>0.0</td>\n",
       "      <td>0.0</td>\n",
       "      <td>1.0</td>\n",
       "      <td>0.0</td>\n",
       "      <td>0.0</td>\n",
       "      <td>0.0</td>\n",
       "      <td>0.0</td>\n",
       "      <td>0.0</td>\n",
       "      <td>0.0</td>\n",
       "      <td>1.0</td>\n",
       "      <td>0.0</td>\n",
       "      <td>0.0</td>\n",
       "      <td>0.0</td>\n",
       "      <td>0.0</td>\n",
       "      <td>0.0</td>\n",
       "      <td>0.0</td>\n",
       "      <td>0x607DA1BAEA089087390CA4010D</td>\n",
       "      <td>211680</td>\n",
       "      <td>1</td>\n",
       "      <td>0</td>\n",
       "      <td>0</td>\n",
       "      <td>0</td>\n",
       "      <td>0</td>\n",
       "      <td>0</td>\n",
       "      <td>0</td>\n",
       "      <td>1</td>\n",
       "      <td>0</td>\n",
       "      <td>0</td>\n",
       "      <td>1.0</td>\n",
       "      <td>1.0</td>\n",
       "      <td>126.360</td>\n",
       "      <td>2443.0</td>\n",
       "      <td>3120.0</td>\n",
       "    </tr>\n",
       "    <tr>\n",
       "      <th>4</th>\n",
       "      <td>0x0004EAC7528D4869C1</td>\n",
       "      <td>0x1DE89AAB80B0FE12FBA0E35F21DDA118</td>\n",
       "      <td>2021-07-07</td>\n",
       "      <td>118320</td>\n",
       "      <td>118320</td>\n",
       "      <td>0.0</td>\n",
       "      <td>0</td>\n",
       "      <td>12</td>\n",
       "      <td>95275</td>\n",
       "      <td>116897</td>\n",
       "      <td>0</td>\n",
       "      <td>0</td>\n",
       "      <td>12</td>\n",
       "      <td>12</td>\n",
       "      <td>0</td>\n",
       "      <td>0</td>\n",
       "      <td>0</td>\n",
       "      <td>0</td>\n",
       "      <td>12</td>\n",
       "      <td>12</td>\n",
       "      <td>0</td>\n",
       "      <td>0</td>\n",
       "      <td>0</td>\n",
       "      <td>0</td>\n",
       "      <td>12</td>\n",
       "      <td>12</td>\n",
       "      <td>0</td>\n",
       "      <td>0</td>\n",
       "      <td>3.0</td>\n",
       "      <td>3.9</td>\n",
       "      <td>3.9</td>\n",
       "      <td>2051-07-07</td>\n",
       "      <td>2051-07-07</td>\n",
       "      <td>0</td>\n",
       "      <td>0</td>\n",
       "      <td>29</td>\n",
       "      <td>29</td>\n",
       "      <td>0</td>\n",
       "      <td>2.49</td>\n",
       "      <td>2.49</td>\n",
       "      <td>0.0</td>\n",
       "      <td>2.49</td>\n",
       "      <td>477.741699</td>\n",
       "      <td>477.741699</td>\n",
       "      <td>0.0</td>\n",
       "      <td>0.0</td>\n",
       "      <td>95275</td>\n",
       "      <td>116897</td>\n",
       "      <td>21622</td>\n",
       "      <td>197.695625</td>\n",
       "      <td>242.561275</td>\n",
       "      <td>44.865650</td>\n",
       "      <td>235.180424</td>\n",
       "      <td>280.046074</td>\n",
       "      <td>44.865650</td>\n",
       "      <td>-21622.0</td>\n",
       "      <td>22149.0</td>\n",
       "      <td>43771.0</td>\n",
       "      <td>-21857.180424</td>\n",
       "      <td>21870.813126</td>\n",
       "      <td>-65.958891</td>\n",
       "      <td>43727.993550</td>\n",
       "      <td>81.0</td>\n",
       "      <td>99.0</td>\n",
       "      <td>18.0</td>\n",
       "      <td>10.0</td>\n",
       "      <td>0.0</td>\n",
       "      <td>0.0</td>\n",
       "      <td>1.0</td>\n",
       "      <td>0.0</td>\n",
       "      <td>0.0</td>\n",
       "      <td>0.0</td>\n",
       "      <td>0.0</td>\n",
       "      <td>0.0</td>\n",
       "      <td>0.0</td>\n",
       "      <td>0.0</td>\n",
       "      <td>0.0</td>\n",
       "      <td>0.0</td>\n",
       "      <td>0.0</td>\n",
       "      <td>0.0</td>\n",
       "      <td>0.0</td>\n",
       "      <td>0.0</td>\n",
       "      <td>0.0</td>\n",
       "      <td>1.0</td>\n",
       "      <td>0.0</td>\n",
       "      <td>0.0</td>\n",
       "      <td>0.0</td>\n",
       "      <td>0.0</td>\n",
       "      <td>0.0</td>\n",
       "      <td>0.0</td>\n",
       "      <td>1.0</td>\n",
       "      <td>0.0</td>\n",
       "      <td>0.0</td>\n",
       "      <td>0.0</td>\n",
       "      <td>0.0</td>\n",
       "      <td>0.0</td>\n",
       "      <td>0.0</td>\n",
       "      <td>0x8A5213E89A803F64601648317B</td>\n",
       "      <td>139200</td>\n",
       "      <td>1</td>\n",
       "      <td>0</td>\n",
       "      <td>0</td>\n",
       "      <td>0</td>\n",
       "      <td>0</td>\n",
       "      <td>0</td>\n",
       "      <td>0</td>\n",
       "      <td>0</td>\n",
       "      <td>1</td>\n",
       "      <td>0</td>\n",
       "      <td>1.0</td>\n",
       "      <td>1.0</td>\n",
       "      <td>69.840</td>\n",
       "      <td>2892.0</td>\n",
       "      <td>3528.0</td>\n",
       "    </tr>\n",
       "  </tbody>\n",
       "</table>\n",
       "</div>"
      ],
      "text/plain": [
       "            customer_id                          account_id  open_date_  \\\n",
       "0  0x000100F424893C746F  0xF7CDAD654B6CE06334F9FE655212AAD1  2017-06-29   \n",
       "1  0x000224F02B4B39DDFE  0x5568E6E4AEB2DF832D6444950125EECB  2016-08-16   \n",
       "2  0x00025DA4C145ED8EBF  0x8C794E5D7336C4FE59B85E4400973723  2022-04-13   \n",
       "3  0x0003C2466FAE7F0BEA  0xAAD9093643AACB7C73D1DAB125D551FE  2018-05-08   \n",
       "4  0x0004EAC7528D4869C1  0x1DE89AAB80B0FE12FBA0E35F21DDA118  2021-07-07   \n",
       "\n",
       "   original_principal_min  original_principal_max  original_principal_std  \\\n",
       "0                   64800                   64800                     0.0   \n",
       "1                   74880                   74880                     0.0   \n",
       "2                   54000                   54000                     0.0   \n",
       "3                   93600                   93600                     0.0   \n",
       "4                  118320                  118320                     0.0   \n",
       "\n",
       "   original_principal_max_minus_min  reporting_date_count  \\\n",
       "0                                 0                    44   \n",
       "1                                 0                    11   \n",
       "2                                 0                     3   \n",
       "3                                 0                    44   \n",
       "4                                 0                    12   \n",
       "\n",
       "   total_cust_exposure_min  total_cust_exposure_max  overdraft_min  \\\n",
       "0                    56155                    63355              0   \n",
       "1                    70449                    72710              0   \n",
       "2                    53248                    54000              0   \n",
       "3                    87324                    92598              0   \n",
       "4                    95275                   116897              0   \n",
       "\n",
       "   overdraft_max  overdraft_size  overdraft_count0  overdraft_count1  \\\n",
       "0              0              44                44                 0   \n",
       "1              0              11                11                 0   \n",
       "2              0               3                 3                 0   \n",
       "3              0              44                44                 0   \n",
       "4              0              12                12                 0   \n",
       "\n",
       "   overdraft_count2plus  consumer_loan_min  consumer_loan_max  \\\n",
       "0                     0                  0                  0   \n",
       "1                     0                  0                  0   \n",
       "2                     0                  0                  0   \n",
       "3                     0                  0                  0   \n",
       "4                     0                  0                  0   \n",
       "\n",
       "   consumer_loan_size  consumer_loan_count0  consumer_loan_count1  \\\n",
       "0                  44                    44                     0   \n",
       "1                  11                    11                     0   \n",
       "2                   3                     3                     0   \n",
       "3                  44                    44                     0   \n",
       "4                  12                    12                     0   \n",
       "\n",
       "   consumer_loan_count2plus  credit_card_min  credit_card_max  \\\n",
       "0                         0                0                0   \n",
       "1                         0                0                0   \n",
       "2                         0                0                0   \n",
       "3                         0                0                0   \n",
       "4                         0                0                0   \n",
       "\n",
       "   credit_card_size  credit_card_count0  credit_card_count1  \\\n",
       "0                44                  44                   0   \n",
       "1                11                  11                   0   \n",
       "2                 3                   3                   0   \n",
       "3                44                  44                   0   \n",
       "4                12                  12                   0   \n",
       "\n",
       "   credit_card_count2plus  customer_rating_min  customer_rating_max  \\\n",
       "0                       0                  3.0                  5.5   \n",
       "1                       0                  4.0                  5.5   \n",
       "2                       0                  5.5                  5.5   \n",
       "3                       0                  3.0                  6.5   \n",
       "4                       0                  3.0                  3.9   \n",
       "\n",
       "   customer_rating_modeX maturity_date_min maturity_date_max  \\\n",
       "0                    3.5        2042-06-29        2042-06-29   \n",
       "1                    4.0        2042-08-16        2042-08-16   \n",
       "2                    5.5        2033-04-13        2033-04-13   \n",
       "3                    3.5        2053-05-08        2053-05-08   \n",
       "4                    3.9        2051-07-07        2051-07-07   \n",
       "\n",
       "   maturity_date_max_minus_min  prepayment_status_unique  l_period_min  \\\n",
       "0                            0                         0            24   \n",
       "1                            0                         1            25   \n",
       "2                            0                         0            11   \n",
       "3                            0                         0            35   \n",
       "4                            0                         0            29   \n",
       "\n",
       "   l_period_max  l_period_max_minus_min  interest_rate_min  interest_rate_max  \\\n",
       "0            24                       0               3.70               3.70   \n",
       "1            25                       0               3.90               3.90   \n",
       "2            11                       0               2.48               2.48   \n",
       "3            35                       0               3.35               3.35   \n",
       "4            29                       0               2.49               2.49   \n",
       "\n",
       "   interest_rate_max_minus_min  interest_rate_modeX  exp_monthly_payments_min  \\\n",
       "0                          0.0                 3.70                339.819283   \n",
       "1                          0.0                 3.90                391.121433   \n",
       "2                          0.0                 2.48                467.844781   \n",
       "3                          0.0                 3.35                378.749527   \n",
       "4                          0.0                 2.49                477.741699   \n",
       "\n",
       "   exp_monthly_payments_max  exp_monthly_payments_std  \\\n",
       "0                339.819283                       0.0   \n",
       "1                391.121433                       0.0   \n",
       "2                467.844781                       0.0   \n",
       "3                378.749527                       0.0   \n",
       "4                477.741699                       0.0   \n",
       "\n",
       "   exp_monthly_payments_max_minus_min  current_principal_min  \\\n",
       "0                                 0.0                  56155   \n",
       "1                                 0.0                  69729   \n",
       "2                                 0.0                  53248   \n",
       "3                                 0.0                  87324   \n",
       "4                                 0.0                  95275   \n",
       "\n",
       "   current_principal_max  current_principal_max_minus_min  \\\n",
       "0                  62342                             6187   \n",
       "1                  71273                             1544   \n",
       "2                  54000                              752   \n",
       "3                  92598                             5274   \n",
       "4                 116897                            21622   \n",
       "\n",
       "   interest_payment_min  interest_payment_max  interest_payment_max_minus_min  \\\n",
       "0            173.144583            192.221167                       19.076583   \n",
       "1            226.619250            231.637250                        5.018000   \n",
       "2            110.045867            111.600000                        1.554133   \n",
       "3            243.779500            258.502750                       14.723250   \n",
       "4            197.695625            242.561275                       44.865650   \n",
       "\n",
       "   principal_payment_min  principal_payment_max  \\\n",
       "0             147.598116             166.674700   \n",
       "1             159.484183             164.502183   \n",
       "2             356.244781             357.798915   \n",
       "3             120.246777             134.970027   \n",
       "4             235.180424             280.046074   \n",
       "\n",
       "   principal_payment_max_minus_min  deducted_principal_min  \\\n",
       "0                        19.076583                     0.0   \n",
       "1                         5.018000                   147.0   \n",
       "2                         1.554133                     0.0   \n",
       "3                        14.723250                     0.0   \n",
       "4                        44.865650                -21622.0   \n",
       "\n",
       "   deducted_principal_max  deducted_principal_max_minus_min  \\\n",
       "0                  2458.0                            2458.0   \n",
       "1                  3607.0                            3460.0   \n",
       "2                   398.0                             398.0   \n",
       "3                  1002.0                            1002.0   \n",
       "4                 22149.0                           43771.0   \n",
       "\n",
       "   deducted_vs_principal_payment_min  deducted_vs_principal_payment_max  \\\n",
       "0                        -164.251200                        2310.401884   \n",
       "1                         -12.961933                        3447.515817   \n",
       "2                        -356.244781                          40.932685   \n",
       "3                        -133.096819                         881.753223   \n",
       "4                      -21857.180424                       21870.813126   \n",
       "\n",
       "   deducted_vs_principal_payment_mean  \\\n",
       "0                           39.390899   \n",
       "1                          306.287522   \n",
       "2                         -106.370337   \n",
       "3                           15.045854   \n",
       "4                          -65.958891   \n",
       "\n",
       "   deducted_vs_principal_payment_max_minus_min  principal_left_pctg_min  \\\n",
       "0                                  2474.653083                     87.0   \n",
       "1                                  3460.477750                     93.0   \n",
       "2                                   397.177467                     99.0   \n",
       "3                                  1014.850042                     93.0   \n",
       "4                                 43727.993550                     81.0   \n",
       "\n",
       "   principal_left_pctg_max  principal_left_pctg_max_minus_min  profession  \\\n",
       "0                     96.0                                9.0        21.0   \n",
       "1                     95.0                                2.0        42.0   \n",
       "2                    100.0                                1.0        13.0   \n",
       "3                     99.0                                6.0        11.0   \n",
       "4                     99.0                               18.0        10.0   \n",
       "\n",
       "   maritial_status_A49  maritial_status_I63  maritial_status_K16  \\\n",
       "0                  1.0                  0.0                  0.0   \n",
       "1                  0.0                  0.0                  1.0   \n",
       "2                  0.0                  0.0                  0.0   \n",
       "3                  0.0                  0.0                  1.0   \n",
       "4                  0.0                  0.0                  1.0   \n",
       "\n",
       "   maritial_status_M45  maritial_status_O32  maritial_status_Q37  \\\n",
       "0                  0.0                  0.0                  0.0   \n",
       "1                  0.0                  0.0                  0.0   \n",
       "2                  0.0                  0.0                  0.0   \n",
       "3                  0.0                  0.0                  0.0   \n",
       "4                  0.0                  0.0                  0.0   \n",
       "\n",
       "   maritial_status_U67  age_A788  age_F953  age_G219  age_H294  age_J454  \\\n",
       "0                  0.0       0.0       0.0       0.0       0.0       0.0   \n",
       "1                  0.0       0.0       0.0       1.0       0.0       0.0   \n",
       "2                  1.0       0.0       0.0       1.0       0.0       0.0   \n",
       "3                  0.0       0.0       0.0       0.0       0.0       0.0   \n",
       "4                  0.0       0.0       0.0       0.0       0.0       0.0   \n",
       "\n",
       "   age_M764  age_O456  age_P508  age_Q251  age_S205  age_T555  age_W677  \\\n",
       "0       0.0       0.0       0.0       1.0       0.0       0.0       0.0   \n",
       "1       0.0       0.0       0.0       0.0       0.0       0.0       0.0   \n",
       "2       0.0       0.0       0.0       0.0       0.0       0.0       0.0   \n",
       "3       0.0       0.0       0.0       0.0       0.0       1.0       0.0   \n",
       "4       0.0       0.0       0.0       0.0       0.0       1.0       0.0   \n",
       "\n",
       "   age_X693  age_Z829  empl_type_A350  empl_type_C288  empl_type_H787  \\\n",
       "0       0.0       0.0             0.0             0.0             0.0   \n",
       "1       0.0       0.0             0.0             0.0             0.0   \n",
       "2       0.0       0.0             0.0             0.0             0.0   \n",
       "3       0.0       0.0             0.0             0.0             0.0   \n",
       "4       0.0       0.0             0.0             0.0             0.0   \n",
       "\n",
       "   empl_type_I508  empl_type_L320  empl_type_P115  empl_type_Q237  \\\n",
       "0             1.0             0.0             0.0             0.0   \n",
       "1             1.0             0.0             0.0             0.0   \n",
       "2             1.0             0.0             0.0             0.0   \n",
       "3             1.0             0.0             0.0             0.0   \n",
       "4             1.0             0.0             0.0             0.0   \n",
       "\n",
       "   empl_type_R412  empl_type_U768  empl_type_Y735  \\\n",
       "0             0.0             0.0             0.0   \n",
       "1             0.0             0.0             0.0   \n",
       "2             0.0             0.0             0.0   \n",
       "3             0.0             0.0             0.0   \n",
       "4             0.0             0.0             0.0   \n",
       "\n",
       "                  collateral_id  market_value  collateral_type_M100  \\\n",
       "0  0xA1224902A54E10483EBEEFC973         72360                     1   \n",
       "1  0x5A1DD802DAC694B446F8C6161B         93600                     1   \n",
       "2  0xD744613939B2BCC38B45EC917E         80400                     1   \n",
       "3  0x607DA1BAEA089087390CA4010D        211680                     1   \n",
       "4  0x8A5213E89A803F64601648317B        139200                     1   \n",
       "\n",
       "   collateral_type_M101  collateral_type_M102  collateral_type_M103  \\\n",
       "0                     0                     0                     0   \n",
       "1                     0                     0                     0   \n",
       "2                     0                     0                     0   \n",
       "3                     0                     0                     0   \n",
       "4                     0                     0                     0   \n",
       "\n",
       "   collateral_type_M104  collateral_type_M105  town_Big  town_Capital  \\\n",
       "0                     0                     0         0             0   \n",
       "1                     0                     0         1             0   \n",
       "2                     0                     0         0             0   \n",
       "3                     0                     0         0             1   \n",
       "4                     0                     0         0             0   \n",
       "\n",
       "   town_Major  town_Medium_Size  building_type_full  \\\n",
       "0           0                 1                 1.0   \n",
       "1           0                 0                 1.0   \n",
       "2           0                 1                 2.0   \n",
       "3           0                 0                 1.0   \n",
       "4           1                 0                 1.0   \n",
       "\n",
       "   mortgage_utilisation_full  area_full  tot_mnth_income_full  \\\n",
       "0                        1.0     47.568                 660.0   \n",
       "1                        1.0     81.180                1487.0   \n",
       "2                        1.0     74.904                1663.0   \n",
       "3                        1.0    126.360                2443.0   \n",
       "4                        1.0     69.840                2892.0   \n",
       "\n",
       "   gross_salary_full  \n",
       "0              888.0  \n",
       "1                0.0  \n",
       "2              780.0  \n",
       "3             3120.0  \n",
       "4             3528.0  "
      ]
     },
     "execution_count": 279,
     "metadata": {},
     "output_type": "execute_result"
    }
   ],
   "source": [
    "all_files.head()"
   ]
  },
  {
   "cell_type": "code",
   "execution_count": 280,
   "id": "31349921",
   "metadata": {
    "ExecuteTime": {
     "end_time": "2022-09-01T20:47:08.686007Z",
     "start_time": "2022-09-01T20:36:22.054983Z"
    }
   },
   "outputs": [
    {
     "name": "stdout",
     "output_type": "stream",
     "text": [
      "Column:  profession\n",
      "SCALING THE DATA...\n",
      "FITTING MODEL...\n",
      "COLUMN SUCCESSFULLY PROCESSED\n",
      "\n",
      "Column:  maritial_status_A49\n",
      "SCALING THE DATA...\n",
      "FITTING MODEL...\n",
      "COLUMN SUCCESSFULLY PROCESSED\n",
      "\n",
      "Column:  maritial_status_I63\n",
      "SCALING THE DATA...\n",
      "FITTING MODEL...\n",
      "COLUMN SUCCESSFULLY PROCESSED\n",
      "\n",
      "Column:  maritial_status_K16\n",
      "SCALING THE DATA...\n",
      "FITTING MODEL...\n",
      "COLUMN SUCCESSFULLY PROCESSED\n",
      "\n",
      "Column:  maritial_status_M45\n",
      "SCALING THE DATA...\n",
      "FITTING MODEL...\n",
      "COLUMN SUCCESSFULLY PROCESSED\n",
      "\n",
      "Column:  maritial_status_O32\n",
      "SCALING THE DATA...\n",
      "FITTING MODEL...\n",
      "COLUMN SUCCESSFULLY PROCESSED\n",
      "\n",
      "Column:  maritial_status_Q37\n",
      "SCALING THE DATA...\n",
      "FITTING MODEL...\n",
      "COLUMN SUCCESSFULLY PROCESSED\n",
      "\n",
      "Column:  maritial_status_U67\n",
      "SCALING THE DATA...\n",
      "FITTING MODEL...\n",
      "COLUMN SUCCESSFULLY PROCESSED\n",
      "\n",
      "Column:  age_A788\n",
      "SCALING THE DATA...\n",
      "FITTING MODEL...\n",
      "COLUMN SUCCESSFULLY PROCESSED\n",
      "\n",
      "Column:  age_F953\n",
      "SCALING THE DATA...\n",
      "FITTING MODEL...\n",
      "COLUMN SUCCESSFULLY PROCESSED\n",
      "\n",
      "Column:  age_G219\n",
      "SCALING THE DATA...\n",
      "FITTING MODEL...\n",
      "COLUMN SUCCESSFULLY PROCESSED\n",
      "\n",
      "Column:  age_H294\n",
      "SCALING THE DATA...\n",
      "FITTING MODEL...\n",
      "COLUMN SUCCESSFULLY PROCESSED\n",
      "\n",
      "Column:  age_J454\n",
      "SCALING THE DATA...\n",
      "FITTING MODEL...\n",
      "COLUMN SUCCESSFULLY PROCESSED\n",
      "\n",
      "Column:  age_M764\n",
      "SCALING THE DATA...\n",
      "FITTING MODEL...\n",
      "COLUMN SUCCESSFULLY PROCESSED\n",
      "\n",
      "Column:  age_O456\n",
      "SCALING THE DATA...\n",
      "FITTING MODEL...\n",
      "COLUMN SUCCESSFULLY PROCESSED\n",
      "\n",
      "Column:  age_P508\n",
      "SCALING THE DATA...\n",
      "FITTING MODEL...\n",
      "COLUMN SUCCESSFULLY PROCESSED\n",
      "\n",
      "Column:  age_Q251\n",
      "SCALING THE DATA...\n",
      "FITTING MODEL...\n",
      "COLUMN SUCCESSFULLY PROCESSED\n",
      "\n",
      "Column:  age_S205\n",
      "SCALING THE DATA...\n",
      "FITTING MODEL...\n",
      "COLUMN SUCCESSFULLY PROCESSED\n",
      "\n",
      "Column:  age_T555\n",
      "SCALING THE DATA...\n",
      "FITTING MODEL...\n",
      "COLUMN SUCCESSFULLY PROCESSED\n",
      "\n",
      "Column:  age_W677\n",
      "SCALING THE DATA...\n",
      "FITTING MODEL...\n",
      "COLUMN SUCCESSFULLY PROCESSED\n",
      "\n",
      "Column:  age_X693\n",
      "SCALING THE DATA...\n",
      "FITTING MODEL...\n",
      "COLUMN SUCCESSFULLY PROCESSED\n",
      "\n",
      "Column:  age_Z829\n",
      "SCALING THE DATA...\n",
      "FITTING MODEL...\n",
      "COLUMN SUCCESSFULLY PROCESSED\n",
      "\n",
      "Column:  empl_type_A350\n",
      "SCALING THE DATA...\n",
      "FITTING MODEL...\n",
      "COLUMN SUCCESSFULLY PROCESSED\n",
      "\n",
      "Column:  empl_type_C288\n",
      "SCALING THE DATA...\n",
      "FITTING MODEL...\n",
      "COLUMN SUCCESSFULLY PROCESSED\n",
      "\n",
      "Column:  empl_type_H787\n",
      "SCALING THE DATA...\n",
      "FITTING MODEL...\n",
      "COLUMN SUCCESSFULLY PROCESSED\n",
      "\n",
      "Column:  empl_type_I508\n",
      "SCALING THE DATA...\n",
      "FITTING MODEL...\n",
      "COLUMN SUCCESSFULLY PROCESSED\n",
      "\n",
      "Column:  empl_type_L320\n",
      "SCALING THE DATA...\n",
      "FITTING MODEL...\n",
      "COLUMN SUCCESSFULLY PROCESSED\n",
      "\n",
      "Column:  empl_type_P115\n",
      "SCALING THE DATA...\n",
      "FITTING MODEL...\n",
      "COLUMN SUCCESSFULLY PROCESSED\n",
      "\n",
      "Column:  empl_type_Q237\n",
      "SCALING THE DATA...\n",
      "FITTING MODEL...\n",
      "COLUMN SUCCESSFULLY PROCESSED\n",
      "\n",
      "Column:  empl_type_R412\n",
      "SCALING THE DATA...\n",
      "FITTING MODEL...\n",
      "COLUMN SUCCESSFULLY PROCESSED\n",
      "\n",
      "Column:  empl_type_U768\n",
      "SCALING THE DATA...\n",
      "FITTING MODEL...\n",
      "COLUMN SUCCESSFULLY PROCESSED\n",
      "\n",
      "Column:  empl_type_Y735\n",
      "SCALING THE DATA...\n",
      "FITTING MODEL...\n",
      "COLUMN SUCCESSFULLY PROCESSED\n",
      "\n"
     ]
    }
   ],
   "source": [
    "model = RandomForestClassifier()\n",
    "\n",
    "\n",
    "\n",
    "for col in cols_to_fill_classifier:\n",
    "    \n",
    "    feature_fill(df=all_files, features_pred_list=predictors_list, target_col=col, model=model)"
   ]
  },
  {
   "cell_type": "code",
   "execution_count": null,
   "id": "807a28ad",
   "metadata": {},
   "outputs": [],
   "source": []
  },
  {
   "cell_type": "markdown",
   "id": "ae2d97a7",
   "metadata": {},
   "source": [
    "## Add New Cols"
   ]
  },
  {
   "cell_type": "code",
   "execution_count": 281,
   "id": "763a69d9",
   "metadata": {
    "ExecuteTime": {
     "end_time": "2022-09-01T20:47:08.717723Z",
     "start_time": "2022-09-01T20:47:08.690014Z"
    }
   },
   "outputs": [],
   "source": [
    "all_files[\"salary_principal_ratio\"] = all_files[\"gross_salary_full\"] / all_files[\"current_principal_max\"]\n",
    "all_files[\"salary_total_cust_exposure_ratio\"] = all_files[\"gross_salary_full\"] / all_files[\"total_cust_exposure_max\"]\n",
    "\n",
    "all_files[\"tot_income_principal_ratio\"] = all_files[\"tot_mnth_income_full\"] / all_files[\"current_principal_max\"]\n",
    "all_files[\"tot_income_cust_exposure_ratio\"] = all_files[\"tot_mnth_income_full\"] / all_files[\"total_cust_exposure_max\"]\n",
    "\n",
    "all_files[\"salary_tot_income_ratio\"] = all_files[\"gross_salary_full\"] / all_files[\"total_cust_exposure_max\"]\n"
   ]
  },
  {
   "cell_type": "markdown",
   "id": "e4b3b2e5",
   "metadata": {},
   "source": [
    "## Save the data"
   ]
  },
  {
   "cell_type": "code",
   "execution_count": 282,
   "id": "6418a1be",
   "metadata": {
    "ExecuteTime": {
     "end_time": "2022-09-01T20:47:12.451792Z",
     "start_time": "2022-09-01T20:47:08.721272Z"
    }
   },
   "outputs": [],
   "source": [
    "all_files.to_csv(\"all_files_v2__.csv\")"
   ]
  },
  {
   "cell_type": "code",
   "execution_count": 283,
   "id": "49a68133",
   "metadata": {
    "ExecuteTime": {
     "end_time": "2022-09-01T20:47:12.483047Z",
     "start_time": "2022-09-01T20:47:12.455767Z"
    }
   },
   "outputs": [
    {
     "data": {
      "text/plain": [
       "(40602, 119)"
      ]
     },
     "execution_count": 283,
     "metadata": {},
     "output_type": "execute_result"
    }
   ],
   "source": [
    "all_files.shape"
   ]
  },
  {
   "cell_type": "code",
   "execution_count": 284,
   "id": "3742e036",
   "metadata": {
    "ExecuteTime": {
     "end_time": "2022-09-01T20:47:12.547072Z",
     "start_time": "2022-09-01T20:47:12.487339Z"
    }
   },
   "outputs": [],
   "source": [
    "sample_all = all_files.sample(frac=0.33, replace=False, random_state=1)"
   ]
  },
  {
   "cell_type": "code",
   "execution_count": 285,
   "id": "ec25fbeb",
   "metadata": {
    "ExecuteTime": {
     "end_time": "2022-09-01T20:47:13.792893Z",
     "start_time": "2022-09-01T20:47:12.551052Z"
    }
   },
   "outputs": [],
   "source": [
    "sample_all.to_csv(\"sample_all_v2__.csv\")"
   ]
  },
  {
   "cell_type": "code",
   "execution_count": null,
   "id": "5ddafca8",
   "metadata": {},
   "outputs": [],
   "source": []
  }
 ],
 "metadata": {
  "kernelspec": {
   "display_name": "Python [conda env:.conda-ss2022]",
   "language": "python",
   "name": "conda-env-.conda-ss2022-py"
  },
  "language_info": {
   "codemirror_mode": {
    "name": "ipython",
    "version": 3
   },
   "file_extension": ".py",
   "mimetype": "text/x-python",
   "name": "python",
   "nbconvert_exporter": "python",
   "pygments_lexer": "ipython3",
   "version": "3.10.6"
  },
  "latex_envs": {
   "LaTeX_envs_menu_present": true,
   "autoclose": false,
   "autocomplete": true,
   "bibliofile": "biblio.bib",
   "cite_by": "apalike",
   "current_citInitial": 1,
   "eqLabelWithNumbers": true,
   "eqNumInitial": 1,
   "hotkeys": {
    "equation": "Ctrl-E",
    "itemize": "Ctrl-I"
   },
   "labels_anchors": false,
   "latex_user_defs": false,
   "report_style_numbering": false,
   "user_envs_cfg": false
  },
  "toc": {
   "base_numbering": 1,
   "nav_menu": {},
   "number_sections": true,
   "sideBar": true,
   "skip_h1_title": false,
   "title_cell": "Table of Contents",
   "title_sidebar": "Contents",
   "toc_cell": false,
   "toc_position": {
    "height": "calc(100% - 180px)",
    "left": "10px",
    "top": "150px",
    "width": "339.2px"
   },
   "toc_section_display": true,
   "toc_window_display": true
  },
  "varInspector": {
   "cols": {
    "lenName": 16,
    "lenType": 16,
    "lenVar": 40
   },
   "kernels_config": {
    "python": {
     "delete_cmd_postfix": "",
     "delete_cmd_prefix": "del ",
     "library": "var_list.py",
     "varRefreshCmd": "print(var_dic_list())"
    },
    "r": {
     "delete_cmd_postfix": ") ",
     "delete_cmd_prefix": "rm(",
     "library": "var_list.r",
     "varRefreshCmd": "cat(var_dic_list()) "
    }
   },
   "oldHeight": 230.08333399999998,
   "position": {
    "height": "40px",
    "left": "1426px",
    "right": "20px",
    "top": "120px",
    "width": "250px"
   },
   "types_to_exclude": [
    "module",
    "function",
    "builtin_function_or_method",
    "instance",
    "_Feature"
   ],
   "varInspector_section_display": "none",
   "window_display": false
  }
 },
 "nbformat": 4,
 "nbformat_minor": 5
}
