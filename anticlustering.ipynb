{
 "cells": [
  {
   "cell_type": "code",
   "execution_count": 60,
   "metadata": {
    "ExecuteTime": {
     "end_time": "2022-08-25T07:51:25.656936Z",
     "start_time": "2022-08-25T07:49:08.507Z"
    }
   },
   "outputs": [
    {
     "name": "stderr",
     "output_type": "stream",
     "text": [
      "Installing package into 'C:/Users/Junior/Documents/R/win-library/3.6'\n",
      "(as 'lib' is unspecified)\n",
      "also installing the dependencies 'glue', 'fs', 'rappdirs', 'lifecycle', 'cli', 'gargle', 'googledrive', 'ids', 'rematch2', 'rlang', 'vctrs'\n",
      "\n"
     ]
    },
    {
     "name": "stdout",
     "output_type": "stream",
     "text": [
      "\n",
      "  There are binary versions available but the source versions are later:\n",
      "              binary source needs_compilation\n",
      "glue           1.4.2  1.6.2              TRUE\n",
      "fs             1.5.0  1.5.2              TRUE\n",
      "lifecycle      1.0.0  1.0.1             FALSE\n",
      "cli            2.5.0  3.3.0              TRUE\n",
      "gargle         1.1.0  1.2.0             FALSE\n",
      "googledrive    1.0.1  2.0.0             FALSE\n",
      "rlang         0.4.11  1.0.4              TRUE\n",
      "vctrs          0.3.8  0.4.1              TRUE\n",
      "googlesheets4  0.3.0  1.0.1             FALSE\n",
      "\n",
      "package 'rappdirs' successfully unpacked and MD5 sums checked\n",
      "package 'ids' successfully unpacked and MD5 sums checked\n",
      "package 'rematch2' successfully unpacked and MD5 sums checked\n",
      "\n",
      "The downloaded binary packages are in\n",
      "\tC:\\Users\\Junior\\AppData\\Local\\Temp\\RtmpGYRYG3\\downloaded_packages\n"
     ]
    },
    {
     "name": "stderr",
     "output_type": "stream",
     "text": [
      "installing the source packages 'glue', 'fs', 'lifecycle', 'cli', 'gargle', 'googledrive', 'rlang', 'vctrs', 'googlesheets4'\n",
      "\n"
     ]
    }
   ],
   "source": [
    "install.packages(\"anticlust\")"
   ]
  },
  {
   "cell_type": "code",
   "execution_count": 62,
   "metadata": {
    "ExecuteTime": {
     "end_time": "2022-08-25T07:51:34.912451Z",
     "start_time": "2022-08-25T07:51:34.531Z"
    }
   },
   "outputs": [],
   "source": [
    "library(\"anticlust\")"
   ]
  },
  {
   "cell_type": "code",
   "execution_count": 11,
   "metadata": {
    "ExecuteTime": {
     "end_time": "2022-08-25T07:23:08.417667Z",
     "start_time": "2022-08-25T07:23:08.385Z"
    }
   },
   "outputs": [
    {
     "data": {
      "text/html": [
       "<table>\n",
       "<thead><tr><th scope=col>id</th><th scope=col>flag_edu</th><th scope=col>flag_uni</th><th scope=col>flag_personal</th><th scope=col>flag_tech</th><th scope=col>flag_topic</th></tr></thead>\n",
       "<tbody>\n",
       "\t<tr><td> 1</td><td>1 </td><td>1 </td><td>1 </td><td>1 </td><td>1 </td></tr>\n",
       "\t<tr><td> 2</td><td>1 </td><td>2 </td><td>2 </td><td>1 </td><td>1 </td></tr>\n",
       "\t<tr><td> 3</td><td>1 </td><td>1 </td><td>2 </td><td>1 </td><td>1 </td></tr>\n",
       "\t<tr><td> 4</td><td>1 </td><td>4 </td><td>1 </td><td>2 </td><td>2 </td></tr>\n",
       "\t<tr><td> 5</td><td>2 </td><td>3 </td><td>2 </td><td>1 </td><td>1 </td></tr>\n",
       "\t<tr><td> 6</td><td>2 </td><td>2 </td><td>1 </td><td>1 </td><td>3 </td></tr>\n",
       "\t<tr><td> 7</td><td>1 </td><td>4 </td><td>1 </td><td>1 </td><td>2 </td></tr>\n",
       "\t<tr><td> 8</td><td>2 </td><td>3 </td><td>1 </td><td>1 </td><td>2 </td></tr>\n",
       "\t<tr><td> 9</td><td>1 </td><td>2 </td><td>2 </td><td>2 </td><td>2 </td></tr>\n",
       "\t<tr><td>10</td><td>1 </td><td>2 </td><td>2 </td><td>2 </td><td>3 </td></tr>\n",
       "\t<tr><td>11</td><td>1 </td><td>4 </td><td>1 </td><td>2 </td><td>2 </td></tr>\n",
       "\t<tr><td>12</td><td>2 </td><td>2 </td><td>1 </td><td>1 </td><td>2 </td></tr>\n",
       "\t<tr><td>13</td><td>1 </td><td>1 </td><td>2 </td><td>1 </td><td>1 </td></tr>\n",
       "\t<tr><td>14</td><td>2 </td><td>1 </td><td>1 </td><td>1 </td><td>1 </td></tr>\n",
       "\t<tr><td>15</td><td>1 </td><td>4 </td><td>2 </td><td>1 </td><td>3 </td></tr>\n",
       "</tbody>\n",
       "</table>\n"
      ],
      "text/latex": [
       "\\begin{tabular}{r|llllll}\n",
       " id & flag\\_edu & flag\\_uni & flag\\_personal & flag\\_tech & flag\\_topic\\\\\n",
       "\\hline\n",
       "\t  1 & 1  & 1  & 1  & 1  & 1 \\\\\n",
       "\t  2 & 1  & 2  & 2  & 1  & 1 \\\\\n",
       "\t  3 & 1  & 1  & 2  & 1  & 1 \\\\\n",
       "\t  4 & 1  & 4  & 1  & 2  & 2 \\\\\n",
       "\t  5 & 2  & 3  & 2  & 1  & 1 \\\\\n",
       "\t  6 & 2  & 2  & 1  & 1  & 3 \\\\\n",
       "\t  7 & 1  & 4  & 1  & 1  & 2 \\\\\n",
       "\t  8 & 2  & 3  & 1  & 1  & 2 \\\\\n",
       "\t  9 & 1  & 2  & 2  & 2  & 2 \\\\\n",
       "\t 10 & 1  & 2  & 2  & 2  & 3 \\\\\n",
       "\t 11 & 1  & 4  & 1  & 2  & 2 \\\\\n",
       "\t 12 & 2  & 2  & 1  & 1  & 2 \\\\\n",
       "\t 13 & 1  & 1  & 2  & 1  & 1 \\\\\n",
       "\t 14 & 2  & 1  & 1  & 1  & 1 \\\\\n",
       "\t 15 & 1  & 4  & 2  & 1  & 3 \\\\\n",
       "\\end{tabular}\n"
      ],
      "text/markdown": [
       "\n",
       "| id | flag_edu | flag_uni | flag_personal | flag_tech | flag_topic |\n",
       "|---|---|---|---|---|---|\n",
       "|  1 | 1  | 1  | 1  | 1  | 1  |\n",
       "|  2 | 1  | 2  | 2  | 1  | 1  |\n",
       "|  3 | 1  | 1  | 2  | 1  | 1  |\n",
       "|  4 | 1  | 4  | 1  | 2  | 2  |\n",
       "|  5 | 2  | 3  | 2  | 1  | 1  |\n",
       "|  6 | 2  | 2  | 1  | 1  | 3  |\n",
       "|  7 | 1  | 4  | 1  | 1  | 2  |\n",
       "|  8 | 2  | 3  | 1  | 1  | 2  |\n",
       "|  9 | 1  | 2  | 2  | 2  | 2  |\n",
       "| 10 | 1  | 2  | 2  | 2  | 3  |\n",
       "| 11 | 1  | 4  | 1  | 2  | 2  |\n",
       "| 12 | 2  | 2  | 1  | 1  | 2  |\n",
       "| 13 | 1  | 1  | 2  | 1  | 1  |\n",
       "| 14 | 2  | 1  | 1  | 1  | 1  |\n",
       "| 15 | 1  | 4  | 2  | 1  | 3  |\n",
       "\n"
      ],
      "text/plain": [
       "   id flag_edu flag_uni flag_personal flag_tech flag_topic\n",
       "1   1 1        1        1             1         1         \n",
       "2   2 1        2        2             1         1         \n",
       "3   3 1        1        2             1         1         \n",
       "4   4 1        4        1             2         2         \n",
       "5   5 2        3        2             1         1         \n",
       "6   6 2        2        1             1         3         \n",
       "7   7 1        4        1             1         2         \n",
       "8   8 2        3        1             1         2         \n",
       "9   9 1        2        2             2         2         \n",
       "10 10 1        2        2             2         3         \n",
       "11 11 1        4        1             2         2         \n",
       "12 12 2        2        1             1         2         \n",
       "13 13 1        1        2             1         1         \n",
       "14 14 2        1        1             1         1         \n",
       "15 15 1        4        2             1         3         "
      ]
     },
     "metadata": {},
     "output_type": "display_data"
    }
   ],
   "source": [
    "summer_school_part <- read.csv(\"C:\\\\Users\\\\Junior\\\\anaconda_projects\\\\R-tutorial\\\\sumschopart.csv\", header=TRUE, sep = ',')\n",
    "summer_school_part"
   ]
  },
  {
   "cell_type": "code",
   "execution_count": 70,
   "metadata": {
    "ExecuteTime": {
     "end_time": "2022-08-25T07:58:17.769221Z",
     "start_time": "2022-08-25T07:58:17.714Z"
    }
   },
   "outputs": [
    {
     "data": {
      "text/html": [
       "<ol class=list-inline>\n",
       "\t<li>1</li>\n",
       "\t<li>3</li>\n",
       "\t<li>2</li>\n",
       "\t<li>2</li>\n",
       "\t<li>2</li>\n",
       "\t<li>2</li>\n",
       "\t<li>3</li>\n",
       "\t<li>1</li>\n",
       "\t<li>1</li>\n",
       "\t<li>3</li>\n",
       "\t<li>4</li>\n",
       "\t<li>4</li>\n",
       "\t<li>4</li>\n",
       "\t<li>3</li>\n",
       "\t<li>1</li>\n",
       "</ol>\n"
      ],
      "text/latex": [
       "\\begin{enumerate*}\n",
       "\\item 1\n",
       "\\item 3\n",
       "\\item 2\n",
       "\\item 2\n",
       "\\item 2\n",
       "\\item 2\n",
       "\\item 3\n",
       "\\item 1\n",
       "\\item 1\n",
       "\\item 3\n",
       "\\item 4\n",
       "\\item 4\n",
       "\\item 4\n",
       "\\item 3\n",
       "\\item 1\n",
       "\\end{enumerate*}\n"
      ],
      "text/markdown": [
       "1. 1\n",
       "2. 3\n",
       "3. 2\n",
       "4. 2\n",
       "5. 2\n",
       "6. 2\n",
       "7. 3\n",
       "8. 1\n",
       "9. 1\n",
       "10. 3\n",
       "11. 4\n",
       "12. 4\n",
       "13. 4\n",
       "14. 3\n",
       "15. 1\n",
       "\n",
       "\n"
      ],
      "text/plain": [
       " [1] 1 3 2 2 2 2 3 1 1 3 4 4 4 3 1"
      ]
     },
     "metadata": {},
     "output_type": "display_data"
    }
   ],
   "source": [
    "anticlusters<-anticlustering(\n",
    "  summer_school_part[,2:6],\n",
    "  4,\n",
    "  objective = \"diversity\",\n",
    "  method = \"local-maximum\",\n",
    "  preclustering = FALSE,\n",
    "  categories = NULL,\n",
    "  repetitions = 10,\n",
    "  standardize = FALSE\n",
    ")\n",
    "anticlusters"
   ]
  },
  {
   "cell_type": "code",
   "execution_count": 71,
   "metadata": {
    "ExecuteTime": {
     "end_time": "2022-08-25T07:58:22.848056Z",
     "start_time": "2022-08-25T07:58:22.818Z"
    }
   },
   "outputs": [
    {
     "data": {
      "text/plain": [
       "anticlusters: 1\n",
       "     flag_edu      flag_uni flag_personal     flag_tech    flag_topic \n",
       "         1.25          2.50          1.50          1.25          2.00 \n",
       "------------------------------------------------------------ \n",
       "anticlusters: 2\n",
       "     flag_edu      flag_uni flag_personal     flag_tech    flag_topic \n",
       "         1.50          2.50          1.50          1.25          1.75 \n",
       "------------------------------------------------------------ \n",
       "anticlusters: 3\n",
       "     flag_edu      flag_uni flag_personal     flag_tech    flag_topic \n",
       "         1.25          2.25          1.50          1.25          1.75 \n",
       "------------------------------------------------------------ \n",
       "anticlusters: 4\n",
       "     flag_edu      flag_uni flag_personal     flag_tech    flag_topic \n",
       "         1.33          2.33          1.33          1.33          1.67 "
      ]
     },
     "metadata": {},
     "output_type": "display_data"
    }
   ],
   "source": [
    "by(summer_school_part[,2:6], anticlusters, function(x) round(colMeans(x), 2))"
   ]
  },
  {
   "cell_type": "code",
   "execution_count": 72,
   "metadata": {
    "ExecuteTime": {
     "end_time": "2022-08-25T07:58:23.487018Z",
     "start_time": "2022-08-25T07:58:23.467Z"
    }
   },
   "outputs": [
    {
     "data": {
      "text/plain": [
       "            \n",
       "anticlusters 1 2 3 4\n",
       "           1 1 1 1 1\n",
       "           2 1 1 1 1\n",
       "           3 1 2 0 1\n",
       "           4 1 1 0 1"
      ]
     },
     "metadata": {},
     "output_type": "display_data"
    }
   ],
   "source": [
    "table(anticlusters, summer_school_part$flag_uni)"
   ]
  },
  {
   "cell_type": "code",
   "execution_count": 53,
   "metadata": {
    "ExecuteTime": {
     "end_time": "2022-08-25T07:46:01.521107Z",
     "start_time": "2022-08-25T07:46:01.474Z"
    }
   },
   "outputs": [
    {
     "data": {
      "image/png": "[encoded data removed]",
      "text/plain": [
       "Plot with title \"\""
      ]
     },
     "metadata": {},
     "output_type": "display_data"
    }
   ],
   "source": [
    "plot_clusters(summer_school_part[,c(3,6) ], clusters = anticlusters, show_axes = TRUE)"
   ]
  },
  {
   "cell_type": "code",
   "execution_count": 55,
   "metadata": {
    "ExecuteTime": {
     "end_time": "2022-08-25T07:46:59.447238Z",
     "start_time": "2022-08-25T07:46:59.426Z"
    }
   },
   "outputs": [
    {
     "data": {
      "text/html": [
       "'numeric'"
      ],
      "text/latex": [
       "'numeric'"
      ],
      "text/markdown": [
       "'numeric'"
      ],
      "text/plain": [
       "[1] \"numeric\""
      ]
     },
     "metadata": {},
     "output_type": "display_data"
    }
   ],
   "source": [
    "class(anticlusters)"
   ]
  },
  {
   "cell_type": "code",
   "execution_count": null,
   "metadata": {},
   "outputs": [],
   "source": []
  }
 ],
 "metadata": {
  "hide_input": false,
  "kernelspec": {
   "display_name": "R",
   "language": "R",
   "name": "ir"
  },
  "language_info": {
   "codemirror_mode": "r",
   "file_extension": ".r",
   "mimetype": "text/x-r-source",
   "name": "R",
   "pygments_lexer": "r",
   "version": "3.6.1"
  },
  "latex_envs": {
   "LaTeX_envs_menu_present": true,
   "autoclose": false,
   "autocomplete": true,
   "bibliofile": "biblio.bib",
   "cite_by": "apalike",
   "current_citInitial": 1,
   "eqLabelWithNumbers": true,
   "eqNumInitial": 1,
   "hotkeys": {
    "equation": "Ctrl-E",
    "itemize": "Ctrl-I"
   },
   "labels_anchors": false,
   "latex_user_defs": false,
   "report_style_numbering": false,
   "user_envs_cfg": false
  },
  "nbTranslate": {
   "displayLangs": [
    "*"
   ],
   "hotkey": "alt-t",
   "langInMainMenu": true,
   "sourceLang": "en",
   "targetLang": "fr",
   "useGoogleTranslate": true
  },
  "toc": {
   "base_numbering": 1,
   "nav_menu": {},
   "number_sections": true,
   "sideBar": true,
   "skip_h1_title": false,
   "title_cell": "Table of Contents",
   "title_sidebar": "Contents",
   "toc_cell": false,
   "toc_position": {},
   "toc_section_display": true,
   "toc_window_display": false
  },
  "varInspector": {
   "cols": {
    "lenName": 16,
    "lenType": 16,
    "lenVar": 40
   },
   "kernels_config": {
    "python": {
     "delete_cmd_postfix": "",
     "delete_cmd_prefix": "del ",
     "library": "var_list.py",
     "varRefreshCmd": "print(var_dic_list())"
    },
    "r": {
     "delete_cmd_postfix": ") ",
     "delete_cmd_prefix": "rm(",
     "library": "var_list.r",
     "varRefreshCmd": "cat(var_dic_list()) "
    }
   },
   "types_to_exclude": [
    "module",
    "function",
    "builtin_function_or_method",
    "instance",
    "_Feature"
   ],
   "window_display": true
  }
 },
 "nbformat": 4,
 "nbformat_minor": 4
}
